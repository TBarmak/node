{
 "cells": [
  {
   "cell_type": "markdown",
   "metadata": {},
   "source": [
    "# City of San Francisco Trees"
   ]
  },
  {
   "cell_type": "markdown",
   "metadata": {},
   "source": [
    "Imagine you've been commissioned by the City of San Francisco to tackle a problem they've been having with local flora. The parks department has taken extensive documentation of the city's trees since the 1970s - what species are growing, where they are, who they're maintained by - amassing a dataset of over 200K trees in that time. \n",
    "\n",
    "The funding for that project has recently been called into question, and the City Board needs to see its value in reapproving funds for the following year. Stakeholders have raised several concerns over the past few years, and your job is to use the data to answer them. Good luck!"
   ]
  },
  {
   "cell_type": "markdown",
   "metadata": {},
   "source": [
    "## Jupyter Notebook"
   ]
  },
  {
   "cell_type": "markdown",
   "metadata": {},
   "source": [
    "First things first, let's get some terminology straight.\n",
    "- The *language* we're working in – Python 3.7 \n",
    "- The *editor* we're using is Google Colab – The code runs on Google's servers, and shows the results on our browser\n",
    "- This file is an interactive Python notebook, a `.ipynb` file. These are pretty special, also known as **Jupyter notebooks**. "
   ]
  },
  {
   "cell_type": "markdown",
   "metadata": {},
   "source": [
    "Jupyter notebooks have a few special properties that make it ideal for work with data:\n",
    " - Code is organized into cells, which can be **code** or **markdown** \n",
    " - We can run the cells in **any order**, try it out!\n",
    " - The last item returned in a cell will print automatically, no need to wrap it with `print()`"
   ]
  },
  {
   "cell_type": "code",
   "execution_count": null,
   "metadata": {
    "tags": [
     "workshop"
    ]
   },
   "outputs": [],
   "source": [
    "x = 'Answer to the Ultimate Question of Life, the Universe, and Everything'"
   ]
  },
  {
   "cell_type": "code",
   "execution_count": null,
   "metadata": {
    "tags": [
     "workshop"
    ]
   },
   "outputs": [],
   "source": [
    "print(x) # Run this cell after running the one above, and again after running the one below"
   ]
  },
  {
   "cell_type": "code",
   "execution_count": null,
   "metadata": {
    "tags": [
     "workshop"
    ]
   },
   "outputs": [],
   "source": [
    "x = 42"
   ]
  },
  {
   "cell_type": "code",
   "execution_count": null,
   "metadata": {},
   "outputs": [],
   "source": [
    "def UltimateQuestion(computer_name):\n",
    "    return computer_name + ' is thinking...'"
   ]
  },
  {
   "cell_type": "code",
   "execution_count": null,
   "metadata": {},
   "outputs": [],
   "source": [
    "UltimateQuestion('DeepThought')"
   ]
  },
  {
   "cell_type": "markdown",
   "metadata": {},
   "source": [
    "## Importing packages"
   ]
  },
  {
   "cell_type": "markdown",
   "metadata": {},
   "source": [
    "We use the `pandas` package to easily work with data as tables.\n",
    "<br>The `numpy` package allows us to work with some other special data types, like missing values\n",
    "<br><br>We'll rename these as `pd` and `np`, just so its easier to refer to later on"
   ]
  },
  {
   "cell_type": "code",
   "execution_count": 1,
   "metadata": {
    "tags": [
     "workshop"
    ]
   },
   "outputs": [],
   "source": [
    "# as allows us to rename the packages\n",
    "import pandas as pd\n",
    "import numpy as np"
   ]
  },
  {
   "cell_type": "code",
   "execution_count": 2,
   "metadata": {},
   "outputs": [],
   "source": [
    "pd.options.display.max_rows = 5 # Just to shorten output"
   ]
  },
  {
   "cell_type": "markdown",
   "metadata": {},
   "source": [
    "## Importing data"
   ]
  },
  {
   "cell_type": "markdown",
   "metadata": {},
   "source": [
    "For this semester, we'll typically work with data in *tabular* format, the type you'd be used to in an excel spreadsheet. Data files saved in this format will usually have a `.csv` file ending, short for comma seperated values.\n",
    "<br><br>To import this, let's use the `pd.read_csv()` function:"
   ]
  },
  {
   "cell_type": "code",
   "execution_count": 3,
   "metadata": {},
   "outputs": [],
   "source": [
    "# Replace w/ URL\n",
    "url = 'https://raw.githubusercontent.com/ishaandey/node/master/week-1/workshop/trees.csv'\n",
    "trees = pd.read_csv(url)"
   ]
  },
  {
   "cell_type": "markdown",
   "metadata": {},
   "source": [
    "Here, we've saved the data to a `dataframe` object named `trees`"
   ]
  },
  {
   "cell_type": "code",
   "execution_count": 4,
   "metadata": {
    "tags": [
     "workshop"
    ]
   },
   "outputs": [
    {
     "data": {
      "text/plain": [
       "pandas.core.frame.DataFrame"
      ]
     },
     "execution_count": 4,
     "metadata": {},
     "output_type": "execute_result"
    }
   ],
   "source": [
    "type(trees)"
   ]
  },
  {
   "cell_type": "markdown",
   "metadata": {},
   "source": [
    "DataFrames contain our data in little \"spreadsheet\"-like structures. Whatever manipulations you can think of doing to the data, you can likely search how to do "
   ]
  },
  {
   "cell_type": "markdown",
   "metadata": {},
   "source": [
    "## Exploring dataframes"
   ]
  },
  {
   "cell_type": "markdown",
   "metadata": {},
   "source": [
    "Let's take a look at the data. We'll use the functions `.head()` and `.tail()`"
   ]
  },
  {
   "cell_type": "code",
   "execution_count": 5,
   "metadata": {
    "tags": [
     "workshop"
    ]
   },
   "outputs": [
    {
     "data": {
      "text/html": [
       "<div>\n",
       "<style scoped>\n",
       "    .dataframe tbody tr th:only-of-type {\n",
       "        vertical-align: middle;\n",
       "    }\n",
       "\n",
       "    .dataframe tbody tr th {\n",
       "        vertical-align: top;\n",
       "    }\n",
       "\n",
       "    .dataframe thead th {\n",
       "        text-align: right;\n",
       "    }\n",
       "</style>\n",
       "<table border=\"1\" class=\"dataframe\">\n",
       "  <thead>\n",
       "    <tr style=\"text-align: right;\">\n",
       "      <th></th>\n",
       "      <th>tree_id</th>\n",
       "      <th>legal_status</th>\n",
       "      <th>caretaker</th>\n",
       "      <th>dbh</th>\n",
       "      <th>plot_size</th>\n",
       "      <th>species_name</th>\n",
       "      <th>common_name</th>\n",
       "      <th>date</th>\n",
       "      <th>site_location</th>\n",
       "      <th>site_type</th>\n",
       "      <th>latitude</th>\n",
       "      <th>longitude</th>\n",
       "      <th>address</th>\n",
       "    </tr>\n",
       "  </thead>\n",
       "  <tbody>\n",
       "    <tr>\n",
       "      <th>0</th>\n",
       "      <td>30314</td>\n",
       "      <td>DPW Maintained</td>\n",
       "      <td>Private</td>\n",
       "      <td>16.0</td>\n",
       "      <td>NaN</td>\n",
       "      <td>Pittosporum undulatum</td>\n",
       "      <td>Victorian Box</td>\n",
       "      <td>1955-10-20</td>\n",
       "      <td>Sidewalk</td>\n",
       "      <td>Cutout</td>\n",
       "      <td>37.759772</td>\n",
       "      <td>-122.398109</td>\n",
       "      <td>501 Arkansas St</td>\n",
       "    </tr>\n",
       "    <tr>\n",
       "      <th>1</th>\n",
       "      <td>30321</td>\n",
       "      <td>DPW Maintained</td>\n",
       "      <td>Private</td>\n",
       "      <td>2.0</td>\n",
       "      <td>NaN</td>\n",
       "      <td>Magnolia grandiflora</td>\n",
       "      <td>Southern Magnolia</td>\n",
       "      <td>1956-01-06</td>\n",
       "      <td>Sidewalk</td>\n",
       "      <td>Cutout</td>\n",
       "      <td>37.795718</td>\n",
       "      <td>-122.441860</td>\n",
       "      <td>2828 Divisadero St</td>\n",
       "    </tr>\n",
       "    <tr>\n",
       "      <th>2</th>\n",
       "      <td>30334</td>\n",
       "      <td>DPW Maintained</td>\n",
       "      <td>Private</td>\n",
       "      <td>4.0</td>\n",
       "      <td>NaN</td>\n",
       "      <td>Ginkgo biloba</td>\n",
       "      <td>Maidenhair Tree</td>\n",
       "      <td>1956-02-06</td>\n",
       "      <td>Sidewalk</td>\n",
       "      <td>Cutout</td>\n",
       "      <td>37.743222</td>\n",
       "      <td>-122.433634</td>\n",
       "      <td>601 29th St</td>\n",
       "    </tr>\n",
       "    <tr>\n",
       "      <th>3</th>\n",
       "      <td>30335</td>\n",
       "      <td>DPW Maintained</td>\n",
       "      <td>Private</td>\n",
       "      <td>2.0</td>\n",
       "      <td>NaN</td>\n",
       "      <td>Ginkgo biloba</td>\n",
       "      <td>Maidenhair Tree</td>\n",
       "      <td>1956-02-06</td>\n",
       "      <td>Sidewalk</td>\n",
       "      <td>Cutout</td>\n",
       "      <td>37.743226</td>\n",
       "      <td>-122.433565</td>\n",
       "      <td>601 29th St</td>\n",
       "    </tr>\n",
       "    <tr>\n",
       "      <th>4</th>\n",
       "      <td>30333</td>\n",
       "      <td>DPW Maintained</td>\n",
       "      <td>Private</td>\n",
       "      <td>1.0</td>\n",
       "      <td>NaN</td>\n",
       "      <td>Arbutus 'Marina'</td>\n",
       "      <td>Hybrid Strawberry Tree</td>\n",
       "      <td>1956-02-06</td>\n",
       "      <td>Sidewalk</td>\n",
       "      <td>Cutout</td>\n",
       "      <td>37.743217</td>\n",
       "      <td>-122.433721</td>\n",
       "      <td>601 29th St</td>\n",
       "    </tr>\n",
       "  </tbody>\n",
       "</table>\n",
       "</div>"
      ],
      "text/plain": [
       "   tree_id    legal_status caretaker   dbh plot_size           species_name  \\\n",
       "0    30314  DPW Maintained   Private  16.0       NaN  Pittosporum undulatum   \n",
       "1    30321  DPW Maintained   Private   2.0       NaN   Magnolia grandiflora   \n",
       "2    30334  DPW Maintained   Private   4.0       NaN          Ginkgo biloba   \n",
       "3    30335  DPW Maintained   Private   2.0       NaN          Ginkgo biloba   \n",
       "4    30333  DPW Maintained   Private   1.0       NaN       Arbutus 'Marina'   \n",
       "\n",
       "              common_name        date site_location site_type   latitude  \\\n",
       "0           Victorian Box  1955-10-20      Sidewalk    Cutout  37.759772   \n",
       "1       Southern Magnolia  1956-01-06      Sidewalk    Cutout  37.795718   \n",
       "2         Maidenhair Tree  1956-02-06      Sidewalk    Cutout  37.743222   \n",
       "3         Maidenhair Tree  1956-02-06      Sidewalk    Cutout  37.743226   \n",
       "4  Hybrid Strawberry Tree  1956-02-06      Sidewalk    Cutout  37.743217   \n",
       "\n",
       "    longitude             address  \n",
       "0 -122.398109     501 Arkansas St  \n",
       "1 -122.441860  2828 Divisadero St  \n",
       "2 -122.433634         601 29th St  \n",
       "3 -122.433565         601 29th St  \n",
       "4 -122.433721         601 29th St  "
      ]
     },
     "execution_count": 5,
     "metadata": {},
     "output_type": "execute_result"
    }
   ],
   "source": [
    "trees.head()"
   ]
  },
  {
   "cell_type": "markdown",
   "metadata": {},
   "source": [
    "How big is the dataset? `.shape` returns a tuple with the dimensions as (rows, columns)"
   ]
  },
  {
   "cell_type": "code",
   "execution_count": 6,
   "metadata": {
    "tags": [
     "workshop"
    ]
   },
   "outputs": [
    {
     "data": {
      "text/plain": [
       "(36073, 13)"
      ]
     },
     "execution_count": 6,
     "metadata": {},
     "output_type": "execute_result"
    }
   ],
   "source": [
    "trees.shape"
   ]
  },
  {
   "cell_type": "markdown",
   "metadata": {},
   "source": [
    "Let's try to understand our data a bit better. \n",
    "- How many unique tree species are in the dataset? "
   ]
  },
  {
   "cell_type": "code",
   "execution_count": 7,
   "metadata": {
    "scrolled": true,
    "tags": [
     "workshop"
    ]
   },
   "outputs": [
    {
     "data": {
      "text/plain": [
       "367"
      ]
     },
     "execution_count": 7,
     "metadata": {},
     "output_type": "execute_result"
    }
   ],
   "source": [
    "trees.species_name.nunique()"
   ]
  },
  {
   "cell_type": "markdown",
   "metadata": {},
   "source": [
    "- Which is the most common?"
   ]
  },
  {
   "cell_type": "code",
   "execution_count": 8,
   "metadata": {
    "tags": [
     "workshop"
    ]
   },
   "outputs": [
    {
     "data": {
      "text/plain": [
       "Swamp Myrtle         2781\n",
       "Brisbane Box         2751\n",
       "                     ... \n",
       "Black Mission Fig       1\n",
       "Pindo Palm              1\n",
       "Name: common_name, Length: 365, dtype: int64"
      ]
     },
     "execution_count": 8,
     "metadata": {},
     "output_type": "execute_result"
    }
   ],
   "source": [
    "trees.common_name.value_counts()"
   ]
  },
  {
   "cell_type": "markdown",
   "metadata": {},
   "source": [
    "- Find the biggest tree\n",
    "<br>Note: `dbh` represents diameter of the tree base"
   ]
  },
  {
   "cell_type": "code",
   "execution_count": 9,
   "metadata": {
    "tags": [
     "workshop"
    ]
   },
   "outputs": [
    {
     "data": {
      "text/html": [
       "<div>\n",
       "<style scoped>\n",
       "    .dataframe tbody tr th:only-of-type {\n",
       "        vertical-align: middle;\n",
       "    }\n",
       "\n",
       "    .dataframe tbody tr th {\n",
       "        vertical-align: top;\n",
       "    }\n",
       "\n",
       "    .dataframe thead th {\n",
       "        text-align: right;\n",
       "    }\n",
       "</style>\n",
       "<table border=\"1\" class=\"dataframe\">\n",
       "  <thead>\n",
       "    <tr style=\"text-align: right;\">\n",
       "      <th></th>\n",
       "      <th>tree_id</th>\n",
       "      <th>legal_status</th>\n",
       "      <th>caretaker</th>\n",
       "      <th>dbh</th>\n",
       "      <th>plot_size</th>\n",
       "      <th>species_name</th>\n",
       "      <th>common_name</th>\n",
       "      <th>date</th>\n",
       "      <th>site_location</th>\n",
       "      <th>site_type</th>\n",
       "      <th>latitude</th>\n",
       "      <th>longitude</th>\n",
       "      <th>address</th>\n",
       "    </tr>\n",
       "  </thead>\n",
       "  <tbody>\n",
       "    <tr>\n",
       "      <th>34738</th>\n",
       "      <td>14513</td>\n",
       "      <td>DPW Maintained</td>\n",
       "      <td>DPW</td>\n",
       "      <td>100.0</td>\n",
       "      <td>4X4</td>\n",
       "      <td>Fraxinus uhdei</td>\n",
       "      <td>Shamel Ash: Evergreen Ash</td>\n",
       "      <td>2018-06-18</td>\n",
       "      <td>Sidewalk</td>\n",
       "      <td>Cutout</td>\n",
       "      <td>37.776560</td>\n",
       "      <td>-122.446728</td>\n",
       "      <td>501 Masonic Ave</td>\n",
       "    </tr>\n",
       "    <tr>\n",
       "      <th>28183</th>\n",
       "      <td>12738</td>\n",
       "      <td>DPW Maintained</td>\n",
       "      <td>DPW</td>\n",
       "      <td>100.0</td>\n",
       "      <td>4x4</td>\n",
       "      <td>Tristaniopsis laurina 'Elegant'</td>\n",
       "      <td>Small-leaf Tristania 'Elegant'</td>\n",
       "      <td>2013-07-12</td>\n",
       "      <td>Sidewalk</td>\n",
       "      <td>Cutout</td>\n",
       "      <td>37.786183</td>\n",
       "      <td>-122.477196</td>\n",
       "      <td>1630 Lake St</td>\n",
       "    </tr>\n",
       "    <tr>\n",
       "      <th>...</th>\n",
       "      <td>...</td>\n",
       "      <td>...</td>\n",
       "      <td>...</td>\n",
       "      <td>...</td>\n",
       "      <td>...</td>\n",
       "      <td>...</td>\n",
       "      <td>...</td>\n",
       "      <td>...</td>\n",
       "      <td>...</td>\n",
       "      <td>...</td>\n",
       "      <td>...</td>\n",
       "      <td>...</td>\n",
       "      <td>...</td>\n",
       "    </tr>\n",
       "    <tr>\n",
       "      <th>14796</th>\n",
       "      <td>44797</td>\n",
       "      <td>DPW Maintained</td>\n",
       "      <td>Private</td>\n",
       "      <td>0.0</td>\n",
       "      <td>NaN</td>\n",
       "      <td>Prunus serrulata</td>\n",
       "      <td>Ornamental Cherry</td>\n",
       "      <td>2001-04-12</td>\n",
       "      <td>Sidewalk</td>\n",
       "      <td>Cutout</td>\n",
       "      <td>37.765145</td>\n",
       "      <td>-122.480368</td>\n",
       "      <td>1206 22nd Ave</td>\n",
       "    </tr>\n",
       "    <tr>\n",
       "      <th>36072</th>\n",
       "      <td>144192</td>\n",
       "      <td>DPW Maintained</td>\n",
       "      <td>Private</td>\n",
       "      <td>0.0</td>\n",
       "      <td>Width 4ft</td>\n",
       "      <td>Lophostemon confertus</td>\n",
       "      <td>Brisbane Box</td>\n",
       "      <td>2020-01-25</td>\n",
       "      <td>Sidewalk</td>\n",
       "      <td>Cutout</td>\n",
       "      <td>37.776940</td>\n",
       "      <td>-122.502697</td>\n",
       "      <td>618 42nd Ave</td>\n",
       "    </tr>\n",
       "  </tbody>\n",
       "</table>\n",
       "<p>36073 rows × 13 columns</p>\n",
       "</div>"
      ],
      "text/plain": [
       "       tree_id    legal_status caretaker    dbh  plot_size  \\\n",
       "34738    14513  DPW Maintained       DPW  100.0        4X4   \n",
       "28183    12738  DPW Maintained       DPW  100.0        4x4   \n",
       "...        ...             ...       ...    ...        ...   \n",
       "14796    44797  DPW Maintained   Private    0.0        NaN   \n",
       "36072   144192  DPW Maintained   Private    0.0  Width 4ft   \n",
       "\n",
       "                          species_name                     common_name  \\\n",
       "34738                   Fraxinus uhdei       Shamel Ash: Evergreen Ash   \n",
       "28183  Tristaniopsis laurina 'Elegant'  Small-leaf Tristania 'Elegant'   \n",
       "...                                ...                             ...   \n",
       "14796                 Prunus serrulata               Ornamental Cherry   \n",
       "36072            Lophostemon confertus                    Brisbane Box   \n",
       "\n",
       "             date site_location site_type   latitude   longitude  \\\n",
       "34738  2018-06-18      Sidewalk    Cutout  37.776560 -122.446728   \n",
       "28183  2013-07-12      Sidewalk    Cutout  37.786183 -122.477196   \n",
       "...           ...           ...       ...        ...         ...   \n",
       "14796  2001-04-12      Sidewalk    Cutout  37.765145 -122.480368   \n",
       "36072  2020-01-25      Sidewalk    Cutout  37.776940 -122.502697   \n",
       "\n",
       "               address  \n",
       "34738  501 Masonic Ave  \n",
       "28183     1630 Lake St  \n",
       "...                ...  \n",
       "14796    1206 22nd Ave  \n",
       "36072     618 42nd Ave  \n",
       "\n",
       "[36073 rows x 13 columns]"
      ]
     },
     "execution_count": 9,
     "metadata": {},
     "output_type": "execute_result"
    }
   ],
   "source": [
    "trees.sort_values(by='dbh', ascending=False)"
   ]
  },
  {
   "cell_type": "markdown",
   "metadata": {},
   "source": [
    "### Subsetting"
   ]
  },
  {
   "cell_type": "markdown",
   "metadata": {},
   "source": [
    "Subsetting is a super helpful tool. We'll take a look at this more depth in next week, but for now, here are the basics:"
   ]
  },
  {
   "cell_type": "markdown",
   "metadata": {},
   "source": [
    "We can filter rows from a dataframe based on some condition\n",
    "- Show only trees north of Golden Gate Park (latitude > `37.77285`)? \n",
    "- Show only `Cherry Plum` trees (What's the mean diameter?)"
   ]
  },
  {
   "cell_type": "code",
   "execution_count": 10,
   "metadata": {
    "scrolled": true,
    "tags": [
     "workshop"
    ]
   },
   "outputs": [
    {
     "data": {
      "text/html": [
       "<div>\n",
       "<style scoped>\n",
       "    .dataframe tbody tr th:only-of-type {\n",
       "        vertical-align: middle;\n",
       "    }\n",
       "\n",
       "    .dataframe tbody tr th {\n",
       "        vertical-align: top;\n",
       "    }\n",
       "\n",
       "    .dataframe thead th {\n",
       "        text-align: right;\n",
       "    }\n",
       "</style>\n",
       "<table border=\"1\" class=\"dataframe\">\n",
       "  <thead>\n",
       "    <tr style=\"text-align: right;\">\n",
       "      <th></th>\n",
       "      <th>tree_id</th>\n",
       "      <th>legal_status</th>\n",
       "      <th>caretaker</th>\n",
       "      <th>dbh</th>\n",
       "      <th>plot_size</th>\n",
       "      <th>species_name</th>\n",
       "      <th>common_name</th>\n",
       "      <th>date</th>\n",
       "      <th>site_location</th>\n",
       "      <th>site_type</th>\n",
       "      <th>latitude</th>\n",
       "      <th>longitude</th>\n",
       "      <th>address</th>\n",
       "    </tr>\n",
       "  </thead>\n",
       "  <tbody>\n",
       "    <tr>\n",
       "      <th>1</th>\n",
       "      <td>30321</td>\n",
       "      <td>DPW Maintained</td>\n",
       "      <td>Private</td>\n",
       "      <td>2.0</td>\n",
       "      <td>NaN</td>\n",
       "      <td>Magnolia grandiflora</td>\n",
       "      <td>Southern Magnolia</td>\n",
       "      <td>1956-01-06</td>\n",
       "      <td>Sidewalk</td>\n",
       "      <td>Cutout</td>\n",
       "      <td>37.795718</td>\n",
       "      <td>-122.441860</td>\n",
       "      <td>2828 Divisadero St</td>\n",
       "    </tr>\n",
       "    <tr>\n",
       "      <th>5</th>\n",
       "      <td>30339</td>\n",
       "      <td>DPW Maintained</td>\n",
       "      <td>Private</td>\n",
       "      <td>11.0</td>\n",
       "      <td>NaN</td>\n",
       "      <td>Platanus x hispanica</td>\n",
       "      <td>Sycamore: London Plane</td>\n",
       "      <td>1956-02-15</td>\n",
       "      <td>Sidewalk</td>\n",
       "      <td>Cutout</td>\n",
       "      <td>37.793189</td>\n",
       "      <td>-122.441380</td>\n",
       "      <td>2560 Divisadero St</td>\n",
       "    </tr>\n",
       "    <tr>\n",
       "      <th>...</th>\n",
       "      <td>...</td>\n",
       "      <td>...</td>\n",
       "      <td>...</td>\n",
       "      <td>...</td>\n",
       "      <td>...</td>\n",
       "      <td>...</td>\n",
       "      <td>...</td>\n",
       "      <td>...</td>\n",
       "      <td>...</td>\n",
       "      <td>...</td>\n",
       "      <td>...</td>\n",
       "      <td>...</td>\n",
       "      <td>...</td>\n",
       "    </tr>\n",
       "    <tr>\n",
       "      <th>36071</th>\n",
       "      <td>144157</td>\n",
       "      <td>DPW Maintained</td>\n",
       "      <td>Private</td>\n",
       "      <td>0.0</td>\n",
       "      <td>Width 4ft</td>\n",
       "      <td>Tristaniopsis laurina</td>\n",
       "      <td>Swamp Myrtle</td>\n",
       "      <td>2020-01-25</td>\n",
       "      <td>Sidewalk</td>\n",
       "      <td>Cutout</td>\n",
       "      <td>37.774642</td>\n",
       "      <td>-122.501452</td>\n",
       "      <td>746 41st Ave</td>\n",
       "    </tr>\n",
       "    <tr>\n",
       "      <th>36072</th>\n",
       "      <td>144192</td>\n",
       "      <td>DPW Maintained</td>\n",
       "      <td>Private</td>\n",
       "      <td>0.0</td>\n",
       "      <td>Width 4ft</td>\n",
       "      <td>Lophostemon confertus</td>\n",
       "      <td>Brisbane Box</td>\n",
       "      <td>2020-01-25</td>\n",
       "      <td>Sidewalk</td>\n",
       "      <td>Cutout</td>\n",
       "      <td>37.776940</td>\n",
       "      <td>-122.502697</td>\n",
       "      <td>618 42nd Ave</td>\n",
       "    </tr>\n",
       "  </tbody>\n",
       "</table>\n",
       "<p>15811 rows × 13 columns</p>\n",
       "</div>"
      ],
      "text/plain": [
       "       tree_id    legal_status caretaker   dbh  plot_size  \\\n",
       "1        30321  DPW Maintained   Private   2.0        NaN   \n",
       "5        30339  DPW Maintained   Private  11.0        NaN   \n",
       "...        ...             ...       ...   ...        ...   \n",
       "36071   144157  DPW Maintained   Private   0.0  Width 4ft   \n",
       "36072   144192  DPW Maintained   Private   0.0  Width 4ft   \n",
       "\n",
       "                species_name             common_name        date  \\\n",
       "1       Magnolia grandiflora       Southern Magnolia  1956-01-06   \n",
       "5       Platanus x hispanica  Sycamore: London Plane  1956-02-15   \n",
       "...                      ...                     ...         ...   \n",
       "36071  Tristaniopsis laurina            Swamp Myrtle  2020-01-25   \n",
       "36072  Lophostemon confertus            Brisbane Box  2020-01-25   \n",
       "\n",
       "      site_location site_type   latitude   longitude             address  \n",
       "1          Sidewalk    Cutout  37.795718 -122.441860  2828 Divisadero St  \n",
       "5          Sidewalk    Cutout  37.793189 -122.441380  2560 Divisadero St  \n",
       "...             ...       ...        ...         ...                 ...  \n",
       "36071      Sidewalk    Cutout  37.774642 -122.501452        746 41st Ave  \n",
       "36072      Sidewalk    Cutout  37.776940 -122.502697        618 42nd Ave  \n",
       "\n",
       "[15811 rows x 13 columns]"
      ]
     },
     "execution_count": 10,
     "metadata": {},
     "output_type": "execute_result"
    }
   ],
   "source": [
    "trees[trees.latitude > 37.77285]"
   ]
  },
  {
   "cell_type": "code",
   "execution_count": 11,
   "metadata": {
    "tags": [
     "workshop"
    ]
   },
   "outputs": [],
   "source": [
    "# You try!"
   ]
  },
  {
   "cell_type": "markdown",
   "metadata": {},
   "source": [
    "### Chaining"
   ]
  },
  {
   "cell_type": "markdown",
   "metadata": {},
   "source": [
    "Another common task is to find patterns based on groups.\n",
    "- Which tree type, on average, has the largest diameter?"
   ]
  },
  {
   "cell_type": "code",
   "execution_count": 12,
   "metadata": {},
   "outputs": [
    {
     "data": {
      "text/plain": [
       "common_name\n",
       "Date palm (species unknown)    70.000000\n",
       "False Avocado                  35.000000\n",
       "Canary Island Date Palm        30.912664\n",
       "Flooded Box: Coolibah          30.000000\n",
       "Morton Bay Fig                 29.000000\n",
       "Name: dbh, dtype: float64"
      ]
     },
     "execution_count": 12,
     "metadata": {},
     "output_type": "execute_result"
    }
   ],
   "source": [
    "trees.groupby(by='common_name').agg('mean')['dbh'].sort_values(ascending=False).head()"
   ]
  },
  {
   "cell_type": "markdown",
   "metadata": {},
   "source": [
    "## Visualization"
   ]
  },
  {
   "cell_type": "markdown",
   "metadata": {},
   "source": [
    "First things first, let's import the package to help us visualize the data, `plotly`.\n",
    "\n",
    "If this package isn't yet included, we can install it using `!pip install plotly`. More on this week 5. "
   ]
  },
  {
   "cell_type": "code",
   "execution_count": null,
   "metadata": {},
   "outputs": [],
   "source": [
    "import plotly.express as px\n",
    "\n",
    "## Uncomment & run the following if graphs don't show\n",
    "# import plotly.io as pio\n",
    "# pio.renderers.default='notebook'"
   ]
  },
  {
   "cell_type": "markdown",
   "metadata": {},
   "source": [
    "Note that we're using the sub package of the broader package, called `plotly express`. This simplifies a lot of the more difficult steps"
   ]
  },
  {
   "cell_type": "markdown",
   "metadata": {},
   "source": [
    "Plotly express has a broad range of options to play with, let's take a look at the documentation. \n",
    "<br>Do a quick google search to pull up documentation for `px.scatter` OR run `px.scatter?` in a Jupyter cell"
   ]
  },
  {
   "cell_type": "code",
   "execution_count": null,
   "metadata": {
    "tags": [
     "workshop"
    ]
   },
   "outputs": [],
   "source": [
    "px.scatter?"
   ]
  },
  {
   "cell_type": "code",
   "execution_count": null,
   "metadata": {},
   "outputs": [],
   "source": [
    "trees_sample = trees.sample(frac=.2)"
   ]
  },
  {
   "cell_type": "code",
   "execution_count": null,
   "metadata": {
    "tags": [
     "workshop"
    ]
   },
   "outputs": [],
   "source": [
    "fig = px.scatter(trees_sample, x='date', y='dbh')\n",
    "fig.show('notebook')"
   ]
  },
  {
   "cell_type": "code",
   "execution_count": null,
   "metadata": {
    "scrolled": false,
    "tags": [
     "workshop"
    ]
   },
   "outputs": [],
   "source": [
    "# You try!"
   ]
  },
  {
   "cell_type": "markdown",
   "metadata": {},
   "source": [
    "### Geographic Plots"
   ]
  },
  {
   "cell_type": "markdown",
   "metadata": {},
   "source": [
    "The transportation department wants to know track any trees sitting on a road median, in order to quickly remove debris after a bad storm. \n",
    "<br> Is there a general area in which there are more roadside / median trees?"
   ]
  },
  {
   "cell_type": "code",
   "execution_count": null,
   "metadata": {
    "tags": [
     "workshop"
    ]
   },
   "outputs": [],
   "source": [
    "fig = px.scatter_mapbox(trees_sample, lat='latitude', lon='longitude')\n",
    "fig.show('notebook')"
   ]
  },
  {
   "cell_type": "code",
   "execution_count": null,
   "metadata": {},
   "outputs": [],
   "source": [
    "# You try!"
   ]
  }
 ],
 "metadata": {
  "kernelspec": {
   "display_name": "Python 3.7.2 64-bit ('anaconda3': virtualenv)",
   "language": "python",
   "name": "python37264bitanaconda3virtualenve1dc3209be54475686eb8b8e057d24f4"
  },
  "language_info": {
   "codemirror_mode": {
    "name": "ipython",
    "version": 3
   },
   "file_extension": ".py",
   "mimetype": "text/x-python",
   "name": "python",
   "nbconvert_exporter": "python",
   "pygments_lexer": "ipython3",
   "version": "3.7.2"
  }
 },
 "nbformat": 4,
 "nbformat_minor": 4
}
