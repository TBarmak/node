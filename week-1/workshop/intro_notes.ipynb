{
 "cells": [
  {
   "cell_type": "markdown",
   "metadata": {},
   "source": [
    "# City of San Francisco Trees"
   ]
  },
  {
   "cell_type": "markdown",
   "metadata": {},
   "source": [
    "Imagine you've been commissioned by the City of San Francisco to tackle a problem they've been having with local flora. The parks department has taken extensive documentation of the city's trees since the 1970s - what species are growing, where they are, who they're maintained by - amassing a dataset of over 200K trees in that time. \n",
    "\n",
    "The funding for that project has recently been called into question, and the City Board needs to see its value in reapproving funds for the following year. Stakeholders have raised several concerns over the past few years, and your job is to use the data to answer them. Good luck!"
   ]
  },
  {
   "cell_type": "markdown",
   "metadata": {},
   "source": [
    "## Jupyter Notebook"
   ]
  },
  {
   "cell_type": "markdown",
   "metadata": {},
   "source": [
    "First things first, let's get some terminology straight.\n",
    "- The *language* we're working in – Python 3.7 \n",
    "- The *editor* we're using is Google Colab – The code runs on Google's servers, and shows the results on our browser\n",
    "- This file is an interactive Python notebook, a `.ipynb` file. These are pretty special, also known as **Jupyter notebooks**. "
   ]
  },
  {
   "cell_type": "markdown",
   "metadata": {},
   "source": [
    "Jupyter notebooks have a few special properties that make it ideal for work with data:\n",
    " - Code is organized into cells, which can be **code** or **markdown** \n",
    " - We can run the cells in **any order**, try it out!\n",
    " - The last item returned in a cell will print automatically, no need to wrap it with `print()`"
   ]
  },
  {
   "cell_type": "code",
   "execution_count": null,
   "metadata": {
    "tags": [
     "workshop"
    ]
   },
   "outputs": [],
   "source": [
    "x = 'Answer to the Ultimate Question of Life, the Universe, and Everything'"
   ]
  },
  {
   "cell_type": "code",
   "execution_count": null,
   "metadata": {
    "tags": [
     "workshop"
    ]
   },
   "outputs": [],
   "source": [
    "print(x) # Run this cell after running the one above, and again after running the one below"
   ]
  },
  {
   "cell_type": "code",
   "execution_count": null,
   "metadata": {
    "tags": [
     "workshop"
    ]
   },
   "outputs": [],
   "source": [
    "x = 42"
   ]
  },
  {
   "cell_type": "code",
   "execution_count": null,
   "metadata": {},
   "outputs": [],
   "source": [
    "def UltimateQuestion(computer_name):\n",
    "    return computer_name + ' is thinking...'"
   ]
  },
  {
   "cell_type": "code",
   "execution_count": null,
   "metadata": {},
   "outputs": [],
   "source": [
    "UltimateQuestion('DeepThought')"
   ]
  },
  {
   "cell_type": "markdown",
   "metadata": {},
   "source": [
    "## Importing packages"
   ]
  },
  {
   "cell_type": "markdown",
   "metadata": {},
   "source": [
    "We use the `pandas` package to easily work with data as tables.\n",
    "<br>The `numpy` package allows us to work with some other special data types, like missing values\n",
    "<br><br>We'll rename these as `pd` and `np`, just so its easier to refer to later on"
   ]
  },
  {
   "cell_type": "code",
   "execution_count": null,
   "metadata": {
    "tags": [
     "workshop"
    ]
   },
   "outputs": [],
   "source": [
    "# as allows us to rename the packages\n",
    "import pandas as pd\n",
    "import numpy as np"
   ]
  },
  {
   "cell_type": "code",
   "execution_count": null,
   "metadata": {},
   "outputs": [],
   "source": [
    "pd.options.display.max_rows = 5 # Just to shorten output"
   ]
  },
  {
   "cell_type": "markdown",
   "metadata": {},
   "source": [
    "## Importing data"
   ]
  },
  {
   "cell_type": "markdown",
   "metadata": {},
   "source": [
    "For this semester, we'll typically work with data in *tabular* format, the type you'd be used to in an excel spreadsheet. Data files saved in this format will usually have a `.csv` file ending, short for comma seperated values.\n",
    "<br><br>To import this, let's use the `pd.read_csv()` function:"
   ]
  },
  {
   "cell_type": "code",
   "execution_count": null,
   "metadata": {},
   "outputs": [],
   "source": [
    "# Replace w/ URL\n",
    "url = 'https://raw.githubusercontent.com/ishaandey/node/master/week-1/workshop/trees.csv'\n",
    "trees = pd.read_csv(url)"
   ]
  },
  {
   "cell_type": "markdown",
   "metadata": {},
   "source": [
    "Here, we've saved the data to a `dataframe` object named `trees`"
   ]
  },
  {
   "cell_type": "code",
   "execution_count": null,
   "metadata": {
    "tags": [
     "workshop"
    ]
   },
   "outputs": [],
   "source": [
    "type(trees)"
   ]
  },
  {
   "cell_type": "markdown",
   "metadata": {},
   "source": [
    "DataFrames contain our data in little \"spreadsheet\"-like structures. Whatever manipulations you can think of doing to the data, you can likely search how to do "
   ]
  },
  {
   "cell_type": "markdown",
   "metadata": {},
   "source": [
    "## Exploring dataframes"
   ]
  },
  {
   "cell_type": "markdown",
   "metadata": {},
   "source": [
    "Let's take a look at the data. We'll use the functions `.head()` and `.tail()`"
   ]
  },
  {
   "cell_type": "code",
   "execution_count": null,
   "metadata": {
    "tags": [
     "workshop"
    ]
   },
   "outputs": [],
   "source": [
    "trees.head()"
   ]
  },
  {
   "cell_type": "markdown",
   "metadata": {},
   "source": [
    "How big is the dataset? `.shape` returns a tuple with the dimensions as (rows, columns)"
   ]
  },
  {
   "cell_type": "code",
   "execution_count": null,
   "metadata": {
    "tags": [
     "workshop"
    ]
   },
   "outputs": [],
   "source": [
    "trees.shape"
   ]
  },
  {
   "cell_type": "markdown",
   "metadata": {},
   "source": [
    "Let's try to understand our data a bit better. \n",
    "- How many unique tree species are in the dataset? "
   ]
  },
  {
   "cell_type": "code",
   "execution_count": null,
   "metadata": {
    "scrolled": true,
    "tags": [
     "workshop"
    ]
   },
   "outputs": [],
   "source": [
    "trees.species_name.nunique()"
   ]
  },
  {
   "cell_type": "markdown",
   "metadata": {},
   "source": [
    "- Which is the most common?"
   ]
  },
  {
   "cell_type": "code",
   "execution_count": null,
   "metadata": {
    "tags": [
     "workshop"
    ]
   },
   "outputs": [],
   "source": [
    "trees.common_name.value_counts()"
   ]
  },
  {
   "cell_type": "markdown",
   "metadata": {},
   "source": [
    "- Find the biggest tree\n",
    "<br>Note: `dbh` represents diameter of the tree base"
   ]
  },
  {
   "cell_type": "code",
   "execution_count": null,
   "metadata": {
    "tags": [
     "workshop"
    ]
   },
   "outputs": [],
   "source": [
    "trees.sort_values(by='dbh', ascending=False)"
   ]
  },
  {
   "cell_type": "markdown",
   "metadata": {},
   "source": [
    "### Subsetting"
   ]
  },
  {
   "cell_type": "markdown",
   "metadata": {},
   "source": [
    "Subsetting is a super helpful tool. We'll take a look at this more depth in next week, but for now, here are the basics:"
   ]
  },
  {
   "cell_type": "markdown",
   "metadata": {},
   "source": [
    "We can filter rows from a dataframe based on some condition\n",
    "- Show only trees north of Golden Gate Park (latitude > `37.77285`)? \n",
    "- Show only `Cherry Plum` trees"
   ]
  },
  {
   "cell_type": "code",
   "execution_count": null,
   "metadata": {
    "scrolled": true,
    "tags": [
     "workshop"
    ]
   },
   "outputs": [],
   "source": [
    "trees[trees.latitude > 37.77285]"
   ]
  },
  {
   "cell_type": "code",
   "execution_count": null,
   "metadata": {
    "tags": [
     "workshop"
    ]
   },
   "outputs": [],
   "source": [
    "# You try!"
   ]
  },
  {
   "cell_type": "markdown",
   "metadata": {},
   "source": [
    "## Data Manipulation"
   ]
  },
  {
   "cell_type": "markdown",
   "metadata": {},
   "source": [
    "Another common task is to find patterns based on groups.\n",
    "- Which tree type, on average, has the largest diameter?"
   ]
  },
  {
   "cell_type": "code",
   "execution_count": null,
   "metadata": {},
   "outputs": [],
   "source": [
    "trees.groupby(by='common_name').agg('mean')['dbh'].sort_values(ascending=False).head()"
   ]
  },
  {
   "cell_type": "markdown",
   "metadata": {},
   "source": [
    "## Visualization"
   ]
  },
  {
   "cell_type": "markdown",
   "metadata": {},
   "source": [
    "First things first, let's import the package to help us visualize the data, `plotly`.\n",
    "\n",
    "If this package isn't yet included, we can install it using `!pip install plotly`. More on this week 5. "
   ]
  },
  {
   "cell_type": "code",
   "execution_count": null,
   "metadata": {},
   "outputs": [],
   "source": [
    "import plotly.express as px\n",
    "\n",
    "## Uncomment & run the following if graphs don't show\n",
    "# import plotly.io as pio\n",
    "# pio.renderers.default='notebook'"
   ]
  },
  {
   "cell_type": "markdown",
   "metadata": {},
   "source": [
    "Note that we're using the sub package of the broader package, called `plotly express`. This simplifies a lot of the more difficult steps"
   ]
  },
  {
   "cell_type": "markdown",
   "metadata": {},
   "source": [
    "Plotly express has a broad range of options to play with, let's take a look at the documentation. \n",
    "<br>Do a quick google search to pull up documentation for `px.scatter` OR run `px.scatter?` in a Jupyter cell"
   ]
  },
  {
   "cell_type": "code",
   "execution_count": null,
   "metadata": {
    "tags": [
     "workshop"
    ]
   },
   "outputs": [],
   "source": [
    "px.scatter?"
   ]
  },
  {
   "cell_type": "code",
   "execution_count": null,
   "metadata": {},
   "outputs": [],
   "source": [
    "trees_sample = trees.sample(frac=.2)"
   ]
  },
  {
   "cell_type": "code",
   "execution_count": null,
   "metadata": {
    "tags": [
     "workshop"
    ]
   },
   "outputs": [],
   "source": [
    "fig = px.scatter(trees_sample, x='date', y='dbh')\n",
    "fig.show('notebook')"
   ]
  },
  {
   "cell_type": "code",
   "execution_count": null,
   "metadata": {
    "scrolled": false,
    "tags": [
     "workshop"
    ]
   },
   "outputs": [],
   "source": [
    "# You try!"
   ]
  },
  {
   "cell_type": "markdown",
   "metadata": {},
   "source": [
    "### Geographic Plots"
   ]
  },
  {
   "cell_type": "markdown",
   "metadata": {},
   "source": [
    "The transportation department wants to know track any trees sitting on a road median, in order to quickly remove debris after a bad storm. \n",
    "<br> Is there a general area in which there are more roadside / median trees?"
   ]
  },
  {
   "cell_type": "code",
   "execution_count": null,
   "metadata": {
    "tags": [
     "workshop"
    ]
   },
   "outputs": [],
   "source": [
    "fig = px.scatter_mapbox(trees_sample, lat='latitude', lon='longitude')\n",
    "fig.show('notebook')"
   ]
  },
  {
   "cell_type": "code",
   "execution_count": null,
   "metadata": {},
   "outputs": [],
   "source": [
    "# You try!"
   ]
  }
 ],
 "metadata": {
  "kernelspec": {
   "display_name": "Python 3.7.2 64-bit ('anaconda3': virtualenv)",
   "language": "python",
   "name": "python37264bitanaconda3virtualenve1dc3209be54475686eb8b8e057d24f4"
  },
  "language_info": {
   "codemirror_mode": {
    "name": "ipython",
    "version": 3
   },
   "file_extension": ".py",
   "mimetype": "text/x-python",
   "name": "python",
   "nbconvert_exporter": "python",
   "pygments_lexer": "ipython3",
   "version": "3.7.2"
  }
 },
 "nbformat": 4,
 "nbformat_minor": 4
}
