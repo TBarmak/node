{
 "cells": [
  {
   "cell_type": "markdown",
   "metadata": {},
   "source": [
    "## Import Data"
   ]
  },
  {
   "cell_type": "markdown",
   "metadata": {},
   "source": [
    "#### Data Documentation:\n",
    "<br>**Description**: Synthetic dataset from Gap Inc., representing a random sample of individual purchases from Q1 FY2020. Each row is a unique item purchased in an order\n",
    "<br><br>\n",
    "\n",
    "| **Feature** | **Description**    | **Sample Value(s)**  |\n",
    "| ------- | -----------    | ------------- |\n",
    "| OrderID | Unique identifier per transaction (7-digit) | DRW7C20   |\n",
    "| CustomerID | Unique identifier per customer (5-digit) | KP441   |\n",
    "| ProductID  | Unique identifier per item (8-digit) | 13-817-239 |\n",
    "| StoreID | Unique identifier per store (4-digit) | #4176 |\n",
    "| | | | \n",
    "| OrderType | How purchase was completed  | InStore, HomeDelivery, Online |\n",
    "| Timestamp | Timestamp of transaction (YYYY-MM-DD) | 2020-01-18 10:13:56\t |\n",
    "| | | | \n",
    "| Brand | Which reporting segment of Gap Inc. bought from | Banana Republic |\n",
    "| ItemSize | Size of item | XS, S, M, L, X, XL |\n",
    "| ProductName | Name of item associated with item identifier | Pink Polo by Kanye |\n",
    "| Collection | Which part of store | Denim Shop |\n",
    "| Price | Listed price of item | $29.95 |\n",
    "| ClearanceType | Type of clearance | Retail, Clearance, Final Sale |\n",
    "| DiscountType | If Gap Card rewards was used | Reward points, Promotion, GapCash, Other |\n",
    "| | | | \n",
    "| StoreName | Store name (i.e. Mall), or facility where online order was shipped from | Fair Oaks Mall |\n",
    "| Location | State of store location | VA |\n",
    "\n",
    "<br>"
   ]
  },
  {
   "cell_type": "markdown",
   "metadata": {},
   "source": [
    "**Quick note on IDs**: \n",
    "\n",
    "<br>IDs are a really important part of many, if not most datasets. Each unique *thing*, whether that's a product, or store, or customer, gets assigned **it's own unique identifier**. \n",
    "\n",
    "This is important in case two stores have the same name (i.e. Gap and Banana Republic at the Fair Oaks Mall). When we group by Store Name, for example, we want to make sure we're not accidentally clumping up both both stores, and instead keep the two seperate."
   ]
  },
  {
   "cell_type": "code",
   "execution_count": 17,
   "metadata": {},
   "outputs": [],
   "source": [
    "import pandas as pd\n",
    "import numpy as np"
   ]
  },
  {
   "cell_type": "code",
   "execution_count": 18,
   "metadata": {},
   "outputs": [],
   "source": [
    "df = pd.read_csv('gap.csv', sep='|')"
   ]
  },
  {
   "cell_type": "code",
   "execution_count": 19,
   "metadata": {},
   "outputs": [
    {
     "name": "stdout",
     "output_type": "stream",
     "text": [
      "(4031, 14)\n"
     ]
    },
    {
     "data": {
      "text/html": [
       "<div>\n",
       "<style scoped>\n",
       "    .dataframe tbody tr th:only-of-type {\n",
       "        vertical-align: middle;\n",
       "    }\n",
       "\n",
       "    .dataframe tbody tr th {\n",
       "        vertical-align: top;\n",
       "    }\n",
       "\n",
       "    .dataframe thead th {\n",
       "        text-align: right;\n",
       "    }\n",
       "</style>\n",
       "<table border=\"1\" class=\"dataframe\">\n",
       "  <thead>\n",
       "    <tr style=\"text-align: right;\">\n",
       "      <th></th>\n",
       "      <th>OrderID</th>\n",
       "      <th>CustomerID</th>\n",
       "      <th>ProductID</th>\n",
       "      <th>StoreID</th>\n",
       "      <th>OrderType</th>\n",
       "      <th>Timestamp</th>\n",
       "      <th>Brand</th>\n",
       "      <th>ItemSize</th>\n",
       "      <th>ProductName</th>\n",
       "      <th>Collection</th>\n",
       "      <th>Price</th>\n",
       "      <th>ClearanceType</th>\n",
       "      <th>StoreName</th>\n",
       "      <th>Location</th>\n",
       "    </tr>\n",
       "  </thead>\n",
       "  <tbody>\n",
       "    <tr>\n",
       "      <th>3142</th>\n",
       "      <td>STZ2QD8</td>\n",
       "      <td>QD165</td>\n",
       "      <td>10-966-490</td>\n",
       "      <td>#1047</td>\n",
       "      <td>InStore</td>\n",
       "      <td>2020-03-11 13:18:31</td>\n",
       "      <td>Banana Republic</td>\n",
       "      <td>S</td>\n",
       "      <td>Tan Slacks for Serious Press Conference</td>\n",
       "      <td>Men's Bottoms</td>\n",
       "      <td>138.99</td>\n",
       "      <td>Clearance</td>\n",
       "      <td>Fashion Centre at Pentagon City</td>\n",
       "      <td>VA</td>\n",
       "    </tr>\n",
       "    <tr>\n",
       "      <th>2858</th>\n",
       "      <td>0ZT3Z0T</td>\n",
       "      <td>EV890</td>\n",
       "      <td>93-552-710</td>\n",
       "      <td>#4291</td>\n",
       "      <td>HomeDelivery</td>\n",
       "      <td>2020-01-11 16:59:41</td>\n",
       "      <td>Banana Republic</td>\n",
       "      <td>L</td>\n",
       "      <td>Acid-Washed Low-Rise Jeans with LSD-tab-sized ...</td>\n",
       "      <td>Women's Bottoms</td>\n",
       "      <td>109.99</td>\n",
       "      <td>Clearance</td>\n",
       "      <td>Potomac Mills</td>\n",
       "      <td>VA</td>\n",
       "    </tr>\n",
       "  </tbody>\n",
       "</table>\n",
       "</div>"
      ],
      "text/plain": [
       "      OrderID CustomerID   ProductID StoreID     OrderType  \\\n",
       "3142  STZ2QD8      QD165  10-966-490   #1047       InStore   \n",
       "2858  0ZT3Z0T      EV890  93-552-710   #4291  HomeDelivery   \n",
       "\n",
       "                Timestamp            Brand ItemSize  \\\n",
       "3142  2020-03-11 13:18:31  Banana Republic        S   \n",
       "2858  2020-01-11 16:59:41  Banana Republic        L   \n",
       "\n",
       "                                            ProductName       Collection  \\\n",
       "3142            Tan Slacks for Serious Press Conference    Men's Bottoms   \n",
       "2858  Acid-Washed Low-Rise Jeans with LSD-tab-sized ...  Women's Bottoms   \n",
       "\n",
       "       Price ClearanceType                        StoreName Location  \n",
       "3142  138.99     Clearance  Fashion Centre at Pentagon City       VA  \n",
       "2858  109.99     Clearance                    Potomac Mills       VA  "
      ]
     },
     "execution_count": 19,
     "metadata": {},
     "output_type": "execute_result"
    }
   ],
   "source": [
    "print(df.shape)\n",
    "df.sample(2)"
   ]
  },
  {
   "cell_type": "markdown",
   "metadata": {},
   "source": [
    "## Product Trends "
   ]
  },
  {
   "cell_type": "markdown",
   "metadata": {},
   "source": [
    "Let's take a look at some product trends. A couple of questions that management wants us to answer:\n",
    "\n",
    "1. Which products are selling well? Clothing Sizes? Collections? \n",
    "2. Take a look at the top 10 best selling items, or keep a list of them. Are these more likely to be on clearance?\n",
    "3. Does one brand offer more products than the other?\n",
    "\n",
    "<br>Functions / tools you'll probably wanna Google or refer to the week-2 notebook for:\n",
    "- `value_counts()`, `unique()`, `nunique()`\n",
    "- `groupby(by=)`, `agg(func=)`, \n",
    "- Subsetting dataframes by conditions\n",
    "- Selecting columns as series"
   ]
  },
  {
   "cell_type": "code",
   "execution_count": null,
   "metadata": {},
   "outputs": [],
   "source": []
  },
  {
   "cell_type": "markdown",
   "metadata": {},
   "source": [
    "## Segments Trends"
   ]
  },
  {
   "cell_type": "markdown",
   "metadata": {},
   "source": [
    "Take a look at some of the segment trends. A couple of questions that management wants us to answer:\n",
    "\n",
    "1. Which business segments (aka brands) saw the most sales (in $)? What about by number of orders?\n",
    "2. Are there any stores competing in the same mall? Which stores are they?\n",
    "3. Are products from one brand usually more expensive than the other?\n",
    "\n",
    "<br>Functions / tools you'll probably wanna Google or refer to the week-2 notebook for:\n",
    "- `unique()`\n",
    "- `groupby(by=)`, `agg(func=)`\n",
    "- Subsetting dataframes by conditions\n",
    "- Selecting columns as series"
   ]
  },
  {
   "cell_type": "code",
   "execution_count": null,
   "metadata": {},
   "outputs": [],
   "source": []
  },
  {
   "cell_type": "markdown",
   "metadata": {},
   "source": [
    "## Customer Trends"
   ]
  },
  {
   "cell_type": "markdown",
   "metadata": {},
   "source": [
    "Let's look at the customers. A couple of questions that management wants us to answer:\n",
    "\n",
    "1. What sizes do customers usually buy? Make sure to not double count answers.\n",
    "2. On average, how much does each customer spend per transaction? Does this differ when broken down by brand?\n",
    "\n",
    "<br>Functions / tools you'll probably wanna Google or refer to the week-2 notebook for:\n",
    "- `value_counts()`, `unique()`\n",
    "- `groupby(by=)`, `agg(func=)`\n",
    "- Subsetting dataframes by conditions\n",
    "- Selecting columns as series"
   ]
  },
  {
   "cell_type": "code",
   "execution_count": null,
   "metadata": {},
   "outputs": [],
   "source": []
  },
  {
   "cell_type": "markdown",
   "metadata": {},
   "source": [
    "## Store Trends"
   ]
  },
  {
   "cell_type": "markdown",
   "metadata": {},
   "source": [
    "Almost done! Think at the store level:\n",
    "\n",
    "1. Which stores have the most sales (in $)? By number of orders?\n",
    "2. Are there some stores that see more online orders? \n",
    "\n",
    "<br>Functions / tools you'll probably wanna Google or refer to the week-2 notebook for:\n",
    "- `value_counts()`, `unique()`\n",
    "- `groupby(by=)`, `agg(func=)`\n",
    "- Subsetting dataframes by conditions\n",
    "- Selecting columns as series"
   ]
  },
  {
   "cell_type": "code",
   "execution_count": null,
   "metadata": {},
   "outputs": [],
   "source": []
  },
  {
   "cell_type": "code",
   "execution_count": null,
   "metadata": {},
   "outputs": [],
   "source": []
  }
 ],
 "metadata": {
  "kernelspec": {
   "display_name": "Python 3",
   "language": "python",
   "name": "python3"
  },
  "language_info": {
   "codemirror_mode": {
    "name": "ipython",
    "version": 3
   },
   "file_extension": ".py",
   "mimetype": "text/x-python",
   "name": "python",
   "nbconvert_exporter": "python",
   "pygments_lexer": "ipython3",
   "version": "3.7.7"
  }
 },
 "nbformat": 4,
 "nbformat_minor": 4
}
