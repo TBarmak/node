{
 "cells": [
  {
   "cell_type": "markdown",
   "metadata": {},
   "source": [
    "## Import Data"
   ]
  },
  {
   "cell_type": "code",
   "execution_count": 2,
   "metadata": {},
   "outputs": [],
   "source": [
    "import pandas as pd\n",
    "import numpy as np"
   ]
  },
  {
   "cell_type": "code",
   "execution_count": 6,
   "metadata": {},
   "outputs": [],
   "source": [
    "df = pd.read_csv('gap.csv', sep='|')"
   ]
  },
  {
   "cell_type": "code",
   "execution_count": 12,
   "metadata": {},
   "outputs": [
    {
     "name": "stdout",
     "output_type": "stream",
     "text": [
      "(3860, 13)\n"
     ]
    },
    {
     "data": {
      "text/html": [
       "<div>\n",
       "<style scoped>\n",
       "    .dataframe tbody tr th:only-of-type {\n",
       "        vertical-align: middle;\n",
       "    }\n",
       "\n",
       "    .dataframe tbody tr th {\n",
       "        vertical-align: top;\n",
       "    }\n",
       "\n",
       "    .dataframe thead th {\n",
       "        text-align: right;\n",
       "    }\n",
       "</style>\n",
       "<table border=\"1\" class=\"dataframe\">\n",
       "  <thead>\n",
       "    <tr style=\"text-align: right;\">\n",
       "      <th></th>\n",
       "      <th>OrderID</th>\n",
       "      <th>ProductID</th>\n",
       "      <th>StoreID</th>\n",
       "      <th>OrderType</th>\n",
       "      <th>Timestamp</th>\n",
       "      <th>Brand</th>\n",
       "      <th>ItemSize</th>\n",
       "      <th>ProductName</th>\n",
       "      <th>Collection</th>\n",
       "      <th>Price</th>\n",
       "      <th>ClearanceType</th>\n",
       "      <th>StoreName</th>\n",
       "      <th>Location</th>\n",
       "    </tr>\n",
       "  </thead>\n",
       "  <tbody>\n",
       "    <tr>\n",
       "      <th>3822</th>\n",
       "      <td>8KF715Q172</td>\n",
       "      <td>43-735-707</td>\n",
       "      <td>#5796</td>\n",
       "      <td>InStore</td>\n",
       "      <td>2020-02-05 19:06:53</td>\n",
       "      <td>Gap</td>\n",
       "      <td>S</td>\n",
       "      <td>My roommate looked good in this Denim Jacket</td>\n",
       "      <td>Denim Shop</td>\n",
       "      <td>40.99</td>\n",
       "      <td>Clearance</td>\n",
       "      <td>Norfolk Premium Outlets</td>\n",
       "      <td>VA</td>\n",
       "    </tr>\n",
       "    <tr>\n",
       "      <th>2041</th>\n",
       "      <td>9S0Q415C4F</td>\n",
       "      <td>66-484-621</td>\n",
       "      <td>#2499</td>\n",
       "      <td>InStore</td>\n",
       "      <td>2020-01-13 09:46:02</td>\n",
       "      <td>Gap</td>\n",
       "      <td>M</td>\n",
       "      <td>My Mom Bought Me These Brown Slacks</td>\n",
       "      <td>Kids Bottoms</td>\n",
       "      <td>9.99</td>\n",
       "      <td>Clearance</td>\n",
       "      <td>Charlottesville Fashion Square</td>\n",
       "      <td>VA</td>\n",
       "    </tr>\n",
       "    <tr>\n",
       "      <th>1738</th>\n",
       "      <td>ZC6TZ1TSDT</td>\n",
       "      <td>69-329-471</td>\n",
       "      <td>#8258</td>\n",
       "      <td>HomeDelivery</td>\n",
       "      <td>2020-02-06 21:55:33</td>\n",
       "      <td>Banana Republic</td>\n",
       "      <td>M</td>\n",
       "      <td>Acid-Washed Low-Rise Jeans with LSD-tab-sized ...</td>\n",
       "      <td>Women's Bottoms</td>\n",
       "      <td>179.99</td>\n",
       "      <td>Clearance</td>\n",
       "      <td>Barracks Road Shopping Center</td>\n",
       "      <td>VA</td>\n",
       "    </tr>\n",
       "    <tr>\n",
       "      <th>2267</th>\n",
       "      <td>50270S4188</td>\n",
       "      <td>25-641-963</td>\n",
       "      <td>#2499</td>\n",
       "      <td>HomeDelivery</td>\n",
       "      <td>2020-02-13 16:37:45</td>\n",
       "      <td>Gap</td>\n",
       "      <td>M</td>\n",
       "      <td>Human Rights (except for the children who make...</td>\n",
       "      <td>Kids Tops</td>\n",
       "      <td>9.95</td>\n",
       "      <td>FullRetail</td>\n",
       "      <td>Charlottesville Fashion Square</td>\n",
       "      <td>VA</td>\n",
       "    </tr>\n",
       "  </tbody>\n",
       "</table>\n",
       "</div>"
      ],
      "text/plain": [
       "         OrderID   ProductID StoreID     OrderType            Timestamp  \\\n",
       "3822  8KF715Q172  43-735-707   #5796       InStore  2020-02-05 19:06:53   \n",
       "2041  9S0Q415C4F  66-484-621   #2499       InStore  2020-01-13 09:46:02   \n",
       "1738  ZC6TZ1TSDT  69-329-471   #8258  HomeDelivery  2020-02-06 21:55:33   \n",
       "2267  50270S4188  25-641-963   #2499  HomeDelivery  2020-02-13 16:37:45   \n",
       "\n",
       "                Brand ItemSize  \\\n",
       "3822              Gap        S   \n",
       "2041              Gap        M   \n",
       "1738  Banana Republic        M   \n",
       "2267              Gap        M   \n",
       "\n",
       "                                            ProductName       Collection  \\\n",
       "3822       My roommate looked good in this Denim Jacket       Denim Shop   \n",
       "2041                My Mom Bought Me These Brown Slacks     Kids Bottoms   \n",
       "1738  Acid-Washed Low-Rise Jeans with LSD-tab-sized ...  Women's Bottoms   \n",
       "2267  Human Rights (except for the children who make...        Kids Tops   \n",
       "\n",
       "       Price ClearanceType                       StoreName Location  \n",
       "3822   40.99     Clearance         Norfolk Premium Outlets       VA  \n",
       "2041    9.99     Clearance  Charlottesville Fashion Square       VA  \n",
       "1738  179.99     Clearance   Barracks Road Shopping Center       VA  \n",
       "2267    9.95    FullRetail  Charlottesville Fashion Square       VA  "
      ]
     },
     "execution_count": 12,
     "metadata": {},
     "output_type": "execute_result"
    }
   ],
   "source": [
    "print(df.shape)\n",
    "df.sample(4)"
   ]
  },
  {
   "cell_type": "markdown",
   "metadata": {},
   "source": [
    "#### Data Documentation:\n",
    "<br>**Description**: Synthetic dataset from Gap Inc., representing individual purchases from Q1 FY2020. Each row is a unique item purchased in an order\n",
    "<br><br>\n",
    "\n",
    "| **Feature** | **Description**    | **Sample Value(s)**  |\n",
    "| ------- | -----------    | ------------- |\n",
    "| OrderID | Unique identifier per transaction | DRW7C20   |\n",
    "| CustomerID | Unique identifier per custpomer | KP441   |\n",
    "| ProductID  | Unique identifier per item | 13-817-239 |\n",
    "| StoreID | Unique identifier per store | #4176 |\n",
    "| | | | \n",
    "| OrderType | How purchase was completed  | InStore, HomeDelivery, Online |\n",
    "| Timestamp | Timestamp of transaction as YYYY-MM-DD | 2020-01-18 10:13:56\t |\n",
    "| | | | \n",
    "| Brand | Which reporting segment of Gap Inc. bought from | Banana Republic |\n",
    "| ItemSize | Size of item | XS, S, M, L, X, XL |\n",
    "| ProductName | Name of item associated with item identifier | Pink Polo by Kanye |\n",
    "| Collection | Which part of store | Denim Shop |\n",
    "| Price | Listed price of item | $29.95 |\n",
    "| ClearanceType | Type of clearance | Retail, Clearance, Final Sale |\n",
    "| DiscountType | If Gap Card rewards was used | Reward points, Promotion, GapCash, Other |\n",
    "| | | | \n",
    "| StoreName | Store name (i.e. Mall), or facility where online order was shipped from | Fair Oaks Mall |\n",
    "| Location | State of store location | VA |\n",
    "\n",
    "<br>"
   ]
  },
  {
   "cell_type": "markdown",
   "metadata": {},
   "source": [
    "## Product Trends "
   ]
  },
  {
   "cell_type": "markdown",
   "metadata": {},
   "source": [
    "Let's take a look at some product trends. A couple of questions that management wants us to answer:\n",
    "\n",
    "1. Which products are selling well? Clothing Sizes? Collections? \n",
    "2. What's associated with popular items? Clearance? Prices?\n",
    "3. \n",
    "\n",
    "\n",
    "\n",
    "Functions / tools you'll probably wanna Google / refer back to:\n",
    "- `value_counts()`, unique(), nunique()\n",
    "- `groupby()`, `agg()`, agg methods\n",
    "- Selecting columns as series, subsetting dataframes by conditions"
   ]
  },
  {
   "cell_type": "code",
   "execution_count": null,
   "metadata": {},
   "outputs": [],
   "source": []
  },
  {
   "cell_type": "markdown",
   "metadata": {},
   "source": [
    "## Segments Trends"
   ]
  },
  {
   "cell_type": "markdown",
   "metadata": {},
   "source": [
    "1. Which segments (brands, collections) have the most sales? By order \n"
   ]
  },
  {
   "cell_type": "markdown",
   "metadata": {},
   "source": [
    "## Customer Trends"
   ]
  },
  {
   "cell_type": "markdown",
   "metadata": {},
   "source": [
    "## Store Trends"
   ]
  },
  {
   "cell_type": "code",
   "execution_count": null,
   "metadata": {},
   "outputs": [],
   "source": []
  },
  {
   "cell_type": "code",
   "execution_count": null,
   "metadata": {},
   "outputs": [],
   "source": []
  },
  {
   "cell_type": "code",
   "execution_count": null,
   "metadata": {},
   "outputs": [],
   "source": []
  }
 ],
 "metadata": {
  "kernelspec": {
   "display_name": "Python 3",
   "language": "python",
   "name": "python3"
  },
  "language_info": {
   "codemirror_mode": {
    "name": "ipython",
    "version": 3
   },
   "file_extension": ".py",
   "mimetype": "text/x-python",
   "name": "python",
   "nbconvert_exporter": "python",
   "pygments_lexer": "ipython3",
   "version": "3.7.7"
  }
 },
 "nbformat": 4,
 "nbformat_minor": 4
}
