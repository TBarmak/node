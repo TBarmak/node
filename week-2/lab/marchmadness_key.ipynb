{
  "nbformat": 4,
  "nbformat_minor": 0,
  "metadata": {
    "colab": {
      "name": "Week 2 Lab-March Madness.ipynb",
      "provenance": [],
      "collapsed_sections": []
    },
    "kernelspec": {
      "name": "python3",
      "display_name": "Python 3"
    }
  },
  "cells": [
    {
      "cell_type": "markdown",
      "metadata": {
        "id": "gtu40o1p7i-z"
      },
      "source": [
        "## **This dataset shows the results of the March Madness Tournament (...of which we are still the reigning champs-no biggy...) from 1985 through 2016.**\n"
      ]
    },
    {
      "cell_type": "markdown",
      "metadata": {
        "id": "k3QTywz-7eJB"
      },
      "source": [
        "Begin by importing the necessary packages, pandas (data frame applications) and numpy (numerical applications)"
      ]
    },
    {
      "cell_type": "code",
      "metadata": {
        "id": "kmaPSHMR3RGn"
      },
      "source": [
        "import pandas as pd\n",
        "import numpy as np"
      ],
      "execution_count": null,
      "outputs": []
    },
    {
      "cell_type": "markdown",
      "metadata": {
        "id": "spbXTrjv7Ul-"
      },
      "source": [
        "Now, let's read in our data to get a sense of its shape and contents.\n",
        "\n",
        "URL =  `https://raw.githubusercontent.com/ishaandey/node/master/week-2/lab/ncaa-mens-historical.csv `"
      ]
    },
    {
      "cell_type": "code",
      "metadata": {
        "id": "b6iY6SUY4d1W"
      },
      "source": [
        "df=pd.read_csv('https://raw.githubusercontent.com/ishaandey/node/master/week-2/lab/ncaa-mens-historical.csv')"
      ],
      "execution_count": null,
      "outputs": []
    },
    {
      "cell_type": "markdown",
      "metadata": {
        "id": "IjFrPuyO8vGp"
      },
      "source": [
        "Find the shape of the data frame below, returned as a tuple with form: (rows, columns)"
      ]
    },
    {
      "cell_type": "code",
      "metadata": {
        "id": "g8lDnGWB6zDQ",
        "colab": {
          "base_uri": "https://localhost:8080/"
        },
        "outputId": "205382d7-8d85-44ba-9c9d-3a042c2da3b5"
      },
      "source": [
        "print(df.shape)"
      ],
      "execution_count": null,
      "outputs": [
        {
          "output_type": "stream",
          "text": [
            "(2050, 10)\n"
          ],
          "name": "stdout"
        }
      ]
    },
    {
      "cell_type": "markdown",
      "metadata": {
        "id": "f9PZNokC9MY5"
      },
      "source": [
        "Below, output only the first 10 rows of the data frame:"
      ]
    },
    {
      "cell_type": "code",
      "metadata": {
        "colab": {
          "base_uri": "https://localhost:8080/",
          "height": 343
        },
        "id": "cbIIx5_B6ssa",
        "outputId": "dcf76fa1-f8a1-4bd6-ee48-8fda507967c4"
      },
      "source": [
        "df.head(10)"
      ],
      "execution_count": null,
      "outputs": [
        {
          "output_type": "execute_result",
          "data": {
            "text/html": [
              "<div>\n",
              "<style scoped>\n",
              "    .dataframe tbody tr th:only-of-type {\n",
              "        vertical-align: middle;\n",
              "    }\n",
              "\n",
              "    .dataframe tbody tr th {\n",
              "        vertical-align: top;\n",
              "    }\n",
              "\n",
              "    .dataframe thead th {\n",
              "        text-align: right;\n",
              "    }\n",
              "</style>\n",
              "<table border=\"1\" class=\"dataframe\">\n",
              "  <thead>\n",
              "    <tr style=\"text-align: right;\">\n",
              "      <th></th>\n",
              "      <th>Date</th>\n",
              "      <th>Round</th>\n",
              "      <th>Region</th>\n",
              "      <th>Winning Seed</th>\n",
              "      <th>Winner</th>\n",
              "      <th>Winning Score</th>\n",
              "      <th>Losing Seed</th>\n",
              "      <th>Loser</th>\n",
              "      <th>Losing Score</th>\n",
              "      <th>Overtime</th>\n",
              "    </tr>\n",
              "  </thead>\n",
              "  <tbody>\n",
              "    <tr>\n",
              "      <th>0</th>\n",
              "      <td>3/14/85</td>\n",
              "      <td>Round of 64</td>\n",
              "      <td>East</td>\n",
              "      <td>1</td>\n",
              "      <td>Georgetown</td>\n",
              "      <td>68</td>\n",
              "      <td>16</td>\n",
              "      <td>Lehigh</td>\n",
              "      <td>43</td>\n",
              "      <td>NaN</td>\n",
              "    </tr>\n",
              "    <tr>\n",
              "      <th>1</th>\n",
              "      <td>3/14/85</td>\n",
              "      <td>Round of 64</td>\n",
              "      <td>East</td>\n",
              "      <td>4</td>\n",
              "      <td>Loyola, Illinois</td>\n",
              "      <td>59</td>\n",
              "      <td>13</td>\n",
              "      <td>Iona</td>\n",
              "      <td>58</td>\n",
              "      <td>NaN</td>\n",
              "    </tr>\n",
              "    <tr>\n",
              "      <th>2</th>\n",
              "      <td>3/14/85</td>\n",
              "      <td>Round of 64</td>\n",
              "      <td>East</td>\n",
              "      <td>5</td>\n",
              "      <td>Southern Methodist</td>\n",
              "      <td>85</td>\n",
              "      <td>12</td>\n",
              "      <td>Old Dominion</td>\n",
              "      <td>68</td>\n",
              "      <td>NaN</td>\n",
              "    </tr>\n",
              "    <tr>\n",
              "      <th>3</th>\n",
              "      <td>3/14/85</td>\n",
              "      <td>Round of 64</td>\n",
              "      <td>East</td>\n",
              "      <td>8</td>\n",
              "      <td>Temple</td>\n",
              "      <td>60</td>\n",
              "      <td>9</td>\n",
              "      <td>Virginia Tech</td>\n",
              "      <td>57</td>\n",
              "      <td>NaN</td>\n",
              "    </tr>\n",
              "    <tr>\n",
              "      <th>4</th>\n",
              "      <td>3/14/85</td>\n",
              "      <td>Round of 64</td>\n",
              "      <td>Midwest</td>\n",
              "      <td>1</td>\n",
              "      <td>Oklahoma</td>\n",
              "      <td>96</td>\n",
              "      <td>16</td>\n",
              "      <td>North Carolina A&amp;T</td>\n",
              "      <td>83</td>\n",
              "      <td>NaN</td>\n",
              "    </tr>\n",
              "    <tr>\n",
              "      <th>5</th>\n",
              "      <td>3/14/85</td>\n",
              "      <td>Round of 64</td>\n",
              "      <td>Midwest</td>\n",
              "      <td>4</td>\n",
              "      <td>Ohio State</td>\n",
              "      <td>75</td>\n",
              "      <td>13</td>\n",
              "      <td>Iowa State</td>\n",
              "      <td>64</td>\n",
              "      <td>NaN</td>\n",
              "    </tr>\n",
              "    <tr>\n",
              "      <th>6</th>\n",
              "      <td>3/14/85</td>\n",
              "      <td>Round of 64</td>\n",
              "      <td>Midwest</td>\n",
              "      <td>5</td>\n",
              "      <td>Louisiana Tech</td>\n",
              "      <td>78</td>\n",
              "      <td>12</td>\n",
              "      <td>Pittsburgh</td>\n",
              "      <td>54</td>\n",
              "      <td>NaN</td>\n",
              "    </tr>\n",
              "    <tr>\n",
              "      <th>7</th>\n",
              "      <td>3/14/85</td>\n",
              "      <td>Round of 64</td>\n",
              "      <td>Midwest</td>\n",
              "      <td>9</td>\n",
              "      <td>Illinois State</td>\n",
              "      <td>58</td>\n",
              "      <td>8</td>\n",
              "      <td>Southern California</td>\n",
              "      <td>55</td>\n",
              "      <td>NaN</td>\n",
              "    </tr>\n",
              "    <tr>\n",
              "      <th>8</th>\n",
              "      <td>3/14/85</td>\n",
              "      <td>Round of 64</td>\n",
              "      <td>Southeast</td>\n",
              "      <td>2</td>\n",
              "      <td>North Carolina</td>\n",
              "      <td>76</td>\n",
              "      <td>15</td>\n",
              "      <td>Middle Tennessee State</td>\n",
              "      <td>57</td>\n",
              "      <td>NaN</td>\n",
              "    </tr>\n",
              "    <tr>\n",
              "      <th>9</th>\n",
              "      <td>3/14/85</td>\n",
              "      <td>Round of 64</td>\n",
              "      <td>Southeast</td>\n",
              "      <td>3</td>\n",
              "      <td>Kansas</td>\n",
              "      <td>49</td>\n",
              "      <td>14</td>\n",
              "      <td>Ohio</td>\n",
              "      <td>38</td>\n",
              "      <td>NaN</td>\n",
              "    </tr>\n",
              "  </tbody>\n",
              "</table>\n",
              "</div>"
            ],
            "text/plain": [
              "      Date        Round  ... Losing Score  Overtime\n",
              "0  3/14/85  Round of 64  ...           43       NaN\n",
              "1  3/14/85  Round of 64  ...           58       NaN\n",
              "2  3/14/85  Round of 64  ...           68       NaN\n",
              "3  3/14/85  Round of 64  ...           57       NaN\n",
              "4  3/14/85  Round of 64  ...           83       NaN\n",
              "5  3/14/85  Round of 64  ...           64       NaN\n",
              "6  3/14/85  Round of 64  ...           54       NaN\n",
              "7  3/14/85  Round of 64  ...           55       NaN\n",
              "8  3/14/85  Round of 64  ...           57       NaN\n",
              "9  3/14/85  Round of 64  ...           38       NaN\n",
              "\n",
              "[10 rows x 10 columns]"
            ]
          },
          "metadata": {
            "tags": []
          },
          "execution_count": 6
        }
      ]
    },
    {
      "cell_type": "markdown",
      "metadata": {
        "id": "Uz1vomUuLuKt"
      },
      "source": [
        "Note: Each row is one game, and each column displays a different attribute of the game."
      ]
    },
    {
      "cell_type": "markdown",
      "metadata": {
        "id": "gxILKejx9Jzz"
      },
      "source": [
        "## **REGIONAL TRENDS**"
      ]
    },
    {
      "cell_type": "markdown",
      "metadata": {
        "id": "yiCMLlSu9Ub3"
      },
      "source": [
        "Do the average winning and losing scores vary by coast? What trends can we find? \n",
        "1. Find the average winning score for the East region\n",
        "2. Find the average winning score for the West region\n",
        "3. Find the average losing score for the East region\n",
        "4. Find the average losing score for the West region"
      ]
    },
    {
      "cell_type": "code",
      "metadata": {
        "colab": {
          "base_uri": "https://localhost:8080/"
        },
        "id": "CmN6rB489YM6",
        "outputId": "ab76f6d4-7c68-4b7a-be98-25fd5744757e"
      },
      "source": [
        "#use \"df.columns\" to help understand what the column names are before subsetting and selecting columns for analysis! \r\n",
        "df.columns"
      ],
      "execution_count": null,
      "outputs": [
        {
          "output_type": "execute_result",
          "data": {
            "text/plain": [
              "Index(['Date', 'Round', 'Region', 'Winning Seed', 'Winner', 'Winning Score',\n",
              "       'Losing Seed', 'Loser', 'Losing Score', 'Overtime'],\n",
              "      dtype='object')"
            ]
          },
          "metadata": {
            "tags": []
          },
          "execution_count": 14
        }
      ]
    },
    {
      "cell_type": "code",
      "metadata": {
        "colab": {
          "base_uri": "https://localhost:8080/"
        },
        "id": "PT89ioCBCNHb",
        "outputId": "aa7d4206-d4a7-4cd8-f227-47987d3dc51e"
      },
      "source": [
        "# average winning score for the east region\n",
        "df[df.Region=='East']['Winning Score'].mean()"
      ],
      "execution_count": null,
      "outputs": [
        {
          "output_type": "execute_result",
          "data": {
            "text/plain": [
              "75.88343558282209"
            ]
          },
          "metadata": {
            "tags": []
          },
          "execution_count": 15
        }
      ]
    },
    {
      "cell_type": "code",
      "metadata": {
        "colab": {
          "base_uri": "https://localhost:8080/"
        },
        "id": "Q5ar4L9a8aor",
        "outputId": "0953a190-4f1f-4171-8a97-d19c2af559fb"
      },
      "source": [
        "# average winning score for the west region\r\n",
        "df[df.Region=='West']['Winning Score'].mean()"
      ],
      "execution_count": null,
      "outputs": [
        {
          "output_type": "execute_result",
          "data": {
            "text/plain": [
              "78.09072164948454"
            ]
          },
          "metadata": {
            "tags": []
          },
          "execution_count": 16
        }
      ]
    },
    {
      "cell_type": "markdown",
      "metadata": {
        "id": "tRABGNlbCnJE"
      },
      "source": [
        "Which coast can you conclude has the higher average Winning Score?"
      ]
    },
    {
      "cell_type": "code",
      "metadata": {
        "colab": {
          "base_uri": "https://localhost:8080/"
        },
        "id": "aOwZrpSJC37P",
        "outputId": "1295c28a-2b80-4272-f903-d451801eae9f"
      },
      "source": [
        "# average losing score for the east region\r\n",
        "df[df.Region=='East']['Losing Score'].mean()"
      ],
      "execution_count": null,
      "outputs": [
        {
          "output_type": "execute_result",
          "data": {
            "text/plain": [
              "64.13905930470348"
            ]
          },
          "metadata": {
            "tags": []
          },
          "execution_count": 17
        }
      ]
    },
    {
      "cell_type": "code",
      "metadata": {
        "colab": {
          "base_uri": "https://localhost:8080/"
        },
        "id": "z7Y_9Eu7C-1p",
        "outputId": "06a229ca-3eb4-41de-b59a-35a4367b097e"
      },
      "source": [
        "# average losing score for the west region\r\n",
        "df[df.Region=='West']['Losing Score'].mean()"
      ],
      "execution_count": null,
      "outputs": [
        {
          "output_type": "execute_result",
          "data": {
            "text/plain": [
              "66.23298969072165"
            ]
          },
          "metadata": {
            "tags": []
          },
          "execution_count": 18
        }
      ]
    },
    {
      "cell_type": "markdown",
      "metadata": {
        "id": "dj-A3TxqDBfK"
      },
      "source": [
        "Which coast can you conclude has the lower average Losing Score?  What do these trends tell you about the overall performance of the two coasts compared to one another?"
      ]
    },
    {
      "cell_type": "code",
      "metadata": {
        "colab": {
          "base_uri": "https://localhost:8080/"
        },
        "id": "yjokiUBfDvkZ",
        "outputId": "81db6313-5885-4868-ee49-9ec7e361dfe9"
      },
      "source": [
        "#Below, display the sums of the winning scores, grouped by each REGION in DESCENDING order.\n",
        "df.groupby(by='Region')['Winning Score'].agg('sum').sort_values(ascending=False)"
      ],
      "execution_count": null,
      "outputs": [
        {
          "output_type": "execute_result",
          "data": {
            "text/plain": [
              "Region\n",
              "West                     37874\n",
              "East                     37107\n",
              "Midwest                  36684\n",
              "South                    20843\n",
              "Southeast                16691\n",
              "National Semifinals       4302\n",
              "National Championship     2153\n",
              "Southwest                 1123\n",
              "Name: Winning Score, dtype: int64"
            ]
          },
          "metadata": {
            "tags": []
          },
          "execution_count": 19
        }
      ]
    },
    {
      "cell_type": "markdown",
      "metadata": {
        "id": "YFw1vLfjFz8z"
      },
      "source": [
        "Which region has the highest summed Winning Score?"
      ]
    },
    {
      "cell_type": "markdown",
      "metadata": {
        "id": "gLtDn5RaD-8q"
      },
      "source": [
        "## **TEAM AND SEED TRENDS**"
      ]
    },
    {
      "cell_type": "code",
      "metadata": {
        "id": "dXppfTWsFR9K",
        "colab": {
          "base_uri": "https://localhost:8080/"
        },
        "outputId": "ff923a32-26b7-4cde-e092-2effc52392aa"
      },
      "source": [
        "#How many different Winning teams are there in the dataset?\n",
        "df.Winner.nunique()"
      ],
      "execution_count": null,
      "outputs": [
        {
          "output_type": "execute_result",
          "data": {
            "text/plain": [
              "186"
            ]
          },
          "metadata": {
            "tags": []
          },
          "execution_count": 13
        }
      ]
    },
    {
      "cell_type": "markdown",
      "metadata": {
        "id": "5ziMlW6ecNSu"
      },
      "source": [
        "1. What is the most points scored by a single winning team?"
      ]
    },
    {
      "cell_type": "code",
      "metadata": {
        "colab": {
          "base_uri": "https://localhost:8080/"
        },
        "id": "KGtdKQLXJ0o0",
        "outputId": "d91a6ece-b9eb-435f-ad90-9dea8bac2332"
      },
      "source": [
        "#Which Winning team shows in the dataset most frequently?\n",
        "df.Winner.value_counts()"
      ],
      "execution_count": null,
      "outputs": [
        {
          "output_type": "execute_result",
          "data": {
            "text/plain": [
              "Duke                   90\n",
              "North Carolina         82\n",
              "Kansas                 77\n",
              "Kentucky               75\n",
              "Connecticut            55\n",
              "                       ..\n",
              "Louisiana-Lafayette     1\n",
              "Florida A&M             1\n",
              "Austin Peay             1\n",
              "Pepperdine              1\n",
              "Green Bay               1\n",
              "Name: Winner, Length: 186, dtype: int64"
            ]
          },
          "metadata": {
            "tags": []
          },
          "execution_count": 14
        }
      ]
    },
    {
      "cell_type": "code",
      "metadata": {
        "colab": {
          "base_uri": "https://localhost:8080/"
        },
        "id": "MLRA_O1kcaAU",
        "outputId": "638e6fce-406b-4f47-f6b6-df376d731691"
      },
      "source": [
        "df[\"Winning Score\"].max()"
      ],
      "execution_count": null,
      "outputs": [
        {
          "output_type": "execute_result",
          "data": {
            "text/plain": [
              "149"
            ]
          },
          "metadata": {
            "tags": []
          },
          "execution_count": 77
        }
      ]
    },
    {
      "cell_type": "markdown",
      "metadata": {
        "id": "Vf4vL_xJb86l"
      },
      "source": [
        "2. What team has the most National Championship wins?"
      ]
    },
    {
      "cell_type": "code",
      "metadata": {
        "colab": {
          "base_uri": "https://localhost:8080/"
        },
        "id": "ZWrmkX_UaULr",
        "outputId": "3ff030b1-0467-4924-c406-483ecc6cdcab"
      },
      "source": [
        "df[df.Round == \"National Championship\"][\"Winner\"].value_counts().head()"
      ],
      "execution_count": null,
      "outputs": [
        {
          "output_type": "execute_result",
          "data": {
            "text/plain": [
              "Duke              5\n",
              "Connecticut       4\n",
              "North Carolina    3\n",
              "Kentucky          3\n",
              "Kansas            2\n",
              "Name: Winner, dtype: int64"
            ]
          },
          "metadata": {
            "tags": []
          },
          "execution_count": 24
        }
      ]
    },
    {
      "cell_type": "markdown",
      "metadata": {
        "id": "a5HYy3OsTcBq"
      },
      "source": [
        "3. What is the lowest (highest number) seed to win the national championship?"
      ]
    },
    {
      "cell_type": "code",
      "metadata": {
        "colab": {
          "base_uri": "https://localhost:8080/"
        },
        "id": "mmG2M81PTjdq",
        "outputId": "428f968b-74d6-4e20-8203-554e1bce9346"
      },
      "source": [
        "# Lowest seed to win the national championship\r\n",
        "df[df.Round == 'National Championship'][\"Winning Seed\"].max()"
      ],
      "execution_count": null,
      "outputs": [
        {
          "output_type": "execute_result",
          "data": {
            "text/plain": [
              "8"
            ]
          },
          "metadata": {
            "tags": []
          },
          "execution_count": 17
        }
      ]
    },
    {
      "cell_type": "markdown",
      "metadata": {
        "id": "XzuIS2H8G8lZ"
      },
      "source": [
        "Building on the above question, list out the lowest seeds in DESCENDING ORDER for all of the winners for ALL rounds in the data frame (Hint: use .group_by())"
      ]
    },
    {
      "cell_type": "code",
      "metadata": {
        "colab": {
          "base_uri": "https://localhost:8080/"
        },
        "id": "MOuljc_QK_v5",
        "outputId": "cb2e6987-3171-452b-d4ac-b18c049b9825"
      },
      "source": [
        "# List the lowest seeds for all winners (of all rounds), in descending order:\n",
        "#df.groupby(by='Winner')['Winning Seed'].agg('max') #gives each winner's lowest seed\n",
        "df.groupby(by='Winner')['Winning Seed'].agg('max').sort_values(ascending=False) #sorts from greatest to least\n"
      ],
      "execution_count": null,
      "outputs": [
        {
          "output_type": "execute_result",
          "data": {
            "text/plain": [
              "Winner\n",
              "Hampton                     16\n",
              "North Carolina-Asheville    16\n",
              "Florida Gulf Coast          16\n",
              "Siena                       16\n",
              "Holy Cross                  16\n",
              "                            ..\n",
              "Duke                         5\n",
              "Loyola, Illinois             4\n",
              "Texas Christian              4\n",
              "Washington State             4\n",
              "Massachusetts                3\n",
              "Name: Winning Seed, Length: 186, dtype: int64"
            ]
          },
          "metadata": {
            "tags": []
          },
          "execution_count": 71
        }
      ]
    },
    {
      "cell_type": "markdown",
      "metadata": {
        "id": "fhB6ZyhWUEPR"
      },
      "source": [
        "4. What is the lowest seed to COMPETE in the national championship? (Hint: this implies of all Winning Seeds AND Losing Seeds)."
      ]
    },
    {
      "cell_type": "code",
      "metadata": {
        "colab": {
          "base_uri": "https://localhost:8080/"
        },
        "id": "bbJlMlYuUID2",
        "outputId": "8e08ac34-4e5f-45fc-d36d-534cc83791d0"
      },
      "source": [
        "max(df[df.Round == 'National Championship']['Losing Seed'].max(), df[df.Round == 'National Championship']['Winning Seed'].max())"
      ],
      "execution_count": null,
      "outputs": [
        {
          "output_type": "execute_result",
          "data": {
            "text/plain": [
              "8"
            ]
          },
          "metadata": {
            "tags": []
          },
          "execution_count": 18
        }
      ]
    },
    {
      "cell_type": "markdown",
      "metadata": {
        "id": "aEklxNySU1LC"
      },
      "source": [
        "5. What is the average seed of a championship competitor?"
      ]
    },
    {
      "cell_type": "code",
      "metadata": {
        "colab": {
          "base_uri": "https://localhost:8080/"
        },
        "id": "b0cOumvTU2hZ",
        "outputId": "5ff76eec-bfca-47cd-e334-87bb49cf1c96"
      },
      "source": [
        "# One way of doing it (summing seeds for winners and losers, then dividing by total number of seeds)\r\n",
        "seeds_sum = df[df.Round == 'National Championship'][\"Winning Seed\"].sum() + df[df.Round == 'National Championship'][\"Losing Seed\"].sum()\r\n",
        "seeds_sum / (df[df.Round == 'National Championship'][\"Winning Seed\"].size * 2) #(there are an equal number of winning and losing seeds)"
      ],
      "execution_count": null,
      "outputs": [
        {
          "output_type": "execute_result",
          "data": {
            "text/plain": [
              "2.390625"
            ]
          },
          "metadata": {
            "tags": []
          },
          "execution_count": 22
        }
      ]
    },
    {
      "cell_type": "code",
      "metadata": {
        "colab": {
          "base_uri": "https://localhost:8080/"
        },
        "id": "kXPmfe8NVFPx",
        "outputId": "164e4620-7c36-483f-d53b-1d617e788762"
      },
      "source": [
        "# Another way of doing it (summing the two individual means, then division by 2)\r\n",
        "sum([df[df.Round == 'National Championship'][\"Winning Seed\"].mean(), df[df.Round == 'National Championship'][\"Losing Seed\"].mean()]) / 2"
      ],
      "execution_count": null,
      "outputs": [
        {
          "output_type": "execute_result",
          "data": {
            "text/plain": [
              "2.390625"
            ]
          },
          "metadata": {
            "tags": []
          },
          "execution_count": 29
        }
      ]
    },
    {
      "cell_type": "markdown",
      "metadata": {
        "id": "O1aSwmLkV4Bx"
      },
      "source": [
        "6a. What is the percentage of games that are upsets? (Keep in mind that an upset occurs when the winning seed is larger than the losing seed.)"
      ]
    },
    {
      "cell_type": "code",
      "metadata": {
        "colab": {
          "base_uri": "https://localhost:8080/"
        },
        "id": "qcTYc0u9V_XQ",
        "outputId": "6c4fd63d-a19b-42ce-d909-e5b4eba9115a"
      },
      "source": [
        "proportion=df[df[\"Winning Seed\"] > df[\"Losing Seed\"]].shape[0] / df.shape[0]\r\n",
        "proportion"
      ],
      "execution_count": null,
      "outputs": [
        {
          "output_type": "execute_result",
          "data": {
            "text/plain": [
              "0.27463414634146344"
            ]
          },
          "metadata": {
            "tags": []
          },
          "execution_count": 20
        }
      ]
    },
    {
      "cell_type": "code",
      "metadata": {
        "colab": {
          "base_uri": "https://localhost:8080/",
          "height": 35
        },
        "id": "Q66UMDg4WaT1",
        "outputId": "8b012657-f080-469f-94d9-e9d2bbf97e98"
      },
      "source": [
        "# If we want to get fancy\r\n",
        "\"{:.2%}\".format(proportion)"
      ],
      "execution_count": null,
      "outputs": [
        {
          "output_type": "execute_result",
          "data": {
            "application/vnd.google.colaboratory.intrinsic+json": {
              "type": "string"
            },
            "text/plain": [
              "'27.46%'"
            ]
          },
          "metadata": {
            "tags": []
          },
          "execution_count": 21
        }
      ]
    },
    {
      "cell_type": "markdown",
      "metadata": {
        "id": "fJv0v31ae7SB"
      },
      "source": [
        "6b. Are games that go to OVERTIME more likely to be upsets (than any given game)?"
      ]
    },
    {
      "cell_type": "code",
      "metadata": {
        "colab": {
          "base_uri": "https://localhost:8080/"
        },
        "id": "oIvjx5BEe-rL",
        "outputId": "5dafb212-f2e2-4e2d-e187-199231a33b4a"
      },
      "source": [
        "ot_games = df[df.Overtime.notna()]\r\n",
        "ot_proportion = ot_games[ot_games[\"Winning Seed\"] > ot_games[\"Losing Seed\"]].shape[0] / ot_games.shape[0]\r\n",
        "ot_proportion\r\n",
        "\r\n",
        "#Alternative method:\r\n",
        "#overtime=df[df.Overtime.isin([\"1 OT\", \"2 OT\"])].shape[0] #number of overtime games\r\n",
        "#overtime_upsets=df[df.Overtime.isin([\"1 OT\", \"2 OT\"])][df['Winning Seed']>df['Losing Seed']].shape[0] #overtime df subset at upsets\r\n",
        "#overtime_upsets/overtime"
      ],
      "execution_count": null,
      "outputs": [
        {
          "output_type": "execute_result",
          "data": {
            "text/plain": [
              "0.35384615384615387"
            ]
          },
          "metadata": {
            "tags": []
          },
          "execution_count": 22
        }
      ]
    },
    {
      "cell_type": "code",
      "metadata": {
        "colab": {
          "base_uri": "https://localhost:8080/"
        },
        "id": "UJZ2NrCIfVbh",
        "outputId": "23e28d67-e57a-4610-bc29-fcd1eba2c6a0"
      },
      "source": [
        "# Yes; compared the proportion of overtime games that are upsets to the proportion of all games that are upsets\r\n",
        "ot_proportion > proportion"
      ],
      "execution_count": null,
      "outputs": [
        {
          "output_type": "execute_result",
          "data": {
            "text/plain": [
              "True"
            ]
          },
          "metadata": {
            "tags": []
          },
          "execution_count": 23
        }
      ]
    },
    {
      "cell_type": "markdown",
      "metadata": {
        "id": "kmeeeQ9QaDqg"
      },
      "source": [
        "7. What team has the most National Championship appearances? (Hint: look at the documentation of the np.hstack() function to help!)"
      ]
    },
    {
      "cell_type": "code",
      "metadata": {
        "colab": {
          "base_uri": "https://localhost:8080/"
        },
        "id": "nbHjL2yTaQOl",
        "outputId": "d7060ba6-a48a-4336-8713-7e6f46fe84fb"
      },
      "source": [
        "?np.hstack()\r\n",
        "pd.Series(np.hstack((df[df.Round == \"National Championship\"][\"Winner\"], df[df.Round == \"National Championship\"][\"Loser\"]))).value_counts().head()"
      ],
      "execution_count": null,
      "outputs": [
        {
          "output_type": "execute_result",
          "data": {
            "text/plain": [
              "Duke           9\n",
              "Kentucky       5\n",
              "Kansas         5\n",
              "Michigan       4\n",
              "Connecticut    4\n",
              "dtype: int64"
            ]
          },
          "metadata": {
            "tags": []
          },
          "execution_count": 12
        }
      ]
    },
    {
      "cell_type": "markdown",
      "metadata": {
        "id": "bw3ewOCcdCTv"
      },
      "source": [
        "8a. What is the percentage of national championship games that are won by less than 5 points?"
      ]
    },
    {
      "cell_type": "code",
      "metadata": {
        "colab": {
          "base_uri": "https://localhost:8080/"
        },
        "id": "2aqdh85WdOfz",
        "outputId": "a9c0da6b-282d-424d-bcd4-183c3f041517"
      },
      "source": [
        "df[df.Round == \"National Championship\"][df[\"Winning Score\"] < df[\"Losing Score\"] + 5].shape[0] / df[df.Round == \"National Championship\"].shape[0]"
      ],
      "execution_count": null,
      "outputs": [
        {
          "output_type": "stream",
          "text": [
            "/usr/local/lib/python3.6/dist-packages/ipykernel_launcher.py:1: UserWarning: Boolean Series key will be reindexed to match DataFrame index.\n",
            "  \"\"\"Entry point for launching an IPython kernel.\n"
          ],
          "name": "stderr"
        },
        {
          "output_type": "execute_result",
          "data": {
            "text/plain": [
              "0.3125"
            ]
          },
          "metadata": {
            "tags": []
          },
          "execution_count": 81
        }
      ]
    },
    {
      "cell_type": "markdown",
      "metadata": {
        "id": "m8DUxm4VTrjS"
      },
      "source": [
        "8b.What about the percentage of national championship games won by exactly one point?"
      ]
    },
    {
      "cell_type": "code",
      "metadata": {
        "colab": {
          "base_uri": "https://localhost:8080/"
        },
        "id": "Qh_wueL4eDaj",
        "outputId": "8cbbadc5-9921-428c-8026-157b904b5aa9"
      },
      "source": [
        "df[df.Round == \"National Championship\"][df[\"Winning Score\"] == df[\"Losing Score\"] + 1].shape[0] / df[df.Round == \"National Championship\"].shape[0]"
      ],
      "execution_count": null,
      "outputs": [
        {
          "output_type": "stream",
          "text": [
            "/usr/local/lib/python3.6/dist-packages/ipykernel_launcher.py:1: UserWarning: Boolean Series key will be reindexed to match DataFrame index.\n",
            "  \"\"\"Entry point for launching an IPython kernel.\n"
          ],
          "name": "stderr"
        },
        {
          "output_type": "execute_result",
          "data": {
            "text/plain": [
              "0.0625"
            ]
          },
          "metadata": {
            "tags": []
          },
          "execution_count": 82
        }
      ]
    },
    {
      "cell_type": "markdown",
      "metadata": {
        "id": "l2C8w4JqeQbo"
      },
      "source": [
        "9. How many national championship games have gone to overtime?"
      ]
    },
    {
      "cell_type": "code",
      "metadata": {
        "colab": {
          "base_uri": "https://localhost:8080/"
        },
        "id": "rChSk2SFePln",
        "outputId": "01245952-6c1e-439c-f56c-4d0c74e6fe32"
      },
      "source": [
        "df[df.Round == \"National Championship\"][df.Overtime.notna()].shape[0] #subset tuple for the number of rows (number of games)"
      ],
      "execution_count": null,
      "outputs": [
        {
          "output_type": "stream",
          "text": [
            "/usr/local/lib/python3.6/dist-packages/ipykernel_launcher.py:1: UserWarning: Boolean Series key will be reindexed to match DataFrame index.\n",
            "  \"\"\"Entry point for launching an IPython kernel.\n"
          ],
          "name": "stderr"
        },
        {
          "output_type": "execute_result",
          "data": {
            "text/plain": [
              "3"
            ]
          },
          "metadata": {
            "tags": []
          },
          "execution_count": 83
        }
      ]
    },
    {
      "cell_type": "markdown",
      "metadata": {
        "id": "duTy9z5XaaXY"
      },
      "source": [
        "BONUS: Come up with a question about the dataset and answer it using Pandas"
      ]
    },
    {
      "cell_type": "code",
      "metadata": {
        "id": "WVpDVtOUagL5"
      },
      "source": [],
      "execution_count": null,
      "outputs": []
    }
  ]
}