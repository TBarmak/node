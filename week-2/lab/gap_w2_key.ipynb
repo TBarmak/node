{
 "cells": [
  {
   "cell_type": "markdown",
   "metadata": {},
   "source": [
    "## Notes on the Data"
   ]
  },
  {
   "cell_type": "markdown",
   "metadata": {},
   "source": [
    "#### Data Documentation:\n",
    "<br>**Description**: Synthetic dataset from Gap Inc., representing a random sample of individual purchases from Q1 FY2020. Each row is a unique item purchased in an order\n",
    "<br><br>\n",
    "\n",
    "| **Feature** | **Description**    | **Sample Value(s)**  |\n",
    "| ------- | -----------    | ------------- |\n",
    "| OrderID | Unique identifier per transaction (7-digit) | DRW7C20   |\n",
    "| CustomerID | Unique identifier per customer (5-digit) | KP441   |\n",
    "| ProductID  | Unique identifier per item (8-digit) | 13-817-239 |\n",
    "| StoreID | Unique identifier per store (4-digit) | #4176 |\n",
    "| OrderType | How purchase was completed  | InStore, HomeDelivery, Online |\n",
    "| Timestamp | Timestamp of transaction (YYYY-MM-DD) | 2020-01-18 10:13:56\t |\n",
    "| Brand | Which reporting segment of Gap Inc. bought from | Banana Republic |\n",
    "| ItemSize | Size of item | XS, S, M, L, X, XL |\n",
    "| ProductName | Name of item associated with item identifier | Pink Polo by Kanye |\n",
    "| Collection | Which part of store | Denim Shop |\n",
    "| Price | Listed price of item | $29.95 |\n",
    "| ClearanceType | Type of clearance | Retail, Clearance, Final Sale |\n",
    "| DiscountType | If Gap Card rewards was used | Reward points, Promotion, GapCash, Other |\n",
    "| StoreName | Store name (i.e. Mall), or facility where online order was shipped from | Fair Oaks Mall |\n",
    "| Location | State of store location | VA |\n",
    "\n",
    "<br>"
   ]
  },
  {
   "cell_type": "markdown",
   "metadata": {},
   "source": [
    "**Some comments about the data**: \n",
    "\n",
    "<br>In the real world, data comes from databases. Each transaction gets recorded as a observation, what item was purchased, at which store, by which customer. We can refer to these items by name, but there can be confusion if there's overlap. (i.e. Two customers with the same name, or two products with the same name)\n",
    "\n",
    "<br>Instead, we can assign **unique identifiers** to each item, store, customer. Even if they have the same name, they'll be distinct in the eyes of the data. Since these are randomly assigned, they can look pretty ugly, but just know that **each ID is associated just one thing**"
   ]
  },
  {
   "cell_type": "markdown",
   "metadata": {},
   "source": [
    "**Why we're using GroupBys**:\n",
    "\n",
    "<br> Sometimes information in observations can be duplicated. Each row is a item that was purchased by some customer, on some day, at some store. That customer could have purchased *multiple items* in that transaction. To show that, we give each observation from the same transaction the *same OrderID*.\n",
    "\n",
    "<br> This means that if we wanted some information at the transaction level, i.e. how many items were purchased per transaction, we could **first groupby each OrderID**, and then get some summary statistic, i.e 'count' to capture how many items are in each order.\n",
    "\n",
    "<br> Now we have data where each row is a different order. To get the average number of items purchased per transaction, we now **average the grouped data**, and come up with a single number that summarizes that series. "
   ]
  },
  {
   "cell_type": "markdown",
   "metadata": {},
   "source": [
    "### Package & Data Imports"
   ]
  },
  {
   "cell_type": "code",
   "execution_count": 4,
   "metadata": {},
   "outputs": [],
   "source": [
    "import pandas as pd\n",
    "import numpy as np"
   ]
  },
  {
   "cell_type": "code",
   "execution_count": 5,
   "metadata": {},
   "outputs": [],
   "source": [
    "df = pd.read_csv('gap.csv', sep='|') # We're using a pipe instead of comma to seperate here"
   ]
  },
  {
   "cell_type": "code",
   "execution_count": 6,
   "metadata": {},
   "outputs": [
    {
     "name": "stdout",
     "output_type": "stream",
     "text": [
      "(4031, 14)\n"
     ]
    },
    {
     "data": {
      "text/html": [
       "<div>\n",
       "<style scoped>\n",
       "    .dataframe tbody tr th:only-of-type {\n",
       "        vertical-align: middle;\n",
       "    }\n",
       "\n",
       "    .dataframe tbody tr th {\n",
       "        vertical-align: top;\n",
       "    }\n",
       "\n",
       "    .dataframe thead th {\n",
       "        text-align: right;\n",
       "    }\n",
       "</style>\n",
       "<table border=\"1\" class=\"dataframe\">\n",
       "  <thead>\n",
       "    <tr style=\"text-align: right;\">\n",
       "      <th></th>\n",
       "      <th>OrderID</th>\n",
       "      <th>CustomerID</th>\n",
       "      <th>ProductID</th>\n",
       "      <th>StoreID</th>\n",
       "      <th>OrderType</th>\n",
       "      <th>Timestamp</th>\n",
       "      <th>Brand</th>\n",
       "      <th>ItemSize</th>\n",
       "      <th>ProductName</th>\n",
       "      <th>Collection</th>\n",
       "      <th>Price</th>\n",
       "      <th>ClearanceType</th>\n",
       "      <th>StoreName</th>\n",
       "      <th>Location</th>\n",
       "    </tr>\n",
       "  </thead>\n",
       "  <tbody>\n",
       "    <tr>\n",
       "      <th>1574</th>\n",
       "      <td>8K5C065</td>\n",
       "      <td>DC242</td>\n",
       "      <td>45-570-528</td>\n",
       "      <td>#8803</td>\n",
       "      <td>InStore</td>\n",
       "      <td>2020-02-27 14:00:58</td>\n",
       "      <td>Gap</td>\n",
       "      <td>XL</td>\n",
       "      <td>That-Hoodie-You'll-Wear-to-Every-Class Sweater</td>\n",
       "      <td>Men's Tops</td>\n",
       "      <td>49.95</td>\n",
       "      <td>FullRetail</td>\n",
       "      <td>Stony Point Fashion Park</td>\n",
       "      <td>VA</td>\n",
       "    </tr>\n",
       "    <tr>\n",
       "      <th>680</th>\n",
       "      <td>SR15680</td>\n",
       "      <td>QE430</td>\n",
       "      <td>77-870-213</td>\n",
       "      <td>#4291</td>\n",
       "      <td>HomeDelivery</td>\n",
       "      <td>2020-01-17 08:35:34</td>\n",
       "      <td>Banana Republic</td>\n",
       "      <td>S</td>\n",
       "      <td>White Camisole with Regina George Cutouts</td>\n",
       "      <td>Women's Tops</td>\n",
       "      <td>53.95</td>\n",
       "      <td>FullRetail</td>\n",
       "      <td>Potomac Mills</td>\n",
       "      <td>VA</td>\n",
       "    </tr>\n",
       "  </tbody>\n",
       "</table>\n",
       "</div>"
      ],
      "text/plain": [
       "      OrderID CustomerID   ProductID StoreID     OrderType  \\\n",
       "1574  8K5C065      DC242  45-570-528   #8803       InStore   \n",
       "680   SR15680      QE430  77-870-213   #4291  HomeDelivery   \n",
       "\n",
       "                Timestamp            Brand ItemSize  \\\n",
       "1574  2020-02-27 14:00:58              Gap       XL   \n",
       "680   2020-01-17 08:35:34  Banana Republic        S   \n",
       "\n",
       "                                         ProductName    Collection  Price  \\\n",
       "1574  That-Hoodie-You'll-Wear-to-Every-Class Sweater    Men's Tops  49.95   \n",
       "680        White Camisole with Regina George Cutouts  Women's Tops  53.95   \n",
       "\n",
       "     ClearanceType                 StoreName Location  \n",
       "1574    FullRetail  Stony Point Fashion Park       VA  \n",
       "680     FullRetail             Potomac Mills       VA  "
      ]
     },
     "execution_count": 6,
     "metadata": {},
     "output_type": "execute_result"
    }
   ],
   "source": [
    "print(df.shape)\n",
    "df.sample(2)"
   ]
  },
  {
   "cell_type": "markdown",
   "metadata": {},
   "source": [
    "## Collection Trends"
   ]
  },
  {
   "cell_type": "markdown",
   "metadata": {},
   "source": [
    "#### Questions (Easy):\n",
    "Let's take a look at some breakdowns by each collection: \n",
    "1. Subset the data frame for purchases in the Kids Tops collection. What were total sales here?\n",
    "2. What about total sales for the Denim Shop collection? For Accessories? \n",
    "3. Use `groupby()` instead to get total sales per every collection... do your answers line up from before?"
   ]
  },
  {
   "cell_type": "code",
   "execution_count": 108,
   "metadata": {},
   "outputs": [
    {
     "data": {
      "text/plain": [
       "13095.460000000001"
      ]
     },
     "execution_count": 108,
     "metadata": {},
     "output_type": "execute_result"
    }
   ],
   "source": [
    "df[df.Collection == 'Kids Tops'].Price.sum() #1"
   ]
  },
  {
   "cell_type": "code",
   "execution_count": 109,
   "metadata": {},
   "outputs": [
    {
     "data": {
      "text/plain": [
       "19796.47"
      ]
     },
     "execution_count": 109,
     "metadata": {},
     "output_type": "execute_result"
    }
   ],
   "source": [
    "df[df.Collection == 'Denim Shop'].Price.sum() #2"
   ]
  },
  {
   "cell_type": "code",
   "execution_count": 110,
   "metadata": {},
   "outputs": [
    {
     "data": {
      "text/plain": [
       "6139.860000000001"
      ]
     },
     "execution_count": 110,
     "metadata": {},
     "output_type": "execute_result"
    }
   ],
   "source": [
    "df[df.Collection == 'Accessories'].Price.sum() #2"
   ]
  },
  {
   "cell_type": "code",
   "execution_count": 8,
   "metadata": {},
   "outputs": [
    {
     "data": {
      "text/plain": [
       "Collection\n",
       "Accessories         6139.86\n",
       "Denim Shop         19796.47\n",
       "Kids Bottoms        4746.85\n",
       "Kids Tops          13095.46\n",
       "Men's Bottoms      28907.40\n",
       "Men's Tops         38469.18\n",
       "Women's Bottoms    36413.43\n",
       "Women's Tops       30972.46\n",
       "Name: Price, dtype: float64"
      ]
     },
     "execution_count": 8,
     "metadata": {},
     "output_type": "execute_result"
    }
   ],
   "source": [
    "df.groupby('Collection').Price.sum() # 3"
   ]
  },
  {
   "cell_type": "markdown",
   "metadata": {},
   "source": [
    "## Product Trends"
   ]
  },
  {
   "cell_type": "markdown",
   "metadata": {},
   "source": [
    "#### Questions (Easy-ish):\n",
    "Let's take a look at some product trends:\n",
    "1. How many unique products are there? What different collections are there?\n",
    "2. Take a look at the top 10 best selling items, and save these items to a list (not pd.Series!)\n",
    "3. Looking only at these transactions, which of these had prices over $100?\n",
    "<br>\n",
    "\n",
    "#### Tips:\n",
    "Functions you'll probably wanna use:\n",
    "- Selecting columns as series\n",
    "- `.value_counts()`, `.unique()`, `.nunique()`\n",
    "- Filtering rows using `.isin()`, `=='string'`, or `> float`\n",
    "- Chaining functions / subsets together"
   ]
  },
  {
   "cell_type": "code",
   "execution_count": 80,
   "metadata": {},
   "outputs": [
    {
     "name": "stdout",
     "output_type": "stream",
     "text": [
      "46\n",
      "['Accessories' 'Kids Tops' \"Men's Bottoms\" 'Denim Shop' \"Men's Tops\"\n",
      " \"Women's Bottoms\" \"Women's Tops\" 'Kids Bottoms']\n"
     ]
    }
   ],
   "source": [
    "print(df.ProductName.nunique()) # 1 \n",
    "print(df.Collection.unique()) # 1 "
   ]
  },
  {
   "cell_type": "code",
   "execution_count": 24,
   "metadata": {},
   "outputs": [
    {
     "data": {
      "text/plain": [
       "Tan Slacks for Serious Press Conference                  173\n",
       "Acid-Washed Low-Rise Jeans with LSD-tab-sized pockets    172\n",
       "Tan Suit Jacket for Casual Press Conference              150\n",
       "Let's-Wear-White-After-Labor-Day 3/4 Sleeve Blazer       133\n",
       "Sun.png Summer Collection Sundress                       126\n",
       "Checkered Cloth Mask with Drinking Straw Hole            123\n",
       "Wireframe Glasses, Without plastic lenses                122\n",
       "Mullet-Cut Midi Fur Skirt                                121\n",
       "Vintage Surfboard Graphic Tee, Cotton                    121\n",
       "Dishwasher-Safe Jean Shorts                              118\n",
       "Name: ProductName, dtype: int64"
      ]
     },
     "execution_count": 24,
     "metadata": {},
     "output_type": "execute_result"
    }
   ],
   "source": [
    "top_items = df.ProductName.value_counts().head(10)\n",
    "top_items #2\n",
    "\n",
    "# Quick comment here: top_items is a pd.Series, which means the actual values are 173, 172 etc.\n",
    "# The index, on the other hand, is the actual ProductName\n",
    "# We can extract this to a list by doing <pd.Series>.index.values.tolist()"
   ]
  },
  {
   "cell_type": "code",
   "execution_count": 22,
   "metadata": {},
   "outputs": [
    {
     "data": {
      "text/plain": [
       "array(['Acid-Washed Low-Rise Jeans with LSD-tab-sized pockets',\n",
       "       'Tan Slacks for Serious Press Conference',\n",
       "       \"Let's-Wear-White-After-Labor-Day 3/4 Sleeve Blazer\"], dtype=object)"
      ]
     },
     "execution_count": 22,
     "metadata": {},
     "output_type": "execute_result"
    }
   ],
   "source": [
    "df[df.ProductName.isin(top_items.index.values.tolist())].loc[df.Price > 100].ProductName.unique() #3"
   ]
  },
  {
   "cell_type": "markdown",
   "metadata": {},
   "source": [
    "## Segment Trends"
   ]
  },
  {
   "cell_type": "markdown",
   "metadata": {},
   "source": [
    "#### Questions (Easy - Medium):\n",
    "Let's take a look at some breakdowns by business segment, or brand:\n",
    "1. What were total sales by brand (in $)? Which had the most sales?\n",
    "2. What about number of *unique* orders per brand? Does the brand with the most orders have the most sales?\n",
    "3. How many orders of each type (OrderType) were completed, by brand? <br>Looking at the data, does Banana or Gap do more StorePickup orders?\n",
    "<br>\n",
    "\n",
    "#### Tips:\n",
    "- First GroupBy, then Aggregate! `.groupby(by=)`, `.agg(func=)`\n",
    "    - Google possible aggregation arguments, like sum, average, or number of unique items\n",
    "- For question 3, use **multi-level groupbys**, i.e. pass a `list` of columns on which to groupby, instead of just one string.  \n",
    "- If you want to see number of unique orders, use the OrderID to capture information about the unique transaction, otherwise the metric will get duplicated for every item in that transaction."
   ]
  },
  {
   "cell_type": "code",
   "execution_count": 84,
   "metadata": {},
   "outputs": [
    {
     "data": {
      "text/plain": [
       "Brand\n",
       "Banana Republic    120011.82\n",
       "Gap                 58529.29\n",
       "Name: Price, dtype: float64"
      ]
     },
     "execution_count": 84,
     "metadata": {},
     "output_type": "execute_result"
    }
   ],
   "source": [
    "df.groupby('Brand').Price.agg('sum')"
   ]
  },
  {
   "cell_type": "code",
   "execution_count": 85,
   "metadata": {},
   "outputs": [
    {
     "data": {
      "text/plain": [
       "Brand\n",
       "Banana Republic    1349\n",
       "Gap                 823\n",
       "Name: OrderID, dtype: int64"
      ]
     },
     "execution_count": 85,
     "metadata": {},
     "output_type": "execute_result"
    }
   ],
   "source": [
    "df.groupby('Brand').OrderID.agg('nunique')"
   ]
  },
  {
   "cell_type": "code",
   "execution_count": 86,
   "metadata": {},
   "outputs": [
    {
     "data": {
      "text/plain": [
       "Brand\n",
       "Banana Republic    182\n",
       "Gap                248\n",
       "Name: OrderID, dtype: int64"
      ]
     },
     "execution_count": 86,
     "metadata": {},
     "output_type": "execute_result"
    }
   ],
   "source": [
    "df.groupby(['OrderType','Brand']).OrderID.agg('count')['StorePickup']"
   ]
  },
  {
   "cell_type": "markdown",
   "metadata": {},
   "source": [
    "## Customer Trends"
   ]
  },
  {
   "cell_type": "markdown",
   "metadata": {},
   "source": [
    "#### Questions (Hard):\n",
    "Let's look at the customers. A couple of questions that management wants us to answer:\n",
    "1. (At Gap only) How many different stores did each customer shop at? \n",
    "2. On average, how much does each customer spend per transaction? \n",
    "3. Does this value differ when broken down by brand?\n",
    "<br>\n",
    "\n",
    "#### Tips:\n",
    "- Think about count vs. nunique vs. value_counts: There's a bunch of ways to do this, but you wanna make sure to count at the order level (and not double count multiple items in the same order) \n",
    "- For question 2 & 3, use **multi-level groupbys**, i.e. pass a `list` of columns on which to groupby, instead of just one string. "
   ]
  },
  {
   "cell_type": "code",
   "execution_count": 132,
   "metadata": {},
   "outputs": [
    {
     "data": {
      "text/plain": [
       "1    322\n",
       "2    162\n",
       "3     43\n",
       "4      3\n",
       "5      1\n",
       "Name: StoreID, dtype: int64"
      ]
     },
     "execution_count": 132,
     "metadata": {},
     "output_type": "execute_result"
    }
   ],
   "source": [
    "df[df.Brand == 'Gap'].groupby('CustomerID').agg('nunique').StoreID.value_counts(sort=False)"
   ]
  },
  {
   "cell_type": "code",
   "execution_count": 137,
   "metadata": {},
   "outputs": [
    {
     "data": {
      "text/plain": [
       "82.20124769797421"
      ]
     },
     "execution_count": 137,
     "metadata": {},
     "output_type": "execute_result"
    }
   ],
   "source": [
    "# 2\n",
    "df.groupby(['CustomerID', 'OrderID']).Price.agg('sum').mean()"
   ]
  },
  {
   "cell_type": "code",
   "execution_count": 138,
   "metadata": {},
   "outputs": [
    {
     "data": {
      "text/plain": [
       "Brand\n",
       "Banana Republic    $88.96\n",
       "Gap                $71.12\n",
       "Name: Price, dtype: object"
      ]
     },
     "execution_count": 138,
     "metadata": {},
     "output_type": "execute_result"
    }
   ],
   "source": [
    "# 3 \n",
    "df_byCustomerOrder = df.groupby(['Brand','CustomerID', 'OrderID']).Price.agg('sum').reset_index()\n",
    "df_byCustomerOrder.groupby('Brand').Price.agg('mean').map('${:,.2f}'.format)"
   ]
  },
  {
   "cell_type": "markdown",
   "metadata": {},
   "source": [
    "## Store Trends"
   ]
  },
  {
   "cell_type": "markdown",
   "metadata": {},
   "source": [
    "#### Questions (Medium):\n",
    "Almost done! Think at the store level:\n",
    "1. Which stores have the lowest sales (in $)? How many orders does that store have?\n",
    "2. What is the maximum number of HomeDelivery orders that any one store got?\n",
    "<br>\n",
    "\n",
    "#### Tips:\n",
    "- `value_counts()`, `unique()`\n",
    "- `groupby(by=)`, `agg(func=)`\n",
    "- Subsetting dataframes by conditions\n",
    "- Selecting columns as series"
   ]
  },
  {
   "cell_type": "code",
   "execution_count": 158,
   "metadata": {},
   "outputs": [
    {
     "data": {
      "text/plain": [
       "StoreID\n",
       "#1812    4325.72\n",
       "Name: Price, dtype: float64"
      ]
     },
     "execution_count": 158,
     "metadata": {},
     "output_type": "execute_result"
    }
   ],
   "source": [
    "# 1\n",
    "df.groupby('StoreID').Price.sum().sort_values(ascending=False).tail(1)"
   ]
  },
  {
   "cell_type": "code",
   "execution_count": 29,
   "metadata": {},
   "outputs": [
    {
     "data": {
      "text/plain": [
       "StoreID\n",
       "#1812    68\n",
       "Name: OrderID, dtype: int64"
      ]
     },
     "execution_count": 29,
     "metadata": {},
     "output_type": "execute_result"
    }
   ],
   "source": [
    "# 1 \n",
    "bad_stores = df.groupby('StoreID').Price.sum().sort_values(ascending=False).tail(1).index\n",
    "df.groupby('StoreID').OrderID.agg('nunique')[bad_stores]"
   ]
  },
  {
   "cell_type": "code",
   "execution_count": 180,
   "metadata": {},
   "outputs": [
    {
     "data": {
      "text/plain": [
       "49"
      ]
     },
     "execution_count": 180,
     "metadata": {},
     "output_type": "execute_result"
    }
   ],
   "source": [
    "# 2\n",
    "df.groupby(['OrderType','StoreID']).agg('nunique').OrderID.loc['HomeDelivery'].max()"
   ]
  }
 ],
 "metadata": {
  "kernelspec": {
   "display_name": "Python 3",
   "language": "python",
   "name": "python3"
  },
  "language_info": {
   "codemirror_mode": {
    "name": "ipython",
    "version": 3
   },
   "file_extension": ".py",
   "mimetype": "text/x-python",
   "name": "python",
   "nbconvert_exporter": "python",
   "pygments_lexer": "ipython3",
   "version": "3.6.4"
  }
 },
 "nbformat": 4,
 "nbformat_minor": 4
}
