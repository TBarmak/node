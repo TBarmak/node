{
  "nbformat": 4,
  "nbformat_minor": 0,
  "metadata": {
    "colab": {
      "name": "Copy of Week 2 Lab-March Madness.ipynb",
      "provenance": [],
      "collapsed_sections": []
    },
    "kernelspec": {
      "name": "python3",
      "display_name": "Python 3"
    }
  },
  "cells": [
    {
      "cell_type": "markdown",
      "metadata": {
        "id": "gtu40o1p7i-z"
      },
      "source": [
        "## **This dataset shows the results of the March Madness Tournament (...of which we are still the reigning champs-no biggy...) from 1985 through 2016.**\n"
      ]
    },
    {
      "cell_type": "markdown",
      "metadata": {
        "id": "k3QTywz-7eJB"
      },
      "source": [
        "Begin by importing the necessary packages, pandas (data frame applications) and numpy (numerical applications)"
      ]
    },
    {
      "cell_type": "code",
      "metadata": {
        "id": "kmaPSHMR3RGn"
      },
      "source": [
        ""
      ],
      "execution_count": null,
      "outputs": []
    },
    {
      "cell_type": "markdown",
      "metadata": {
        "id": "spbXTrjv7Ul-"
      },
      "source": [
        "Now, let's read in our data to get a sense of its shape and contents."
      ]
    },
    {
      "cell_type": "code",
      "metadata": {
        "id": "b6iY6SUY4d1W"
      },
      "source": [
        ""
      ],
      "execution_count": null,
      "outputs": []
    },
    {
      "cell_type": "markdown",
      "metadata": {
        "id": "IjFrPuyO8vGp"
      },
      "source": [
        "Find the shape of the data frame below, returned as a tuple with form: (rows, columns)"
      ]
    },
    {
      "cell_type": "code",
      "metadata": {
        "id": "g8lDnGWB6zDQ"
      },
      "source": [
        ""
      ],
      "execution_count": null,
      "outputs": []
    },
    {
      "cell_type": "markdown",
      "metadata": {
        "id": "f9PZNokC9MY5"
      },
      "source": [
        "Below, output only the first 10 rows of the data frame:"
      ]
    },
    {
      "cell_type": "code",
      "metadata": {
        "id": "cbIIx5_B6ssa"
      },
      "source": [
        ""
      ],
      "execution_count": null,
      "outputs": []
    },
    {
      "cell_type": "markdown",
      "metadata": {
        "id": "Uz1vomUuLuKt"
      },
      "source": [
        "Note: Each row is one game, and each column displays a different attribute of the game."
      ]
    },
    {
      "cell_type": "markdown",
      "metadata": {
        "id": "gxILKejx9Jzz"
      },
      "source": [
        "## **REGIONAL TRENDS**"
      ]
    },
    {
      "cell_type": "markdown",
      "metadata": {
        "id": "yiCMLlSu9Ub3"
      },
      "source": [
        "Do the average winning and losing scores vary by coast? What trends can we find? \n",
        "1. Find the average winning score for the East region\n",
        "2. Find the average winning score for the West region\n",
        "3. Find the average losing score for the East region\n",
        "4. Find the average losing score for the West region"
      ]
    },
    {
      "cell_type": "code",
      "metadata": {
        "id": "CmN6rB489YM6"
      },
      "source": [
        "#use \"df.columns\" to help understand what the column names are before subsetting and selecting columns for analysis! \r\n"
      ],
      "execution_count": null,
      "outputs": []
    },
    {
      "cell_type": "code",
      "metadata": {
        "id": "PT89ioCBCNHb"
      },
      "source": [
        "# average winning score for the east region\n"
      ],
      "execution_count": null,
      "outputs": []
    },
    {
      "cell_type": "code",
      "metadata": {
        "id": "Q5ar4L9a8aor"
      },
      "source": [
        "# average winning score for the west region\r\n"
      ],
      "execution_count": null,
      "outputs": []
    },
    {
      "cell_type": "markdown",
      "metadata": {
        "id": "tRABGNlbCnJE"
      },
      "source": [
        "Which coast can you conclude has the higher average Winning Score?"
      ]
    },
    {
      "cell_type": "code",
      "metadata": {
        "id": "aOwZrpSJC37P"
      },
      "source": [
        "# average losing score for the east region\r\n"
      ],
      "execution_count": null,
      "outputs": []
    },
    {
      "cell_type": "code",
      "metadata": {
        "id": "z7Y_9Eu7C-1p"
      },
      "source": [
        "# average losing score for the west region\r\n"
      ],
      "execution_count": null,
      "outputs": []
    },
    {
      "cell_type": "markdown",
      "metadata": {
        "id": "dj-A3TxqDBfK"
      },
      "source": [
        "Which coast can you conclude has the lower average Losing Score?  What do these trends tell you about the overall performance of the two coasts compared to one another?"
      ]
    },
    {
      "cell_type": "code",
      "metadata": {
        "id": "yjokiUBfDvkZ"
      },
      "source": [
        "#Below, display the sums of the winning scores, grouped by each REGION in DESCENDING order.\n"
      ],
      "execution_count": null,
      "outputs": []
    },
    {
      "cell_type": "markdown",
      "metadata": {
        "id": "YFw1vLfjFz8z"
      },
      "source": [
        "Which region has the highest summed Winning Score?"
      ]
    },
    {
      "cell_type": "markdown",
      "metadata": {
        "id": "gLtDn5RaD-8q"
      },
      "source": [
        "## **TEAM AND SEED TRENDS**"
      ]
    },
    {
      "cell_type": "code",
      "metadata": {
        "id": "dXppfTWsFR9K"
      },
      "source": [
        "#How many different Winning teams are there in the dataset?\n"
      ],
      "execution_count": null,
      "outputs": []
    },
    {
      "cell_type": "markdown",
      "metadata": {
        "id": "5ziMlW6ecNSu"
      },
      "source": [
        "1. What is the most points scored by a single winning team?"
      ]
    },
    {
      "cell_type": "code",
      "metadata": {
        "id": "KGtdKQLXJ0o0"
      },
      "source": [
        "#Which Winning team shows in the dataset most frequently?\n"
      ],
      "execution_count": null,
      "outputs": []
    },
    {
      "cell_type": "code",
      "metadata": {
        "id": "MLRA_O1kcaAU"
      },
      "source": [
        ""
      ],
      "execution_count": null,
      "outputs": []
    },
    {
      "cell_type": "markdown",
      "metadata": {
        "id": "Vf4vL_xJb86l"
      },
      "source": [
        "2. What team has the most National Championship wins?"
      ]
    },
    {
      "cell_type": "code",
      "metadata": {
        "id": "ZWrmkX_UaULr"
      },
      "source": [
        ""
      ],
      "execution_count": null,
      "outputs": []
    },
    {
      "cell_type": "markdown",
      "metadata": {
        "id": "a5HYy3OsTcBq"
      },
      "source": [
        "3. What is the lowest (highest number) seed to win the national championship?"
      ]
    },
    {
      "cell_type": "code",
      "metadata": {
        "id": "mmG2M81PTjdq"
      },
      "source": [
        "# Lowest seed to win the national championship\r\n"
      ],
      "execution_count": null,
      "outputs": []
    },
    {
      "cell_type": "markdown",
      "metadata": {
        "id": "XzuIS2H8G8lZ"
      },
      "source": [
        "Building on the above question, list out the lowest seeds in DESCENDING ORDER for all of the winners for ALL rounds in the data frame (Hint: use .group_by())"
      ]
    },
    {
      "cell_type": "code",
      "metadata": {
        "id": "MOuljc_QK_v5"
      },
      "source": [
        "# List the lowest seeds for all winners (of all rounds), in descending order:\n"
      ],
      "execution_count": null,
      "outputs": []
    },
    {
      "cell_type": "markdown",
      "metadata": {
        "id": "fhB6ZyhWUEPR"
      },
      "source": [
        "4. What is the lowest seed to COMPETE in the national championship? (Hint: this implies of all Winning Seeds AND Losing Seeds)."
      ]
    },
    {
      "cell_type": "code",
      "metadata": {
        "id": "bbJlMlYuUID2"
      },
      "source": [
        ""
      ],
      "execution_count": null,
      "outputs": []
    },
    {
      "cell_type": "markdown",
      "metadata": {
        "id": "aEklxNySU1LC"
      },
      "source": [
        "5. What is the average seed of a championship competitor?"
      ]
    },
    {
      "cell_type": "code",
      "metadata": {
        "id": "b0cOumvTU2hZ"
      },
      "source": [
        "# One way of doing it (summing seeds for winners and losers, then dividing by total number of seeds)\r\n"
      ],
      "execution_count": null,
      "outputs": []
    },
    {
      "cell_type": "code",
      "metadata": {
        "id": "kXPmfe8NVFPx"
      },
      "source": [
        "# Another way of doing it (summing the two individual means, then division by 2)\r\n"
      ],
      "execution_count": null,
      "outputs": []
    },
    {
      "cell_type": "markdown",
      "metadata": {
        "id": "O1aSwmLkV4Bx"
      },
      "source": [
        "6a. What is the percentage of games that are upsets? (Keep in mind that an upset occurs when the winning seed is larger than the losing seed.)"
      ]
    },
    {
      "cell_type": "code",
      "metadata": {
        "id": "qcTYc0u9V_XQ"
      },
      "source": [
        ""
      ],
      "execution_count": null,
      "outputs": []
    },
    {
      "cell_type": "code",
      "metadata": {
        "id": "Q66UMDg4WaT1"
      },
      "source": [
        ""
      ],
      "execution_count": null,
      "outputs": []
    },
    {
      "cell_type": "markdown",
      "metadata": {
        "id": "fJv0v31ae7SB"
      },
      "source": [
        "6b. Are games that go to OVERTIME more likely to be upsets (than any given game)?"
      ]
    },
    {
      "cell_type": "code",
      "metadata": {
        "id": "oIvjx5BEe-rL"
      },
      "source": [
        ""
      ],
      "execution_count": null,
      "outputs": []
    },
    {
      "cell_type": "code",
      "metadata": {
        "id": "UJZ2NrCIfVbh"
      },
      "source": [
        ""
      ],
      "execution_count": null,
      "outputs": []
    },
    {
      "cell_type": "markdown",
      "metadata": {
        "id": "kmeeeQ9QaDqg"
      },
      "source": [
        "7. What team has the most National Championship appearances? (Hint: look at the documentation of the np.hstack() function to help!)"
      ]
    },
    {
      "cell_type": "code",
      "metadata": {
        "id": "nbHjL2yTaQOl"
      },
      "source": [
        "\r\n"
      ],
      "execution_count": null,
      "outputs": []
    },
    {
      "cell_type": "markdown",
      "metadata": {
        "id": "bw3ewOCcdCTv"
      },
      "source": [
        "8a. What is the percentage of national championship games that are won by less than 5 points?"
      ]
    },
    {
      "cell_type": "code",
      "metadata": {
        "id": "2aqdh85WdOfz"
      },
      "source": [
        ""
      ],
      "execution_count": null,
      "outputs": []
    },
    {
      "cell_type": "markdown",
      "metadata": {
        "id": "m8DUxm4VTrjS"
      },
      "source": [
        "8b.What about the percentage of national championship games won by exactly one point?"
      ]
    },
    {
      "cell_type": "code",
      "metadata": {
        "id": "Qh_wueL4eDaj"
      },
      "source": [
        ""
      ],
      "execution_count": null,
      "outputs": []
    },
    {
      "cell_type": "markdown",
      "metadata": {
        "id": "l2C8w4JqeQbo"
      },
      "source": [
        "9. How many national championship games have gone to overtime?"
      ]
    },
    {
      "cell_type": "code",
      "metadata": {
        "id": "rChSk2SFePln"
      },
      "source": [
        ""
      ],
      "execution_count": null,
      "outputs": []
    },
    {
      "cell_type": "markdown",
      "metadata": {
        "id": "duTy9z5XaaXY"
      },
      "source": [
        "BONUS: Come up with a question about the dataset and answer it using Pandas"
      ]
    },
    {
      "cell_type": "code",
      "metadata": {
        "id": "WVpDVtOUagL5"
      },
      "source": [
        ""
      ],
      "execution_count": null,
      "outputs": []
    }
  ]
}