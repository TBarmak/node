{
 "cells": [
  {
   "cell_type": "markdown",
   "source": [
    "# <div align = \"center\"> Data Analysis and Visualization of Astronauts from 1959 to 2013 <div>\n",
    "\n",
    "In this notebook, we will be analyzing a dataset from NASA that contains information of astronauts from 1959 to 2013. What we're trying to figure out is if there are any commonalities between astronauts in NASA and to visualize these commonalities or trends, along with answering a couple questions:\n",
    "\n",
    "### Is there an “ideal” astronaut? \n",
    "- In this case, \"ideal\" means the best candidate that can be selected as an astronaut\n",
    "\n",
    "### Can the “best path” to being an astronaut be mapped out?\n",
    "- \"Best path\" is defined as the best actions to take or activities to participate in (majors, military service, etc.) prior to being selected as an astronaut. "
   ],
   "metadata": {}
  },
  {
   "cell_type": "markdown",
   "source": [
    "## Environment Set-Up\n",
    "Setting up pandas/numpy/plotly.express and the dataset we will be using"
   ],
   "metadata": {}
  },
  {
   "cell_type": "code",
   "execution_count": 1,
   "source": [
    "import pandas as pd\n",
    "import numpy as np\n",
    "import plotly.express as px"
   ],
   "outputs": [],
   "metadata": {}
  },
  {
   "cell_type": "code",
   "execution_count": null,
   "source": [
    "#Astronaut Dataset\n",
    "pd.read_csv(\"\")"
   ],
   "outputs": [],
   "metadata": {}
  }
 ],
 "metadata": {
  "orig_nbformat": 4,
  "language_info": {
   "name": "python",
   "version": "3.8.10",
   "mimetype": "text/x-python",
   "codemirror_mode": {
    "name": "ipython",
    "version": 3
   },
   "pygments_lexer": "ipython3",
   "nbconvert_exporter": "python",
   "file_extension": ".py"
  },
  "kernelspec": {
   "name": "python3",
   "display_name": "Python 3.8.10 64-bit ('base': conda)"
  },
  "interpreter": {
   "hash": "d0fa7c806679d6ffc40184b24ef308d82c68a18a4590df1b063471f044803a03"
  }
 },
 "nbformat": 4,
 "nbformat_minor": 2
}