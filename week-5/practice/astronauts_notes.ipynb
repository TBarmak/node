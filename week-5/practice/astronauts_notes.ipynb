{
 "cells": [
  {
   "cell_type": "markdown",
   "source": [
    "# <div align = \"center\"> Data Analysis and Visualization of Astronauts from 1959 to 2013 <div>\n",
    "\n",
    "In this notebook, we will be analyzing a dataset from NASA that contains information of astronauts from 1959 to 2013. What we're trying to figure out is if there are any commonalities between astronauts in NASA and to visualize these commonalities or trends, along with answering a couple questions:\n",
    "\n",
    "### Is there an “ideal” astronaut? \n",
    "- In this case, \"ideal\" means the best candidate that can be selected as an astronaut\n",
    "\n",
    "### Can the “best path” to being an astronaut be mapped out?\n",
    "- \"Best path\" is defined as the best actions to take or activities to participate in (majors, military service, etc.) prior to being selected as an astronaut. "
   ],
   "metadata": {}
  },
  {
   "cell_type": "markdown",
   "source": [],
   "metadata": {}
  }
 ],
 "metadata": {
  "orig_nbformat": 4,
  "language_info": {
   "name": "python"
  }
 },
 "nbformat": 4,
 "nbformat_minor": 2
}