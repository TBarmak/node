{
  "nbformat": 4,
  "nbformat_minor": 0,
  "metadata": {
    "colab": {
      "name": "pca-notes.ipynb",
      "provenance": []
    },
    "kernelspec": {
      "name": "python3",
      "display_name": "Python 3"
    },
    "language_info": {
      "name": "python"
    }
  },
  "cells": [
    {
      "cell_type": "markdown",
      "metadata": {
        "id": "GixiUQpTOkKD"
      },
      "source": [
        "Import pandas, PCA and Standard Scaler\n",
        "\n",
        "> PCA can give you wonky results if the variance in the original dataset is large, so we want to standardize the data. StandardScaler allows you to standardize the dataset so the mean is 0 and the variance is 1. This process is common in ML models\n"
      ]
    },
    {
      "cell_type": "code",
      "metadata": {
        "id": "VcfF09ldNh_t"
      },
      "source": [
        ""
      ],
      "execution_count": null,
      "outputs": []
    },
    {
      "cell_type": "markdown",
      "metadata": {
        "id": "OhDjZxDKPQxU"
      },
      "source": [
        "Load iris and take a look at the dataset"
      ]
    },
    {
      "cell_type": "code",
      "metadata": {
        "id": "zj9b_mzgPS9-"
      },
      "source": [
        "url = \"https://archive.ics.uci.edu/ml/machine-learning-databases/iris/iris.data\"\n"
      ],
      "execution_count": 1,
      "outputs": []
    },
    {
      "cell_type": "markdown",
      "metadata": {
        "id": "Q0EpGiH0PsaF"
      },
      "source": [
        "Split the dataset into X and y"
      ]
    },
    {
      "cell_type": "code",
      "metadata": {
        "id": "Ct_UmVTcPVFE"
      },
      "source": [
        ""
      ],
      "execution_count": 1,
      "outputs": []
    },
    {
      "cell_type": "markdown",
      "metadata": {
        "id": "n29fdZ3DVdvK"
      },
      "source": [
        "Apply the standardization to the X values"
      ]
    },
    {
      "cell_type": "code",
      "metadata": {
        "id": "7ZcVkduUQesH"
      },
      "source": [
        ""
      ],
      "execution_count": 1,
      "outputs": []
    },
    {
      "cell_type": "markdown",
      "metadata": {
        "id": "5EVelpduSDIs"
      },
      "source": [
        "Run the principal component analysis model on X"
      ]
    },
    {
      "cell_type": "code",
      "metadata": {
        "id": "DKQHdfQFRaqx"
      },
      "source": [
        ""
      ],
      "execution_count": 1,
      "outputs": []
    },
    {
      "cell_type": "markdown",
      "metadata": {
        "id": "JU51YrT_SGgi"
      },
      "source": [
        "Combine the principalDf with y to get a dataframe with both the components and y"
      ]
    },
    {
      "cell_type": "code",
      "metadata": {
        "id": "BlKTx7RpRzwa"
      },
      "source": [
        ""
      ],
      "execution_count": 1,
      "outputs": []
    },
    {
      "cell_type": "markdown",
      "metadata": {
        "id": "TIBrj_LlSNie"
      },
      "source": [
        "Plot the principal components vs each other (don't need to code this yourselves)"
      ]
    },
    {
      "cell_type": "code",
      "metadata": {
        "id": "Vb021oelSLU0"
      },
      "source": [
        "fig = plt.figure(figsize = (8,8))\n",
        "ax = fig.add_subplot(1,1,1) \n",
        "ax.set_xlabel('Principal Component 1', fontsize = 15)\n",
        "ax.set_ylabel('Principal Component 2', fontsize = 15)\n",
        "ax.set_title('2 component PCA', fontsize = 20)\n",
        "targets = ['Iris-setosa', 'Iris-versicolor', 'Iris-virginica']\n",
        "colors = ['r', 'g', 'b']\n",
        "for target, color in zip(targets,colors):\n",
        "    indicesToKeep = finalDf['target'] == target\n",
        "    ax.scatter(finalDf.loc[indicesToKeep, 'principal component 1']\n",
        "               , finalDf.loc[indicesToKeep, 'principal component 2']\n",
        "               , c = color\n",
        "               , s = 50)\n",
        "ax.legend(targets)\n",
        "ax.grid()"
      ],
      "execution_count": 1,
      "outputs": []
    },
    {
      "cell_type": "markdown",
      "metadata": {
        "id": "UgYRbRJjSZzf"
      },
      "source": [
        "Take a look at the variance ratios for the two principal components"
      ]
    },
    {
      "cell_type": "code",
      "metadata": {
        "id": "lsi95bePSQ2z"
      },
      "source": [
        ""
      ],
      "execution_count": 1,
      "outputs": []
    }
  ]
}