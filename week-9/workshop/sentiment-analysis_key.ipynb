{
  "nbformat": 4,
  "nbformat_minor": 0,
  "metadata": {
    "colab": {
      "name": "Week9Key.ipynb",
      "provenance": []
    },
    "kernelspec": {
      "name": "python3",
      "display_name": "Python 3"
    }
  },
  "cells": [
    {
      "cell_type": "markdown",
      "metadata": {
        "id": "wEbEDkO4upT-"
      },
      "source": [
        "## COVID-19 Twitter Sentiment Analysis\n",
        "\n",
        "### 4 Additional Packages\n",
        "* Spacy\n",
        "    * A package used to perform Natural Language Proccessing on our text. \n",
        "    * It is a new package and quite popular. \n",
        "    * Very Powerful, but can be slow\n",
        "    * Can create custom model or use prebuilt ones\n",
        "* Textblob\n",
        "    * Very simple but easy sentiment analysis\n",
        "    * Polarity- -1(negative) to 1 (positive)\n",
        "    * Subjectivity -1 (subjective) to 1 (factual)\n",
        "* Wordcloud\n",
        "    * Makes wordcloud from text file\n",
        "    * Limited in how it is structured, can be difficult to get data in a text file\n",
        "* Datetime\n",
        "    * allows access to datetime object which makes our lives easier\n",
        "\n",
        "\n",
        "\n",
        "Credit to Christian Jung "
      ]
    },
    {
      "cell_type": "code",
      "metadata": {
        "id": "5YpmxL8cvTV9"
      },
      "source": [
        "import pandas as pd\n",
        "import numpy as np\n",
        "import datetime"
      ],
      "execution_count": null,
      "outputs": []
    },
    {
      "cell_type": "code",
      "metadata": {
        "id": "rKkOWxXKvp0F",
        "outputId": "b711c620-a205-470b-fa84-eb9d1188dcdc",
        "colab": {
          "base_uri": "https://localhost:8080/"
        }
      },
      "source": [
        "df = pd.read_csv(\"covid19_tweets_short.csv\", engine='python')\n",
        "df.shape"
      ],
      "execution_count": null,
      "outputs": [
        {
          "output_type": "execute_result",
          "data": {
            "text/plain": [
              "(5000, 14)"
            ]
          },
          "metadata": {
            "tags": []
          },
          "execution_count": 2
        }
      ]
    },
    {
      "cell_type": "code",
      "metadata": {
        "id": "BP2qkAQIwhaw",
        "outputId": "45deea6b-9cd8-46f8-ab88-214138ca3f9f",
        "colab": {
          "base_uri": "https://localhost:8080/",
          "height": 513
        }
      },
      "source": [
        "df.head()\n"
      ],
      "execution_count": null,
      "outputs": [
        {
          "output_type": "execute_result",
          "data": {
            "text/html": [
              "<div>\n",
              "<style scoped>\n",
              "    .dataframe tbody tr th:only-of-type {\n",
              "        vertical-align: middle;\n",
              "    }\n",
              "\n",
              "    .dataframe tbody tr th {\n",
              "        vertical-align: top;\n",
              "    }\n",
              "\n",
              "    .dataframe thead th {\n",
              "        text-align: right;\n",
              "    }\n",
              "</style>\n",
              "<table border=\"1\" class=\"dataframe\">\n",
              "  <thead>\n",
              "    <tr style=\"text-align: right;\">\n",
              "      <th></th>\n",
              "      <th>Unnamed: 0</th>\n",
              "      <th>user_name</th>\n",
              "      <th>user_location</th>\n",
              "      <th>user_description</th>\n",
              "      <th>user_created</th>\n",
              "      <th>user_followers</th>\n",
              "      <th>user_friends</th>\n",
              "      <th>user_favourites</th>\n",
              "      <th>user_verified</th>\n",
              "      <th>date</th>\n",
              "      <th>text</th>\n",
              "      <th>hashtags</th>\n",
              "      <th>source</th>\n",
              "      <th>is_retweet</th>\n",
              "    </tr>\n",
              "  </thead>\n",
              "  <tbody>\n",
              "    <tr>\n",
              "      <th>0</th>\n",
              "      <td>140735</td>\n",
              "      <td>Romesh Vaitilingam</td>\n",
              "      <td>Bristol, UK</td>\n",
              "      <td>Economics writer on new findings, policy analy...</td>\n",
              "      <td>2013-03-03 20:14:41</td>\n",
              "      <td>9324</td>\n",
              "      <td>768</td>\n",
              "      <td>1086</td>\n",
              "      <td>False</td>\n",
              "      <td>2020-08-17 08:04:00</td>\n",
              "      <td>#Brexit has happened – but the nature of the U...</td>\n",
              "      <td>['Brexit']</td>\n",
              "      <td>TweetDeck</td>\n",
              "      <td>False</td>\n",
              "    </tr>\n",
              "    <tr>\n",
              "      <th>1</th>\n",
              "      <td>83945</td>\n",
              "      <td>Igor Akhmetov</td>\n",
              "      <td>Russia, Moscow</td>\n",
              "      <td>NaN</td>\n",
              "      <td>2010-04-26 12:19:46</td>\n",
              "      <td>96</td>\n",
              "      <td>333</td>\n",
              "      <td>15</td>\n",
              "      <td>False</td>\n",
              "      <td>2020-08-08 14:02:37</td>\n",
              "      <td>#Covid19 has displaced workforce's around the ...</td>\n",
              "      <td>['Covid19', 'GlobalThinking']</td>\n",
              "      <td>EveryoneSocial</td>\n",
              "      <td>False</td>\n",
              "    </tr>\n",
              "    <tr>\n",
              "      <th>2</th>\n",
              "      <td>47341</td>\n",
              "      <td>Paddy Docherty</td>\n",
              "      <td>London</td>\n",
              "      <td>Historian of empire &amp; anticolonial resistance ...</td>\n",
              "      <td>2009-09-22 18:02:00</td>\n",
              "      <td>7892</td>\n",
              "      <td>781</td>\n",
              "      <td>163510</td>\n",
              "      <td>False</td>\n",
              "      <td>2020-07-31 18:27:39</td>\n",
              "      <td>.@eyejosh UK, this ⬇️ goes for us and our murd...</td>\n",
              "      <td>['COVID19', 'ToryGenocide']</td>\n",
              "      <td>Twitter for iPhone</td>\n",
              "      <td>False</td>\n",
              "    </tr>\n",
              "    <tr>\n",
              "      <th>3</th>\n",
              "      <td>79842</td>\n",
              "      <td>TRACY TARTER</td>\n",
              "      <td>NaN</td>\n",
              "      <td>NaN</td>\n",
              "      <td>2014-06-27 02:25:22</td>\n",
              "      <td>78</td>\n",
              "      <td>484</td>\n",
              "      <td>4898</td>\n",
              "      <td>False</td>\n",
              "      <td>2020-08-06 15:15:02</td>\n",
              "      <td>@BrianUFT @NYCCouncil @NYCSchools @UFT This is...</td>\n",
              "      <td>NaN</td>\n",
              "      <td>Twitter for iPhone</td>\n",
              "      <td>False</td>\n",
              "    </tr>\n",
              "    <tr>\n",
              "      <th>4</th>\n",
              "      <td>55809</td>\n",
              "      <td>To Shed Light</td>\n",
              "      <td>NaN</td>\n",
              "      <td>#ToShedLight and reveal the truth.</td>\n",
              "      <td>2015-10-23 14:58:47</td>\n",
              "      <td>44</td>\n",
              "      <td>51</td>\n",
              "      <td>432</td>\n",
              "      <td>False</td>\n",
              "      <td>2020-08-01 17:17:53</td>\n",
              "      <td>260 kids, staffers tested positive for #Covid1...</td>\n",
              "      <td>['Covid19', 'CDC']</td>\n",
              "      <td>Twitter for iPhone</td>\n",
              "      <td>False</td>\n",
              "    </tr>\n",
              "  </tbody>\n",
              "</table>\n",
              "</div>"
            ],
            "text/plain": [
              "   Unnamed: 0           user_name  ...              source is_retweet\n",
              "0      140735  Romesh Vaitilingam  ...           TweetDeck      False\n",
              "1       83945       Igor Akhmetov  ...      EveryoneSocial      False\n",
              "2       47341      Paddy Docherty  ...  Twitter for iPhone      False\n",
              "3       79842        TRACY TARTER  ...  Twitter for iPhone      False\n",
              "4       55809       To Shed Light  ...  Twitter for iPhone      False\n",
              "\n",
              "[5 rows x 14 columns]"
            ]
          },
          "metadata": {
            "tags": []
          },
          "execution_count": 3
        }
      ]
    },
    {
      "cell_type": "code",
      "metadata": {
        "id": "zp1Ze1uOxNj1",
        "outputId": "0b192534-40eb-4762-f71e-8d034a5355bc",
        "colab": {
          "base_uri": "https://localhost:8080/",
          "height": 204
        }
      },
      "source": [
        "subset = df[['text', 'date']].copy()\n",
        "subset.head()"
      ],
      "execution_count": null,
      "outputs": [
        {
          "output_type": "execute_result",
          "data": {
            "text/html": [
              "<div>\n",
              "<style scoped>\n",
              "    .dataframe tbody tr th:only-of-type {\n",
              "        vertical-align: middle;\n",
              "    }\n",
              "\n",
              "    .dataframe tbody tr th {\n",
              "        vertical-align: top;\n",
              "    }\n",
              "\n",
              "    .dataframe thead th {\n",
              "        text-align: right;\n",
              "    }\n",
              "</style>\n",
              "<table border=\"1\" class=\"dataframe\">\n",
              "  <thead>\n",
              "    <tr style=\"text-align: right;\">\n",
              "      <th></th>\n",
              "      <th>text</th>\n",
              "      <th>date</th>\n",
              "    </tr>\n",
              "  </thead>\n",
              "  <tbody>\n",
              "    <tr>\n",
              "      <th>0</th>\n",
              "      <td>#Brexit has happened – but the nature of the U...</td>\n",
              "      <td>2020-08-17 08:04:00</td>\n",
              "    </tr>\n",
              "    <tr>\n",
              "      <th>1</th>\n",
              "      <td>#Covid19 has displaced workforce's around the ...</td>\n",
              "      <td>2020-08-08 14:02:37</td>\n",
              "    </tr>\n",
              "    <tr>\n",
              "      <th>2</th>\n",
              "      <td>.@eyejosh UK, this ⬇️ goes for us and our murd...</td>\n",
              "      <td>2020-07-31 18:27:39</td>\n",
              "    </tr>\n",
              "    <tr>\n",
              "      <th>3</th>\n",
              "      <td>@BrianUFT @NYCCouncil @NYCSchools @UFT This is...</td>\n",
              "      <td>2020-08-06 15:15:02</td>\n",
              "    </tr>\n",
              "    <tr>\n",
              "      <th>4</th>\n",
              "      <td>260 kids, staffers tested positive for #Covid1...</td>\n",
              "      <td>2020-08-01 17:17:53</td>\n",
              "    </tr>\n",
              "  </tbody>\n",
              "</table>\n",
              "</div>"
            ],
            "text/plain": [
              "                                                text                 date\n",
              "0  #Brexit has happened – but the nature of the U...  2020-08-17 08:04:00\n",
              "1  #Covid19 has displaced workforce's around the ...  2020-08-08 14:02:37\n",
              "2  .@eyejosh UK, this ⬇️ goes for us and our murd...  2020-07-31 18:27:39\n",
              "3  @BrianUFT @NYCCouncil @NYCSchools @UFT This is...  2020-08-06 15:15:02\n",
              "4  260 kids, staffers tested positive for #Covid1...  2020-08-01 17:17:53"
            ]
          },
          "metadata": {
            "tags": []
          },
          "execution_count": 5
        }
      ]
    },
    {
      "cell_type": "code",
      "metadata": {
        "id": "qZFC3_AgyuWV"
      },
      "source": [
        "def toDatetime(date):\n",
        "  return datetime.strptime(date, '%m/%d/%y %X')\n",
        "\n",
        "subset[\"date\"]= pd.to_datetime(subset.date)"
      ],
      "execution_count": null,
      "outputs": []
    },
    {
      "cell_type": "code",
      "metadata": {
        "id": "HKdI7M7fyzrt",
        "outputId": "852afc91-4f51-46bf-d2bf-8b22db2cd2d6",
        "colab": {
          "base_uri": "https://localhost:8080/",
          "height": 204
        }
      },
      "source": [
        "subset.head()"
      ],
      "execution_count": null,
      "outputs": [
        {
          "output_type": "execute_result",
          "data": {
            "text/html": [
              "<div>\n",
              "<style scoped>\n",
              "    .dataframe tbody tr th:only-of-type {\n",
              "        vertical-align: middle;\n",
              "    }\n",
              "\n",
              "    .dataframe tbody tr th {\n",
              "        vertical-align: top;\n",
              "    }\n",
              "\n",
              "    .dataframe thead th {\n",
              "        text-align: right;\n",
              "    }\n",
              "</style>\n",
              "<table border=\"1\" class=\"dataframe\">\n",
              "  <thead>\n",
              "    <tr style=\"text-align: right;\">\n",
              "      <th></th>\n",
              "      <th>text</th>\n",
              "      <th>date</th>\n",
              "    </tr>\n",
              "  </thead>\n",
              "  <tbody>\n",
              "    <tr>\n",
              "      <th>0</th>\n",
              "      <td>#Brexit has happened – but the nature of the U...</td>\n",
              "      <td>2020-08-17 08:04:00</td>\n",
              "    </tr>\n",
              "    <tr>\n",
              "      <th>1</th>\n",
              "      <td>#Covid19 has displaced workforce's around the ...</td>\n",
              "      <td>2020-08-08 14:02:37</td>\n",
              "    </tr>\n",
              "    <tr>\n",
              "      <th>2</th>\n",
              "      <td>.@eyejosh UK, this ⬇️ goes for us and our murd...</td>\n",
              "      <td>2020-07-31 18:27:39</td>\n",
              "    </tr>\n",
              "    <tr>\n",
              "      <th>3</th>\n",
              "      <td>@BrianUFT @NYCCouncil @NYCSchools @UFT This is...</td>\n",
              "      <td>2020-08-06 15:15:02</td>\n",
              "    </tr>\n",
              "    <tr>\n",
              "      <th>4</th>\n",
              "      <td>260 kids, staffers tested positive for #Covid1...</td>\n",
              "      <td>2020-08-01 17:17:53</td>\n",
              "    </tr>\n",
              "  </tbody>\n",
              "</table>\n",
              "</div>"
            ],
            "text/plain": [
              "                                                text                date\n",
              "0  #Brexit has happened – but the nature of the U... 2020-08-17 08:04:00\n",
              "1  #Covid19 has displaced workforce's around the ... 2020-08-08 14:02:37\n",
              "2  .@eyejosh UK, this ⬇️ goes for us and our murd... 2020-07-31 18:27:39\n",
              "3  @BrianUFT @NYCCouncil @NYCSchools @UFT This is... 2020-08-06 15:15:02\n",
              "4  260 kids, staffers tested positive for #Covid1... 2020-08-01 17:17:53"
            ]
          },
          "metadata": {
            "tags": []
          },
          "execution_count": 7
        }
      ]
    },
    {
      "cell_type": "code",
      "metadata": {
        "id": "QGF6YNeUy3EP"
      },
      "source": [
        "subset['month'] =  subset.date.apply(lambda x : x.month)"
      ],
      "execution_count": null,
      "outputs": []
    },
    {
      "cell_type": "code",
      "metadata": {
        "id": "_HMFAklUy-nZ",
        "outputId": "5130eaf7-bea9-4e6b-a094-23f6cb0b9044",
        "colab": {
          "base_uri": "https://localhost:8080/",
          "height": 204
        }
      },
      "source": [
        "subset.head()"
      ],
      "execution_count": null,
      "outputs": [
        {
          "output_type": "execute_result",
          "data": {
            "text/html": [
              "<div>\n",
              "<style scoped>\n",
              "    .dataframe tbody tr th:only-of-type {\n",
              "        vertical-align: middle;\n",
              "    }\n",
              "\n",
              "    .dataframe tbody tr th {\n",
              "        vertical-align: top;\n",
              "    }\n",
              "\n",
              "    .dataframe thead th {\n",
              "        text-align: right;\n",
              "    }\n",
              "</style>\n",
              "<table border=\"1\" class=\"dataframe\">\n",
              "  <thead>\n",
              "    <tr style=\"text-align: right;\">\n",
              "      <th></th>\n",
              "      <th>text</th>\n",
              "      <th>date</th>\n",
              "      <th>month</th>\n",
              "    </tr>\n",
              "  </thead>\n",
              "  <tbody>\n",
              "    <tr>\n",
              "      <th>0</th>\n",
              "      <td>#Brexit has happened – but the nature of the U...</td>\n",
              "      <td>2020-08-17 08:04:00</td>\n",
              "      <td>8</td>\n",
              "    </tr>\n",
              "    <tr>\n",
              "      <th>1</th>\n",
              "      <td>#Covid19 has displaced workforce's around the ...</td>\n",
              "      <td>2020-08-08 14:02:37</td>\n",
              "      <td>8</td>\n",
              "    </tr>\n",
              "    <tr>\n",
              "      <th>2</th>\n",
              "      <td>.@eyejosh UK, this ⬇️ goes for us and our murd...</td>\n",
              "      <td>2020-07-31 18:27:39</td>\n",
              "      <td>7</td>\n",
              "    </tr>\n",
              "    <tr>\n",
              "      <th>3</th>\n",
              "      <td>@BrianUFT @NYCCouncil @NYCSchools @UFT This is...</td>\n",
              "      <td>2020-08-06 15:15:02</td>\n",
              "      <td>8</td>\n",
              "    </tr>\n",
              "    <tr>\n",
              "      <th>4</th>\n",
              "      <td>260 kids, staffers tested positive for #Covid1...</td>\n",
              "      <td>2020-08-01 17:17:53</td>\n",
              "      <td>8</td>\n",
              "    </tr>\n",
              "  </tbody>\n",
              "</table>\n",
              "</div>"
            ],
            "text/plain": [
              "                                                text                date  month\n",
              "0  #Brexit has happened – but the nature of the U... 2020-08-17 08:04:00      8\n",
              "1  #Covid19 has displaced workforce's around the ... 2020-08-08 14:02:37      8\n",
              "2  .@eyejosh UK, this ⬇️ goes for us and our murd... 2020-07-31 18:27:39      7\n",
              "3  @BrianUFT @NYCCouncil @NYCSchools @UFT This is... 2020-08-06 15:15:02      8\n",
              "4  260 kids, staffers tested positive for #Covid1... 2020-08-01 17:17:53      8"
            ]
          },
          "metadata": {
            "tags": []
          },
          "execution_count": 9
        }
      ]
    },
    {
      "cell_type": "code",
      "metadata": {
        "id": "pdV2Mo6CXhSD"
      },
      "source": [
        "subset[\"time\"]= subset.date.apply(lambda x : x.hour)\n"
      ],
      "execution_count": null,
      "outputs": []
    },
    {
      "cell_type": "code",
      "metadata": {
        "id": "FwktZy8TzHjQ",
        "outputId": "d624bc48-2986-4807-b58d-3d7806323ea7",
        "colab": {
          "base_uri": "https://localhost:8080/",
          "height": 204
        }
      },
      "source": [
        "subset.head()"
      ],
      "execution_count": null,
      "outputs": [
        {
          "output_type": "execute_result",
          "data": {
            "text/html": [
              "<div>\n",
              "<style scoped>\n",
              "    .dataframe tbody tr th:only-of-type {\n",
              "        vertical-align: middle;\n",
              "    }\n",
              "\n",
              "    .dataframe tbody tr th {\n",
              "        vertical-align: top;\n",
              "    }\n",
              "\n",
              "    .dataframe thead th {\n",
              "        text-align: right;\n",
              "    }\n",
              "</style>\n",
              "<table border=\"1\" class=\"dataframe\">\n",
              "  <thead>\n",
              "    <tr style=\"text-align: right;\">\n",
              "      <th></th>\n",
              "      <th>text</th>\n",
              "      <th>date</th>\n",
              "      <th>month</th>\n",
              "      <th>time</th>\n",
              "    </tr>\n",
              "  </thead>\n",
              "  <tbody>\n",
              "    <tr>\n",
              "      <th>0</th>\n",
              "      <td>#Brexit has happened – but the nature of the U...</td>\n",
              "      <td>2020-08-17 08:04:00</td>\n",
              "      <td>8</td>\n",
              "      <td>8</td>\n",
              "    </tr>\n",
              "    <tr>\n",
              "      <th>1</th>\n",
              "      <td>#Covid19 has displaced workforce's around the ...</td>\n",
              "      <td>2020-08-08 14:02:37</td>\n",
              "      <td>8</td>\n",
              "      <td>14</td>\n",
              "    </tr>\n",
              "    <tr>\n",
              "      <th>2</th>\n",
              "      <td>.@eyejosh UK, this ⬇️ goes for us and our murd...</td>\n",
              "      <td>2020-07-31 18:27:39</td>\n",
              "      <td>7</td>\n",
              "      <td>18</td>\n",
              "    </tr>\n",
              "    <tr>\n",
              "      <th>3</th>\n",
              "      <td>@BrianUFT @NYCCouncil @NYCSchools @UFT This is...</td>\n",
              "      <td>2020-08-06 15:15:02</td>\n",
              "      <td>8</td>\n",
              "      <td>15</td>\n",
              "    </tr>\n",
              "    <tr>\n",
              "      <th>4</th>\n",
              "      <td>260 kids, staffers tested positive for #Covid1...</td>\n",
              "      <td>2020-08-01 17:17:53</td>\n",
              "      <td>8</td>\n",
              "      <td>17</td>\n",
              "    </tr>\n",
              "  </tbody>\n",
              "</table>\n",
              "</div>"
            ],
            "text/plain": [
              "                                                text  ... time\n",
              "0  #Brexit has happened – but the nature of the U...  ...    8\n",
              "1  #Covid19 has displaced workforce's around the ...  ...   14\n",
              "2  .@eyejosh UK, this ⬇️ goes for us and our murd...  ...   18\n",
              "3  @BrianUFT @NYCCouncil @NYCSchools @UFT This is...  ...   15\n",
              "4  260 kids, staffers tested positive for #Covid1...  ...   17\n",
              "\n",
              "[5 rows x 4 columns]"
            ]
          },
          "metadata": {
            "tags": []
          },
          "execution_count": 11
        }
      ]
    },
    {
      "cell_type": "code",
      "metadata": {
        "id": "h4zK16r3zRQJ",
        "outputId": "9e83e18f-4fb9-4711-cce5-cf972f45e2d3",
        "colab": {
          "base_uri": "https://localhost:8080/",
          "height": 204
        }
      },
      "source": [
        "nbaRestart = datetime.datetime(2020,7,30)\n",
        "beforeRestart = subset[subset['date'] < nbaRestart].copy()\n",
        "beforeRestart.head()"
      ],
      "execution_count": null,
      "outputs": [
        {
          "output_type": "execute_result",
          "data": {
            "text/html": [
              "<div>\n",
              "<style scoped>\n",
              "    .dataframe tbody tr th:only-of-type {\n",
              "        vertical-align: middle;\n",
              "    }\n",
              "\n",
              "    .dataframe tbody tr th {\n",
              "        vertical-align: top;\n",
              "    }\n",
              "\n",
              "    .dataframe thead th {\n",
              "        text-align: right;\n",
              "    }\n",
              "</style>\n",
              "<table border=\"1\" class=\"dataframe\">\n",
              "  <thead>\n",
              "    <tr style=\"text-align: right;\">\n",
              "      <th></th>\n",
              "      <th>text</th>\n",
              "      <th>date</th>\n",
              "      <th>month</th>\n",
              "      <th>time</th>\n",
              "    </tr>\n",
              "  </thead>\n",
              "  <tbody>\n",
              "    <tr>\n",
              "      <th>10</th>\n",
              "      <td>Chris Brown and Young Thug NEW Song \"GO CRAZY\"...</td>\n",
              "      <td>2020-07-25 00:12:47</td>\n",
              "      <td>7</td>\n",
              "      <td>0</td>\n",
              "    </tr>\n",
              "    <tr>\n",
              "      <th>11</th>\n",
              "      <td>Election years are getting harder and harder. ...</td>\n",
              "      <td>2020-07-26 08:38:59</td>\n",
              "      <td>7</td>\n",
              "      <td>8</td>\n",
              "    </tr>\n",
              "    <tr>\n",
              "      <th>16</th>\n",
              "      <td>The only chance to control #coronavirus is to ...</td>\n",
              "      <td>2020-07-28 05:34:59</td>\n",
              "      <td>7</td>\n",
              "      <td>5</td>\n",
              "    </tr>\n",
              "    <tr>\n",
              "      <th>19</th>\n",
              "      <td>The #Ukraine's President renewed the invitatio...</td>\n",
              "      <td>2020-07-25 12:18:38</td>\n",
              "      <td>7</td>\n",
              "      <td>12</td>\n",
              "    </tr>\n",
              "    <tr>\n",
              "      <th>21</th>\n",
              "      <td>Patient &amp;amp; public involvement (PPI) is cent...</td>\n",
              "      <td>2020-07-25 09:35:04</td>\n",
              "      <td>7</td>\n",
              "      <td>9</td>\n",
              "    </tr>\n",
              "  </tbody>\n",
              "</table>\n",
              "</div>"
            ],
            "text/plain": [
              "                                                 text  ... time\n",
              "10  Chris Brown and Young Thug NEW Song \"GO CRAZY\"...  ...    0\n",
              "11  Election years are getting harder and harder. ...  ...    8\n",
              "16  The only chance to control #coronavirus is to ...  ...    5\n",
              "19  The #Ukraine's President renewed the invitatio...  ...   12\n",
              "21  Patient &amp; public involvement (PPI) is cent...  ...    9\n",
              "\n",
              "[5 rows x 4 columns]"
            ]
          },
          "metadata": {
            "tags": []
          },
          "execution_count": 12
        }
      ]
    },
    {
      "cell_type": "code",
      "metadata": {
        "id": "yBhkoQ7T53B0",
        "outputId": "5271cf51-091a-45ea-9b73-8805df1f4695",
        "colab": {
          "base_uri": "https://localhost:8080/",
          "height": 204
        }
      },
      "source": [
        "afterRestart = subset[subset['date'] >= nbaRestart].copy()\n",
        "afterRestart.head()"
      ],
      "execution_count": null,
      "outputs": [
        {
          "output_type": "execute_result",
          "data": {
            "text/html": [
              "<div>\n",
              "<style scoped>\n",
              "    .dataframe tbody tr th:only-of-type {\n",
              "        vertical-align: middle;\n",
              "    }\n",
              "\n",
              "    .dataframe tbody tr th {\n",
              "        vertical-align: top;\n",
              "    }\n",
              "\n",
              "    .dataframe thead th {\n",
              "        text-align: right;\n",
              "    }\n",
              "</style>\n",
              "<table border=\"1\" class=\"dataframe\">\n",
              "  <thead>\n",
              "    <tr style=\"text-align: right;\">\n",
              "      <th></th>\n",
              "      <th>text</th>\n",
              "      <th>date</th>\n",
              "      <th>month</th>\n",
              "      <th>time</th>\n",
              "    </tr>\n",
              "  </thead>\n",
              "  <tbody>\n",
              "    <tr>\n",
              "      <th>0</th>\n",
              "      <td>#Brexit has happened – but the nature of the U...</td>\n",
              "      <td>2020-08-17 08:04:00</td>\n",
              "      <td>8</td>\n",
              "      <td>8</td>\n",
              "    </tr>\n",
              "    <tr>\n",
              "      <th>1</th>\n",
              "      <td>#Covid19 has displaced workforce's around the ...</td>\n",
              "      <td>2020-08-08 14:02:37</td>\n",
              "      <td>8</td>\n",
              "      <td>14</td>\n",
              "    </tr>\n",
              "    <tr>\n",
              "      <th>2</th>\n",
              "      <td>.@eyejosh UK, this ⬇️ goes for us and our murd...</td>\n",
              "      <td>2020-07-31 18:27:39</td>\n",
              "      <td>7</td>\n",
              "      <td>18</td>\n",
              "    </tr>\n",
              "    <tr>\n",
              "      <th>3</th>\n",
              "      <td>@BrianUFT @NYCCouncil @NYCSchools @UFT This is...</td>\n",
              "      <td>2020-08-06 15:15:02</td>\n",
              "      <td>8</td>\n",
              "      <td>15</td>\n",
              "    </tr>\n",
              "    <tr>\n",
              "      <th>4</th>\n",
              "      <td>260 kids, staffers tested positive for #Covid1...</td>\n",
              "      <td>2020-08-01 17:17:53</td>\n",
              "      <td>8</td>\n",
              "      <td>17</td>\n",
              "    </tr>\n",
              "  </tbody>\n",
              "</table>\n",
              "</div>"
            ],
            "text/plain": [
              "                                                text  ... time\n",
              "0  #Brexit has happened – but the nature of the U...  ...    8\n",
              "1  #Covid19 has displaced workforce's around the ...  ...   14\n",
              "2  .@eyejosh UK, this ⬇️ goes for us and our murd...  ...   18\n",
              "3  @BrianUFT @NYCCouncil @NYCSchools @UFT This is...  ...   15\n",
              "4  260 kids, staffers tested positive for #Covid1...  ...   17\n",
              "\n",
              "[5 rows x 4 columns]"
            ]
          },
          "metadata": {
            "tags": []
          },
          "execution_count": 13
        }
      ]
    },
    {
      "cell_type": "code",
      "metadata": {
        "id": "i7j0o1wo6A6J"
      },
      "source": [
        "#!pip install textblob\n",
        "from textblob import TextBlob"
      ],
      "execution_count": null,
      "outputs": []
    },
    {
      "cell_type": "code",
      "metadata": {
        "id": "zNnySvPY6E3h"
      },
      "source": [
        "afterRestart['sentiment'] = subset.text.apply(lambda x : TextBlob(x).sentiment.polarity)"
      ],
      "execution_count": null,
      "outputs": []
    },
    {
      "cell_type": "code",
      "metadata": {
        "id": "ns2qtwb_6oub",
        "outputId": "85ed40ca-1baa-469b-82e5-4b62853499c3",
        "colab": {
          "base_uri": "https://localhost:8080/",
          "height": 204
        }
      },
      "source": [
        "afterRestart.head()"
      ],
      "execution_count": null,
      "outputs": [
        {
          "output_type": "execute_result",
          "data": {
            "text/html": [
              "<div>\n",
              "<style scoped>\n",
              "    .dataframe tbody tr th:only-of-type {\n",
              "        vertical-align: middle;\n",
              "    }\n",
              "\n",
              "    .dataframe tbody tr th {\n",
              "        vertical-align: top;\n",
              "    }\n",
              "\n",
              "    .dataframe thead th {\n",
              "        text-align: right;\n",
              "    }\n",
              "</style>\n",
              "<table border=\"1\" class=\"dataframe\">\n",
              "  <thead>\n",
              "    <tr style=\"text-align: right;\">\n",
              "      <th></th>\n",
              "      <th>text</th>\n",
              "      <th>date</th>\n",
              "      <th>month</th>\n",
              "      <th>time</th>\n",
              "      <th>sentiment</th>\n",
              "    </tr>\n",
              "  </thead>\n",
              "  <tbody>\n",
              "    <tr>\n",
              "      <th>0</th>\n",
              "      <td>#Brexit has happened – but the nature of the U...</td>\n",
              "      <td>2020-08-17 08:04:00</td>\n",
              "      <td>8</td>\n",
              "      <td>8</td>\n",
              "      <td>0.066667</td>\n",
              "    </tr>\n",
              "    <tr>\n",
              "      <th>1</th>\n",
              "      <td>#Covid19 has displaced workforce's around the ...</td>\n",
              "      <td>2020-08-08 14:02:37</td>\n",
              "      <td>8</td>\n",
              "      <td>14</td>\n",
              "      <td>0.500000</td>\n",
              "    </tr>\n",
              "    <tr>\n",
              "      <th>2</th>\n",
              "      <td>.@eyejosh UK, this ⬇️ goes for us and our murd...</td>\n",
              "      <td>2020-07-31 18:27:39</td>\n",
              "      <td>7</td>\n",
              "      <td>18</td>\n",
              "      <td>0.000000</td>\n",
              "    </tr>\n",
              "    <tr>\n",
              "      <th>3</th>\n",
              "      <td>@BrianUFT @NYCCouncil @NYCSchools @UFT This is...</td>\n",
              "      <td>2020-08-06 15:15:02</td>\n",
              "      <td>8</td>\n",
              "      <td>15</td>\n",
              "      <td>-0.700000</td>\n",
              "    </tr>\n",
              "    <tr>\n",
              "      <th>4</th>\n",
              "      <td>260 kids, staffers tested positive for #Covid1...</td>\n",
              "      <td>2020-08-01 17:17:53</td>\n",
              "      <td>8</td>\n",
              "      <td>17</td>\n",
              "      <td>-0.061364</td>\n",
              "    </tr>\n",
              "  </tbody>\n",
              "</table>\n",
              "</div>"
            ],
            "text/plain": [
              "                                                text  ... sentiment\n",
              "0  #Brexit has happened – but the nature of the U...  ...  0.066667\n",
              "1  #Covid19 has displaced workforce's around the ...  ...  0.500000\n",
              "2  .@eyejosh UK, this ⬇️ goes for us and our murd...  ...  0.000000\n",
              "3  @BrianUFT @NYCCouncil @NYCSchools @UFT This is...  ... -0.700000\n",
              "4  260 kids, staffers tested positive for #Covid1...  ... -0.061364\n",
              "\n",
              "[5 rows x 5 columns]"
            ]
          },
          "metadata": {
            "tags": []
          },
          "execution_count": 16
        }
      ]
    },
    {
      "cell_type": "code",
      "metadata": {
        "id": "Xo9QY-Pa7G6x"
      },
      "source": [
        "beforeRestart['sentiment'] = subset.text.apply(lambda x : TextBlob(x).sentiment.polarity)"
      ],
      "execution_count": null,
      "outputs": []
    },
    {
      "cell_type": "code",
      "metadata": {
        "id": "B9KaWeKK7NMF",
        "outputId": "835abe68-c0ca-4550-8a1e-af572238b40c",
        "colab": {
          "base_uri": "https://localhost:8080/",
          "height": 204
        }
      },
      "source": [
        "beforeRestart.head()"
      ],
      "execution_count": null,
      "outputs": [
        {
          "output_type": "execute_result",
          "data": {
            "text/html": [
              "<div>\n",
              "<style scoped>\n",
              "    .dataframe tbody tr th:only-of-type {\n",
              "        vertical-align: middle;\n",
              "    }\n",
              "\n",
              "    .dataframe tbody tr th {\n",
              "        vertical-align: top;\n",
              "    }\n",
              "\n",
              "    .dataframe thead th {\n",
              "        text-align: right;\n",
              "    }\n",
              "</style>\n",
              "<table border=\"1\" class=\"dataframe\">\n",
              "  <thead>\n",
              "    <tr style=\"text-align: right;\">\n",
              "      <th></th>\n",
              "      <th>text</th>\n",
              "      <th>date</th>\n",
              "      <th>month</th>\n",
              "      <th>time</th>\n",
              "      <th>sentiment</th>\n",
              "    </tr>\n",
              "  </thead>\n",
              "  <tbody>\n",
              "    <tr>\n",
              "      <th>10</th>\n",
              "      <td>Chris Brown and Young Thug NEW Song \"GO CRAZY\"...</td>\n",
              "      <td>2020-07-25 00:12:47</td>\n",
              "      <td>7</td>\n",
              "      <td>0</td>\n",
              "      <td>-0.190909</td>\n",
              "    </tr>\n",
              "    <tr>\n",
              "      <th>11</th>\n",
              "      <td>Election years are getting harder and harder. ...</td>\n",
              "      <td>2020-07-26 08:38:59</td>\n",
              "      <td>7</td>\n",
              "      <td>8</td>\n",
              "      <td>-0.100000</td>\n",
              "    </tr>\n",
              "    <tr>\n",
              "      <th>16</th>\n",
              "      <td>The only chance to control #coronavirus is to ...</td>\n",
              "      <td>2020-07-28 05:34:59</td>\n",
              "      <td>7</td>\n",
              "      <td>5</td>\n",
              "      <td>0.000000</td>\n",
              "    </tr>\n",
              "    <tr>\n",
              "      <th>19</th>\n",
              "      <td>The #Ukraine's President renewed the invitatio...</td>\n",
              "      <td>2020-07-25 12:18:38</td>\n",
              "      <td>7</td>\n",
              "      <td>12</td>\n",
              "      <td>0.000000</td>\n",
              "    </tr>\n",
              "    <tr>\n",
              "      <th>21</th>\n",
              "      <td>Patient &amp;amp; public involvement (PPI) is cent...</td>\n",
              "      <td>2020-07-25 09:35:04</td>\n",
              "      <td>7</td>\n",
              "      <td>9</td>\n",
              "      <td>0.066667</td>\n",
              "    </tr>\n",
              "  </tbody>\n",
              "</table>\n",
              "</div>"
            ],
            "text/plain": [
              "                                                 text  ... sentiment\n",
              "10  Chris Brown and Young Thug NEW Song \"GO CRAZY\"...  ... -0.190909\n",
              "11  Election years are getting harder and harder. ...  ... -0.100000\n",
              "16  The only chance to control #coronavirus is to ...  ...  0.000000\n",
              "19  The #Ukraine's President renewed the invitatio...  ...  0.000000\n",
              "21  Patient &amp; public involvement (PPI) is cent...  ...  0.066667\n",
              "\n",
              "[5 rows x 5 columns]"
            ]
          },
          "metadata": {
            "tags": []
          },
          "execution_count": 18
        }
      ]
    },
    {
      "cell_type": "code",
      "metadata": {
        "id": "U9vsA3Vn7Qk1",
        "outputId": "a53b8d2c-bd0f-435f-8744-42f723881ffc",
        "colab": {
          "base_uri": "https://localhost:8080/"
        }
      },
      "source": [
        "print(np.mean(beforeRestart.sentiment),np.mean(afterRestart.sentiment))"
      ],
      "execution_count": null,
      "outputs": [
        {
          "output_type": "stream",
          "text": [
            "0.07375542721724472 0.07389282951796161\n"
          ],
          "name": "stdout"
        }
      ]
    },
    {
      "cell_type": "code",
      "metadata": {
        "id": "X7pzn2Rf7fDV",
        "outputId": "5a5243ab-93c5-4741-93b0-301bba28eb13",
        "colab": {
          "base_uri": "https://localhost:8080/"
        }
      },
      "source": [
        "afterRestart[\"subjectivity\"]= subset.text.apply(lambda x : TextBlob(x).sentiment.subjectivity)\n",
        "beforeRestart[\"subjectivity\"]= subset.text.apply(lambda x : TextBlob(x).sentiment.subjectivity)\n",
        "print(np.mean(beforeRestart.subjectivity), np.mean(afterRestart.subjectivity))"
      ],
      "execution_count": null,
      "outputs": [
        {
          "output_type": "stream",
          "text": [
            "0.3403972221609798 0.32585589342968235\n"
          ],
          "name": "stdout"
        }
      ]
    },
    {
      "cell_type": "code",
      "metadata": {
        "id": "nfbmHDTs71Fg"
      },
      "source": [
        "#!pip install spacy\n",
        "#!python -m spacy download en_core_web_sm"
      ],
      "execution_count": null,
      "outputs": []
    },
    {
      "cell_type": "code",
      "metadata": {
        "id": "r-tkis0L77Pd"
      },
      "source": [
        "from spacy import displacy\n",
        "\n",
        "import en_core_web_sm\n",
        "nlp=en_core_web_sm.load()"
      ],
      "execution_count": null,
      "outputs": []
    },
    {
      "cell_type": "code",
      "metadata": {
        "id": "L8oqckEi8AWQ",
        "outputId": "5a11148d-f798-4a82-e067-a51c64c604a1",
        "colab": {
          "base_uri": "https://localhost:8080/",
          "height": 52
        }
      },
      "source": [
        "text = \"When Kyle Guy sank three straight free-throws to beat Auburn in 2019, Ben celebrated immensely.\"\n",
        "#cardinal is a numeral that doesn't fall under another type\n",
        "nlp=en_core_web_sm.load()\n",
        "doc = nlp(text)\n",
        "#displacy.render(doc, style=\"ent\")#jupyter\n",
        "displacy.render(doc, style='ent', jupyter=True) #collab"
      ],
      "execution_count": null,
      "outputs": [
        {
          "output_type": "display_data",
          "data": {
            "text/html": [
              "<span class=\"tex2jax_ignore\"><div class=\"entities\" style=\"line-height: 2.5; direction: ltr\">When \n",
              "<mark class=\"entity\" style=\"background: #aa9cfc; padding: 0.45em 0.6em; margin: 0 0.25em; line-height: 1; border-radius: 0.35em;\">\n",
              "    Kyle Guy\n",
              "    <span style=\"font-size: 0.8em; font-weight: bold; line-height: 1; border-radius: 0.35em; text-transform: uppercase; vertical-align: middle; margin-left: 0.5rem\">PERSON</span>\n",
              "</mark>\n",
              " sank \n",
              "<mark class=\"entity\" style=\"background: #e4e7d2; padding: 0.45em 0.6em; margin: 0 0.25em; line-height: 1; border-radius: 0.35em;\">\n",
              "    three\n",
              "    <span style=\"font-size: 0.8em; font-weight: bold; line-height: 1; border-radius: 0.35em; text-transform: uppercase; vertical-align: middle; margin-left: 0.5rem\">CARDINAL</span>\n",
              "</mark>\n",
              " straight free-throws to beat \n",
              "<mark class=\"entity\" style=\"background: #7aecec; padding: 0.45em 0.6em; margin: 0 0.25em; line-height: 1; border-radius: 0.35em;\">\n",
              "    Auburn\n",
              "    <span style=\"font-size: 0.8em; font-weight: bold; line-height: 1; border-radius: 0.35em; text-transform: uppercase; vertical-align: middle; margin-left: 0.5rem\">ORG</span>\n",
              "</mark>\n",
              " in \n",
              "<mark class=\"entity\" style=\"background: #bfe1d9; padding: 0.45em 0.6em; margin: 0 0.25em; line-height: 1; border-radius: 0.35em;\">\n",
              "    2019\n",
              "    <span style=\"font-size: 0.8em; font-weight: bold; line-height: 1; border-radius: 0.35em; text-transform: uppercase; vertical-align: middle; margin-left: 0.5rem\">DATE</span>\n",
              "</mark>\n",
              ", \n",
              "<mark class=\"entity\" style=\"background: #aa9cfc; padding: 0.45em 0.6em; margin: 0 0.25em; line-height: 1; border-radius: 0.35em;\">\n",
              "    Ben\n",
              "    <span style=\"font-size: 0.8em; font-weight: bold; line-height: 1; border-radius: 0.35em; text-transform: uppercase; vertical-align: middle; margin-left: 0.5rem\">PERSON</span>\n",
              "</mark>\n",
              " celebrated immensely.</div></span>"
            ],
            "text/plain": [
              "<IPython.core.display.HTML object>"
            ]
          },
          "metadata": {
            "tags": []
          }
        }
      ]
    },
    {
      "cell_type": "code",
      "metadata": {
        "id": "wucyMC5t9N8n"
      },
      "source": [
        "def getPeople(input):\n",
        "    people=[]\n",
        "    doc = nlp(input)\n",
        "\n",
        "    for e in doc.ents:\n",
        "        ents = [(e.text, e.label_, e.kb_id_)]\n",
        "        #print(ents)\n",
        "        if (e.label_ == \"PERSON\"):\n",
        "           people.append(e.text)\n",
        "    \n",
        "    if len(people) ==0:\n",
        "        return \"\"\n",
        "    else:\n",
        "        return people[0]"
      ],
      "execution_count": null,
      "outputs": []
    },
    {
      "cell_type": "code",
      "metadata": {
        "id": "uK2QPK3c9ROB",
        "outputId": "6418319d-3680-4d8b-b57a-8e9d9538b87b",
        "colab": {
          "base_uri": "https://localhost:8080/",
          "height": 35
        }
      },
      "source": [
        "getPeople(text)\n",
        "#For simplicity sake of this lesson only carrying about the first person. "
      ],
      "execution_count": null,
      "outputs": [
        {
          "output_type": "execute_result",
          "data": {
            "application/vnd.google.colaboratory.intrinsic+json": {
              "type": "string"
            },
            "text/plain": [
              "'Kyle Guy'"
            ]
          },
          "metadata": {
            "tags": []
          },
          "execution_count": 24
        }
      ]
    },
    {
      "cell_type": "code",
      "metadata": {
        "id": "XtUaDY_S9TEo"
      },
      "source": [
        "dfPeople = beforeRestart.copy()"
      ],
      "execution_count": null,
      "outputs": []
    },
    {
      "cell_type": "code",
      "metadata": {
        "id": "DMAhQ4zl9o6w"
      },
      "source": [
        "dfPeople['people'] = dfPeople.text.apply(lambda x : getPeople(x)) #will be slow because spacy is slow"
      ],
      "execution_count": null,
      "outputs": []
    },
    {
      "cell_type": "code",
      "metadata": {
        "id": "Uh76Gl0A9yWc",
        "outputId": "65498a5b-93b8-4a36-cd99-19fb0d745d25",
        "colab": {
          "base_uri": "https://localhost:8080/",
          "height": 204
        }
      },
      "source": [
        "dfPeople.head()"
      ],
      "execution_count": null,
      "outputs": [
        {
          "output_type": "execute_result",
          "data": {
            "text/html": [
              "<div>\n",
              "<style scoped>\n",
              "    .dataframe tbody tr th:only-of-type {\n",
              "        vertical-align: middle;\n",
              "    }\n",
              "\n",
              "    .dataframe tbody tr th {\n",
              "        vertical-align: top;\n",
              "    }\n",
              "\n",
              "    .dataframe thead th {\n",
              "        text-align: right;\n",
              "    }\n",
              "</style>\n",
              "<table border=\"1\" class=\"dataframe\">\n",
              "  <thead>\n",
              "    <tr style=\"text-align: right;\">\n",
              "      <th></th>\n",
              "      <th>text</th>\n",
              "      <th>date</th>\n",
              "      <th>month</th>\n",
              "      <th>time</th>\n",
              "      <th>sentiment</th>\n",
              "      <th>subjectivity</th>\n",
              "      <th>people</th>\n",
              "    </tr>\n",
              "  </thead>\n",
              "  <tbody>\n",
              "    <tr>\n",
              "      <th>10</th>\n",
              "      <td>Chris Brown and Young Thug NEW Song \"GO CRAZY\"...</td>\n",
              "      <td>2020-07-25 00:12:47</td>\n",
              "      <td>7</td>\n",
              "      <td>0</td>\n",
              "      <td>-0.190909</td>\n",
              "      <td>0.438636</td>\n",
              "      <td>Chris Brown</td>\n",
              "    </tr>\n",
              "    <tr>\n",
              "      <th>11</th>\n",
              "      <td>Election years are getting harder and harder. ...</td>\n",
              "      <td>2020-07-26 08:38:59</td>\n",
              "      <td>7</td>\n",
              "      <td>8</td>\n",
              "      <td>-0.100000</td>\n",
              "      <td>0.000000</td>\n",
              "      <td></td>\n",
              "    </tr>\n",
              "    <tr>\n",
              "      <th>16</th>\n",
              "      <td>The only chance to control #coronavirus is to ...</td>\n",
              "      <td>2020-07-28 05:34:59</td>\n",
              "      <td>7</td>\n",
              "      <td>5</td>\n",
              "      <td>0.000000</td>\n",
              "      <td>1.000000</td>\n",
              "      <td></td>\n",
              "    </tr>\n",
              "    <tr>\n",
              "      <th>19</th>\n",
              "      <td>The #Ukraine's President renewed the invitatio...</td>\n",
              "      <td>2020-07-25 12:18:38</td>\n",
              "      <td>7</td>\n",
              "      <td>12</td>\n",
              "      <td>0.000000</td>\n",
              "      <td>0.000000</td>\n",
              "      <td>Abdel Fattah al-Sisi</td>\n",
              "    </tr>\n",
              "    <tr>\n",
              "      <th>21</th>\n",
              "      <td>Patient &amp;amp; public involvement (PPI) is cent...</td>\n",
              "      <td>2020-07-25 09:35:04</td>\n",
              "      <td>7</td>\n",
              "      <td>9</td>\n",
              "      <td>0.066667</td>\n",
              "      <td>0.305556</td>\n",
              "      <td></td>\n",
              "    </tr>\n",
              "  </tbody>\n",
              "</table>\n",
              "</div>"
            ],
            "text/plain": [
              "                                                 text  ...                people\n",
              "10  Chris Brown and Young Thug NEW Song \"GO CRAZY\"...  ...           Chris Brown\n",
              "11  Election years are getting harder and harder. ...  ...                      \n",
              "16  The only chance to control #coronavirus is to ...  ...                      \n",
              "19  The #Ukraine's President renewed the invitatio...  ...  Abdel Fattah al-Sisi\n",
              "21  Patient &amp; public involvement (PPI) is cent...  ...                      \n",
              "\n",
              "[5 rows x 7 columns]"
            ]
          },
          "metadata": {
            "tags": []
          },
          "execution_count": 27
        }
      ]
    },
    {
      "cell_type": "code",
      "metadata": {
        "id": "JUSdDTYI93qC",
        "outputId": "327755d4-fc90-42b5-fe24-7f83d5343d6e",
        "colab": {
          "base_uri": "https://localhost:8080/",
          "height": 204
        }
      },
      "source": [
        "dfPeople = dfPeople[(dfPeople.people) != \"\"]\n",
        "\n",
        "dfPeople.head()"
      ],
      "execution_count": null,
      "outputs": [
        {
          "output_type": "execute_result",
          "data": {
            "text/html": [
              "<div>\n",
              "<style scoped>\n",
              "    .dataframe tbody tr th:only-of-type {\n",
              "        vertical-align: middle;\n",
              "    }\n",
              "\n",
              "    .dataframe tbody tr th {\n",
              "        vertical-align: top;\n",
              "    }\n",
              "\n",
              "    .dataframe thead th {\n",
              "        text-align: right;\n",
              "    }\n",
              "</style>\n",
              "<table border=\"1\" class=\"dataframe\">\n",
              "  <thead>\n",
              "    <tr style=\"text-align: right;\">\n",
              "      <th></th>\n",
              "      <th>text</th>\n",
              "      <th>date</th>\n",
              "      <th>month</th>\n",
              "      <th>time</th>\n",
              "      <th>sentiment</th>\n",
              "      <th>subjectivity</th>\n",
              "      <th>people</th>\n",
              "    </tr>\n",
              "  </thead>\n",
              "  <tbody>\n",
              "    <tr>\n",
              "      <th>10</th>\n",
              "      <td>Chris Brown and Young Thug NEW Song \"GO CRAZY\"...</td>\n",
              "      <td>2020-07-25 00:12:47</td>\n",
              "      <td>7</td>\n",
              "      <td>0</td>\n",
              "      <td>-0.190909</td>\n",
              "      <td>0.438636</td>\n",
              "      <td>Chris Brown</td>\n",
              "    </tr>\n",
              "    <tr>\n",
              "      <th>19</th>\n",
              "      <td>The #Ukraine's President renewed the invitatio...</td>\n",
              "      <td>2020-07-25 12:18:38</td>\n",
              "      <td>7</td>\n",
              "      <td>12</td>\n",
              "      <td>0.000000</td>\n",
              "      <td>0.000000</td>\n",
              "      <td>Abdel Fattah al-Sisi</td>\n",
              "    </tr>\n",
              "    <tr>\n",
              "      <th>31</th>\n",
              "      <td>Vijay Shalby Saves The Life Of A Corona Positi...</td>\n",
              "      <td>2020-07-25 06:13:31</td>\n",
              "      <td>7</td>\n",
              "      <td>6</td>\n",
              "      <td>0.227273</td>\n",
              "      <td>0.545455</td>\n",
              "      <td>Vijay Shalby</td>\n",
              "    </tr>\n",
              "    <tr>\n",
              "      <th>40</th>\n",
              "      <td>To our frontline workers, we at the OPPP would...</td>\n",
              "      <td>2020-07-29 16:10:53</td>\n",
              "      <td>7</td>\n",
              "      <td>16</td>\n",
              "      <td>0.000000</td>\n",
              "      <td>0.000000</td>\n",
              "      <td>https://t.co/v2f0hLkKn5</td>\n",
              "    </tr>\n",
              "    <tr>\n",
              "      <th>48</th>\n",
              "      <td>When in #Rome...pass The First Day after #Self...</td>\n",
              "      <td>2020-07-25 06:41:22</td>\n",
              "      <td>7</td>\n",
              "      <td>6</td>\n",
              "      <td>0.250000</td>\n",
              "      <td>0.333333</td>\n",
              "      <td>Rome</td>\n",
              "    </tr>\n",
              "  </tbody>\n",
              "</table>\n",
              "</div>"
            ],
            "text/plain": [
              "                                                 text  ...                   people\n",
              "10  Chris Brown and Young Thug NEW Song \"GO CRAZY\"...  ...              Chris Brown\n",
              "19  The #Ukraine's President renewed the invitatio...  ...     Abdel Fattah al-Sisi\n",
              "31  Vijay Shalby Saves The Life Of A Corona Positi...  ...             Vijay Shalby\n",
              "40  To our frontline workers, we at the OPPP would...  ...  https://t.co/v2f0hLkKn5\n",
              "48  When in #Rome...pass The First Day after #Self...  ...                     Rome\n",
              "\n",
              "[5 rows x 7 columns]"
            ]
          },
          "metadata": {
            "tags": []
          },
          "execution_count": 28
        }
      ]
    },
    {
      "cell_type": "code",
      "metadata": {
        "id": "xlmNoY8p-oAv",
        "outputId": "c70eddb4-4219-4360-8c10-8cde73b15e8c",
        "colab": {
          "base_uri": "https://localhost:8080/"
        }
      },
      "source": [
        "dfPeople.people.value_counts()"
      ],
      "execution_count": null,
      "outputs": [
        {
          "output_type": "execute_result",
          "data": {
            "text/plain": [
              "COVID19              10\n",
              "Trump                 7\n",
              "Coronavirus           5\n",
              "Odisha                4\n",
              "IndiaFightsCorona     4\n",
              "                     ..\n",
              "Robert O'Brien        1\n",
              "SSRajamouli           1\n",
              "Covidiots             1\n",
              "Dear @OHAOregon       1\n",
              "GDPR                  1\n",
              "Name: people, Length: 309, dtype: int64"
            ]
          },
          "metadata": {
            "tags": []
          },
          "execution_count": 29
        }
      ]
    },
    {
      "cell_type": "code",
      "metadata": {
        "id": "B_KbuurA-3T4"
      },
      "source": [
        "dfDonald = dfPeople[(dfPeople.people).str.contains(\"Trump\")]"
      ],
      "execution_count": null,
      "outputs": []
    },
    {
      "cell_type": "code",
      "metadata": {
        "id": "8iFmkVzn_ESD",
        "outputId": "8445bd92-3eda-4b98-be70-d7821a87643a",
        "colab": {
          "base_uri": "https://localhost:8080/",
          "height": 204
        }
      },
      "source": [
        "dfDonald.head()"
      ],
      "execution_count": null,
      "outputs": [
        {
          "output_type": "execute_result",
          "data": {
            "text/html": [
              "<div>\n",
              "<style scoped>\n",
              "    .dataframe tbody tr th:only-of-type {\n",
              "        vertical-align: middle;\n",
              "    }\n",
              "\n",
              "    .dataframe tbody tr th {\n",
              "        vertical-align: top;\n",
              "    }\n",
              "\n",
              "    .dataframe thead th {\n",
              "        text-align: right;\n",
              "    }\n",
              "</style>\n",
              "<table border=\"1\" class=\"dataframe\">\n",
              "  <thead>\n",
              "    <tr style=\"text-align: right;\">\n",
              "      <th></th>\n",
              "      <th>text</th>\n",
              "      <th>date</th>\n",
              "      <th>month</th>\n",
              "      <th>time</th>\n",
              "      <th>sentiment</th>\n",
              "      <th>subjectivity</th>\n",
              "      <th>people</th>\n",
              "    </tr>\n",
              "  </thead>\n",
              "  <tbody>\n",
              "    <tr>\n",
              "      <th>462</th>\n",
              "      <td>NOW #Trump is all for wearing a mask and the k...</td>\n",
              "      <td>2020-07-25 02:14:26</td>\n",
              "      <td>7</td>\n",
              "      <td>2</td>\n",
              "      <td>0.0000</td>\n",
              "      <td>0.000</td>\n",
              "      <td>Trump</td>\n",
              "    </tr>\n",
              "    <tr>\n",
              "      <th>1034</th>\n",
              "      <td>A normal day in #TrumpsAmerica  #COVID19 #Coro...</td>\n",
              "      <td>2020-07-27 05:18:35</td>\n",
              "      <td>7</td>\n",
              "      <td>5</td>\n",
              "      <td>0.1500</td>\n",
              "      <td>0.650</td>\n",
              "      <td>TrumpsAmerica</td>\n",
              "    </tr>\n",
              "    <tr>\n",
              "      <th>1402</th>\n",
              "      <td>What message is the #TrumpAdministration telli...</td>\n",
              "      <td>2020-07-26 07:42:09</td>\n",
              "      <td>7</td>\n",
              "      <td>7</td>\n",
              "      <td>0.0000</td>\n",
              "      <td>0.000</td>\n",
              "      <td>TrumpAdministration</td>\n",
              "    </tr>\n",
              "    <tr>\n",
              "      <th>1435</th>\n",
              "      <td>@BillStepien @realDonaldTrump HELL NO! I'm sup...</td>\n",
              "      <td>2020-07-27 04:51:55</td>\n",
              "      <td>7</td>\n",
              "      <td>4</td>\n",
              "      <td>-0.0625</td>\n",
              "      <td>0.175</td>\n",
              "      <td>Trump</td>\n",
              "    </tr>\n",
              "    <tr>\n",
              "      <th>2159</th>\n",
              "      <td>#COVID19 #ScienceMatters thousands Ill from #T...</td>\n",
              "      <td>2020-07-26 02:56:48</td>\n",
              "      <td>7</td>\n",
              "      <td>2</td>\n",
              "      <td>-0.5000</td>\n",
              "      <td>1.000</td>\n",
              "      <td>TrumpVirus</td>\n",
              "    </tr>\n",
              "  </tbody>\n",
              "</table>\n",
              "</div>"
            ],
            "text/plain": [
              "                                                   text  ...               people\n",
              "462   NOW #Trump is all for wearing a mask and the k...  ...                Trump\n",
              "1034  A normal day in #TrumpsAmerica  #COVID19 #Coro...  ...        TrumpsAmerica\n",
              "1402  What message is the #TrumpAdministration telli...  ...  TrumpAdministration\n",
              "1435  @BillStepien @realDonaldTrump HELL NO! I'm sup...  ...                Trump\n",
              "2159  #COVID19 #ScienceMatters thousands Ill from #T...  ...           TrumpVirus\n",
              "\n",
              "[5 rows x 7 columns]"
            ]
          },
          "metadata": {
            "tags": []
          },
          "execution_count": 34
        }
      ]
    },
    {
      "cell_type": "code",
      "metadata": {
        "id": "twsAH8mz_OQz"
      },
      "source": [
        "dfDonald=  dfDonald[~(dfDonald.people).str.contains(\"jr\")] #dropping Don Jr"
      ],
      "execution_count": null,
      "outputs": []
    },
    {
      "cell_type": "code",
      "metadata": {
        "id": "FavVPdM9_T-W",
        "outputId": "bb360634-69a2-4d15-cba5-6b11f897359d",
        "colab": {
          "base_uri": "https://localhost:8080/"
        }
      },
      "source": [
        "np.mean(dfDonald.sentiment)"
      ],
      "execution_count": null,
      "outputs": [
        {
          "output_type": "execute_result",
          "data": {
            "text/plain": [
              "0.014583333333333337"
            ]
          },
          "metadata": {
            "tags": []
          },
          "execution_count": 36
        }
      ]
    },
    {
      "cell_type": "code",
      "metadata": {
        "id": "TPtbV_XE_cdQ"
      },
      "source": [
        "dfCovid = dfPeople[(dfPeople.people) == (\"COVID19\" or \"Coronavirus\")]"
      ],
      "execution_count": null,
      "outputs": []
    },
    {
      "cell_type": "code",
      "metadata": {
        "id": "CYoUplFz_n2v",
        "outputId": "166fe06c-6cb4-4db3-f938-af0c1299119e",
        "colab": {
          "base_uri": "https://localhost:8080/"
        }
      },
      "source": [
        "np.mean(dfCovid.sentiment)"
      ],
      "execution_count": null,
      "outputs": [
        {
          "output_type": "execute_result",
          "data": {
            "text/plain": [
              "0.016991792929292933"
            ]
          },
          "metadata": {
            "tags": []
          },
          "execution_count": 38
        }
      ]
    },
    {
      "cell_type": "markdown",
      "metadata": {
        "id": "l71uFp3i_85j"
      },
      "source": [
        ""
      ]
    },
    {
      "cell_type": "markdown",
      "metadata": {
        "id": "0z2-hbVEXhS_"
      },
      "source": [
        "# Let's make a word cloud!\n",
        "Word cloud is made from a text file and we want a word cloud to have bigger text when it is more positive. \n",
        "\n",
        "Add 2 so sentiment positive and multiply by 11 a prime number so we have more unique numbers"
      ]
    },
    {
      "cell_type": "code",
      "metadata": {
        "id": "iIIgAbefAMrT"
      },
      "source": [
        "dfPeople[\"scaledSent\"]= dfPeople.sentiment.apply(lambda x : np.floor ((x +2)*11))"
      ],
      "execution_count": null,
      "outputs": []
    },
    {
      "cell_type": "code",
      "metadata": {
        "id": "jK1wvnI0ASH-",
        "outputId": "3e2335b7-772c-4216-fae7-56adcdf16d16",
        "colab": {
          "base_uri": "https://localhost:8080/",
          "height": 204
        }
      },
      "source": [
        "dfPeople.head()"
      ],
      "execution_count": null,
      "outputs": [
        {
          "output_type": "execute_result",
          "data": {
            "text/html": [
              "<div>\n",
              "<style scoped>\n",
              "    .dataframe tbody tr th:only-of-type {\n",
              "        vertical-align: middle;\n",
              "    }\n",
              "\n",
              "    .dataframe tbody tr th {\n",
              "        vertical-align: top;\n",
              "    }\n",
              "\n",
              "    .dataframe thead th {\n",
              "        text-align: right;\n",
              "    }\n",
              "</style>\n",
              "<table border=\"1\" class=\"dataframe\">\n",
              "  <thead>\n",
              "    <tr style=\"text-align: right;\">\n",
              "      <th></th>\n",
              "      <th>text</th>\n",
              "      <th>date</th>\n",
              "      <th>month</th>\n",
              "      <th>time</th>\n",
              "      <th>sentiment</th>\n",
              "      <th>subjectivity</th>\n",
              "      <th>people</th>\n",
              "      <th>scaledSent</th>\n",
              "    </tr>\n",
              "  </thead>\n",
              "  <tbody>\n",
              "    <tr>\n",
              "      <th>10</th>\n",
              "      <td>Chris Brown and Young Thug NEW Song \"GO CRAZY\"...</td>\n",
              "      <td>2020-07-25 00:12:47</td>\n",
              "      <td>7</td>\n",
              "      <td>0</td>\n",
              "      <td>-0.190909</td>\n",
              "      <td>0.438636</td>\n",
              "      <td>Chris Brown</td>\n",
              "      <td>19.0</td>\n",
              "    </tr>\n",
              "    <tr>\n",
              "      <th>19</th>\n",
              "      <td>The #Ukraine's President renewed the invitatio...</td>\n",
              "      <td>2020-07-25 12:18:38</td>\n",
              "      <td>7</td>\n",
              "      <td>12</td>\n",
              "      <td>0.000000</td>\n",
              "      <td>0.000000</td>\n",
              "      <td>Abdel Fattah al-Sisi</td>\n",
              "      <td>22.0</td>\n",
              "    </tr>\n",
              "    <tr>\n",
              "      <th>31</th>\n",
              "      <td>Vijay Shalby Saves The Life Of A Corona Positi...</td>\n",
              "      <td>2020-07-25 06:13:31</td>\n",
              "      <td>7</td>\n",
              "      <td>6</td>\n",
              "      <td>0.227273</td>\n",
              "      <td>0.545455</td>\n",
              "      <td>Vijay Shalby</td>\n",
              "      <td>24.0</td>\n",
              "    </tr>\n",
              "    <tr>\n",
              "      <th>40</th>\n",
              "      <td>To our frontline workers, we at the OPPP would...</td>\n",
              "      <td>2020-07-29 16:10:53</td>\n",
              "      <td>7</td>\n",
              "      <td>16</td>\n",
              "      <td>0.000000</td>\n",
              "      <td>0.000000</td>\n",
              "      <td>https://t.co/v2f0hLkKn5</td>\n",
              "      <td>22.0</td>\n",
              "    </tr>\n",
              "    <tr>\n",
              "      <th>48</th>\n",
              "      <td>When in #Rome...pass The First Day after #Self...</td>\n",
              "      <td>2020-07-25 06:41:22</td>\n",
              "      <td>7</td>\n",
              "      <td>6</td>\n",
              "      <td>0.250000</td>\n",
              "      <td>0.333333</td>\n",
              "      <td>Rome</td>\n",
              "      <td>24.0</td>\n",
              "    </tr>\n",
              "  </tbody>\n",
              "</table>\n",
              "</div>"
            ],
            "text/plain": [
              "                                                 text  ... scaledSent\n",
              "10  Chris Brown and Young Thug NEW Song \"GO CRAZY\"...  ...       19.0\n",
              "19  The #Ukraine's President renewed the invitatio...  ...       22.0\n",
              "31  Vijay Shalby Saves The Life Of A Corona Positi...  ...       24.0\n",
              "40  To our frontline workers, we at the OPPP would...  ...       22.0\n",
              "48  When in #Rome...pass The First Day after #Self...  ...       24.0\n",
              "\n",
              "[5 rows x 8 columns]"
            ]
          },
          "metadata": {
            "tags": []
          },
          "execution_count": 40
        }
      ]
    },
    {
      "cell_type": "code",
      "metadata": {
        "id": "38m8oU27XhTI"
      },
      "source": [
        "def addToText(people,scaled ):\n",
        "    f= open(\"wordcloud.txt\",\"a\")\n",
        "    f.write((people + \" \")* int(scaled)  )\n",
        "    f.close()"
      ],
      "execution_count": null,
      "outputs": []
    },
    {
      "cell_type": "code",
      "metadata": {
        "id": "9TqEULJEAnum"
      },
      "source": [
        "result = [addToText(x, y) for x, y in zip(dfPeople.people,dfPeople.scaledSent )]"
      ],
      "execution_count": null,
      "outputs": []
    },
    {
      "cell_type": "code",
      "metadata": {
        "id": "0SkdoKlmAuSL",
        "outputId": "835e1927-5979-4e5b-efd2-7362197d0741",
        "colab": {
          "base_uri": "https://localhost:8080/",
          "height": 204
        }
      },
      "source": [
        "dfPeople.head()"
      ],
      "execution_count": null,
      "outputs": [
        {
          "output_type": "execute_result",
          "data": {
            "text/html": [
              "<div>\n",
              "<style scoped>\n",
              "    .dataframe tbody tr th:only-of-type {\n",
              "        vertical-align: middle;\n",
              "    }\n",
              "\n",
              "    .dataframe tbody tr th {\n",
              "        vertical-align: top;\n",
              "    }\n",
              "\n",
              "    .dataframe thead th {\n",
              "        text-align: right;\n",
              "    }\n",
              "</style>\n",
              "<table border=\"1\" class=\"dataframe\">\n",
              "  <thead>\n",
              "    <tr style=\"text-align: right;\">\n",
              "      <th></th>\n",
              "      <th>text</th>\n",
              "      <th>date</th>\n",
              "      <th>month</th>\n",
              "      <th>time</th>\n",
              "      <th>sentiment</th>\n",
              "      <th>subjectivity</th>\n",
              "      <th>people</th>\n",
              "      <th>scaledSent</th>\n",
              "    </tr>\n",
              "  </thead>\n",
              "  <tbody>\n",
              "    <tr>\n",
              "      <th>10</th>\n",
              "      <td>Chris Brown and Young Thug NEW Song \"GO CRAZY\"...</td>\n",
              "      <td>2020-07-25 00:12:47</td>\n",
              "      <td>7</td>\n",
              "      <td>0</td>\n",
              "      <td>-0.190909</td>\n",
              "      <td>0.438636</td>\n",
              "      <td>Chris Brown</td>\n",
              "      <td>19.0</td>\n",
              "    </tr>\n",
              "    <tr>\n",
              "      <th>19</th>\n",
              "      <td>The #Ukraine's President renewed the invitatio...</td>\n",
              "      <td>2020-07-25 12:18:38</td>\n",
              "      <td>7</td>\n",
              "      <td>12</td>\n",
              "      <td>0.000000</td>\n",
              "      <td>0.000000</td>\n",
              "      <td>Abdel Fattah al-Sisi</td>\n",
              "      <td>22.0</td>\n",
              "    </tr>\n",
              "    <tr>\n",
              "      <th>31</th>\n",
              "      <td>Vijay Shalby Saves The Life Of A Corona Positi...</td>\n",
              "      <td>2020-07-25 06:13:31</td>\n",
              "      <td>7</td>\n",
              "      <td>6</td>\n",
              "      <td>0.227273</td>\n",
              "      <td>0.545455</td>\n",
              "      <td>Vijay Shalby</td>\n",
              "      <td>24.0</td>\n",
              "    </tr>\n",
              "    <tr>\n",
              "      <th>40</th>\n",
              "      <td>To our frontline workers, we at the OPPP would...</td>\n",
              "      <td>2020-07-29 16:10:53</td>\n",
              "      <td>7</td>\n",
              "      <td>16</td>\n",
              "      <td>0.000000</td>\n",
              "      <td>0.000000</td>\n",
              "      <td>https://t.co/v2f0hLkKn5</td>\n",
              "      <td>22.0</td>\n",
              "    </tr>\n",
              "    <tr>\n",
              "      <th>48</th>\n",
              "      <td>When in #Rome...pass The First Day after #Self...</td>\n",
              "      <td>2020-07-25 06:41:22</td>\n",
              "      <td>7</td>\n",
              "      <td>6</td>\n",
              "      <td>0.250000</td>\n",
              "      <td>0.333333</td>\n",
              "      <td>Rome</td>\n",
              "      <td>24.0</td>\n",
              "    </tr>\n",
              "  </tbody>\n",
              "</table>\n",
              "</div>"
            ],
            "text/plain": [
              "                                                 text  ... scaledSent\n",
              "10  Chris Brown and Young Thug NEW Song \"GO CRAZY\"...  ...       19.0\n",
              "19  The #Ukraine's President renewed the invitatio...  ...       22.0\n",
              "31  Vijay Shalby Saves The Life Of A Corona Positi...  ...       24.0\n",
              "40  To our frontline workers, we at the OPPP would...  ...       22.0\n",
              "48  When in #Rome...pass The First Day after #Self...  ...       24.0\n",
              "\n",
              "[5 rows x 8 columns]"
            ]
          },
          "metadata": {
            "tags": []
          },
          "execution_count": 43
        }
      ]
    },
    {
      "cell_type": "code",
      "metadata": {
        "id": "sCuHkDnbBSpW",
        "outputId": "7d99bc3a-d473-44ec-fb84-249ada1b9420",
        "colab": {
          "resources": {
            "http://localhost:8080/nbextensions/google.colab/files.js": {
              "data": "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",
              "ok": true,
              "headers": [
                [
                  "content-type",
                  "application/javascript"
                ]
              ],
              "status": 200,
              "status_text": ""
            }
          },
          "base_uri": "https://localhost:8080/",
          "height": 89
        }
      },
      "source": [
        "from google.colab import files\n",
        "#https://www.vectorstock.com/royalty-free-vector/coronavirus-silhouette-vector-30257356\n",
        "uploaded = files.upload()\n",
        "\n",
        "for fn in uploaded.keys():\n",
        "  print('User uploaded file \"{name}\" with length {length} bytes'.format(\n",
        "      name=fn, length=len(uploaded[fn])))"
      ],
      "execution_count": null,
      "outputs": [
        {
          "output_type": "display_data",
          "data": {
            "text/html": [
              "\n",
              "     <input type=\"file\" id=\"files-13011ab9-8ed8-4a57-aa8d-d76728d4e3fd\" name=\"files[]\" multiple disabled\n",
              "        style=\"border:none\" />\n",
              "     <output id=\"result-13011ab9-8ed8-4a57-aa8d-d76728d4e3fd\">\n",
              "      Upload widget is only available when the cell has been executed in the\n",
              "      current browser session. Please rerun this cell to enable.\n",
              "      </output>\n",
              "      <script src=\"/nbextensions/google.colab/files.js\"></script> "
            ],
            "text/plain": [
              "<IPython.core.display.HTML object>"
            ]
          },
          "metadata": {
            "tags": []
          }
        },
        {
          "output_type": "stream",
          "text": [
            "Saving covidmask2.png to covidmask2.png\n",
            "User uploaded file \"covidmask2.png\" with length 22990 bytes\n"
          ],
          "name": "stdout"
        }
      ]
    },
    {
      "cell_type": "code",
      "metadata": {
        "id": "TEJ6z5NxBdGs",
        "outputId": "632426c4-3ca1-4361-f210-8cd807027207",
        "colab": {
          "base_uri": "https://localhost:8080/",
          "height": 479
        }
      },
      "source": [
        "#modified code from wordcloud documentation\n",
        "from os import path\n",
        "from PIL import Image\n",
        "import numpy as np\n",
        "import matplotlib.pyplot as plt\n",
        "import os\n",
        "\n",
        "from wordcloud import WordCloud, STOPWORDS\n",
        "\n",
        "# get data directory (using getcwd() is needed to support running example in generated IPython notebook)\n",
        "d = path.dirname(__file__) if \"__file__\" in locals() else os.getcwd()\n",
        "\n",
        "# Read the whole text.\n",
        "text = open(path.join(d, 'wordcloud.txt')).read()\n",
        "\n",
        "# read the mask image\n",
        "# taken from \n",
        "# https://www.vectorstock.com/royalty-free-vector/coronavirus-silhouette-vector-30257356\n",
        "covid_mask = np.array(Image.open(path.join(d, \"covidmask2.png\"))) #place file name here\n",
        "#stopwords = set(STOPWORDS)\n",
        "#stopwords.add(\"said\")\n",
        "\n",
        "\n",
        "wc = WordCloud(background_color=\"white\", max_words=2000, mask=covid_mask,\n",
        "               contour_width=3, contour_color='steelblue')\n",
        "\n",
        "#If you wanted to move stopwords, you can uncomment the lines before wc, \n",
        "    #the following line should be an added parameter\n",
        "#stopwords=stopwords, \n",
        "\n",
        "\n",
        "# generate word cloud\n",
        "wc.generate(text)\n",
        "\n",
        "# store to file\n",
        "wc.to_file(path.join(d, \"CovidFinal.png\"))\n",
        "\n",
        "# show\n",
        "plt.imshow(wc, interpolation='bilinear')\n",
        "plt.axis(\"off\")\n",
        "plt.figure()\n",
        "plt.imshow(covid_mask, cmap=plt.cm.gray, interpolation='bilinear')\n",
        "plt.axis(\"off\")\n",
        "plt.show()"
      ],
      "execution_count": null,
      "outputs": [
        {
          "output_type": "display_data",
          "data": {
            "image/png": "[encoded data removed]",
            "text/plain": [
              "<Figure size 432x288 with 1 Axes>"
            ]
          },
          "metadata": {
            "tags": [],
            "needs_background": "light"
          }
        },
        {
          "output_type": "display_data",
          "data": {
            "image/png": "[encoded data removed]",
            "text/plain": [
              "<Figure size 432x288 with 1 Axes>"
            ]
          },
          "metadata": {
            "tags": [],
            "needs_background": "light"
          }
        }
      ]
    },
    {
      "cell_type": "code",
      "metadata": {
        "id": "RQBdj2_rBtqY",
        "outputId": "9a4d5fdf-ff66-40c3-e6d6-04ab2b5307b6",
        "colab": {
          "base_uri": "https://localhost:8080/",
          "height": 900
        }
      },
      "source": [
        "from IPython.display import Image\n",
        "Image(filename='CovidFinal.png') "
      ],
      "execution_count": null,
      "outputs": [
        {
          "output_type": "execute_result",
          "data": {
            "image/png": "[encoded data removed]",
            "text/plain": [
              "<IPython.core.display.Image object>"
            ]
          },
          "metadata": {
            "tags": []
          },
          "execution_count": 46
        }
      ]
    }
  ]
}