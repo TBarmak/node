{
 "cells": [
  {
   "cell_type": "markdown",
   "metadata": {},
   "source": [
    "## Import Data"
   ]
  },
  {
   "cell_type": "markdown",
   "metadata": {},
   "source": [
    "#### Data Documentation:\n",
    "<br>**Description**: Synthetic dataset from Gap Inc., representing a random sample of individual purchases from Q1 FY2020. Each row is a unique item purchased in an order\n",
    "<br><br>\n",
    "\n",
    "| **Feature** | **Description**    | **Sample Value(s)**  |\n",
    "| ------- | -----------    | ------------- |\n",
    "| OrderID | Unique identifier per transaction (7-digit) | DRW7C20   |\n",
    "| CustomerID | Unique identifier per customer (5-digit) | KP441   |\n",
    "| ProductID  | Unique identifier per item (8-digit) | 13-817-239 |\n",
    "| StoreID | Unique identifier per store (4-digit) | #4176 |\n",
    "| | | | \n",
    "| OrderType | How purchase was completed  | InStore, HomeDelivery, Online |\n",
    "| Timestamp | Timestamp of transaction (YYYY-MM-DD) | 2020-01-18 10:13:56\t |\n",
    "| | | | \n",
    "| Brand | Which reporting segment of Gap Inc. bought from | Banana Republic |\n",
    "| ItemSize | Size of item | XS, S, M, L, X, XL |\n",
    "| ProductName | Name of item associated with item identifier | Pink Polo by Kanye |\n",
    "| Collection | Which part of store | Denim Shop |\n",
    "| Price | Listed price of item | $29.95 |\n",
    "| ClearanceType | Type of clearance | Retail, Clearance, Final Sale |\n",
    "| DiscountType | If Gap Card rewards was used | Reward points, Promotion, GapCash, Other |\n",
    "| | | | \n",
    "| StoreName | Store name (i.e. Mall), or facility where online order was shipped from | Fair Oaks Mall |\n",
    "| Location | State of store location | VA |\n",
    "\n",
    "<br>"
   ]
  },
  {
   "cell_type": "markdown",
   "metadata": {},
   "source": [
    "**Quick note on IDs**: \n",
    "\n",
    "<br>IDs are a really important part of many, if not most datasets. Each unique *thing*, whether that's a product, or store, or customer, gets assigned **it's own unique identifier**. \n",
    "\n",
    "This is important in case two stores have the same name (i.e. Gap and Banana Republic at the Fair Oaks Mall). When we group by Store Name, for example, we want to make sure we're not accidentally clumping up both both stores, and instead keep the two seperate."
   ]
  },
  {
   "cell_type": "code",
   "execution_count": 2,
   "metadata": {},
   "outputs": [],
   "source": [
    "import pandas as pd\n",
    "import numpy as np"
   ]
  },
  {
   "cell_type": "code",
   "execution_count": 3,
   "metadata": {},
   "outputs": [],
   "source": [
    "df = pd.read_csv('gap.csv', sep='|')"
   ]
  },
  {
   "cell_type": "code",
   "execution_count": 4,
   "metadata": {},
   "outputs": [
    {
     "name": "stdout",
     "output_type": "stream",
     "text": [
      "(4031, 14)\n"
     ]
    },
    {
     "data": {
      "text/html": [
       "<div>\n",
       "<style scoped>\n",
       "    .dataframe tbody tr th:only-of-type {\n",
       "        vertical-align: middle;\n",
       "    }\n",
       "\n",
       "    .dataframe tbody tr th {\n",
       "        vertical-align: top;\n",
       "    }\n",
       "\n",
       "    .dataframe thead th {\n",
       "        text-align: right;\n",
       "    }\n",
       "</style>\n",
       "<table border=\"1\" class=\"dataframe\">\n",
       "  <thead>\n",
       "    <tr style=\"text-align: right;\">\n",
       "      <th></th>\n",
       "      <th>OrderID</th>\n",
       "      <th>CustomerID</th>\n",
       "      <th>ProductID</th>\n",
       "      <th>StoreID</th>\n",
       "      <th>OrderType</th>\n",
       "      <th>Timestamp</th>\n",
       "      <th>Brand</th>\n",
       "      <th>ItemSize</th>\n",
       "      <th>ProductName</th>\n",
       "      <th>Collection</th>\n",
       "      <th>Price</th>\n",
       "      <th>ClearanceType</th>\n",
       "      <th>StoreName</th>\n",
       "      <th>Location</th>\n",
       "    </tr>\n",
       "  </thead>\n",
       "  <tbody>\n",
       "    <tr>\n",
       "      <th>3514</th>\n",
       "      <td>R4DZZW0</td>\n",
       "      <td>LH413</td>\n",
       "      <td>60-444-763</td>\n",
       "      <td>#1812</td>\n",
       "      <td>InStore</td>\n",
       "      <td>2020-03-17 10:20:12</td>\n",
       "      <td>Gap</td>\n",
       "      <td>XL</td>\n",
       "      <td>Human Rights (except for the children who make...</td>\n",
       "      <td>Kids Tops</td>\n",
       "      <td>16.95</td>\n",
       "      <td>FullRetail</td>\n",
       "      <td>Williamsburg Premium Outlets</td>\n",
       "      <td>VA</td>\n",
       "    </tr>\n",
       "    <tr>\n",
       "      <th>25</th>\n",
       "      <td>199QQ1K</td>\n",
       "      <td>PY118</td>\n",
       "      <td>76-558-812</td>\n",
       "      <td>#4479</td>\n",
       "      <td>InStore</td>\n",
       "      <td>2020-03-15 07:50:08</td>\n",
       "      <td>Banana Republic</td>\n",
       "      <td>M</td>\n",
       "      <td>Yes-I-am-Experiencing-Menopause-Thank-You-for-...</td>\n",
       "      <td>Women's Bottoms</td>\n",
       "      <td>34.99</td>\n",
       "      <td>Clearance</td>\n",
       "      <td>Williamsburg Premium Outlets</td>\n",
       "      <td>VA</td>\n",
       "    </tr>\n",
       "  </tbody>\n",
       "</table>\n",
       "</div>"
      ],
      "text/plain": [
       "      OrderID CustomerID   ProductID StoreID OrderType            Timestamp  \\\n",
       "3514  R4DZZW0      LH413  60-444-763   #1812   InStore  2020-03-17 10:20:12   \n",
       "25    199QQ1K      PY118  76-558-812   #4479   InStore  2020-03-15 07:50:08   \n",
       "\n",
       "                Brand ItemSize  \\\n",
       "3514              Gap       XL   \n",
       "25    Banana Republic        M   \n",
       "\n",
       "                                            ProductName       Collection  \\\n",
       "3514  Human Rights (except for the children who make...        Kids Tops   \n",
       "25    Yes-I-am-Experiencing-Menopause-Thank-You-for-...  Women's Bottoms   \n",
       "\n",
       "      Price ClearanceType                     StoreName Location  \n",
       "3514  16.95    FullRetail  Williamsburg Premium Outlets       VA  \n",
       "25    34.99     Clearance  Williamsburg Premium Outlets       VA  "
      ]
     },
     "execution_count": 4,
     "metadata": {},
     "output_type": "execute_result"
    }
   ],
   "source": [
    "print(df.shape)\n",
    "df.sample(2)"
   ]
  },
  {
   "cell_type": "markdown",
   "metadata": {},
   "source": [
    "## Product Trends"
   ]
  },
  {
   "cell_type": "markdown",
   "metadata": {},
   "source": [
    "#### Questions (Easy-ish):\n",
    "Let's take a look at some product trends:\n",
    "1. How many unique products are there? What different collections are there?\n",
    "2. Take a look at the top 10 best selling items, and save these items to a list (not pd.Series!)\n",
    "3. Looking only at these transactions, which of these had prices over $100?\n",
    "4. There's one product, `09-875-876`, whose name seems to indicate it is sold in one size. What's it's name, and what sizes were actually sold?\n",
    "<br>\n",
    "\n",
    "#### Tips:\n",
    "Functions you'll probably wanna use:\n",
    "- Selecting columns as series\n",
    "- `.value_counts()`, `.unique()`, `.nunique()`\n",
    "- Filtering rows using `.isin()`, `=='string'`, or `> float`\n",
    "- Chaining functions / subsets together\n",
    "- `.drop_duplicates()`\n"
   ]
  },
  {
   "cell_type": "code",
   "execution_count": null,
   "metadata": {},
   "outputs": [],
   "source": []
  },
  {
   "cell_type": "markdown",
   "metadata": {},
   "source": [
    "## Collection Trends"
   ]
  },
  {
   "cell_type": "markdown",
   "metadata": {},
   "source": [
    "#### Questions (Easy):\n",
    "Let's take a look at some breakdowns by each collection: \n",
    "1. Subset the data frame for purchases in the Kids Tops collection. What were total sales here?\n",
    "2. What about total sales for the Denim Shop collection? For Accessories? \n",
    "3. Use `groupby()` instead to get total sales per every collection... do your answers line up from before?"
   ]
  },
  {
   "cell_type": "code",
   "execution_count": null,
   "metadata": {},
   "outputs": [],
   "source": []
  },
  {
   "cell_type": "markdown",
   "metadata": {},
   "source": [
    "## Segment Trends"
   ]
  },
  {
   "cell_type": "markdown",
   "metadata": {},
   "source": [
    "#### Questions (Easy):\n",
    "Let's take a look at some breakdowns by business segment, or brand:\n",
    "1. What were total sales by brand (in $)? Which had the most sales?\n",
    "2. What about number of *unique* orders per brand? Does the brand with the most orders have the most sales?\n",
    "3. How many orders of each type (OrderType) were completed, by brand? <br>Looking at the data, does Banana or Gap do more StorePickup orders?\n",
    "<br>\n",
    "\n",
    "#### Tips:\n",
    "- Use GroupBy and Agg functions! `.groupby(by=)`, `.agg(func=)`\n",
    "    - Google possible aggregation arguments, like sum, average, or number of unique items\n",
    "- For question 3, use **multi-level groupbys**, i.e. pass a `list` of columns on which to groupby, instead of just one string.  \n",
    "- If you want to see number of unique orders, use the OrderID to capture information about the unique transaction, otherwise the metric will get duplicated for every item in that transaction."
   ]
  },
  {
   "cell_type": "code",
   "execution_count": null,
   "metadata": {},
   "outputs": [],
   "source": []
  },
  {
   "cell_type": "markdown",
   "metadata": {},
   "source": [
    "## Customer Trends"
   ]
  },
  {
   "cell_type": "markdown",
   "metadata": {},
   "source": [
    "#### Questions (Hard):\n",
    "Let's look at the customers. A couple of questions that management wants us to answer:\n",
    "1. (At Gap only) How many different stores did each customer shop at? \n",
    "2. On average, how much does each customer spend per transaction? \n",
    "3. Does this value differ when broken down by brand?\n",
    "<br>\n",
    "\n",
    "#### Tips:\n",
    "- Think about count vs. nunique vs. value_counts: There's a bunch of ways to do this, but you wanna make sure to count at the order level (and not double count multiple items in the same order) \n",
    "- For question 2 & 3, use **multi-level groupbys**, i.e. pass a `list` of columns on which to groupby, instead of just one string. "
   ]
  },
  {
   "cell_type": "code",
   "execution_count": null,
   "metadata": {},
   "outputs": [],
   "source": []
  },
  {
   "cell_type": "markdown",
   "metadata": {},
   "source": [
    "## Store Trends"
   ]
  },
  {
   "cell_type": "markdown",
   "metadata": {},
   "source": [
    "#### Questions (Medium):\n",
    "Almost done! Think at the store level:\n",
    "1. Which stores have the lowest sales (in $)? How many orders does that store have?\n",
    "2. What is the maximum number of HomeDelivery orders that any one store got?\n",
    "<br>\n",
    "\n",
    "#### Tips:\n",
    "- `value_counts()`, `unique()`\n",
    "- `groupby(by=)`, `agg(func=)`\n",
    "- Subsetting dataframes by conditions\n",
    "- Selecting columns as series"
   ]
  },
  {
   "cell_type": "code",
   "execution_count": null,
   "metadata": {},
   "outputs": [],
   "source": []
  }
 ],
 "metadata": {
  "kernelspec": {
   "display_name": "Python 3",
   "language": "python",
   "name": "python3"
  },
  "language_info": {
   "codemirror_mode": {
    "name": "ipython",
    "version": 3
   },
   "file_extension": ".py",
   "mimetype": "text/x-python",
   "name": "python",
   "nbconvert_exporter": "python",
   "pygments_lexer": "ipython3",
   "version": "3.7.7"
  }
 },
 "nbformat": 4,
 "nbformat_minor": 4
}
