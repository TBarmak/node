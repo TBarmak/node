{
 "cells": [
  {
   "cell_type": "markdown",
   "metadata": {},
   "source": [
    "# Data Visualization"
   ]
  },
  {
   "cell_type": "code",
   "execution_count": null,
   "metadata": {},
   "outputs": [],
   "source": [
    "import pandas as pd\n",
    "import numpy as np"
   ]
  },
  {
   "cell_type": "code",
   "execution_count": null,
   "metadata": {},
   "outputs": [],
   "source": [
    "airbnb = pd.read_csv('https://raw.githubusercontent.com/ishaandey/node/master/week-4/workshop/airbnb.csv') # For Seattle only"
   ]
  },
  {
   "cell_type": "markdown",
   "metadata": {},
   "source": [
    "As with all new datasets, let's start by familiarizing ourselves with the dataset:\n",
    "\n",
    "**Try it!** Print the shape, columns, and show a sample observation"
   ]
  },
  {
   "cell_type": "code",
   "execution_count": null,
   "metadata": {
    "tags": []
   },
   "outputs": [],
   "source": []
  },
  {
   "cell_type": "markdown",
   "metadata": {},
   "source": [
    "## Scatter, Bars, and Histograms: The Basics"
   ]
  },
  {
   "cell_type": "markdown",
   "metadata": {},
   "source": [
    "Some imports: Note that we'll rename `plotly express` as `px`.\n",
    "\n",
    "`plotly express` is a \"wrapper\" for the base `plotly` package. What that means is we can use incredibly easy and readable functions, and plotly express will do the hard work of convering that input into formats that the software can understand.\n",
    "\n",
    "Quick aside: If you're a web developer and love JS, or an academic and use R, the same Plotly library is available to use in both languages. "
   ]
  },
  {
   "cell_type": "code",
   "execution_count": null,
   "metadata": {},
   "outputs": [],
   "source": []
  },
  {
   "cell_type": "markdown",
   "metadata": {},
   "source": [
    "Let's start off with a simple scatter plot, which we can whip up with `px.scatter()`\n",
    "\n",
    "What does the association between price and availability look like?"
   ]
  },
  {
   "cell_type": "code",
   "execution_count": null,
   "metadata": {},
   "outputs": [],
   "source": []
  },
  {
   "cell_type": "code",
   "execution_count": null,
   "metadata": {},
   "outputs": [],
   "source": []
  },
  {
   "cell_type": "markdown",
   "metadata": {},
   "source": [
    "It works, but doesn't really tell us too much. Let's modify the plot by adding parameters to `px.scatter()`\n",
    "\n",
    "With *any* python package, we can pull up some quick documentation from Jupyter itself using `?`\n",
    "<br>**Try it!** What parameters does `px.scatter` accept?"
   ]
  },
  {
   "cell_type": "code",
   "execution_count": null,
   "metadata": {},
   "outputs": [],
   "source": []
  },
  {
   "cell_type": "code",
   "execution_count": null,
   "metadata": {},
   "outputs": [],
   "source": []
  },
  {
   "cell_type": "markdown",
   "metadata": {},
   "source": [
    "So we're still not seeing much of a clear trend here.\n",
    "\n",
    "There are, however, quite a few outliers in the price. Let's see if we can adjust our graph so the rest of the data isnt squished down."
   ]
  },
  {
   "cell_type": "code",
   "execution_count": null,
   "metadata": {},
   "outputs": [],
   "source": []
  },
  {
   "cell_type": "markdown",
   "metadata": {},
   "source": [
    "Peep the histogram on the right, that shows a pretty neat trend with the room types. We can check that out in more depth later."
   ]
  },
  {
   "cell_type": "markdown",
   "metadata": {},
   "source": [
    "### Quick aesthetics"
   ]
  },
  {
   "cell_type": "markdown",
   "metadata": {},
   "source": [
    "Those outliers were causing us a bit of trouble, but wasn't too hard to deal with. \n",
    "<br>But that does make me a bit curious: What was so special about those listings?"
   ]
  },
  {
   "cell_type": "markdown",
   "metadata": {},
   "source": [
    "The power of plotly is that we can use the interactvity to literally just hover over the data points to see what's going on. \n",
    "<br>All we have to do is suggest what features to display: \n",
    "\n",
    "See if you can find out which parameters can be used to show text on hover: "
   ]
  },
  {
   "cell_type": "code",
   "execution_count": null,
   "metadata": {},
   "outputs": [],
   "source": []
  },
  {
   "cell_type": "markdown",
   "metadata": {},
   "source": [
    "Plotly is interactive! Play around with the legends and plot area. <br>Double click on the legend icon on the right, and plotly will automatically update the figure to select those points only."
   ]
  },
  {
   "cell_type": "markdown",
   "metadata": {},
   "source": [
    "We can change our colors fairly easily using color scales.\n",
    "\n",
    "<br>If the feature we pass to `color=` is **discrete or categorical**, we'll add the `color_discrete_sequence` param\n",
    "* Documentation for the color schemes accepted: https://plotly.com/python/discrete-color/\n",
    "\n",
    "<br>If the feature is instead **continuous**, we'll use the `color_continuous_scale` param instead\n",
    "* The corresponding docs for continuous schemes: https://plotly.com/python/colorscales/\n",
    "* And the available color scales:  https://plotly.com/python/builtin-colorscales/\n",
    "\n",
    "<br> Open the docs, and try out your favorite below:"
   ]
  },
  {
   "cell_type": "code",
   "execution_count": null,
   "metadata": {},
   "outputs": [],
   "source": []
  },
  {
   "cell_type": "markdown",
   "metadata": {},
   "source": [
    "Under the hood, we can see that each of these sequences are just lists of colors, so we could subset them to use different values"
   ]
  },
  {
   "cell_type": "code",
   "execution_count": null,
   "metadata": {},
   "outputs": [],
   "source": []
  },
  {
   "cell_type": "markdown",
   "metadata": {},
   "source": [
    "To finish off, we can add **titles**, **labels** and such pretty easily.\n",
    "\n",
    "See if you can use the function documentation or google to figure out how to do that:"
   ]
  },
  {
   "cell_type": "code",
   "execution_count": null,
   "metadata": {},
   "outputs": [],
   "source": []
  },
  {
   "cell_type": "markdown",
   "metadata": {},
   "source": [
    "### Bar Plots & Histograms"
   ]
  },
  {
   "cell_type": "markdown",
   "metadata": {},
   "source": [
    "Oftentimes we'll want to create visualizations at some aggregate level. \n",
    "\n",
    "For example, let's say we want to show neighborhoods with a high median rental price. \n",
    "<br>Our data is at a *per-listing* level, meaning that each individual row is its own listing, with its price. \n",
    "<br>To get data at the *per-neighborhood* level, we've got to *roll up* all the listing prices per neighborhood, in other words, group the data by neighborhood, then find the median for all those listings."
   ]
  },
  {
   "cell_type": "code",
   "execution_count": null,
   "metadata": {},
   "outputs": [],
   "source": [
    "airbnb_byN = airbnb.groupby(by=['neighbourhood','neighbourhood_group']).agg('median').reset_index()\n",
    "airbnb_byN.head(3)"
   ]
  },
  {
   "cell_type": "markdown",
   "metadata": {},
   "source": [
    "Now, let's drop the columns that make no sense to have a median of. "
   ]
  },
  {
   "cell_type": "code",
   "execution_count": null,
   "metadata": {},
   "outputs": [],
   "source": [
    "airbnb_byN = airbnb_byN.drop(columns=['host_id','latitude', 'longitude'])\n",
    "airbnb_byN.head(3)"
   ]
  },
  {
   "cell_type": "markdown",
   "metadata": {},
   "source": [
    "In breakout groups, see if you can (1) **build a bar plot** to show median prices in each neighbourhood group, and sort them in a meaningful way\n",
    "\n",
    "Make it complete! Label axes, hover text, color, the whole nine yards."
   ]
  },
  {
   "cell_type": "code",
   "execution_count": null,
   "metadata": {},
   "outputs": [],
   "source": []
  },
  {
   "cell_type": "markdown",
   "metadata": {},
   "source": [
    "Say my friend and I have a budget of of $90 per night. Show which regions are ideal for this, but how you wanna do that is entirely up to you: Draw a **horizontal line**, color the bars by color the ideal regions differently, as long as it communicates the which neighborhoods are generally cheaper.\n",
    "\n",
    "\n",
    "**Hint**: To draw a line, use `fig.add_vline()` with corresponding parameters\n",
    "<br>**Hint**: To color bars according to some condition, first **create a new column** that describes if the value is below budget."
   ]
  },
  {
   "cell_type": "code",
   "execution_count": null,
   "metadata": {},
   "outputs": [],
   "source": [
    "budget = 85\n",
    "airbnb_byN['budget'] = "
   ]
  },
  {
   "cell_type": "code",
   "execution_count": null,
   "metadata": {},
   "outputs": [],
   "source": []
  },
  {
   "cell_type": "markdown",
   "metadata": {},
   "source": [
    "## Geographic Plots"
   ]
  },
  {
   "cell_type": "markdown",
   "metadata": {},
   "source": [
    "There's quite a few different ways to show geogrpahical data, usually with choropleth charts or scatter plots.\n",
    "<br>Our friend Plotly has them all: https://plotly.com/python/maps/"
   ]
  },
  {
   "cell_type": "markdown",
   "metadata": {},
   "source": [
    "A quick note about how this work before letting you leaf through the docs page.\n",
    "\n",
    "<br> Most of the params in `px.scatter_mapbox()` behave pretty similarly to `px.scatter`, except that we provide **latitude and longitude data** instead of `x` and `y`. Luckily, our dataset already has that included, but oftentimes we'll have to find a lookup table online to convert city names, for example, to lat / lon coordinates. \n",
    "\n",
    "<br>We don't necessarily have to provide a value to `size=`, but that usually can help highlight points of interest.\n",
    "<br> `zoom=` on the other hand, just changes how zoomed in the initial picture is when first loaded.\n",
    "\n",
    "<br>Finally, we'll have to update the `mapbox_style=` parameter of the figure to a specific base map to load. \n",
    "<br>For more information on what options are available here, check out https://plotly.com/python/mapbox-layers/"
   ]
  },
  {
   "cell_type": "code",
   "execution_count": null,
   "metadata": {},
   "outputs": [],
   "source": [
    "airbnb['budget'] = (airbnb.price <= budget).map({True:'Under Budget', False:'Over Budget'})"
   ]
  },
  {
   "cell_type": "code",
   "execution_count": null,
   "metadata": {},
   "outputs": [],
   "source": [
    "fig = px.scatter_mapbox(\n",
    "                       )\n",
    "\n",
    "fig.update_layout(mapbox_style=\"carto-positron\")\n",
    "fig.update_layout(margin={\"r\":0,\"t\":0,\"l\":0,\"b\":0})\n",
    "\n",
    "fig.show()"
   ]
  },
  {
   "cell_type": "markdown",
   "metadata": {},
   "source": [
    "Show places in Downtown, Central Area, and Capitol Hill, and highlight those under budget"
   ]
  },
  {
   "cell_type": "code",
   "execution_count": null,
   "metadata": {},
   "outputs": [],
   "source": []
  }
 ],
 "metadata": {
  "kernelspec": {
   "display_name": "Python 3",
   "language": "python",
   "name": "python3"
  },
  "language_info": {
   "codemirror_mode": {
    "name": "ipython",
    "version": 3
   },
   "file_extension": ".py",
   "mimetype": "text/x-python",
   "name": "python",
   "nbconvert_exporter": "python",
   "pygments_lexer": "ipython3",
   "version": "3.9.2"
  }
 },
 "nbformat": 4,
 "nbformat_minor": 4
}
