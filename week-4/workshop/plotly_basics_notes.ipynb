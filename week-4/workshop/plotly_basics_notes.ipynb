{
 "cells": [
  {
   "cell_type": "markdown",
   "metadata": {},
   "source": [
    "# Data Viz w/ Plotly, Part 1"
   ]
  },
  {
   "cell_type": "code",
   "execution_count": 2,
   "metadata": {},
   "outputs": [],
   "source": [
    "import pandas as pd\n",
    "import numpy as np"
   ]
  },
  {
   "cell_type": "code",
   "execution_count": 3,
   "metadata": {},
   "outputs": [],
   "source": [
    "airbnb = pd.read_csv('airbnb.csv') # For Seattle only"
   ]
  },
  {
   "cell_type": "markdown",
   "metadata": {},
   "source": [
    "As with all new datasets, let's start by familiarizing ourselves with the dataset:\n",
    "\n",
    "<br>Go ahead and check it out for yourself-"
   ]
  },
  {
   "cell_type": "markdown",
   "metadata": {},
   "source": [
    "## Scatter, Bars, and Histograms: The Basics"
   ]
  },
  {
   "cell_type": "markdown",
   "metadata": {},
   "source": [
    "Our imports- Note that we'll rename `plotly express` as `px`.\n",
    "\n",
    "`px` is a fantastic \"wrapper\" for the base `plotly` package. What that means is we can use incredibly easy and readable functions, and plotly express will do the hard work of convering that input into formats that the software can understand.\n",
    "\n",
    "Quick aside: If you're a web developer and love JS, or a academic and use R, the same Plotly API is available to use in both languages. "
   ]
  },
  {
   "cell_type": "code",
   "execution_count": null,
   "metadata": {},
   "outputs": [],
   "source": []
  },
  {
   "cell_type": "markdown",
   "metadata": {},
   "source": [
    "Let's start off with a simple scatter plot, which we can whip up with `px.scatter()`\n",
    "\n",
    "What does the association between price and availability look like?"
   ]
  },
  {
   "cell_type": "code",
   "execution_count": null,
   "metadata": {},
   "outputs": [],
   "source": []
  },
  {
   "cell_type": "markdown",
   "metadata": {},
   "source": [
    "It works, but doesn't really tell us too much. Let's modify the plot by adding parameters to `px.scatter()`\n",
    "\n",
    "<br>With *any* python package, we can pull up some quick documentation from Jupyter itself using `?`\n",
    "Try it out: What parameters does `px.scatter` accept?"
   ]
  },
  {
   "cell_type": "code",
   "execution_count": null,
   "metadata": {},
   "outputs": [],
   "source": []
  },
  {
   "cell_type": "code",
   "execution_count": null,
   "metadata": {},
   "outputs": [],
   "source": []
  },
  {
   "cell_type": "markdown",
   "metadata": {},
   "source": [
    "So we're still not seeing much of a clear trend here, bummer. \n",
    "\n",
    "There are, however, quite a few outliers in the price. Let's see if we can adjust our graph so the rest of the data isnt squished down."
   ]
  },
  {
   "cell_type": "code",
   "execution_count": null,
   "metadata": {},
   "outputs": [],
   "source": []
  },
  {
   "cell_type": "markdown",
   "metadata": {},
   "source": [
    "Peep the histogram on the right, that shows a pretty neat trend with the room types. We can check that out in more depth later."
   ]
  },
  {
   "cell_type": "markdown",
   "metadata": {},
   "source": [
    "### Quick aesthetics"
   ]
  },
  {
   "cell_type": "markdown",
   "metadata": {},
   "source": [
    "Those outliers were causing us a bit of trouble, but wasn't too hard to deal with. \n",
    "<br>But that does make me a bit curious: What was so special about those listings?"
   ]
  },
  {
   "cell_type": "markdown",
   "metadata": {},
   "source": [
    "The power of plotly is that we can use the interactvity to literally just hover over the data points to see what's going on. \n",
    "<br>All we have to do is suggest what features to display: \n",
    "\n",
    "See if you can find out which parameters can be used to show text on hover: "
   ]
  },
  {
   "cell_type": "code",
   "execution_count": null,
   "metadata": {},
   "outputs": [],
   "source": []
  },
  {
   "cell_type": "markdown",
   "metadata": {},
   "source": [
    "Plotly is interactive! Play around with the legends and plot area\n",
    "\n",
    "Double click on the legend icon on the right, and plotly will automatically update the figure to select those points only. If we want "
   ]
  },
  {
   "cell_type": "markdown",
   "metadata": {},
   "source": [
    "We can change our colors fairly easily using color scales.\n",
    "\n",
    "<br>If the feature we pass to `color=` is **discrete or categorical**, we'll add the `color_discrete_sequence` param\n",
    "* Documentation for what's accepted: https://plotly.com/python/discrete-color/\n",
    "\n",
    "<br>If the feature is instead **continuous**, we'll use the `color_continuous_scale` param instead\n",
    "* The corresponding docs for continuous: https://plotly.com/python/colorscales/\n",
    "* The link to the color scale options are a bit hidden:  https://plotly.com/python/builtin-colorscales/\n",
    "\n",
    "<br> Open the docs, and try out your favorite below:"
   ]
  },
  {
   "cell_type": "code",
   "execution_count": null,
   "metadata": {},
   "outputs": [],
   "source": []
  },
  {
   "cell_type": "markdown",
   "metadata": {},
   "source": [
    "Under the hood, we can see that each of these sequences are just lists of colors, so we could subset them to use different values"
   ]
  },
  {
   "cell_type": "code",
   "execution_count": null,
   "metadata": {},
   "outputs": [],
   "source": []
  },
  {
   "cell_type": "markdown",
   "metadata": {},
   "source": [
    "To finish off, we can add **titles**, **labels** and such pretty easily.\n",
    "\n",
    "See if you can use the function documentation or google to figure out how to do that:"
   ]
  },
  {
   "cell_type": "code",
   "execution_count": null,
   "metadata": {},
   "outputs": [],
   "source": []
  },
  {
   "cell_type": "markdown",
   "metadata": {},
   "source": [
    "### Bar Plots & Histograms"
   ]
  },
  {
   "cell_type": "markdown",
   "metadata": {},
   "source": [
    "We can check out other basic features of the dataset by construction quick bar plots and histograms.\n",
    "\n",
    "<br>In breakout groups, see if you can:\n",
    "1. Build a **bar plot** to show average prices counts in each neighbourhood group, and sort them in a meaningful way\n",
    "2. Create a **histogram** that shows the distribution of prices against the room type\n",
    "\n",
    "Make these complete! Label axes, hover text, other columns of data if you can. \n",
    "<br>**Hint**: You may need to use GroupBy functions from Week 2 to aggregate data more comfortably"
   ]
  },
  {
   "cell_type": "code",
   "execution_count": null,
   "metadata": {},
   "outputs": [],
   "source": []
  },
  {
   "cell_type": "code",
   "execution_count": 17,
   "metadata": {},
   "outputs": [],
   "source": [
    "# 2 \n"
   ]
  },
  {
   "cell_type": "markdown",
   "metadata": {},
   "source": [
    "## Base API & Layers"
   ]
  },
  {
   "cell_type": "markdown",
   "metadata": {},
   "source": [
    "Aside from scatter and bar plots, there's quite a lot else we can make.\n",
    "<br> Check it out here: https://plotly.com/python/\n",
    "\n",
    "As you'll see, some of the documentation uses `graph_objects` as `go`, or `figure_factory` as `ff`. What does that mean? "
   ]
  },
  {
   "cell_type": "markdown",
   "metadata": {},
   "source": [
    "`Plotly` was originally written using a base API, in which each \"layer\" was constructed individually. \n",
    "<br>Before, you'd have to say write out what type of object was being written, the exact data to be passed as a list, etc.\n",
    "\n",
    "`Plotly express` \"abstracted\" all this away. It created quick functions that generate the necessary layers in the backend, saving us quite a bit of time.\n",
    "\n",
    "<br> We can still use some of these features to add more customization to our graph. For example, with our previous barplot:"
   ]
  },
  {
   "cell_type": "code",
   "execution_count": null,
   "metadata": {},
   "outputs": [],
   "source": []
  },
  {
   "cell_type": "code",
   "execution_count": null,
   "metadata": {},
   "outputs": [],
   "source": []
  },
  {
   "cell_type": "code",
   "execution_count": 20,
   "metadata": {},
   "outputs": [],
   "source": [
    "# Add Figure Annotiations w/ additional layers"
   ]
  }
 ],
 "metadata": {
  "kernelspec": {
   "display_name": "Python 3.7.2 64-bit ('anaconda3': virtualenv)",
   "language": "python",
   "name": "python37264bitanaconda3virtualenve1dc3209be54475686eb8b8e057d24f4"
  },
  "language_info": {
   "codemirror_mode": {
    "name": "ipython",
    "version": 3
   },
   "file_extension": ".py",
   "mimetype": "text/x-python",
   "name": "python",
   "nbconvert_exporter": "python",
   "pygments_lexer": "ipython3",
   "version": "3.7.2"
  }
 },
 "nbformat": 4,
 "nbformat_minor": 4
}
