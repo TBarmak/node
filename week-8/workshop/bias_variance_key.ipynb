{
  "nbformat": 4,
  "nbformat_minor": 0,
  "metadata": {
    "colab": {
      "name": "bias_variance_key.ipynb",
      "provenance": [],
      "collapsed_sections": []
    },
    "kernelspec": {
      "name": "python3",
      "display_name": "Python 3"
    },
    "language_info": {
      "name": "python"
    }
  },
  "cells": [
    {
      "cell_type": "markdown",
      "metadata": {
        "id": "3Brhvtg5wYcJ"
      },
      "source": [
        "Import all necessary libraries"
      ]
    },
    {
      "cell_type": "code",
      "metadata": {
        "id": "vFwdXUnVu6-v"
      },
      "source": [
        "#For the dataframe and array manipulation\n",
        "import pandas as pd\n",
        "import numpy as np\n",
        "\n",
        "#For visualization\n",
        "import plotly\n",
        "import plotly.express as px\n",
        "import matplotlib.pyplot as plt\n"
      ],
      "execution_count": 98,
      "outputs": []
    },
    {
      "cell_type": "markdown",
      "metadata": {
        "id": "5umEzv90wdEk"
      },
      "source": [
        "Import all needed sklearn functions"
      ]
    },
    {
      "cell_type": "code",
      "metadata": {
        "id": "1ZDCI9t8uek4"
      },
      "source": [
        "from sklearn.neighbors import KNeighborsClassifier\n",
        "from sklearn.model_selection import train_test_split\n",
        "from sklearn.metrics import accuracy_score\n"
      ],
      "execution_count": 99,
      "outputs": []
    },
    {
      "cell_type": "markdown",
      "metadata": {
        "id": "ecoDuUgSwfI2"
      },
      "source": [
        "Read in the CSV and see what it looks like\n",
        "\n",
        "We'll use a diabetes dataset for this demo"
      ]
    },
    {
      "cell_type": "code",
      "metadata": {
        "colab": {
          "base_uri": "https://localhost:8080/",
          "height": 419
        },
        "id": "MTmbTLCPfClI",
        "outputId": "d2a9771a-ecc4-4e6c-f0c3-8aab95e24a62"
      },
      "source": [
        "URL = 'https://raw.githubusercontent.com/ishaandey/node/master/week-8/workshop/diabetes.csv'\n",
        "df = pd.read_csv(URL)\n",
        "df"
      ],
      "execution_count": 100,
      "outputs": [
        {
          "output_type": "execute_result",
          "data": {
            "text/html": [
              "<div>\n",
              "<style scoped>\n",
              "    .dataframe tbody tr th:only-of-type {\n",
              "        vertical-align: middle;\n",
              "    }\n",
              "\n",
              "    .dataframe tbody tr th {\n",
              "        vertical-align: top;\n",
              "    }\n",
              "\n",
              "    .dataframe thead th {\n",
              "        text-align: right;\n",
              "    }\n",
              "</style>\n",
              "<table border=\"1\" class=\"dataframe\">\n",
              "  <thead>\n",
              "    <tr style=\"text-align: right;\">\n",
              "      <th></th>\n",
              "      <th>Pregnancies</th>\n",
              "      <th>Glucose</th>\n",
              "      <th>BloodPressure</th>\n",
              "      <th>SkinThickness</th>\n",
              "      <th>Insulin</th>\n",
              "      <th>BMI</th>\n",
              "      <th>DiabetesPedigreeFunction</th>\n",
              "      <th>Age</th>\n",
              "      <th>Outcome</th>\n",
              "    </tr>\n",
              "  </thead>\n",
              "  <tbody>\n",
              "    <tr>\n",
              "      <th>0</th>\n",
              "      <td>6</td>\n",
              "      <td>148</td>\n",
              "      <td>72</td>\n",
              "      <td>35</td>\n",
              "      <td>0</td>\n",
              "      <td>33.6</td>\n",
              "      <td>0.627</td>\n",
              "      <td>50</td>\n",
              "      <td>1</td>\n",
              "    </tr>\n",
              "    <tr>\n",
              "      <th>1</th>\n",
              "      <td>1</td>\n",
              "      <td>85</td>\n",
              "      <td>66</td>\n",
              "      <td>29</td>\n",
              "      <td>0</td>\n",
              "      <td>26.6</td>\n",
              "      <td>0.351</td>\n",
              "      <td>31</td>\n",
              "      <td>0</td>\n",
              "    </tr>\n",
              "    <tr>\n",
              "      <th>2</th>\n",
              "      <td>8</td>\n",
              "      <td>183</td>\n",
              "      <td>64</td>\n",
              "      <td>0</td>\n",
              "      <td>0</td>\n",
              "      <td>23.3</td>\n",
              "      <td>0.672</td>\n",
              "      <td>32</td>\n",
              "      <td>1</td>\n",
              "    </tr>\n",
              "    <tr>\n",
              "      <th>3</th>\n",
              "      <td>1</td>\n",
              "      <td>89</td>\n",
              "      <td>66</td>\n",
              "      <td>23</td>\n",
              "      <td>94</td>\n",
              "      <td>28.1</td>\n",
              "      <td>0.167</td>\n",
              "      <td>21</td>\n",
              "      <td>0</td>\n",
              "    </tr>\n",
              "    <tr>\n",
              "      <th>4</th>\n",
              "      <td>0</td>\n",
              "      <td>137</td>\n",
              "      <td>40</td>\n",
              "      <td>35</td>\n",
              "      <td>168</td>\n",
              "      <td>43.1</td>\n",
              "      <td>2.288</td>\n",
              "      <td>33</td>\n",
              "      <td>1</td>\n",
              "    </tr>\n",
              "    <tr>\n",
              "      <th>...</th>\n",
              "      <td>...</td>\n",
              "      <td>...</td>\n",
              "      <td>...</td>\n",
              "      <td>...</td>\n",
              "      <td>...</td>\n",
              "      <td>...</td>\n",
              "      <td>...</td>\n",
              "      <td>...</td>\n",
              "      <td>...</td>\n",
              "    </tr>\n",
              "    <tr>\n",
              "      <th>763</th>\n",
              "      <td>10</td>\n",
              "      <td>101</td>\n",
              "      <td>76</td>\n",
              "      <td>48</td>\n",
              "      <td>180</td>\n",
              "      <td>32.9</td>\n",
              "      <td>0.171</td>\n",
              "      <td>63</td>\n",
              "      <td>0</td>\n",
              "    </tr>\n",
              "    <tr>\n",
              "      <th>764</th>\n",
              "      <td>2</td>\n",
              "      <td>122</td>\n",
              "      <td>70</td>\n",
              "      <td>27</td>\n",
              "      <td>0</td>\n",
              "      <td>36.8</td>\n",
              "      <td>0.340</td>\n",
              "      <td>27</td>\n",
              "      <td>0</td>\n",
              "    </tr>\n",
              "    <tr>\n",
              "      <th>765</th>\n",
              "      <td>5</td>\n",
              "      <td>121</td>\n",
              "      <td>72</td>\n",
              "      <td>23</td>\n",
              "      <td>112</td>\n",
              "      <td>26.2</td>\n",
              "      <td>0.245</td>\n",
              "      <td>30</td>\n",
              "      <td>0</td>\n",
              "    </tr>\n",
              "    <tr>\n",
              "      <th>766</th>\n",
              "      <td>1</td>\n",
              "      <td>126</td>\n",
              "      <td>60</td>\n",
              "      <td>0</td>\n",
              "      <td>0</td>\n",
              "      <td>30.1</td>\n",
              "      <td>0.349</td>\n",
              "      <td>47</td>\n",
              "      <td>1</td>\n",
              "    </tr>\n",
              "    <tr>\n",
              "      <th>767</th>\n",
              "      <td>1</td>\n",
              "      <td>93</td>\n",
              "      <td>70</td>\n",
              "      <td>31</td>\n",
              "      <td>0</td>\n",
              "      <td>30.4</td>\n",
              "      <td>0.315</td>\n",
              "      <td>23</td>\n",
              "      <td>0</td>\n",
              "    </tr>\n",
              "  </tbody>\n",
              "</table>\n",
              "<p>768 rows × 9 columns</p>\n",
              "</div>"
            ],
            "text/plain": [
              "     Pregnancies  Glucose  ...  Age  Outcome\n",
              "0              6      148  ...   50        1\n",
              "1              1       85  ...   31        0\n",
              "2              8      183  ...   32        1\n",
              "3              1       89  ...   21        0\n",
              "4              0      137  ...   33        1\n",
              "..           ...      ...  ...  ...      ...\n",
              "763           10      101  ...   63        0\n",
              "764            2      122  ...   27        0\n",
              "765            5      121  ...   30        0\n",
              "766            1      126  ...   47        1\n",
              "767            1       93  ...   23        0\n",
              "\n",
              "[768 rows x 9 columns]"
            ]
          },
          "metadata": {
            "tags": []
          },
          "execution_count": 100
        }
      ]
    },
    {
      "cell_type": "markdown",
      "metadata": {
        "id": "dJjrMGkCwivL"
      },
      "source": [
        "Split the data into the train and test data\n",
        "\n",
        "What column should be the y?"
      ]
    },
    {
      "cell_type": "code",
      "metadata": {
        "id": "fY941A6-fLio"
      },
      "source": [
        "X = df.drop(columns=['Outcome'])\n",
        "y = df.Outcome\n",
        "X_train, X_test, y_train, y_test = train_test_split(X, y, test_size = 0.2, random_state = 42)"
      ],
      "execution_count": 101,
      "outputs": []
    },
    {
      "cell_type": "markdown",
      "metadata": {
        "id": "qB7gdfI6w3Ff"
      },
      "source": [
        "Train the KNN model for different values of k (1-50 every 3 values).\n",
        "\n",
        "Evaluate the accuracy of the model and find the error. See how the error for the training data and testing data compares to each other and where the error is lowest.\n",
        "\n",
        "We'll graph both the training and testing error so make sure to store them."
      ]
    },
    {
      "cell_type": "code",
      "metadata": {
        "colab": {
          "base_uri": "https://localhost:8080/"
        },
        "id": "5qfTAyunn6z0",
        "outputId": "21261023-dd35-47b2-ac30-326c64a78422"
      },
      "source": [
        "k = list(range(1, 50, 3))\n",
        "train_error = []\n",
        "test_error = []\n",
        "for i in k:\n",
        "  classifier = KNeighborsClassifier(n_neighbors=i)\n",
        "\n",
        "  # Fitting the model\n",
        "  classifier.fit(X_train, y_train)\n",
        "\n",
        "  y_pred_train = classifier.predict(X_train)\n",
        "\n",
        "  accuracy_train = 100-accuracy_score(y_train, y_pred_train)*100\n",
        "  train_error.append(round(accuracy_train, 2))\n",
        "\n",
        "  y_pred_test = classifier.predict(X_test)\n",
        "\n",
        "  accuracy_test = 100-accuracy_score(y_test, y_pred_test)*100\n",
        "  test_error.append(round(accuracy_test, 2))\n",
        "\n",
        "  print('k =', str(i), 'train error', round(accuracy_train, 2), 'test error', round(accuracy_test, 2))\n"
      ],
      "execution_count": 106,
      "outputs": [
        {
          "output_type": "stream",
          "text": [
            "k = 1 train error 0.0 test error 32.47\n",
            "k = 4 train error 19.06 test error 29.22\n",
            "k = 7 train error 20.68 test error 31.17\n",
            "k = 10 train error 21.01 test error 23.38\n",
            "k = 13 train error 21.01 test error 22.73\n",
            "k = 16 train error 21.5 test error 22.08\n",
            "k = 19 train error 22.48 test error 24.68\n",
            "k = 22 train error 23.62 test error 25.97\n",
            "k = 25 train error 23.94 test error 28.57\n",
            "k = 28 train error 24.43 test error 26.62\n",
            "k = 31 train error 24.59 test error 27.92\n",
            "k = 34 train error 24.1 test error 24.03\n",
            "k = 37 train error 24.76 test error 25.97\n",
            "k = 40 train error 25.57 test error 25.97\n",
            "k = 43 train error 25.24 test error 27.92\n",
            "k = 46 train error 26.38 test error 27.27\n",
            "k = 49 train error 26.22 test error 27.27\n"
          ],
          "name": "stdout"
        }
      ]
    },
    {
      "cell_type": "markdown",
      "metadata": {
        "id": "-BWwv-Uv38wP"
      },
      "source": [
        "Graph the training error and testing error for k from 1 to 50 (every three values) to see how their graphs compare. "
      ]
    },
    {
      "cell_type": "code",
      "metadata": {
        "colab": {
          "base_uri": "https://localhost:8080/",
          "height": 295
        },
        "id": "gFKYJQzqujT_",
        "outputId": "4bac256e-cca8-4e39-8eaf-a5e4e418c7e7"
      },
      "source": [
        "plt.plot(k, train_error,'go-', linewidth=2, markersize=2, label=\"Train Error\")\n",
        "plt.plot(k, test_error,'ro-', linewidth=2, markersize=2, label=\"Test Error\")\n",
        "plt.xlabel('Number of Neighbors')\n",
        "plt.ylabel('% Error')\n",
        "plt.title('K value versus Accuracy')\n",
        "plt.legend()\n",
        "plt.show()"
      ],
      "execution_count": 107,
      "outputs": [
        {
          "output_type": "display_data",
          "data": {
            "image/png": "[encoded data removed]",
            "text/plain": [
              "<Figure size 432x288 with 1 Axes>"
            ]
          },
          "metadata": {
            "tags": [],
            "needs_background": "light"
          }
        }
      ]
    },
    {
      "cell_type": "markdown",
      "metadata": {
        "id": "MrQmh4H2xG4M"
      },
      "source": [
        "This graph represents the bias variance tradeoff.\n",
        "\n",
        "At a k less than the lowest point of the test error, the model is underfitted and is too simple for the data we're training on. At a k greater than the lowest point of the test error, the model is overfitted and tries to capture patterns specific to the train data."
      ]
    }
  ]
}