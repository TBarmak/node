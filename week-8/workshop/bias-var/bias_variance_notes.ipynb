{
  "nbformat": 4,
  "nbformat_minor": 0,
  "metadata": {
    "colab": {
      "name": "bias_variance_notes.ipynb",
      "provenance": [],
      "collapsed_sections": []
    },
    "kernelspec": {
      "name": "python3",
      "display_name": "Python 3"
    },
    "language_info": {
      "name": "python"
    }
  },
  "cells": [
    {
      "cell_type": "markdown",
      "metadata": {
        "id": "3Brhvtg5wYcJ"
      },
      "source": [
        "Import all necessary libraries"
      ]
    },
    {
      "cell_type": "code",
      "metadata": {
        "id": "vFwdXUnVu6-v"
      },
      "source": [
        ""
      ],
      "execution_count": null,
      "outputs": []
    },
    {
      "cell_type": "markdown",
      "metadata": {
        "id": "5umEzv90wdEk"
      },
      "source": [
        "Import all needed sklearn functions"
      ]
    },
    {
      "cell_type": "code",
      "metadata": {
        "id": "1ZDCI9t8uek4"
      },
      "source": [
        ""
      ],
      "execution_count": null,
      "outputs": []
    },
    {
      "cell_type": "markdown",
      "metadata": {
        "id": "ecoDuUgSwfI2"
      },
      "source": [
        "Read in the CSV and see what it looks like\n",
        "\n",
        "We'll use a diabetes dataset for this demo"
      ]
    },
    {
      "cell_type": "code",
      "metadata": {
        "id": "MTmbTLCPfClI"
      },
      "source": [
        "URL = 'https://raw.githubusercontent.com/ishaandey/node/master/week-8/workshop/diabetes.csv'\n"
      ],
      "execution_count": 1,
      "outputs": []
    },
    {
      "cell_type": "markdown",
      "metadata": {
        "id": "dJjrMGkCwivL"
      },
      "source": [
        "Split the data into the train and test data\n",
        "\n",
        "What column should be the y?"
      ]
    },
    {
      "cell_type": "code",
      "metadata": {
        "id": "Mg1Z7j_a3BUq"
      },
      "source": [
        "# Create X and y"
      ],
      "execution_count": 2,
      "outputs": []
    },
    {
      "cell_type": "code",
      "metadata": {
        "id": "fY941A6-fLio"
      },
      "source": [
        "# Split into train and test data\n"
      ],
      "execution_count": 3,
      "outputs": []
    },
    {
      "cell_type": "markdown",
      "metadata": {
        "id": "qB7gdfI6w3Ff"
      },
      "source": [
        "Train the KNN model for different values of k (1-50 every 3 values).\n",
        "\n",
        "Evaluate the accuracy of the model and find the error.\n",
        "See how the error for the training data and testing data compares to each other and where the error is lowest.\n",
        "\n",
        "We'll graph both the training and testing error so make sure to store them."
      ]
    },
    {
      "cell_type": "code",
      "metadata": {
        "id": "5qfTAyunn6z0"
      },
      "source": [
        ""
      ],
      "execution_count": 3,
      "outputs": []
    },
    {
      "cell_type": "markdown",
      "metadata": {
        "id": "DQ9FB0zW3hzq"
      },
      "source": [
        "Graph the training error and testing error for k from 1 to 50 (every three values) to see how their graphs compare. "
      ]
    },
    {
      "cell_type": "code",
      "metadata": {
        "id": "gFKYJQzqujT_"
      },
      "source": [
        ""
      ],
      "execution_count": 3,
      "outputs": []
    },
    {
      "cell_type": "markdown",
      "metadata": {
        "id": "MrQmh4H2xG4M"
      },
      "source": [
        "This graph represents the bias variance tradeoff.\n",
        "\n",
        "At a k less than the lowest point of the test error, the model is underfitted and is too simple for the data we're training on. At a k greater than the lowest point of the test error, the model is overfitted and tries to capture patterns specific to the train data."
      ]
    }
  ]
}