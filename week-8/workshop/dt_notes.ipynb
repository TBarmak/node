{
 "cells": [
  {
   "cell_type": "code",
   "execution_count": 1,
   "metadata": {
    "id": "K5dX-6FuZXyo"
   },
   "outputs": [],
   "source": [
    "# Imports\n"
   ]
  },
  {
   "cell_type": "code",
   "execution_count": 1,
   "metadata": {
    "id": "A2h-7VCVZXyt"
   },
   "outputs": [],
   "source": [
    "# Read in the spikeball csv\n",
    "url = 'https://raw.githubusercontent.com/ishaandey/node/master/week-8/workshop/spikeball.csv'"
   ]
  },
  {
   "cell_type": "code",
   "execution_count": 3,
   "metadata": {
    "id": "32JL-0GkZXyu"
   },
   "outputs": [],
   "source": [
    "# Take a look at the data\n"
   ]
  },
  {
   "cell_type": "markdown",
   "metadata": {
    "id": "jyyfnkEiZXyu"
   },
   "source": [
    "Decision trees cannot classify with the strings in the \"weather\" column. We will use pandas.get_dummies to one-hot encode the column. Pandas knows to only modify categorical columns. The \"temperature\", \"friends_free\", and \"played_spikeball\" columns will not change."
   ]
  },
  {
   "cell_type": "code",
   "execution_count": 4,
   "metadata": {
    "id": "MD1tH5zTZXyv"
   },
   "outputs": [],
   "source": [
    "# One hot encode the weather column\n"
   ]
  },
  {
   "cell_type": "code",
   "execution_count": 5,
   "metadata": {
    "id": "FtXJKJl3ZXyv"
   },
   "outputs": [],
   "source": [
    "# Break into training and testing\n"
   ]
  },
  {
   "cell_type": "code",
   "execution_count": 6,
   "metadata": {
    "id": "9-M8B8STZXyw"
   },
   "outputs": [],
   "source": [
    "# Divide the data into features (X) and labels (y)\n"
   ]
  },
  {
   "cell_type": "code",
   "execution_count": 7,
   "metadata": {
    "id": "rVOGntU5ZXyw"
   },
   "outputs": [],
   "source": [
    "# Fit a DecisionTreeClassifier to the training data\n"
   ]
  },
  {
   "cell_type": "code",
   "execution_count": 8,
   "metadata": {
    "id": "GvIgrRYDaAje"
   },
   "outputs": [],
   "source": [
    "# Take a look at X_test\n"
   ]
  },
  {
   "cell_type": "code",
   "execution_count": 9,
   "metadata": {
    "id": "E5m43lxtZXyw"
   },
   "outputs": [],
   "source": [
    "# Predict on X_test\n"
   ]
  },
  {
   "cell_type": "code",
   "execution_count": 11,
   "metadata": {
    "id": "T0_imIW8ZXyx"
   },
   "outputs": [],
   "source": [
    "# Visualize the decision tree\n",
    "\n",
    "from IPython.display import display, HTML\n",
    "from sklearn.tree import export_graphviz\n",
    "from graphviz import Source\n",
    "\n",
    "graph = Source(export_graphviz(clf,\n",
    "                        out_file=None,\n",
    "                        feature_names=X_train.columns,\n",
    "                        class_names=['No Spikeball', 'Spikeball'],\n",
    "                        filled=True,\n",
    "                        rounded=True))\n",
    "graph"
   ]
  },
  {
   "cell_type": "markdown",
   "metadata": {
    "id": "DHTQ0WKubdwl"
   },
   "source": [
    "# Trying it out on real world data\n",
    "\n",
    "We're going to use the same breast cancer dataset as before."
   ]
  },
  {
   "cell_type": "code",
   "execution_count": 12,
   "metadata": {
    "id": "2V8wE4qpbL2U"
   },
   "outputs": [],
   "source": [
    "url = 'https://raw.githubusercontent.com/ishaandey/node/master/archives/algorithms/workshop/breast_cancer.csv'\n"
   ]
  },
  {
   "cell_type": "code",
   "execution_count": 13,
   "metadata": {
    "id": "uoBb7rIVuDNc"
   },
   "outputs": [],
   "source": [
    "# Clean the data\n"
   ]
  },
  {
   "cell_type": "code",
   "execution_count": 14,
   "metadata": {
    "id": "wgwEAMo5uF8n"
   },
   "outputs": [],
   "source": [
    "# Divide into X and y and do train_test_split\n"
   ]
  },
  {
   "cell_type": "code",
   "execution_count": 15,
   "metadata": {
    "id": "KMvcPQK8bNiu"
   },
   "outputs": [],
   "source": [
    "# Fit a DecisionTreeClassifier to the data\n"
   ]
  },
  {
   "cell_type": "code",
   "execution_count": 16,
   "metadata": {
    "id": "fbKRGNZ1bomS"
   },
   "outputs": [],
   "source": [
    "# Predict on the testing data and compare the predicted to the actual\n"
   ]
  },
  {
   "cell_type": "code",
   "execution_count": 17,
   "metadata": {
    "id": "JurBMy7qbulO"
   },
   "outputs": [],
   "source": [
    "# Get the accuracy score\n"
   ]
  },
  {
   "cell_type": "markdown",
   "metadata": {
    "id": "CozAGfkbfZm8"
   },
   "source": [
    "# Feature importances\n",
    "The DecisionTreeClassifier weighs different features more heavily than other when making its predictions. Let's take a look at the most important features used in this classification."
   ]
  },
  {
   "cell_type": "code",
   "execution_count": 18,
   "metadata": {
    "id": "A0r17GBse5UF"
   },
   "outputs": [],
   "source": [
    "# Get feature importances\n"
   ]
  },
  {
   "cell_type": "markdown",
   "metadata": {
    "id": "uHi94GYNcbNm"
   },
   "source": [
    "# Which depth?\n",
    "\n",
    "Decision trees allow you to specify the depth that the tree is allowed to go to. Deeper trees are able to capture more details in the training set, but it may lead to overfitting. Find the accuracy of the decision tree with max depths of 1, 3, and 5."
   ]
  },
  {
   "cell_type": "code",
   "execution_count": 19,
   "metadata": {
    "id": "xzu5ZVZicD07"
   },
   "outputs": [],
   "source": [
    "# Fit a DecisionTreeClassifier with max_depth=1 and get the accuracy score\n"
   ]
  },
  {
   "cell_type": "code",
   "execution_count": 20,
   "metadata": {
    "id": "fVYo6VOzenh-"
   },
   "outputs": [],
   "source": [
    "# Fit a DecisionTreeClassifier with max_depth=3 and get the accuracy score\n"
   ]
  },
  {
   "cell_type": "code",
   "execution_count": 21,
   "metadata": {
    "id": "zVm6j3utvDvC"
   },
   "outputs": [],
   "source": [
    "# Fit a DecisionTreeClassifier with max_depth=5 and get the accuracy score\n"
   ]
  },
  {
   "cell_type": "markdown",
   "metadata": {
    "id": "ozqFmeTTvWlg"
   },
   "source": [
    "Let's take a look at what feature the max_depth=1 tree used."
   ]
  },
  {
   "cell_type": "code",
   "execution_count": 21,
   "metadata": {
    "id": "sOlfSxn8d0Y2"
   },
   "outputs": [],
   "source": [
    "# Visualize max_depth=1 tree\n",
    "graph = Source(export_graphviz(clf1,\n",
    "                        out_file=None,\n",
    "                        feature_names=X_train.columns,\n",
    "                        class_names=['Benign', 'Malignant'],\n",
    "                        filled=True,\n",
    "                        rounded=True))\n",
    "graph"
   ]
  }
 ],
 "metadata": {
  "colab": {
   "collapsed_sections": [],
   "name": "dt_notes.ipynb",
   "provenance": []
  },
  "kernelspec": {
   "display_name": "Python 3",
   "language": "python",
   "name": "python3"
  },
  "language_info": {
   "codemirror_mode": {
    "name": "ipython",
    "version": 3
   },
   "file_extension": ".py",
   "mimetype": "text/x-python",
   "name": "python",
   "nbconvert_exporter": "python",
   "pygments_lexer": "ipython3",
   "version": "3.6.5"
  }
 },
 "nbformat": 4,
 "nbformat_minor": 1
}
