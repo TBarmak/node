{
  "nbformat": 4,
  "nbformat_minor": 0,
  "metadata": {
    "kernelspec": {
      "display_name": "Python 3",
      "language": "python",
      "name": "python3"
    },
    "language_info": {
      "codemirror_mode": {
        "name": "ipython",
        "version": 3
      },
      "file_extension": ".py",
      "mimetype": "text/x-python",
      "name": "python",
      "nbconvert_exporter": "python",
      "pygments_lexer": "ipython3",
      "version": "3.6.5"
    },
    "colab": {
      "name": "dt_notes.ipynb",
      "provenance": [],
      "collapsed_sections": []
    }
  },
  "cells": [
    {
      "cell_type": "code",
      "metadata": {
        "id": "K5dX-6FuZXyo"
      },
      "source": [
        "# Imports\n"
      ],
      "execution_count": 1,
      "outputs": []
    },
    {
      "cell_type": "code",
      "metadata": {
        "id": "A2h-7VCVZXyt"
      },
      "source": [
        "# Read in the spikeball csv\n"
      ],
      "execution_count": 2,
      "outputs": []
    },
    {
      "cell_type": "code",
      "metadata": {
        "id": "32JL-0GkZXyu"
      },
      "source": [
        "# Take a look at the data\n"
      ],
      "execution_count": 3,
      "outputs": []
    },
    {
      "cell_type": "markdown",
      "metadata": {
        "id": "jyyfnkEiZXyu"
      },
      "source": [
        "Decision trees cannot classify with the strings in the \"weather\" column. We will use pandas.get_dummies to one-hot encode the column. Pandas knows to only modify categorical columns. The \"temperature\", \"friends_free\", and \"played_spikeball\" columns will not change."
      ]
    },
    {
      "cell_type": "code",
      "metadata": {
        "id": "MD1tH5zTZXyv"
      },
      "source": [
        "# One hot encode the weather column\n"
      ],
      "execution_count": 4,
      "outputs": []
    },
    {
      "cell_type": "code",
      "metadata": {
        "id": "FtXJKJl3ZXyv"
      },
      "source": [
        "# Break into training and testing\n"
      ],
      "execution_count": 5,
      "outputs": []
    },
    {
      "cell_type": "code",
      "metadata": {
        "id": "9-M8B8STZXyw"
      },
      "source": [
        "# Divide the data into features (X) and labels (y)\n"
      ],
      "execution_count": 6,
      "outputs": []
    },
    {
      "cell_type": "code",
      "metadata": {
        "id": "rVOGntU5ZXyw"
      },
      "source": [
        "# Fit a DecisionTreeClassifier to the training data\n"
      ],
      "execution_count": 7,
      "outputs": []
    },
    {
      "cell_type": "code",
      "metadata": {
        "id": "GvIgrRYDaAje"
      },
      "source": [
        "# Take a look at X_test\n"
      ],
      "execution_count": 8,
      "outputs": []
    },
    {
      "cell_type": "code",
      "metadata": {
        "id": "E5m43lxtZXyw"
      },
      "source": [
        "# Predict on X_test\n"
      ],
      "execution_count": 9,
      "outputs": []
    },
    {
      "cell_type": "code",
      "metadata": {
        "id": "T0_imIW8ZXyx"
      },
      "source": [
        "# Visualize the decision tree\n",
        "\n",
        "from IPython.display import display, HTML\n",
        "from sklearn.tree import export_graphviz\n",
        "from graphviz import Source\n",
        "\n",
        "graph = Source(export_graphviz(clf,\n",
        "                        out_file=None,\n",
        "                        feature_names=X_train.columns,\n",
        "                        class_names=['No Spikeball', 'Spikeball'],\n",
        "                        filled=True,\n",
        "                        rounded=True))\n",
        "graph"
      ],
      "execution_count": 11,
      "outputs": []
    },
    {
      "cell_type": "markdown",
      "metadata": {
        "id": "DHTQ0WKubdwl"
      },
      "source": [
        "# Trying it out on real world data\n",
        "\n",
        "We're going to use the same breast cancer dataset as before."
      ]
    },
    {
      "cell_type": "code",
      "metadata": {
        "id": "2V8wE4qpbL2U"
      },
      "source": [
        "url = 'https://raw.githubusercontent.com/ishaandey/node/master/archives/algorithms/workshop/breast_cancer.csv'\n"
      ],
      "execution_count": 12,
      "outputs": []
    },
    {
      "cell_type": "code",
      "metadata": {
        "id": "uoBb7rIVuDNc"
      },
      "source": [
        "# Clean the data\n"
      ],
      "execution_count": 13,
      "outputs": []
    },
    {
      "cell_type": "code",
      "metadata": {
        "id": "wgwEAMo5uF8n"
      },
      "source": [
        "# Divide into X and y and do train_test_split\n"
      ],
      "execution_count": 14,
      "outputs": []
    },
    {
      "cell_type": "code",
      "metadata": {
        "id": "KMvcPQK8bNiu"
      },
      "source": [
        "# Fit a DecisionTreeClassifier to the data\n"
      ],
      "execution_count": 15,
      "outputs": []
    },
    {
      "cell_type": "code",
      "metadata": {
        "id": "fbKRGNZ1bomS"
      },
      "source": [
        "# Predict on the testing data and compare the predicted to the actual\n"
      ],
      "execution_count": 16,
      "outputs": []
    },
    {
      "cell_type": "code",
      "metadata": {
        "id": "JurBMy7qbulO"
      },
      "source": [
        "# Get the accuracy score\n"
      ],
      "execution_count": 17,
      "outputs": []
    },
    {
      "cell_type": "markdown",
      "metadata": {
        "id": "CozAGfkbfZm8"
      },
      "source": [
        "# Feature importances\n",
        "The DecisionTreeClassifier weighs different features more heavily than other when making its predictions. Let's take a look at the most important features used in this classification."
      ]
    },
    {
      "cell_type": "code",
      "metadata": {
        "id": "A0r17GBse5UF"
      },
      "source": [
        "# Get feature importances\n"
      ],
      "execution_count": 18,
      "outputs": []
    },
    {
      "cell_type": "markdown",
      "metadata": {
        "id": "uHi94GYNcbNm"
      },
      "source": [
        "# Which depth?\n",
        "\n",
        "Decision trees allow you to specify the depth that the tree is allowed to go to. Deeper trees are able to capture more details in the training set, but it may lead to overfitting. Find the accuracy of the decision tree with max depths of 1, 3, and 5."
      ]
    },
    {
      "cell_type": "code",
      "metadata": {
        "id": "xzu5ZVZicD07"
      },
      "source": [
        "# Fit a DecisionTreeClassifier with max_depth=1 and get the accuracy score\n"
      ],
      "execution_count": 19,
      "outputs": []
    },
    {
      "cell_type": "code",
      "metadata": {
        "id": "fVYo6VOzenh-"
      },
      "source": [
        "# Fit a DecisionTreeClassifier with max_depth=3 and get the accuracy score\n"
      ],
      "execution_count": 20,
      "outputs": []
    },
    {
      "cell_type": "code",
      "metadata": {
        "id": "zVm6j3utvDvC"
      },
      "source": [
        "# Fit a DecisionTreeClassifier with max_depth=5 and get the accuracy score\n"
      ],
      "execution_count": 21,
      "outputs": []
    },
    {
      "cell_type": "markdown",
      "metadata": {
        "id": "ozqFmeTTvWlg"
      },
      "source": [
        "Let's take a look at what feature the max_depth=1 tree used."
      ]
    },
    {
      "cell_type": "code",
      "metadata": {
        "id": "sOlfSxn8d0Y2"
      },
      "source": [
        "# Visualize max_depth=1 tree\n",
        "graph = Source(export_graphviz(clf1,\n",
        "                        out_file=None,\n",
        "                        feature_names=X_train.columns,\n",
        "                        class_names=['Benign', 'Malignant'],\n",
        "                        filled=True,\n",
        "                        rounded=True))\n",
        "graph"
      ],
      "execution_count": 21,
      "outputs": []
    }
  ]
}