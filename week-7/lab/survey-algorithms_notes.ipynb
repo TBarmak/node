{
 "cells": [
  {
   "cell_type": "markdown",
   "metadata": {
    "id": "u687v7V4mTlJ"
   },
   "source": [
    "# The Imports"
   ]
  },
  {
   "cell_type": "code",
   "execution_count": 1,
   "metadata": {
    "id": "lT-ootBhlu_B"
   },
   "outputs": [],
   "source": [
    "#First, the standard imports\n",
    "import pandas as pd\n",
    "import numpy as np\n",
    "\n",
    "#Then, the accuracy imports\n",
    "from sklearn.metrics import accuracy_score\n",
    "from sklearn.model_selection import train_test_split"
   ]
  },
  {
   "cell_type": "markdown",
   "metadata": {
    "id": "XWljVH1ZmXWq"
   },
   "source": [
    "# Loading and Preprocessing Data"
   ]
  },
  {
   "cell_type": "markdown",
   "metadata": {
    "id": "8SfEg7q4naIJ"
   },
   "source": [
    "Use the same methods you used last time to clean up the data!"
   ]
  },
  {
   "cell_type": "code",
   "execution_count": null,
   "metadata": {
    "id": "otubgpHnsVKx"
   },
   "outputs": [],
   "source": []
  },
  {
   "cell_type": "markdown",
   "metadata": {
    "id": "GWwCVJsEnhg7"
   },
   "source": [
    "# Random Forest"
   ]
  },
  {
   "cell_type": "markdown",
   "metadata": {
    "id": "Z_rz7Xw-nj15"
   },
   "source": [
    "Create a random forest model and use it on the cleaned up data. Use the same train_test_split techniques we saw during workshop.\n",
    "\n",
    "After you report accuracy, use the code provided in workshop to display one of the decision trees of the model."
   ]
  },
  {
   "cell_type": "code",
   "execution_count": 2,
   "metadata": {
    "id": "_QzegLbSsWhF"
   },
   "outputs": [],
   "source": [
    "from sklearn.ensemble import RandomForestClassifier"
   ]
  },
  {
   "cell_type": "code",
   "execution_count": null,
   "metadata": {
    "id": "07C_hf1KssIk"
   },
   "outputs": [],
   "source": []
  },
  {
   "cell_type": "markdown",
   "metadata": {
    "id": "wri2qslPn9Oo"
   },
   "source": [
    "# K-Nearest Neighbors"
   ]
  },
  {
   "cell_type": "markdown",
   "metadata": {
    "id": "T0l3SaQaoA1i"
   },
   "source": [
    "Create a KNN model using k=5 neighbors.\n",
    "\n",
    "Report the accuracy and repeat the previous step using different k values from 1-4.\n"
   ]
  },
  {
   "cell_type": "code",
   "execution_count": 3,
   "metadata": {
    "id": "W21Pi3ZUpIOK"
   },
   "outputs": [],
   "source": [
    "from sklearn.neighbors import KNeighborsClassifier"
   ]
  },
  {
   "cell_type": "code",
   "execution_count": null,
   "metadata": {
    "id": "xMPKJas0sqGV"
   },
   "outputs": [],
   "source": []
  },
  {
   "cell_type": "markdown",
   "metadata": {
    "id": "1H4MtQExqYIQ"
   },
   "source": [
    "Which value of k gives the best accuracy on the test set? Is KNN or Random Forest better for this data?\n",
    "\n",
    "Why do we think this value of k gives us the best result?"
   ]
  },
  {
   "cell_type": "code",
   "execution_count": null,
   "metadata": {},
   "outputs": [],
   "source": []
  }
 ],
 "metadata": {
  "colab": {
   "name": "Week_7_lab.ipynb",
   "provenance": []
  },
  "kernelspec": {
   "display_name": "Python 3",
   "language": "python",
   "name": "python3"
  },
  "language_info": {
   "codemirror_mode": {
    "name": "ipython",
    "version": 3
   },
   "file_extension": ".py",
   "mimetype": "text/x-python",
   "name": "python",
   "nbconvert_exporter": "python",
   "pygments_lexer": "ipython3",
   "version": "3.6.5"
  }
 },
 "nbformat": 4,
 "nbformat_minor": 1
}
