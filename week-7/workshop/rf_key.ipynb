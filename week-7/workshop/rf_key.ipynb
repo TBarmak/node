{
  "nbformat": 4,
  "nbformat_minor": 0,
  "metadata": {
    "colab": {
      "name": "RandomForestWeek7.ipynb",
      "provenance": []
    },
    "kernelspec": {
      "name": "python3",
      "display_name": "Python 3"
    }
  },
  "cells": [
    {
      "cell_type": "markdown",
      "metadata": {
        "id": "iM4e1_tLGea7"
      },
      "source": [
        "## Imports\n"
      ]
    },
    {
      "cell_type": "code",
      "metadata": {
        "id": "Q95YmQirZTdd"
      },
      "source": [
        "import numpy as np\n",
        "import pandas as pd"
      ],
      "execution_count": null,
      "outputs": []
    },
    {
      "cell_type": "code",
      "metadata": {
        "id": "B18kCBdQZXMm",
        "outputId": "9aa1b66a-9f2c-4284-cade-71927c3a702c",
        "colab": {
          "base_uri": "https://localhost:8080/",
          "height": 241
        }
      },
      "source": [
        "df  = pd.read_csv(\"breast_cancer_data.csv\")\n",
        "df.head()"
      ],
      "execution_count": null,
      "outputs": [
        {
          "output_type": "execute_result",
          "data": {
            "text/html": [
              "<div>\n",
              "<style scoped>\n",
              "    .dataframe tbody tr th:only-of-type {\n",
              "        vertical-align: middle;\n",
              "    }\n",
              "\n",
              "    .dataframe tbody tr th {\n",
              "        vertical-align: top;\n",
              "    }\n",
              "\n",
              "    .dataframe thead th {\n",
              "        text-align: right;\n",
              "    }\n",
              "</style>\n",
              "<table border=\"1\" class=\"dataframe\">\n",
              "  <thead>\n",
              "    <tr style=\"text-align: right;\">\n",
              "      <th></th>\n",
              "      <th>id</th>\n",
              "      <th>diagnosis</th>\n",
              "      <th>radius_mean</th>\n",
              "      <th>texture_mean</th>\n",
              "      <th>perimeter_mean</th>\n",
              "      <th>area_mean</th>\n",
              "      <th>smoothness_mean</th>\n",
              "      <th>compactness_mean</th>\n",
              "      <th>concavity_mean</th>\n",
              "      <th>concave points_mean</th>\n",
              "      <th>symmetry_mean</th>\n",
              "      <th>fractal_dimension_mean</th>\n",
              "      <th>radius_se</th>\n",
              "      <th>texture_se</th>\n",
              "      <th>perimeter_se</th>\n",
              "      <th>area_se</th>\n",
              "      <th>smoothness_se</th>\n",
              "      <th>compactness_se</th>\n",
              "      <th>concavity_se</th>\n",
              "      <th>concave points_se</th>\n",
              "      <th>symmetry_se</th>\n",
              "      <th>fractal_dimension_se</th>\n",
              "      <th>radius_worst</th>\n",
              "      <th>texture_worst</th>\n",
              "      <th>perimeter_worst</th>\n",
              "      <th>area_worst</th>\n",
              "      <th>smoothness_worst</th>\n",
              "      <th>compactness_worst</th>\n",
              "      <th>concavity_worst</th>\n",
              "      <th>concave points_worst</th>\n",
              "      <th>symmetry_worst</th>\n",
              "      <th>fractal_dimension_worst</th>\n",
              "      <th>Unnamed: 32</th>\n",
              "    </tr>\n",
              "  </thead>\n",
              "  <tbody>\n",
              "    <tr>\n",
              "      <th>0</th>\n",
              "      <td>842302</td>\n",
              "      <td>M</td>\n",
              "      <td>17.99</td>\n",
              "      <td>10.38</td>\n",
              "      <td>122.80</td>\n",
              "      <td>1001.0</td>\n",
              "      <td>0.11840</td>\n",
              "      <td>0.27760</td>\n",
              "      <td>0.3001</td>\n",
              "      <td>0.14710</td>\n",
              "      <td>0.2419</td>\n",
              "      <td>0.07871</td>\n",
              "      <td>1.0950</td>\n",
              "      <td>0.9053</td>\n",
              "      <td>8.589</td>\n",
              "      <td>153.40</td>\n",
              "      <td>0.006399</td>\n",
              "      <td>0.04904</td>\n",
              "      <td>0.05373</td>\n",
              "      <td>0.01587</td>\n",
              "      <td>0.03003</td>\n",
              "      <td>0.006193</td>\n",
              "      <td>25.38</td>\n",
              "      <td>17.33</td>\n",
              "      <td>184.60</td>\n",
              "      <td>2019.0</td>\n",
              "      <td>0.1622</td>\n",
              "      <td>0.6656</td>\n",
              "      <td>0.7119</td>\n",
              "      <td>0.2654</td>\n",
              "      <td>0.4601</td>\n",
              "      <td>0.11890</td>\n",
              "      <td>NaN</td>\n",
              "    </tr>\n",
              "    <tr>\n",
              "      <th>1</th>\n",
              "      <td>842517</td>\n",
              "      <td>M</td>\n",
              "      <td>20.57</td>\n",
              "      <td>17.77</td>\n",
              "      <td>132.90</td>\n",
              "      <td>1326.0</td>\n",
              "      <td>0.08474</td>\n",
              "      <td>0.07864</td>\n",
              "      <td>0.0869</td>\n",
              "      <td>0.07017</td>\n",
              "      <td>0.1812</td>\n",
              "      <td>0.05667</td>\n",
              "      <td>0.5435</td>\n",
              "      <td>0.7339</td>\n",
              "      <td>3.398</td>\n",
              "      <td>74.08</td>\n",
              "      <td>0.005225</td>\n",
              "      <td>0.01308</td>\n",
              "      <td>0.01860</td>\n",
              "      <td>0.01340</td>\n",
              "      <td>0.01389</td>\n",
              "      <td>0.003532</td>\n",
              "      <td>24.99</td>\n",
              "      <td>23.41</td>\n",
              "      <td>158.80</td>\n",
              "      <td>1956.0</td>\n",
              "      <td>0.1238</td>\n",
              "      <td>0.1866</td>\n",
              "      <td>0.2416</td>\n",
              "      <td>0.1860</td>\n",
              "      <td>0.2750</td>\n",
              "      <td>0.08902</td>\n",
              "      <td>NaN</td>\n",
              "    </tr>\n",
              "    <tr>\n",
              "      <th>2</th>\n",
              "      <td>84300903</td>\n",
              "      <td>M</td>\n",
              "      <td>19.69</td>\n",
              "      <td>21.25</td>\n",
              "      <td>130.00</td>\n",
              "      <td>1203.0</td>\n",
              "      <td>0.10960</td>\n",
              "      <td>0.15990</td>\n",
              "      <td>0.1974</td>\n",
              "      <td>0.12790</td>\n",
              "      <td>0.2069</td>\n",
              "      <td>0.05999</td>\n",
              "      <td>0.7456</td>\n",
              "      <td>0.7869</td>\n",
              "      <td>4.585</td>\n",
              "      <td>94.03</td>\n",
              "      <td>0.006150</td>\n",
              "      <td>0.04006</td>\n",
              "      <td>0.03832</td>\n",
              "      <td>0.02058</td>\n",
              "      <td>0.02250</td>\n",
              "      <td>0.004571</td>\n",
              "      <td>23.57</td>\n",
              "      <td>25.53</td>\n",
              "      <td>152.50</td>\n",
              "      <td>1709.0</td>\n",
              "      <td>0.1444</td>\n",
              "      <td>0.4245</td>\n",
              "      <td>0.4504</td>\n",
              "      <td>0.2430</td>\n",
              "      <td>0.3613</td>\n",
              "      <td>0.08758</td>\n",
              "      <td>NaN</td>\n",
              "    </tr>\n",
              "    <tr>\n",
              "      <th>3</th>\n",
              "      <td>84348301</td>\n",
              "      <td>M</td>\n",
              "      <td>11.42</td>\n",
              "      <td>20.38</td>\n",
              "      <td>77.58</td>\n",
              "      <td>386.1</td>\n",
              "      <td>0.14250</td>\n",
              "      <td>0.28390</td>\n",
              "      <td>0.2414</td>\n",
              "      <td>0.10520</td>\n",
              "      <td>0.2597</td>\n",
              "      <td>0.09744</td>\n",
              "      <td>0.4956</td>\n",
              "      <td>1.1560</td>\n",
              "      <td>3.445</td>\n",
              "      <td>27.23</td>\n",
              "      <td>0.009110</td>\n",
              "      <td>0.07458</td>\n",
              "      <td>0.05661</td>\n",
              "      <td>0.01867</td>\n",
              "      <td>0.05963</td>\n",
              "      <td>0.009208</td>\n",
              "      <td>14.91</td>\n",
              "      <td>26.50</td>\n",
              "      <td>98.87</td>\n",
              "      <td>567.7</td>\n",
              "      <td>0.2098</td>\n",
              "      <td>0.8663</td>\n",
              "      <td>0.6869</td>\n",
              "      <td>0.2575</td>\n",
              "      <td>0.6638</td>\n",
              "      <td>0.17300</td>\n",
              "      <td>NaN</td>\n",
              "    </tr>\n",
              "    <tr>\n",
              "      <th>4</th>\n",
              "      <td>84358402</td>\n",
              "      <td>M</td>\n",
              "      <td>20.29</td>\n",
              "      <td>14.34</td>\n",
              "      <td>135.10</td>\n",
              "      <td>1297.0</td>\n",
              "      <td>0.10030</td>\n",
              "      <td>0.13280</td>\n",
              "      <td>0.1980</td>\n",
              "      <td>0.10430</td>\n",
              "      <td>0.1809</td>\n",
              "      <td>0.05883</td>\n",
              "      <td>0.7572</td>\n",
              "      <td>0.7813</td>\n",
              "      <td>5.438</td>\n",
              "      <td>94.44</td>\n",
              "      <td>0.011490</td>\n",
              "      <td>0.02461</td>\n",
              "      <td>0.05688</td>\n",
              "      <td>0.01885</td>\n",
              "      <td>0.01756</td>\n",
              "      <td>0.005115</td>\n",
              "      <td>22.54</td>\n",
              "      <td>16.67</td>\n",
              "      <td>152.20</td>\n",
              "      <td>1575.0</td>\n",
              "      <td>0.1374</td>\n",
              "      <td>0.2050</td>\n",
              "      <td>0.4000</td>\n",
              "      <td>0.1625</td>\n",
              "      <td>0.2364</td>\n",
              "      <td>0.07678</td>\n",
              "      <td>NaN</td>\n",
              "    </tr>\n",
              "  </tbody>\n",
              "</table>\n",
              "</div>"
            ],
            "text/plain": [
              "         id diagnosis  ...  fractal_dimension_worst  Unnamed: 32\n",
              "0    842302         M  ...                  0.11890          NaN\n",
              "1    842517         M  ...                  0.08902          NaN\n",
              "2  84300903         M  ...                  0.08758          NaN\n",
              "3  84348301         M  ...                  0.17300          NaN\n",
              "4  84358402         M  ...                  0.07678          NaN\n",
              "\n",
              "[5 rows x 33 columns]"
            ]
          },
          "metadata": {
            "tags": []
          },
          "execution_count": 4
        }
      ]
    },
    {
      "cell_type": "markdown",
      "metadata": {
        "id": "QVxxstc0bS6g"
      },
      "source": [
        "## Data Cleaning\n"
      ]
    },
    {
      "cell_type": "code",
      "metadata": {
        "id": "8WytMVBCZek-"
      },
      "source": [
        "df = df.drop(columns=['id','Unnamed: 32'])\n"
      ],
      "execution_count": null,
      "outputs": []
    },
    {
      "cell_type": "code",
      "metadata": {
        "id": "mUDMoQsRZsCL",
        "outputId": "9c8fd559-6251-48d7-f8c6-0a9df6669c48",
        "colab": {
          "base_uri": "https://localhost:8080/",
          "height": 241
        }
      },
      "source": [
        "df['diagnosis'] = df['diagnosis'].map({'M':1,'B':0})\n",
        "df.head()"
      ],
      "execution_count": null,
      "outputs": [
        {
          "output_type": "execute_result",
          "data": {
            "text/html": [
              "<div>\n",
              "<style scoped>\n",
              "    .dataframe tbody tr th:only-of-type {\n",
              "        vertical-align: middle;\n",
              "    }\n",
              "\n",
              "    .dataframe tbody tr th {\n",
              "        vertical-align: top;\n",
              "    }\n",
              "\n",
              "    .dataframe thead th {\n",
              "        text-align: right;\n",
              "    }\n",
              "</style>\n",
              "<table border=\"1\" class=\"dataframe\">\n",
              "  <thead>\n",
              "    <tr style=\"text-align: right;\">\n",
              "      <th></th>\n",
              "      <th>diagnosis</th>\n",
              "      <th>radius_mean</th>\n",
              "      <th>texture_mean</th>\n",
              "      <th>perimeter_mean</th>\n",
              "      <th>area_mean</th>\n",
              "      <th>smoothness_mean</th>\n",
              "      <th>compactness_mean</th>\n",
              "      <th>concavity_mean</th>\n",
              "      <th>concave points_mean</th>\n",
              "      <th>symmetry_mean</th>\n",
              "      <th>fractal_dimension_mean</th>\n",
              "      <th>radius_se</th>\n",
              "      <th>texture_se</th>\n",
              "      <th>perimeter_se</th>\n",
              "      <th>area_se</th>\n",
              "      <th>smoothness_se</th>\n",
              "      <th>compactness_se</th>\n",
              "      <th>concavity_se</th>\n",
              "      <th>concave points_se</th>\n",
              "      <th>symmetry_se</th>\n",
              "      <th>fractal_dimension_se</th>\n",
              "      <th>radius_worst</th>\n",
              "      <th>texture_worst</th>\n",
              "      <th>perimeter_worst</th>\n",
              "      <th>area_worst</th>\n",
              "      <th>smoothness_worst</th>\n",
              "      <th>compactness_worst</th>\n",
              "      <th>concavity_worst</th>\n",
              "      <th>concave points_worst</th>\n",
              "      <th>symmetry_worst</th>\n",
              "      <th>fractal_dimension_worst</th>\n",
              "    </tr>\n",
              "  </thead>\n",
              "  <tbody>\n",
              "    <tr>\n",
              "      <th>0</th>\n",
              "      <td>1</td>\n",
              "      <td>17.99</td>\n",
              "      <td>10.38</td>\n",
              "      <td>122.80</td>\n",
              "      <td>1001.0</td>\n",
              "      <td>0.11840</td>\n",
              "      <td>0.27760</td>\n",
              "      <td>0.3001</td>\n",
              "      <td>0.14710</td>\n",
              "      <td>0.2419</td>\n",
              "      <td>0.07871</td>\n",
              "      <td>1.0950</td>\n",
              "      <td>0.9053</td>\n",
              "      <td>8.589</td>\n",
              "      <td>153.40</td>\n",
              "      <td>0.006399</td>\n",
              "      <td>0.04904</td>\n",
              "      <td>0.05373</td>\n",
              "      <td>0.01587</td>\n",
              "      <td>0.03003</td>\n",
              "      <td>0.006193</td>\n",
              "      <td>25.38</td>\n",
              "      <td>17.33</td>\n",
              "      <td>184.60</td>\n",
              "      <td>2019.0</td>\n",
              "      <td>0.1622</td>\n",
              "      <td>0.6656</td>\n",
              "      <td>0.7119</td>\n",
              "      <td>0.2654</td>\n",
              "      <td>0.4601</td>\n",
              "      <td>0.11890</td>\n",
              "    </tr>\n",
              "    <tr>\n",
              "      <th>1</th>\n",
              "      <td>1</td>\n",
              "      <td>20.57</td>\n",
              "      <td>17.77</td>\n",
              "      <td>132.90</td>\n",
              "      <td>1326.0</td>\n",
              "      <td>0.08474</td>\n",
              "      <td>0.07864</td>\n",
              "      <td>0.0869</td>\n",
              "      <td>0.07017</td>\n",
              "      <td>0.1812</td>\n",
              "      <td>0.05667</td>\n",
              "      <td>0.5435</td>\n",
              "      <td>0.7339</td>\n",
              "      <td>3.398</td>\n",
              "      <td>74.08</td>\n",
              "      <td>0.005225</td>\n",
              "      <td>0.01308</td>\n",
              "      <td>0.01860</td>\n",
              "      <td>0.01340</td>\n",
              "      <td>0.01389</td>\n",
              "      <td>0.003532</td>\n",
              "      <td>24.99</td>\n",
              "      <td>23.41</td>\n",
              "      <td>158.80</td>\n",
              "      <td>1956.0</td>\n",
              "      <td>0.1238</td>\n",
              "      <td>0.1866</td>\n",
              "      <td>0.2416</td>\n",
              "      <td>0.1860</td>\n",
              "      <td>0.2750</td>\n",
              "      <td>0.08902</td>\n",
              "    </tr>\n",
              "    <tr>\n",
              "      <th>2</th>\n",
              "      <td>1</td>\n",
              "      <td>19.69</td>\n",
              "      <td>21.25</td>\n",
              "      <td>130.00</td>\n",
              "      <td>1203.0</td>\n",
              "      <td>0.10960</td>\n",
              "      <td>0.15990</td>\n",
              "      <td>0.1974</td>\n",
              "      <td>0.12790</td>\n",
              "      <td>0.2069</td>\n",
              "      <td>0.05999</td>\n",
              "      <td>0.7456</td>\n",
              "      <td>0.7869</td>\n",
              "      <td>4.585</td>\n",
              "      <td>94.03</td>\n",
              "      <td>0.006150</td>\n",
              "      <td>0.04006</td>\n",
              "      <td>0.03832</td>\n",
              "      <td>0.02058</td>\n",
              "      <td>0.02250</td>\n",
              "      <td>0.004571</td>\n",
              "      <td>23.57</td>\n",
              "      <td>25.53</td>\n",
              "      <td>152.50</td>\n",
              "      <td>1709.0</td>\n",
              "      <td>0.1444</td>\n",
              "      <td>0.4245</td>\n",
              "      <td>0.4504</td>\n",
              "      <td>0.2430</td>\n",
              "      <td>0.3613</td>\n",
              "      <td>0.08758</td>\n",
              "    </tr>\n",
              "    <tr>\n",
              "      <th>3</th>\n",
              "      <td>1</td>\n",
              "      <td>11.42</td>\n",
              "      <td>20.38</td>\n",
              "      <td>77.58</td>\n",
              "      <td>386.1</td>\n",
              "      <td>0.14250</td>\n",
              "      <td>0.28390</td>\n",
              "      <td>0.2414</td>\n",
              "      <td>0.10520</td>\n",
              "      <td>0.2597</td>\n",
              "      <td>0.09744</td>\n",
              "      <td>0.4956</td>\n",
              "      <td>1.1560</td>\n",
              "      <td>3.445</td>\n",
              "      <td>27.23</td>\n",
              "      <td>0.009110</td>\n",
              "      <td>0.07458</td>\n",
              "      <td>0.05661</td>\n",
              "      <td>0.01867</td>\n",
              "      <td>0.05963</td>\n",
              "      <td>0.009208</td>\n",
              "      <td>14.91</td>\n",
              "      <td>26.50</td>\n",
              "      <td>98.87</td>\n",
              "      <td>567.7</td>\n",
              "      <td>0.2098</td>\n",
              "      <td>0.8663</td>\n",
              "      <td>0.6869</td>\n",
              "      <td>0.2575</td>\n",
              "      <td>0.6638</td>\n",
              "      <td>0.17300</td>\n",
              "    </tr>\n",
              "    <tr>\n",
              "      <th>4</th>\n",
              "      <td>1</td>\n",
              "      <td>20.29</td>\n",
              "      <td>14.34</td>\n",
              "      <td>135.10</td>\n",
              "      <td>1297.0</td>\n",
              "      <td>0.10030</td>\n",
              "      <td>0.13280</td>\n",
              "      <td>0.1980</td>\n",
              "      <td>0.10430</td>\n",
              "      <td>0.1809</td>\n",
              "      <td>0.05883</td>\n",
              "      <td>0.7572</td>\n",
              "      <td>0.7813</td>\n",
              "      <td>5.438</td>\n",
              "      <td>94.44</td>\n",
              "      <td>0.011490</td>\n",
              "      <td>0.02461</td>\n",
              "      <td>0.05688</td>\n",
              "      <td>0.01885</td>\n",
              "      <td>0.01756</td>\n",
              "      <td>0.005115</td>\n",
              "      <td>22.54</td>\n",
              "      <td>16.67</td>\n",
              "      <td>152.20</td>\n",
              "      <td>1575.0</td>\n",
              "      <td>0.1374</td>\n",
              "      <td>0.2050</td>\n",
              "      <td>0.4000</td>\n",
              "      <td>0.1625</td>\n",
              "      <td>0.2364</td>\n",
              "      <td>0.07678</td>\n",
              "    </tr>\n",
              "  </tbody>\n",
              "</table>\n",
              "</div>"
            ],
            "text/plain": [
              "   diagnosis  radius_mean  ...  symmetry_worst  fractal_dimension_worst\n",
              "0          1        17.99  ...          0.4601                  0.11890\n",
              "1          1        20.57  ...          0.2750                  0.08902\n",
              "2          1        19.69  ...          0.3613                  0.08758\n",
              "3          1        11.42  ...          0.6638                  0.17300\n",
              "4          1        20.29  ...          0.2364                  0.07678\n",
              "\n",
              "[5 rows x 31 columns]"
            ]
          },
          "metadata": {
            "tags": []
          },
          "execution_count": 6
        }
      ]
    },
    {
      "cell_type": "markdown",
      "metadata": {
        "id": "BqH-G7uMB4qd"
      },
      "source": [
        "## Splitting up the data\n"
      ]
    },
    {
      "cell_type": "code",
      "metadata": {
        "id": "ExoMON-7RUwz"
      },
      "source": [
        "from sklearn.tree import DecisionTreeClassifier\n",
        "from sklearn.ensemble import RandomForestClassifier\n",
        "\n",
        "from sklearn.model_selection import train_test_split"
      ],
      "execution_count": null,
      "outputs": []
    },
    {
      "cell_type": "code",
      "metadata": {
        "id": "PZTWZ3GIB7mh"
      },
      "source": [
        "X = df.drop(columns=['diagnosis'])\n",
        "y = df['diagnosis']"
      ],
      "execution_count": null,
      "outputs": []
    },
    {
      "cell_type": "code",
      "metadata": {
        "id": "WETPZG6ACFL9"
      },
      "source": [
        "X_train, X_test, y_train, y_test = train_test_split(X, y, test_size=0.2, random_state=42)"
      ],
      "execution_count": null,
      "outputs": []
    },
    {
      "cell_type": "markdown",
      "metadata": {
        "id": "wFpkKMWZCPrO"
      },
      "source": [
        "## Training and testing\n"
      ]
    },
    {
      "cell_type": "code",
      "metadata": {
        "id": "wysjAyiNCSwz"
      },
      "source": [
        "clf = RandomForestClassifier()\n"
      ],
      "execution_count": null,
      "outputs": []
    },
    {
      "cell_type": "code",
      "metadata": {
        "id": "P4SCSzBsCbES",
        "outputId": "6d83c329-a8dc-41b5-a9a3-2807ec488141",
        "colab": {
          "base_uri": "https://localhost:8080/",
          "height": 156
        }
      },
      "source": [
        "clf.fit(X_train,y_train)"
      ],
      "execution_count": null,
      "outputs": [
        {
          "output_type": "execute_result",
          "data": {
            "text/plain": [
              "RandomForestClassifier(bootstrap=True, ccp_alpha=0.0, class_weight=None,\n",
              "                       criterion='gini', max_depth=None, max_features='auto',\n",
              "                       max_leaf_nodes=None, max_samples=None,\n",
              "                       min_impurity_decrease=0.0, min_impurity_split=None,\n",
              "                       min_samples_leaf=1, min_samples_split=2,\n",
              "                       min_weight_fraction_leaf=0.0, n_estimators=100,\n",
              "                       n_jobs=None, oob_score=False, random_state=None,\n",
              "                       verbose=0, warm_start=False)"
            ]
          },
          "metadata": {
            "tags": []
          },
          "execution_count": 11
        }
      ]
    },
    {
      "cell_type": "code",
      "metadata": {
        "id": "m6V0DToKCjeI",
        "outputId": "7de7e02f-e6e5-43bf-c8ef-82b95861bdce",
        "colab": {
          "base_uri": "https://localhost:8080/",
          "height": 69
        }
      },
      "source": [
        "predicted = clf.predict(X_test)\n",
        "actual = np.array(y_test)\n",
        "\n",
        "print('Look at first 10 predictions:')\n",
        "print('Predicted: ',predicted[:10])\n",
        "print('Actual:    ',actual[:10])"
      ],
      "execution_count": null,
      "outputs": [
        {
          "output_type": "stream",
          "text": [
            "Look at first 10 predictions:\n",
            "Predicted:  [0 1 1 0 0 1 1 1 1 0]\n",
            "Actual:     [0 1 1 0 0 1 1 1 0 0]\n"
          ],
          "name": "stdout"
        }
      ]
    },
    {
      "cell_type": "code",
      "metadata": {
        "id": "Jan412G_RYYO"
      },
      "source": [
        "from sklearn.metrics import accuracy_score"
      ],
      "execution_count": null,
      "outputs": []
    },
    {
      "cell_type": "code",
      "metadata": {
        "id": "70sJXhQlCo6e",
        "outputId": "b3a0cffb-d492-41e0-aea1-30bae66e69d0",
        "colab": {
          "base_uri": "https://localhost:8080/",
          "height": 35
        }
      },
      "source": [
        "accuracy_score(predicted,actual)"
      ],
      "execution_count": null,
      "outputs": [
        {
          "output_type": "execute_result",
          "data": {
            "text/plain": [
              "0.9649122807017544"
            ]
          },
          "metadata": {
            "tags": []
          },
          "execution_count": 14
        }
      ]
    },
    {
      "cell_type": "markdown",
      "metadata": {
        "id": "0f7Q0j6nC3Vw"
      },
      "source": [
        "## Visualization\n"
      ]
    },
    {
      "cell_type": "code",
      "metadata": {
        "id": "msPEtoMRRbrh"
      },
      "source": [
        "from IPython.display import display, HTML"
      ],
      "execution_count": null,
      "outputs": []
    },
    {
      "cell_type": "code",
      "metadata": {
        "id": "Ej3V0HmyFWPk"
      },
      "source": [
        "estimator = clf.estimators_[3]"
      ],
      "execution_count": null,
      "outputs": []
    },
    {
      "cell_type": "code",
      "metadata": {
        "id": "r2chRIm1VZkj",
        "outputId": "67394f8b-7981-4fcf-f4dc-e1cb96f4a5df",
        "colab": {
          "base_uri": "https://localhost:8080/",
          "height": 1000
        }
      },
      "source": [
        "from sklearn.tree import export_graphviz\n",
        "from IPython.display import SVG\n",
        "from graphviz import Source\n",
        "#!pip install graphviz\n",
        "from google.colab import files\n",
        "\n",
        "graph = Source(export_graphviz(estimator,\n",
        "                        out_file=None,\n",
        "                        feature_names=X_train.columns,\n",
        "                        class_names=['Benign', 'Malignant'],\n",
        "                        filled=True,\n",
        "                        rounded=True))\n",
        "\n",
        "graph\n",
        "# save to file\n",
        "png_bytes = graph.pipe(format='png')\n",
        "with open('tree.png', 'wb') as f:\n",
        "  f.write(png_bytes)\n",
        "files.download('tree.png')\n",
        "\n",
        "# display in notebook\n",
        "SVG(graph.pipe(format='svg'))"
      ],
      "execution_count": null,
      "outputs": [
        {
          "output_type": "display_data",
          "data": {
            "application/javascript": [
              "\n",
              "    async function download(id, filename, size) {\n",
              "      if (!google.colab.kernel.accessAllowed) {\n",
              "        return;\n",
              "      }\n",
              "      const div = document.createElement('div');\n",
              "      const label = document.createElement('label');\n",
              "      label.textContent = `Downloading \"${filename}\": `;\n",
              "      div.appendChild(label);\n",
              "      const progress = document.createElement('progress');\n",
              "      progress.max = size;\n",
              "      div.appendChild(progress);\n",
              "      document.body.appendChild(div);\n",
              "\n",
              "      const buffers = [];\n",
              "      let downloaded = 0;\n",
              "\n",
              "      const channel = await google.colab.kernel.comms.open(id);\n",
              "      // Send a message to notify the kernel that we're ready.\n",
              "      channel.send({})\n",
              "\n",
              "      for await (const message of channel.messages) {\n",
              "        // Send a message to notify the kernel that we're ready.\n",
              "        channel.send({})\n",
              "        if (message.buffers) {\n",
              "          for (const buffer of message.buffers) {\n",
              "            buffers.push(buffer);\n",
              "            downloaded += buffer.byteLength;\n",
              "            progress.value = downloaded;\n",
              "          }\n",
              "        }\n",
              "      }\n",
              "      const blob = new Blob(buffers, {type: 'application/binary'});\n",
              "      const a = document.createElement('a');\n",
              "      a.href = window.URL.createObjectURL(blob);\n",
              "      a.download = filename;\n",
              "      div.appendChild(a);\n",
              "      a.click();\n",
              "      div.remove();\n",
              "    }\n",
              "  "
            ],
            "text/plain": [
              "<IPython.core.display.Javascript object>"
            ]
          },
          "metadata": {
            "tags": []
          }
        },
        {
          "output_type": "display_data",
          "data": {
            "application/javascript": [
              "download(\"download_7485364e-6abc-4f72-9f96-fe102a93473e\", \"tree.png\", 266919)"
            ],
            "text/plain": [
              "<IPython.core.display.Javascript object>"
            ]
          },
          "metadata": {
            "tags": []
          }
        },
        {
          "output_type": "execute_result",
          "data": {
            "text/plain": [
              "<IPython.core.display.SVG object>"
            ],
            "image/svg+xml": "<svg height=\"790pt\" viewBox=\"0.00 0.00 1543.50 790.00\" width=\"1544pt\" xmlns=\"http://www.w3.org/2000/svg\" xmlns:xlink=\"http://www.w3.org/1999/xlink\">\n<g class=\"graph\" id=\"graph0\" transform=\"scale(1 1) rotate(0) translate(4 786)\">\n<title>Tree</title>\n<polygon fill=\"#ffffff\" points=\"-4,4 -4,-786 1539.5,-786 1539.5,4 -4,4\" stroke=\"transparent\"/>\n<!-- 0 -->\n<g class=\"node\" id=\"node1\">\n<title>0</title>\n<path d=\"M943,-782C943,-782 809,-782 809,-782 803,-782 797,-776 797,-770 797,-770 797,-711 797,-711 797,-705 803,-699 809,-699 809,-699 943,-699 943,-699 949,-699 955,-705 955,-711 955,-711 955,-770 955,-770 955,-776 949,-782 943,-782\" fill=\"#f7d8c2\" stroke=\"#000000\"/>\n<text fill=\"#000000\" font-family=\"Helvetica,sans-Serif\" font-size=\"14.00\" text-anchor=\"middle\" x=\"876\" y=\"-766.8\">area_worst &lt;= 830.75</text>\n<text fill=\"#000000\" font-family=\"Helvetica,sans-Serif\" font-size=\"14.00\" text-anchor=\"middle\" x=\"876\" y=\"-751.8\">gini = 0.483</text>\n<text fill=\"#000000\" font-family=\"Helvetica,sans-Serif\" font-size=\"14.00\" text-anchor=\"middle\" x=\"876\" y=\"-736.8\">samples = 281</text>\n<text fill=\"#000000\" font-family=\"Helvetica,sans-Serif\" font-size=\"14.00\" text-anchor=\"middle\" x=\"876\" y=\"-721.8\">value = [269, 186]</text>\n<text fill=\"#000000\" font-family=\"Helvetica,sans-Serif\" font-size=\"14.00\" text-anchor=\"middle\" x=\"876\" y=\"-706.8\">class = Benign</text>\n</g>\n<!-- 1 -->\n<g class=\"node\" id=\"node2\">\n<title>1</title>\n<path d=\"M861.5,-663C861.5,-663 664.5,-663 664.5,-663 658.5,-663 652.5,-657 652.5,-651 652.5,-651 652.5,-592 652.5,-592 652.5,-586 658.5,-580 664.5,-580 664.5,-580 861.5,-580 861.5,-580 867.5,-580 873.5,-586 873.5,-592 873.5,-592 873.5,-651 873.5,-651 873.5,-657 867.5,-663 861.5,-663\" fill=\"#e78c4a\" stroke=\"#000000\"/>\n<text fill=\"#000000\" font-family=\"Helvetica,sans-Serif\" font-size=\"14.00\" text-anchor=\"middle\" x=\"763\" y=\"-647.8\">concave points_mean &lt;= 0.052</text>\n<text fill=\"#000000\" font-family=\"Helvetica,sans-Serif\" font-size=\"14.00\" text-anchor=\"middle\" x=\"763\" y=\"-632.8\">gini = 0.145</text>\n<text fill=\"#000000\" font-family=\"Helvetica,sans-Serif\" font-size=\"14.00\" text-anchor=\"middle\" x=\"763\" y=\"-617.8\">samples = 177</text>\n<text fill=\"#000000\" font-family=\"Helvetica,sans-Serif\" font-size=\"14.00\" text-anchor=\"middle\" x=\"763\" y=\"-602.8\">value = [258, 22]</text>\n<text fill=\"#000000\" font-family=\"Helvetica,sans-Serif\" font-size=\"14.00\" text-anchor=\"middle\" x=\"763\" y=\"-587.8\">class = Benign</text>\n</g>\n<!-- 0&#45;&gt;1 -->\n<g class=\"edge\" id=\"edge1\">\n<title>0-&gt;1</title>\n<path d=\"M836.4781,-698.8796C827.8403,-689.7832 818.619,-680.0722 809.7303,-670.7116\" fill=\"none\" stroke=\"#000000\"/>\n<polygon fill=\"#000000\" points=\"812.1146,-668.1395 802.6906,-663.2981 807.0385,-672.9597 812.1146,-668.1395\" stroke=\"#000000\"/>\n<text fill=\"#000000\" font-family=\"Helvetica,sans-Serif\" font-size=\"14.00\" text-anchor=\"middle\" x=\"802.0443\" y=\"-684.5897\">True</text>\n</g>\n<!-- 22 -->\n<g class=\"node\" id=\"node23\">\n<title>22</title>\n<path d=\"M1092.5,-663C1092.5,-663 949.5,-663 949.5,-663 943.5,-663 937.5,-657 937.5,-651 937.5,-651 937.5,-592 937.5,-592 937.5,-586 943.5,-580 949.5,-580 949.5,-580 1092.5,-580 1092.5,-580 1098.5,-580 1104.5,-586 1104.5,-592 1104.5,-592 1104.5,-651 1104.5,-651 1104.5,-657 1098.5,-663 1092.5,-663\" fill=\"#46a4e7\" stroke=\"#000000\"/>\n<text fill=\"#000000\" font-family=\"Helvetica,sans-Serif\" font-size=\"14.00\" text-anchor=\"middle\" x=\"1021\" y=\"-647.8\">texture_mean &lt;= 15.22</text>\n<text fill=\"#000000\" font-family=\"Helvetica,sans-Serif\" font-size=\"14.00\" text-anchor=\"middle\" x=\"1021\" y=\"-632.8\">gini = 0.118</text>\n<text fill=\"#000000\" font-family=\"Helvetica,sans-Serif\" font-size=\"14.00\" text-anchor=\"middle\" x=\"1021\" y=\"-617.8\">samples = 104</text>\n<text fill=\"#000000\" font-family=\"Helvetica,sans-Serif\" font-size=\"14.00\" text-anchor=\"middle\" x=\"1021\" y=\"-602.8\">value = [11, 164]</text>\n<text fill=\"#000000\" font-family=\"Helvetica,sans-Serif\" font-size=\"14.00\" text-anchor=\"middle\" x=\"1021\" y=\"-587.8\">class = Malignant</text>\n</g>\n<!-- 0&#45;&gt;22 -->\n<g class=\"edge\" id=\"edge22\">\n<title>0-&gt;22</title>\n<path d=\"M926.714,-698.8796C938.127,-689.513 950.3341,-679.4948 962.0515,-669.8784\" fill=\"none\" stroke=\"#000000\"/>\n<polygon fill=\"#000000\" points=\"964.5599,-672.3476 970.0696,-663.2981 960.1191,-666.9366 964.5599,-672.3476\" stroke=\"#000000\"/>\n<text fill=\"#000000\" font-family=\"Helvetica,sans-Serif\" font-size=\"14.00\" text-anchor=\"middle\" x=\"967.6193\" y=\"-684.4777\">False</text>\n</g>\n<!-- 2 -->\n<g class=\"node\" id=\"node3\">\n<title>2</title>\n<path d=\"M544.5,-544C544.5,-544 393.5,-544 393.5,-544 387.5,-544 381.5,-538 381.5,-532 381.5,-532 381.5,-473 381.5,-473 381.5,-467 387.5,-461 393.5,-461 393.5,-461 544.5,-461 544.5,-461 550.5,-461 556.5,-467 556.5,-473 556.5,-473 556.5,-532 556.5,-532 556.5,-538 550.5,-544 544.5,-544\" fill=\"#e6843d\" stroke=\"#000000\"/>\n<text fill=\"#000000\" font-family=\"Helvetica,sans-Serif\" font-size=\"14.00\" text-anchor=\"middle\" x=\"469\" y=\"-528.8\">texture_mean &lt;= 21.575</text>\n<text fill=\"#000000\" font-family=\"Helvetica,sans-Serif\" font-size=\"14.00\" text-anchor=\"middle\" x=\"469\" y=\"-513.8\">gini = 0.04</text>\n<text fill=\"#000000\" font-family=\"Helvetica,sans-Serif\" font-size=\"14.00\" text-anchor=\"middle\" x=\"469\" y=\"-498.8\">samples = 155</text>\n<text fill=\"#000000\" font-family=\"Helvetica,sans-Serif\" font-size=\"14.00\" text-anchor=\"middle\" x=\"469\" y=\"-483.8\">value = [243, 5]</text>\n<text fill=\"#000000\" font-family=\"Helvetica,sans-Serif\" font-size=\"14.00\" text-anchor=\"middle\" x=\"469\" y=\"-468.8\">class = Benign</text>\n</g>\n<!-- 1&#45;&gt;2 -->\n<g class=\"edge\" id=\"edge2\">\n<title>1-&gt;2</title>\n<path d=\"M660.1731,-579.8796C629.56,-567.4886 596.1292,-553.9571 565.907,-541.7243\" fill=\"none\" stroke=\"#000000\"/>\n<polygon fill=\"#000000\" points=\"567.2201,-538.4799 556.6374,-537.9723 564.5937,-544.9686 567.2201,-538.4799\" stroke=\"#000000\"/>\n</g>\n<!-- 13 -->\n<g class=\"node\" id=\"node14\">\n<title>13</title>\n<path d=\"M854.5,-544C854.5,-544 671.5,-544 671.5,-544 665.5,-544 659.5,-538 659.5,-532 659.5,-532 659.5,-473 659.5,-473 659.5,-467 665.5,-461 671.5,-461 671.5,-461 854.5,-461 854.5,-461 860.5,-461 866.5,-467 866.5,-473 866.5,-473 866.5,-532 866.5,-532 866.5,-538 860.5,-544 854.5,-544\" fill=\"#e8f3fc\" stroke=\"#000000\"/>\n<text fill=\"#000000\" font-family=\"Helvetica,sans-Serif\" font-size=\"14.00\" text-anchor=\"middle\" x=\"763\" y=\"-528.8\">compactness_worst &lt;= 0.377</text>\n<text fill=\"#000000\" font-family=\"Helvetica,sans-Serif\" font-size=\"14.00\" text-anchor=\"middle\" x=\"763\" y=\"-513.8\">gini = 0.498</text>\n<text fill=\"#000000\" font-family=\"Helvetica,sans-Serif\" font-size=\"14.00\" text-anchor=\"middle\" x=\"763\" y=\"-498.8\">samples = 22</text>\n<text fill=\"#000000\" font-family=\"Helvetica,sans-Serif\" font-size=\"14.00\" text-anchor=\"middle\" x=\"763\" y=\"-483.8\">value = [15, 17]</text>\n<text fill=\"#000000\" font-family=\"Helvetica,sans-Serif\" font-size=\"14.00\" text-anchor=\"middle\" x=\"763\" y=\"-468.8\">class = Malignant</text>\n</g>\n<!-- 1&#45;&gt;13 -->\n<g class=\"edge\" id=\"edge13\">\n<title>1-&gt;13</title>\n<path d=\"M763,-579.8796C763,-571.6838 763,-562.9891 763,-554.5013\" fill=\"none\" stroke=\"#000000\"/>\n<polygon fill=\"#000000\" points=\"766.5001,-554.298 763,-544.2981 759.5001,-554.2981 766.5001,-554.298\" stroke=\"#000000\"/>\n</g>\n<!-- 3 -->\n<g class=\"node\" id=\"node4\">\n<title>3</title>\n<path d=\"M364,-417.5C364,-417.5 272,-417.5 272,-417.5 266,-417.5 260,-411.5 260,-405.5 260,-405.5 260,-361.5 260,-361.5 260,-355.5 266,-349.5 272,-349.5 272,-349.5 364,-349.5 364,-349.5 370,-349.5 376,-355.5 376,-361.5 376,-361.5 376,-405.5 376,-405.5 376,-411.5 370,-417.5 364,-417.5\" fill=\"#e58139\" stroke=\"#000000\"/>\n<text fill=\"#000000\" font-family=\"Helvetica,sans-Serif\" font-size=\"14.00\" text-anchor=\"middle\" x=\"318\" y=\"-402.3\">gini = 0.0</text>\n<text fill=\"#000000\" font-family=\"Helvetica,sans-Serif\" font-size=\"14.00\" text-anchor=\"middle\" x=\"318\" y=\"-387.3\">samples = 128</text>\n<text fill=\"#000000\" font-family=\"Helvetica,sans-Serif\" font-size=\"14.00\" text-anchor=\"middle\" x=\"318\" y=\"-372.3\">value = [209, 0]</text>\n<text fill=\"#000000\" font-family=\"Helvetica,sans-Serif\" font-size=\"14.00\" text-anchor=\"middle\" x=\"318\" y=\"-357.3\">class = Benign</text>\n</g>\n<!-- 2&#45;&gt;3 -->\n<g class=\"edge\" id=\"edge3\">\n<title>2-&gt;3</title>\n<path d=\"M416.1875,-460.8796C401.1183,-449.0038 384.7197,-436.0804 369.7166,-424.2568\" fill=\"none\" stroke=\"#000000\"/>\n<polygon fill=\"#000000\" points=\"371.5631,-421.2557 361.5425,-417.8149 367.2302,-426.7536 371.5631,-421.2557\" stroke=\"#000000\"/>\n</g>\n<!-- 4 -->\n<g class=\"node\" id=\"node5\">\n<title>4</title>\n<path d=\"M531.5,-425C531.5,-425 406.5,-425 406.5,-425 400.5,-425 394.5,-419 394.5,-413 394.5,-413 394.5,-354 394.5,-354 394.5,-348 400.5,-342 406.5,-342 406.5,-342 531.5,-342 531.5,-342 537.5,-342 543.5,-348 543.5,-354 543.5,-354 543.5,-413 543.5,-413 543.5,-419 537.5,-425 531.5,-425\" fill=\"#e99456\" stroke=\"#000000\"/>\n<text fill=\"#000000\" font-family=\"Helvetica,sans-Serif\" font-size=\"14.00\" text-anchor=\"middle\" x=\"469\" y=\"-409.8\">area_worst &lt;= 751.2</text>\n<text fill=\"#000000\" font-family=\"Helvetica,sans-Serif\" font-size=\"14.00\" text-anchor=\"middle\" x=\"469\" y=\"-394.8\">gini = 0.224</text>\n<text fill=\"#000000\" font-family=\"Helvetica,sans-Serif\" font-size=\"14.00\" text-anchor=\"middle\" x=\"469\" y=\"-379.8\">samples = 27</text>\n<text fill=\"#000000\" font-family=\"Helvetica,sans-Serif\" font-size=\"14.00\" text-anchor=\"middle\" x=\"469\" y=\"-364.8\">value = [34, 5]</text>\n<text fill=\"#000000\" font-family=\"Helvetica,sans-Serif\" font-size=\"14.00\" text-anchor=\"middle\" x=\"469\" y=\"-349.8\">class = Benign</text>\n</g>\n<!-- 2&#45;&gt;4 -->\n<g class=\"edge\" id=\"edge4\">\n<title>2-&gt;4</title>\n<path d=\"M469,-460.8796C469,-452.6838 469,-443.9891 469,-435.5013\" fill=\"none\" stroke=\"#000000\"/>\n<polygon fill=\"#000000\" points=\"472.5001,-435.298 469,-425.2981 465.5001,-435.2981 472.5001,-435.298\" stroke=\"#000000\"/>\n</g>\n<!-- 5 -->\n<g class=\"node\" id=\"node6\">\n<title>5</title>\n<path d=\"M345,-306C345,-306 207,-306 207,-306 201,-306 195,-300 195,-294 195,-294 195,-235 195,-235 195,-229 201,-223 207,-223 207,-223 345,-223 345,-223 351,-223 357,-229 357,-235 357,-235 357,-294 357,-294 357,-300 351,-306 345,-306\" fill=\"#e78946\" stroke=\"#000000\"/>\n<text fill=\"#000000\" font-family=\"Helvetica,sans-Serif\" font-size=\"14.00\" text-anchor=\"middle\" x=\"276\" y=\"-290.8\">perimeter_se &lt;= 1.467</text>\n<text fill=\"#000000\" font-family=\"Helvetica,sans-Serif\" font-size=\"14.00\" text-anchor=\"middle\" x=\"276\" y=\"-275.8\">gini = 0.114</text>\n<text fill=\"#000000\" font-family=\"Helvetica,sans-Serif\" font-size=\"14.00\" text-anchor=\"middle\" x=\"276\" y=\"-260.8\">samples = 24</text>\n<text fill=\"#000000\" font-family=\"Helvetica,sans-Serif\" font-size=\"14.00\" text-anchor=\"middle\" x=\"276\" y=\"-245.8\">value = [31, 2]</text>\n<text fill=\"#000000\" font-family=\"Helvetica,sans-Serif\" font-size=\"14.00\" text-anchor=\"middle\" x=\"276\" y=\"-230.8\">class = Benign</text>\n</g>\n<!-- 4&#45;&gt;5 -->\n<g class=\"edge\" id=\"edge5\">\n<title>4-&gt;5</title>\n<path d=\"M401.498,-341.8796C385.6308,-332.0962 368.6106,-321.6019 352.3844,-311.5971\" fill=\"none\" stroke=\"#000000\"/>\n<polygon fill=\"#000000\" points=\"353.8129,-308.3661 343.4639,-306.0969 350.139,-314.3245 353.8129,-308.3661\" stroke=\"#000000\"/>\n</g>\n<!-- 10 -->\n<g class=\"node\" id=\"node11\">\n<title>10</title>\n<path d=\"M554.5,-306C554.5,-306 387.5,-306 387.5,-306 381.5,-306 375.5,-300 375.5,-294 375.5,-294 375.5,-235 375.5,-235 375.5,-229 381.5,-223 387.5,-223 387.5,-223 554.5,-223 554.5,-223 560.5,-223 566.5,-229 566.5,-235 566.5,-235 566.5,-294 566.5,-294 566.5,-300 560.5,-306 554.5,-306\" fill=\"#ffffff\" stroke=\"#000000\"/>\n<text fill=\"#000000\" font-family=\"Helvetica,sans-Serif\" font-size=\"14.00\" text-anchor=\"middle\" x=\"471\" y=\"-290.8\">perimeter_mean &lt;= 90.995</text>\n<text fill=\"#000000\" font-family=\"Helvetica,sans-Serif\" font-size=\"14.00\" text-anchor=\"middle\" x=\"471\" y=\"-275.8\">gini = 0.5</text>\n<text fill=\"#000000\" font-family=\"Helvetica,sans-Serif\" font-size=\"14.00\" text-anchor=\"middle\" x=\"471\" y=\"-260.8\">samples = 3</text>\n<text fill=\"#000000\" font-family=\"Helvetica,sans-Serif\" font-size=\"14.00\" text-anchor=\"middle\" x=\"471\" y=\"-245.8\">value = [3, 3]</text>\n<text fill=\"#000000\" font-family=\"Helvetica,sans-Serif\" font-size=\"14.00\" text-anchor=\"middle\" x=\"471\" y=\"-230.8\">class = Benign</text>\n</g>\n<!-- 4&#45;&gt;10 -->\n<g class=\"edge\" id=\"edge10\">\n<title>4-&gt;10</title>\n<path d=\"M469.6995,-341.8796C469.8372,-333.6838 469.9834,-324.9891 470.126,-316.5013\" fill=\"none\" stroke=\"#000000\"/>\n<polygon fill=\"#000000\" points=\"473.6289,-316.3555 470.2975,-306.2981 466.6299,-316.2378 473.6289,-316.3555\" stroke=\"#000000\"/>\n</g>\n<!-- 6 -->\n<g class=\"node\" id=\"node7\">\n<title>6</title>\n<path d=\"M203.5,-187C203.5,-187 46.5,-187 46.5,-187 40.5,-187 34.5,-181 34.5,-175 34.5,-175 34.5,-116 34.5,-116 34.5,-110 40.5,-104 46.5,-104 46.5,-104 203.5,-104 203.5,-104 209.5,-104 215.5,-110 215.5,-116 215.5,-116 215.5,-175 215.5,-175 215.5,-181 209.5,-187 203.5,-187\" fill=\"#efb388\" stroke=\"#000000\"/>\n<text fill=\"#000000\" font-family=\"Helvetica,sans-Serif\" font-size=\"14.00\" text-anchor=\"middle\" x=\"125\" y=\"-171.8\">smoothness_se &lt;= 0.007</text>\n<text fill=\"#000000\" font-family=\"Helvetica,sans-Serif\" font-size=\"14.00\" text-anchor=\"middle\" x=\"125\" y=\"-156.8\">gini = 0.408</text>\n<text fill=\"#000000\" font-family=\"Helvetica,sans-Serif\" font-size=\"14.00\" text-anchor=\"middle\" x=\"125\" y=\"-141.8\">samples = 6</text>\n<text fill=\"#000000\" font-family=\"Helvetica,sans-Serif\" font-size=\"14.00\" text-anchor=\"middle\" x=\"125\" y=\"-126.8\">value = [5, 2]</text>\n<text fill=\"#000000\" font-family=\"Helvetica,sans-Serif\" font-size=\"14.00\" text-anchor=\"middle\" x=\"125\" y=\"-111.8\">class = Benign</text>\n</g>\n<!-- 5&#45;&gt;6 -->\n<g class=\"edge\" id=\"edge6\">\n<title>5-&gt;6</title>\n<path d=\"M223.1875,-222.8796C211.1182,-213.368 198.1961,-203.1843 185.8212,-193.432\" fill=\"none\" stroke=\"#000000\"/>\n<polygon fill=\"#000000\" points=\"187.8032,-190.5377 177.7827,-187.0969 183.4704,-196.0356 187.8032,-190.5377\" stroke=\"#000000\"/>\n</g>\n<!-- 9 -->\n<g class=\"node\" id=\"node10\">\n<title>9</title>\n<path d=\"M334,-179.5C334,-179.5 246,-179.5 246,-179.5 240,-179.5 234,-173.5 234,-167.5 234,-167.5 234,-123.5 234,-123.5 234,-117.5 240,-111.5 246,-111.5 246,-111.5 334,-111.5 334,-111.5 340,-111.5 346,-117.5 346,-123.5 346,-123.5 346,-167.5 346,-167.5 346,-173.5 340,-179.5 334,-179.5\" fill=\"#e58139\" stroke=\"#000000\"/>\n<text fill=\"#000000\" font-family=\"Helvetica,sans-Serif\" font-size=\"14.00\" text-anchor=\"middle\" x=\"290\" y=\"-164.3\">gini = 0.0</text>\n<text fill=\"#000000\" font-family=\"Helvetica,sans-Serif\" font-size=\"14.00\" text-anchor=\"middle\" x=\"290\" y=\"-149.3\">samples = 18</text>\n<text fill=\"#000000\" font-family=\"Helvetica,sans-Serif\" font-size=\"14.00\" text-anchor=\"middle\" x=\"290\" y=\"-134.3\">value = [26, 0]</text>\n<text fill=\"#000000\" font-family=\"Helvetica,sans-Serif\" font-size=\"14.00\" text-anchor=\"middle\" x=\"290\" y=\"-119.3\">class = Benign</text>\n</g>\n<!-- 5&#45;&gt;9 -->\n<g class=\"edge\" id=\"edge9\">\n<title>5-&gt;9</title>\n<path d=\"M280.8965,-222.8796C282.1514,-212.2134 283.5056,-200.7021 284.7763,-189.9015\" fill=\"none\" stroke=\"#000000\"/>\n<polygon fill=\"#000000\" points=\"288.2705,-190.1554 285.9629,-179.8149 281.3184,-189.3375 288.2705,-190.1554\" stroke=\"#000000\"/>\n</g>\n<!-- 7 -->\n<g class=\"node\" id=\"node8\">\n<title>7</title>\n<path d=\"M100,-68C100,-68 12,-68 12,-68 6,-68 0,-62 0,-56 0,-56 0,-12 0,-12 0,-6 6,0 12,0 12,0 100,0 100,0 106,0 112,-6 112,-12 112,-12 112,-56 112,-56 112,-62 106,-68 100,-68\" fill=\"#e58139\" stroke=\"#000000\"/>\n<text fill=\"#000000\" font-family=\"Helvetica,sans-Serif\" font-size=\"14.00\" text-anchor=\"middle\" x=\"56\" y=\"-52.8\">gini = 0.0</text>\n<text fill=\"#000000\" font-family=\"Helvetica,sans-Serif\" font-size=\"14.00\" text-anchor=\"middle\" x=\"56\" y=\"-37.8\">samples = 5</text>\n<text fill=\"#000000\" font-family=\"Helvetica,sans-Serif\" font-size=\"14.00\" text-anchor=\"middle\" x=\"56\" y=\"-22.8\">value = [5, 0]</text>\n<text fill=\"#000000\" font-family=\"Helvetica,sans-Serif\" font-size=\"14.00\" text-anchor=\"middle\" x=\"56\" y=\"-7.8\">class = Benign</text>\n</g>\n<!-- 6&#45;&gt;7 -->\n<g class=\"edge\" id=\"edge7\">\n<title>6-&gt;7</title>\n<path d=\"M99.3069,-103.9815C93.8469,-95.1585 88.0716,-85.8258 82.5793,-76.9506\" fill=\"none\" stroke=\"#000000\"/>\n<polygon fill=\"#000000\" points=\"85.442,-74.9254 77.2035,-68.2637 79.4896,-78.609 85.442,-74.9254\" stroke=\"#000000\"/>\n</g>\n<!-- 8 -->\n<g class=\"node\" id=\"node9\">\n<title>8</title>\n<path d=\"M247.5,-68C247.5,-68 142.5,-68 142.5,-68 136.5,-68 130.5,-62 130.5,-56 130.5,-56 130.5,-12 130.5,-12 130.5,-6 136.5,0 142.5,0 142.5,0 247.5,0 247.5,0 253.5,0 259.5,-6 259.5,-12 259.5,-12 259.5,-56 259.5,-56 259.5,-62 253.5,-68 247.5,-68\" fill=\"#399de5\" stroke=\"#000000\"/>\n<text fill=\"#000000\" font-family=\"Helvetica,sans-Serif\" font-size=\"14.00\" text-anchor=\"middle\" x=\"195\" y=\"-52.8\">gini = 0.0</text>\n<text fill=\"#000000\" font-family=\"Helvetica,sans-Serif\" font-size=\"14.00\" text-anchor=\"middle\" x=\"195\" y=\"-37.8\">samples = 1</text>\n<text fill=\"#000000\" font-family=\"Helvetica,sans-Serif\" font-size=\"14.00\" text-anchor=\"middle\" x=\"195\" y=\"-22.8\">value = [0, 2]</text>\n<text fill=\"#000000\" font-family=\"Helvetica,sans-Serif\" font-size=\"14.00\" text-anchor=\"middle\" x=\"195\" y=\"-7.8\">class = Malignant</text>\n</g>\n<!-- 6&#45;&gt;8 -->\n<g class=\"edge\" id=\"edge8\">\n<title>6-&gt;8</title>\n<path d=\"M151.0654,-103.9815C156.6045,-95.1585 162.4636,-85.8258 168.0355,-76.9506\" fill=\"none\" stroke=\"#000000\"/>\n<polygon fill=\"#000000\" points=\"171.1363,-78.594 173.4892,-68.2637 165.2078,-74.872 171.1363,-78.594\" stroke=\"#000000\"/>\n</g>\n<!-- 11 -->\n<g class=\"node\" id=\"node12\">\n<title>11</title>\n<path d=\"M509.5,-179.5C509.5,-179.5 404.5,-179.5 404.5,-179.5 398.5,-179.5 392.5,-173.5 392.5,-167.5 392.5,-167.5 392.5,-123.5 392.5,-123.5 392.5,-117.5 398.5,-111.5 404.5,-111.5 404.5,-111.5 509.5,-111.5 509.5,-111.5 515.5,-111.5 521.5,-117.5 521.5,-123.5 521.5,-123.5 521.5,-167.5 521.5,-167.5 521.5,-173.5 515.5,-179.5 509.5,-179.5\" fill=\"#399de5\" stroke=\"#000000\"/>\n<text fill=\"#000000\" font-family=\"Helvetica,sans-Serif\" font-size=\"14.00\" text-anchor=\"middle\" x=\"457\" y=\"-164.3\">gini = 0.0</text>\n<text fill=\"#000000\" font-family=\"Helvetica,sans-Serif\" font-size=\"14.00\" text-anchor=\"middle\" x=\"457\" y=\"-149.3\">samples = 2</text>\n<text fill=\"#000000\" font-family=\"Helvetica,sans-Serif\" font-size=\"14.00\" text-anchor=\"middle\" x=\"457\" y=\"-134.3\">value = [0, 3]</text>\n<text fill=\"#000000\" font-family=\"Helvetica,sans-Serif\" font-size=\"14.00\" text-anchor=\"middle\" x=\"457\" y=\"-119.3\">class = Malignant</text>\n</g>\n<!-- 10&#45;&gt;11 -->\n<g class=\"edge\" id=\"edge11\">\n<title>10-&gt;11</title>\n<path d=\"M466.1035,-222.8796C464.8486,-212.2134 463.4944,-200.7021 462.2237,-189.9015\" fill=\"none\" stroke=\"#000000\"/>\n<polygon fill=\"#000000\" points=\"465.6816,-189.3375 461.0371,-179.8149 458.7295,-190.1554 465.6816,-189.3375\" stroke=\"#000000\"/>\n</g>\n<!-- 12 -->\n<g class=\"node\" id=\"node13\">\n<title>12</title>\n<path d=\"M640,-179.5C640,-179.5 552,-179.5 552,-179.5 546,-179.5 540,-173.5 540,-167.5 540,-167.5 540,-123.5 540,-123.5 540,-117.5 546,-111.5 552,-111.5 552,-111.5 640,-111.5 640,-111.5 646,-111.5 652,-117.5 652,-123.5 652,-123.5 652,-167.5 652,-167.5 652,-173.5 646,-179.5 640,-179.5\" fill=\"#e58139\" stroke=\"#000000\"/>\n<text fill=\"#000000\" font-family=\"Helvetica,sans-Serif\" font-size=\"14.00\" text-anchor=\"middle\" x=\"596\" y=\"-164.3\">gini = 0.0</text>\n<text fill=\"#000000\" font-family=\"Helvetica,sans-Serif\" font-size=\"14.00\" text-anchor=\"middle\" x=\"596\" y=\"-149.3\">samples = 1</text>\n<text fill=\"#000000\" font-family=\"Helvetica,sans-Serif\" font-size=\"14.00\" text-anchor=\"middle\" x=\"596\" y=\"-134.3\">value = [3, 0]</text>\n<text fill=\"#000000\" font-family=\"Helvetica,sans-Serif\" font-size=\"14.00\" text-anchor=\"middle\" x=\"596\" y=\"-119.3\">class = Benign</text>\n</g>\n<!-- 10&#45;&gt;12 -->\n<g class=\"edge\" id=\"edge12\">\n<title>10-&gt;12</title>\n<path d=\"M514.7189,-222.8796C526.9625,-211.2237 540.2661,-198.5587 552.4971,-186.9148\" fill=\"none\" stroke=\"#000000\"/>\n<polygon fill=\"#000000\" points=\"555.1254,-189.245 559.9549,-179.8149 550.2988,-184.1751 555.1254,-189.245\" stroke=\"#000000\"/>\n</g>\n<!-- 14 -->\n<g class=\"node\" id=\"node15\">\n<title>14</title>\n<path d=\"M734.5,-425C734.5,-425 573.5,-425 573.5,-425 567.5,-425 561.5,-419 561.5,-413 561.5,-413 561.5,-354 561.5,-354 561.5,-348 567.5,-342 573.5,-342 573.5,-342 734.5,-342 734.5,-342 740.5,-342 746.5,-348 746.5,-354 746.5,-354 746.5,-413 746.5,-413 746.5,-419 740.5,-425 734.5,-425\" fill=\"#ea9a61\" stroke=\"#000000\"/>\n<text fill=\"#000000\" font-family=\"Helvetica,sans-Serif\" font-size=\"14.00\" text-anchor=\"middle\" x=\"654\" y=\"-409.8\">symmetry_mean &lt;= 0.164</text>\n<text fill=\"#000000\" font-family=\"Helvetica,sans-Serif\" font-size=\"14.00\" text-anchor=\"middle\" x=\"654\" y=\"-394.8\">gini = 0.278</text>\n<text fill=\"#000000\" font-family=\"Helvetica,sans-Serif\" font-size=\"14.00\" text-anchor=\"middle\" x=\"654\" y=\"-379.8\">samples = 12</text>\n<text fill=\"#000000\" font-family=\"Helvetica,sans-Serif\" font-size=\"14.00\" text-anchor=\"middle\" x=\"654\" y=\"-364.8\">value = [15, 3]</text>\n<text fill=\"#000000\" font-family=\"Helvetica,sans-Serif\" font-size=\"14.00\" text-anchor=\"middle\" x=\"654\" y=\"-349.8\">class = Benign</text>\n</g>\n<!-- 13&#45;&gt;14 -->\n<g class=\"edge\" id=\"edge14\">\n<title>13-&gt;14</title>\n<path d=\"M724.8771,-460.8796C716.5451,-451.7832 707.6502,-442.0722 699.0761,-432.7116\" fill=\"none\" stroke=\"#000000\"/>\n<polygon fill=\"#000000\" points=\"701.6211,-430.3081 692.2856,-425.2981 696.4592,-435.0363 701.6211,-430.3081\" stroke=\"#000000\"/>\n</g>\n<!-- 21 -->\n<g class=\"node\" id=\"node22\">\n<title>21</title>\n<path d=\"M881.5,-417.5C881.5,-417.5 776.5,-417.5 776.5,-417.5 770.5,-417.5 764.5,-411.5 764.5,-405.5 764.5,-405.5 764.5,-361.5 764.5,-361.5 764.5,-355.5 770.5,-349.5 776.5,-349.5 776.5,-349.5 881.5,-349.5 881.5,-349.5 887.5,-349.5 893.5,-355.5 893.5,-361.5 893.5,-361.5 893.5,-405.5 893.5,-405.5 893.5,-411.5 887.5,-417.5 881.5,-417.5\" fill=\"#399de5\" stroke=\"#000000\"/>\n<text fill=\"#000000\" font-family=\"Helvetica,sans-Serif\" font-size=\"14.00\" text-anchor=\"middle\" x=\"829\" y=\"-402.3\">gini = 0.0</text>\n<text fill=\"#000000\" font-family=\"Helvetica,sans-Serif\" font-size=\"14.00\" text-anchor=\"middle\" x=\"829\" y=\"-387.3\">samples = 10</text>\n<text fill=\"#000000\" font-family=\"Helvetica,sans-Serif\" font-size=\"14.00\" text-anchor=\"middle\" x=\"829\" y=\"-372.3\">value = [0, 14]</text>\n<text fill=\"#000000\" font-family=\"Helvetica,sans-Serif\" font-size=\"14.00\" text-anchor=\"middle\" x=\"829\" y=\"-357.3\">class = Malignant</text>\n</g>\n<!-- 13&#45;&gt;21 -->\n<g class=\"edge\" id=\"edge21\">\n<title>13-&gt;21</title>\n<path d=\"M786.0836,-460.8796C792.2433,-449.7735 798.9111,-437.7513 805.1129,-426.5691\" fill=\"none\" stroke=\"#000000\"/>\n<polygon fill=\"#000000\" points=\"808.1787,-428.2576 809.9682,-417.8149 802.0572,-424.8624 808.1787,-428.2576\" stroke=\"#000000\"/>\n</g>\n<!-- 15 -->\n<g class=\"node\" id=\"node16\">\n<title>15</title>\n<path d=\"M704.5,-298.5C704.5,-298.5 599.5,-298.5 599.5,-298.5 593.5,-298.5 587.5,-292.5 587.5,-286.5 587.5,-286.5 587.5,-242.5 587.5,-242.5 587.5,-236.5 593.5,-230.5 599.5,-230.5 599.5,-230.5 704.5,-230.5 704.5,-230.5 710.5,-230.5 716.5,-236.5 716.5,-242.5 716.5,-242.5 716.5,-286.5 716.5,-286.5 716.5,-292.5 710.5,-298.5 704.5,-298.5\" fill=\"#399de5\" stroke=\"#000000\"/>\n<text fill=\"#000000\" font-family=\"Helvetica,sans-Serif\" font-size=\"14.00\" text-anchor=\"middle\" x=\"652\" y=\"-283.3\">gini = 0.0</text>\n<text fill=\"#000000\" font-family=\"Helvetica,sans-Serif\" font-size=\"14.00\" text-anchor=\"middle\" x=\"652\" y=\"-268.3\">samples = 1</text>\n<text fill=\"#000000\" font-family=\"Helvetica,sans-Serif\" font-size=\"14.00\" text-anchor=\"middle\" x=\"652\" y=\"-253.3\">value = [0, 2]</text>\n<text fill=\"#000000\" font-family=\"Helvetica,sans-Serif\" font-size=\"14.00\" text-anchor=\"middle\" x=\"652\" y=\"-238.3\">class = Malignant</text>\n</g>\n<!-- 14&#45;&gt;15 -->\n<g class=\"edge\" id=\"edge15\">\n<title>14-&gt;15</title>\n<path d=\"M653.3005,-341.8796C653.1212,-331.2134 652.9278,-319.7021 652.7462,-308.9015\" fill=\"none\" stroke=\"#000000\"/>\n<polygon fill=\"#000000\" points=\"656.2444,-308.7547 652.5767,-298.8149 649.2454,-308.8724 656.2444,-308.7547\" stroke=\"#000000\"/>\n</g>\n<!-- 16 -->\n<g class=\"node\" id=\"node17\">\n<title>16</title>\n<path d=\"M869,-306C869,-306 747,-306 747,-306 741,-306 735,-300 735,-294 735,-294 735,-235 735,-235 735,-229 741,-223 747,-223 747,-223 869,-223 869,-223 875,-223 881,-229 881,-235 881,-235 881,-294 881,-294 881,-300 875,-306 869,-306\" fill=\"#e78946\" stroke=\"#000000\"/>\n<text fill=\"#000000\" font-family=\"Helvetica,sans-Serif\" font-size=\"14.00\" text-anchor=\"middle\" x=\"808\" y=\"-290.8\">texture_se &lt;= 1.827</text>\n<text fill=\"#000000\" font-family=\"Helvetica,sans-Serif\" font-size=\"14.00\" text-anchor=\"middle\" x=\"808\" y=\"-275.8\">gini = 0.117</text>\n<text fill=\"#000000\" font-family=\"Helvetica,sans-Serif\" font-size=\"14.00\" text-anchor=\"middle\" x=\"808\" y=\"-260.8\">samples = 11</text>\n<text fill=\"#000000\" font-family=\"Helvetica,sans-Serif\" font-size=\"14.00\" text-anchor=\"middle\" x=\"808\" y=\"-245.8\">value = [15, 1]</text>\n<text fill=\"#000000\" font-family=\"Helvetica,sans-Serif\" font-size=\"14.00\" text-anchor=\"middle\" x=\"808\" y=\"-230.8\">class = Benign</text>\n</g>\n<!-- 14&#45;&gt;16 -->\n<g class=\"edge\" id=\"edge16\">\n<title>14-&gt;16</title>\n<path d=\"M707.8617,-341.8796C720.1709,-332.368 733.3497,-322.1843 745.9704,-312.432\" fill=\"none\" stroke=\"#000000\"/>\n<polygon fill=\"#000000\" points=\"748.3959,-314.9809 754.1687,-306.0969 744.1157,-309.4419 748.3959,-314.9809\" stroke=\"#000000\"/>\n</g>\n<!-- 17 -->\n<g class=\"node\" id=\"node18\">\n<title>17</title>\n<path d=\"M811,-179.5C811,-179.5 723,-179.5 723,-179.5 717,-179.5 711,-173.5 711,-167.5 711,-167.5 711,-123.5 711,-123.5 711,-117.5 717,-111.5 723,-111.5 723,-111.5 811,-111.5 811,-111.5 817,-111.5 823,-117.5 823,-123.5 823,-123.5 823,-167.5 823,-167.5 823,-173.5 817,-179.5 811,-179.5\" fill=\"#e58139\" stroke=\"#000000\"/>\n<text fill=\"#000000\" font-family=\"Helvetica,sans-Serif\" font-size=\"14.00\" text-anchor=\"middle\" x=\"767\" y=\"-164.3\">gini = 0.0</text>\n<text fill=\"#000000\" font-family=\"Helvetica,sans-Serif\" font-size=\"14.00\" text-anchor=\"middle\" x=\"767\" y=\"-149.3\">samples = 9</text>\n<text fill=\"#000000\" font-family=\"Helvetica,sans-Serif\" font-size=\"14.00\" text-anchor=\"middle\" x=\"767\" y=\"-134.3\">value = [14, 0]</text>\n<text fill=\"#000000\" font-family=\"Helvetica,sans-Serif\" font-size=\"14.00\" text-anchor=\"middle\" x=\"767\" y=\"-119.3\">class = Benign</text>\n</g>\n<!-- 16&#45;&gt;17 -->\n<g class=\"edge\" id=\"edge17\">\n<title>16-&gt;17</title>\n<path d=\"M793.6602,-222.8796C789.9474,-212.1034 785.9374,-200.4647 782.183,-189.5677\" fill=\"none\" stroke=\"#000000\"/>\n<polygon fill=\"#000000\" points=\"785.3894,-188.1294 778.8228,-179.8149 778.7712,-190.4096 785.3894,-188.1294\" stroke=\"#000000\"/>\n</g>\n<!-- 18 -->\n<g class=\"node\" id=\"node19\">\n<title>18</title>\n<path d=\"M1014.5,-187C1014.5,-187 853.5,-187 853.5,-187 847.5,-187 841.5,-181 841.5,-175 841.5,-175 841.5,-116 841.5,-116 841.5,-110 847.5,-104 853.5,-104 853.5,-104 1014.5,-104 1014.5,-104 1020.5,-104 1026.5,-110 1026.5,-116 1026.5,-116 1026.5,-175 1026.5,-175 1026.5,-181 1020.5,-187 1014.5,-187\" fill=\"#ffffff\" stroke=\"#000000\"/>\n<text fill=\"#000000\" font-family=\"Helvetica,sans-Serif\" font-size=\"14.00\" text-anchor=\"middle\" x=\"934\" y=\"-171.8\">symmetry_mean &lt;= 0.224</text>\n<text fill=\"#000000\" font-family=\"Helvetica,sans-Serif\" font-size=\"14.00\" text-anchor=\"middle\" x=\"934\" y=\"-156.8\">gini = 0.5</text>\n<text fill=\"#000000\" font-family=\"Helvetica,sans-Serif\" font-size=\"14.00\" text-anchor=\"middle\" x=\"934\" y=\"-141.8\">samples = 2</text>\n<text fill=\"#000000\" font-family=\"Helvetica,sans-Serif\" font-size=\"14.00\" text-anchor=\"middle\" x=\"934\" y=\"-126.8\">value = [1, 1]</text>\n<text fill=\"#000000\" font-family=\"Helvetica,sans-Serif\" font-size=\"14.00\" text-anchor=\"middle\" x=\"934\" y=\"-111.8\">class = Benign</text>\n</g>\n<!-- 16&#45;&gt;18 -->\n<g class=\"edge\" id=\"edge18\">\n<title>16-&gt;18</title>\n<path d=\"M852.0687,-222.8796C861.7955,-213.6931 872.1861,-203.8798 882.1879,-194.4336\" fill=\"none\" stroke=\"#000000\"/>\n<polygon fill=\"#000000\" points=\"884.8763,-196.7089 889.7432,-187.2981 880.0699,-191.6198 884.8763,-196.7089\" stroke=\"#000000\"/>\n</g>\n<!-- 19 -->\n<g class=\"node\" id=\"node20\">\n<title>19</title>\n<path d=\"M916.5,-68C916.5,-68 811.5,-68 811.5,-68 805.5,-68 799.5,-62 799.5,-56 799.5,-56 799.5,-12 799.5,-12 799.5,-6 805.5,0 811.5,0 811.5,0 916.5,0 916.5,0 922.5,0 928.5,-6 928.5,-12 928.5,-12 928.5,-56 928.5,-56 928.5,-62 922.5,-68 916.5,-68\" fill=\"#399de5\" stroke=\"#000000\"/>\n<text fill=\"#000000\" font-family=\"Helvetica,sans-Serif\" font-size=\"14.00\" text-anchor=\"middle\" x=\"864\" y=\"-52.8\">gini = 0.0</text>\n<text fill=\"#000000\" font-family=\"Helvetica,sans-Serif\" font-size=\"14.00\" text-anchor=\"middle\" x=\"864\" y=\"-37.8\">samples = 1</text>\n<text fill=\"#000000\" font-family=\"Helvetica,sans-Serif\" font-size=\"14.00\" text-anchor=\"middle\" x=\"864\" y=\"-22.8\">value = [0, 1]</text>\n<text fill=\"#000000\" font-family=\"Helvetica,sans-Serif\" font-size=\"14.00\" text-anchor=\"middle\" x=\"864\" y=\"-7.8\">class = Malignant</text>\n</g>\n<!-- 18&#45;&gt;19 -->\n<g class=\"edge\" id=\"edge19\">\n<title>18-&gt;19</title>\n<path d=\"M907.9346,-103.9815C902.3955,-95.1585 896.5364,-85.8258 890.9645,-76.9506\" fill=\"none\" stroke=\"#000000\"/>\n<polygon fill=\"#000000\" points=\"893.7922,-74.872 885.5108,-68.2637 887.8637,-78.594 893.7922,-74.872\" stroke=\"#000000\"/>\n</g>\n<!-- 20 -->\n<g class=\"node\" id=\"node21\">\n<title>20</title>\n<path d=\"M1047,-68C1047,-68 959,-68 959,-68 953,-68 947,-62 947,-56 947,-56 947,-12 947,-12 947,-6 953,0 959,0 959,0 1047,0 1047,0 1053,0 1059,-6 1059,-12 1059,-12 1059,-56 1059,-56 1059,-62 1053,-68 1047,-68\" fill=\"#e58139\" stroke=\"#000000\"/>\n<text fill=\"#000000\" font-family=\"Helvetica,sans-Serif\" font-size=\"14.00\" text-anchor=\"middle\" x=\"1003\" y=\"-52.8\">gini = 0.0</text>\n<text fill=\"#000000\" font-family=\"Helvetica,sans-Serif\" font-size=\"14.00\" text-anchor=\"middle\" x=\"1003\" y=\"-37.8\">samples = 1</text>\n<text fill=\"#000000\" font-family=\"Helvetica,sans-Serif\" font-size=\"14.00\" text-anchor=\"middle\" x=\"1003\" y=\"-22.8\">value = [1, 0]</text>\n<text fill=\"#000000\" font-family=\"Helvetica,sans-Serif\" font-size=\"14.00\" text-anchor=\"middle\" x=\"1003\" y=\"-7.8\">class = Benign</text>\n</g>\n<!-- 18&#45;&gt;20 -->\n<g class=\"edge\" id=\"edge20\">\n<title>18-&gt;20</title>\n<path d=\"M959.6931,-103.9815C965.1531,-95.1585 970.9284,-85.8258 976.4207,-76.9506\" fill=\"none\" stroke=\"#000000\"/>\n<polygon fill=\"#000000\" points=\"979.5104,-78.609 981.7965,-68.2637 973.558,-74.9254 979.5104,-78.609\" stroke=\"#000000\"/>\n</g>\n<!-- 23 -->\n<g class=\"node\" id=\"node24\">\n<title>23</title>\n<path d=\"M1114,-544C1114,-544 928,-544 928,-544 922,-544 916,-538 916,-532 916,-532 916,-473 916,-473 916,-467 922,-461 928,-461 928,-461 1114,-461 1114,-461 1120,-461 1126,-467 1126,-473 1126,-473 1126,-532 1126,-532 1126,-538 1120,-544 1114,-544\" fill=\"#efb083\" stroke=\"#000000\"/>\n<text fill=\"#000000\" font-family=\"Helvetica,sans-Serif\" font-size=\"14.00\" text-anchor=\"middle\" x=\"1021\" y=\"-528.8\">concave points_worst &lt;= 0.16</text>\n<text fill=\"#000000\" font-family=\"Helvetica,sans-Serif\" font-size=\"14.00\" text-anchor=\"middle\" x=\"1021\" y=\"-513.8\">gini = 0.397</text>\n<text fill=\"#000000\" font-family=\"Helvetica,sans-Serif\" font-size=\"14.00\" text-anchor=\"middle\" x=\"1021\" y=\"-498.8\">samples = 9</text>\n<text fill=\"#000000\" font-family=\"Helvetica,sans-Serif\" font-size=\"14.00\" text-anchor=\"middle\" x=\"1021\" y=\"-483.8\">value = [8, 3]</text>\n<text fill=\"#000000\" font-family=\"Helvetica,sans-Serif\" font-size=\"14.00\" text-anchor=\"middle\" x=\"1021\" y=\"-468.8\">class = Benign</text>\n</g>\n<!-- 22&#45;&gt;23 -->\n<g class=\"edge\" id=\"edge23\">\n<title>22-&gt;23</title>\n<path d=\"M1021,-579.8796C1021,-571.6838 1021,-562.9891 1021,-554.5013\" fill=\"none\" stroke=\"#000000\"/>\n<polygon fill=\"#000000\" points=\"1024.5001,-554.298 1021,-544.2981 1017.5001,-554.2981 1024.5001,-554.298\" stroke=\"#000000\"/>\n</g>\n<!-- 26 -->\n<g class=\"node\" id=\"node27\">\n<title>26</title>\n<path d=\"M1368,-544C1368,-544 1210,-544 1210,-544 1204,-544 1198,-538 1198,-532 1198,-532 1198,-473 1198,-473 1198,-467 1204,-461 1210,-461 1210,-461 1368,-461 1368,-461 1374,-461 1380,-467 1380,-473 1380,-473 1380,-532 1380,-532 1380,-538 1374,-544 1368,-544\" fill=\"#3d9fe5\" stroke=\"#000000\"/>\n<text fill=\"#000000\" font-family=\"Helvetica,sans-Serif\" font-size=\"14.00\" text-anchor=\"middle\" x=\"1289\" y=\"-528.8\">concavity_worst &lt;= 0.216</text>\n<text fill=\"#000000\" font-family=\"Helvetica,sans-Serif\" font-size=\"14.00\" text-anchor=\"middle\" x=\"1289\" y=\"-513.8\">gini = 0.036</text>\n<text fill=\"#000000\" font-family=\"Helvetica,sans-Serif\" font-size=\"14.00\" text-anchor=\"middle\" x=\"1289\" y=\"-498.8\">samples = 95</text>\n<text fill=\"#000000\" font-family=\"Helvetica,sans-Serif\" font-size=\"14.00\" text-anchor=\"middle\" x=\"1289\" y=\"-483.8\">value = [3, 161]</text>\n<text fill=\"#000000\" font-family=\"Helvetica,sans-Serif\" font-size=\"14.00\" text-anchor=\"middle\" x=\"1289\" y=\"-468.8\">class = Malignant</text>\n</g>\n<!-- 22&#45;&gt;26 -->\n<g class=\"edge\" id=\"edge26\">\n<title>22-&gt;26</title>\n<path d=\"M1104.6945,-584.3371C1131.1875,-572.5735 1160.7495,-559.4471 1188.3052,-547.2115\" fill=\"none\" stroke=\"#000000\"/>\n<polygon fill=\"#000000\" points=\"1189.8468,-550.3565 1197.566,-543.0994 1187.0061,-543.9589 1189.8468,-550.3565\" stroke=\"#000000\"/>\n</g>\n<!-- 24 -->\n<g class=\"node\" id=\"node25\">\n<title>24</title>\n<path d=\"M1012,-417.5C1012,-417.5 924,-417.5 924,-417.5 918,-417.5 912,-411.5 912,-405.5 912,-405.5 912,-361.5 912,-361.5 912,-355.5 918,-349.5 924,-349.5 924,-349.5 1012,-349.5 1012,-349.5 1018,-349.5 1024,-355.5 1024,-361.5 1024,-361.5 1024,-405.5 1024,-405.5 1024,-411.5 1018,-417.5 1012,-417.5\" fill=\"#e58139\" stroke=\"#000000\"/>\n<text fill=\"#000000\" font-family=\"Helvetica,sans-Serif\" font-size=\"14.00\" text-anchor=\"middle\" x=\"968\" y=\"-402.3\">gini = 0.0</text>\n<text fill=\"#000000\" font-family=\"Helvetica,sans-Serif\" font-size=\"14.00\" text-anchor=\"middle\" x=\"968\" y=\"-387.3\">samples = 6</text>\n<text fill=\"#000000\" font-family=\"Helvetica,sans-Serif\" font-size=\"14.00\" text-anchor=\"middle\" x=\"968\" y=\"-372.3\">value = [8, 0]</text>\n<text fill=\"#000000\" font-family=\"Helvetica,sans-Serif\" font-size=\"14.00\" text-anchor=\"middle\" x=\"968\" y=\"-357.3\">class = Benign</text>\n</g>\n<!-- 23&#45;&gt;24 -->\n<g class=\"edge\" id=\"edge24\">\n<title>23-&gt;24</title>\n<path d=\"M1002.4632,-460.8796C997.6147,-449.9935 992.3742,-438.227 987.4783,-427.2344\" fill=\"none\" stroke=\"#000000\"/>\n<polygon fill=\"#000000\" points=\"990.5489,-425.5259 983.2831,-417.8149 984.1545,-428.3739 990.5489,-425.5259\" stroke=\"#000000\"/>\n</g>\n<!-- 25 -->\n<g class=\"node\" id=\"node26\">\n<title>25</title>\n<path d=\"M1159.5,-417.5C1159.5,-417.5 1054.5,-417.5 1054.5,-417.5 1048.5,-417.5 1042.5,-411.5 1042.5,-405.5 1042.5,-405.5 1042.5,-361.5 1042.5,-361.5 1042.5,-355.5 1048.5,-349.5 1054.5,-349.5 1054.5,-349.5 1159.5,-349.5 1159.5,-349.5 1165.5,-349.5 1171.5,-355.5 1171.5,-361.5 1171.5,-361.5 1171.5,-405.5 1171.5,-405.5 1171.5,-411.5 1165.5,-417.5 1159.5,-417.5\" fill=\"#399de5\" stroke=\"#000000\"/>\n<text fill=\"#000000\" font-family=\"Helvetica,sans-Serif\" font-size=\"14.00\" text-anchor=\"middle\" x=\"1107\" y=\"-402.3\">gini = 0.0</text>\n<text fill=\"#000000\" font-family=\"Helvetica,sans-Serif\" font-size=\"14.00\" text-anchor=\"middle\" x=\"1107\" y=\"-387.3\">samples = 3</text>\n<text fill=\"#000000\" font-family=\"Helvetica,sans-Serif\" font-size=\"14.00\" text-anchor=\"middle\" x=\"1107\" y=\"-372.3\">value = [0, 3]</text>\n<text fill=\"#000000\" font-family=\"Helvetica,sans-Serif\" font-size=\"14.00\" text-anchor=\"middle\" x=\"1107\" y=\"-357.3\">class = Malignant</text>\n</g>\n<!-- 23&#45;&gt;25 -->\n<g class=\"edge\" id=\"edge25\">\n<title>23-&gt;25</title>\n<path d=\"M1051.0786,-460.8796C1059.1843,-449.6636 1067.9653,-437.5131 1076.1143,-426.2372\" fill=\"none\" stroke=\"#000000\"/>\n<polygon fill=\"#000000\" points=\"1079.1803,-427.9701 1082.201,-417.8149 1073.5068,-423.8698 1079.1803,-427.9701\" stroke=\"#000000\"/>\n</g>\n<!-- 27 -->\n<g class=\"node\" id=\"node28\">\n<title>27</title>\n<path d=\"M1376.5,-425C1376.5,-425 1201.5,-425 1201.5,-425 1195.5,-425 1189.5,-419 1189.5,-413 1189.5,-413 1189.5,-354 1189.5,-354 1189.5,-348 1195.5,-342 1201.5,-342 1201.5,-342 1376.5,-342 1376.5,-342 1382.5,-342 1388.5,-348 1388.5,-354 1388.5,-354 1388.5,-413 1388.5,-413 1388.5,-419 1382.5,-425 1376.5,-425\" fill=\"#ffffff\" stroke=\"#000000\"/>\n<text fill=\"#000000\" font-family=\"Helvetica,sans-Serif\" font-size=\"14.00\" text-anchor=\"middle\" x=\"1289\" y=\"-409.8\">compactness_worst &lt;= 0.16</text>\n<text fill=\"#000000\" font-family=\"Helvetica,sans-Serif\" font-size=\"14.00\" text-anchor=\"middle\" x=\"1289\" y=\"-394.8\">gini = 0.5</text>\n<text fill=\"#000000\" font-family=\"Helvetica,sans-Serif\" font-size=\"14.00\" text-anchor=\"middle\" x=\"1289\" y=\"-379.8\">samples = 4</text>\n<text fill=\"#000000\" font-family=\"Helvetica,sans-Serif\" font-size=\"14.00\" text-anchor=\"middle\" x=\"1289\" y=\"-364.8\">value = [3, 3]</text>\n<text fill=\"#000000\" font-family=\"Helvetica,sans-Serif\" font-size=\"14.00\" text-anchor=\"middle\" x=\"1289\" y=\"-349.8\">class = Benign</text>\n</g>\n<!-- 26&#45;&gt;27 -->\n<g class=\"edge\" id=\"edge27\">\n<title>26-&gt;27</title>\n<path d=\"M1289,-460.8796C1289,-452.6838 1289,-443.9891 1289,-435.5013\" fill=\"none\" stroke=\"#000000\"/>\n<polygon fill=\"#000000\" points=\"1292.5001,-435.298 1289,-425.2981 1285.5001,-435.2981 1292.5001,-435.298\" stroke=\"#000000\"/>\n</g>\n<!-- 30 -->\n<g class=\"node\" id=\"node31\">\n<title>30</title>\n<path d=\"M1523.5,-417.5C1523.5,-417.5 1418.5,-417.5 1418.5,-417.5 1412.5,-417.5 1406.5,-411.5 1406.5,-405.5 1406.5,-405.5 1406.5,-361.5 1406.5,-361.5 1406.5,-355.5 1412.5,-349.5 1418.5,-349.5 1418.5,-349.5 1523.5,-349.5 1523.5,-349.5 1529.5,-349.5 1535.5,-355.5 1535.5,-361.5 1535.5,-361.5 1535.5,-405.5 1535.5,-405.5 1535.5,-411.5 1529.5,-417.5 1523.5,-417.5\" fill=\"#399de5\" stroke=\"#000000\"/>\n<text fill=\"#000000\" font-family=\"Helvetica,sans-Serif\" font-size=\"14.00\" text-anchor=\"middle\" x=\"1471\" y=\"-402.3\">gini = 0.0</text>\n<text fill=\"#000000\" font-family=\"Helvetica,sans-Serif\" font-size=\"14.00\" text-anchor=\"middle\" x=\"1471\" y=\"-387.3\">samples = 91</text>\n<text fill=\"#000000\" font-family=\"Helvetica,sans-Serif\" font-size=\"14.00\" text-anchor=\"middle\" x=\"1471\" y=\"-372.3\">value = [0, 158]</text>\n<text fill=\"#000000\" font-family=\"Helvetica,sans-Serif\" font-size=\"14.00\" text-anchor=\"middle\" x=\"1471\" y=\"-357.3\">class = Malignant</text>\n</g>\n<!-- 26&#45;&gt;30 -->\n<g class=\"edge\" id=\"edge30\">\n<title>26-&gt;30</title>\n<path d=\"M1352.6548,-460.8796C1371.4111,-448.6158 1391.8761,-435.2348 1410.433,-423.1015\" fill=\"none\" stroke=\"#000000\"/>\n<polygon fill=\"#000000\" points=\"1412.3575,-426.025 1418.8118,-417.623 1408.5267,-420.1662 1412.3575,-426.025\" stroke=\"#000000\"/>\n</g>\n<!-- 28 -->\n<g class=\"node\" id=\"node29\">\n<title>28</title>\n<path d=\"M1271.5,-298.5C1271.5,-298.5 1166.5,-298.5 1166.5,-298.5 1160.5,-298.5 1154.5,-292.5 1154.5,-286.5 1154.5,-286.5 1154.5,-242.5 1154.5,-242.5 1154.5,-236.5 1160.5,-230.5 1166.5,-230.5 1166.5,-230.5 1271.5,-230.5 1271.5,-230.5 1277.5,-230.5 1283.5,-236.5 1283.5,-242.5 1283.5,-242.5 1283.5,-286.5 1283.5,-286.5 1283.5,-292.5 1277.5,-298.5 1271.5,-298.5\" fill=\"#399de5\" stroke=\"#000000\"/>\n<text fill=\"#000000\" font-family=\"Helvetica,sans-Serif\" font-size=\"14.00\" text-anchor=\"middle\" x=\"1219\" y=\"-283.3\">gini = 0.0</text>\n<text fill=\"#000000\" font-family=\"Helvetica,sans-Serif\" font-size=\"14.00\" text-anchor=\"middle\" x=\"1219\" y=\"-268.3\">samples = 2</text>\n<text fill=\"#000000\" font-family=\"Helvetica,sans-Serif\" font-size=\"14.00\" text-anchor=\"middle\" x=\"1219\" y=\"-253.3\">value = [0, 3]</text>\n<text fill=\"#000000\" font-family=\"Helvetica,sans-Serif\" font-size=\"14.00\" text-anchor=\"middle\" x=\"1219\" y=\"-238.3\">class = Malignant</text>\n</g>\n<!-- 27&#45;&gt;28 -->\n<g class=\"edge\" id=\"edge28\">\n<title>27-&gt;28</title>\n<path d=\"M1264.5174,-341.8796C1257.9844,-330.7735 1250.9125,-318.7513 1244.3348,-307.5691\" fill=\"none\" stroke=\"#000000\"/>\n<polygon fill=\"#000000\" points=\"1247.2723,-305.6597 1239.1853,-298.8149 1241.2387,-309.2089 1247.2723,-305.6597\" stroke=\"#000000\"/>\n</g>\n<!-- 29 -->\n<g class=\"node\" id=\"node30\">\n<title>29</title>\n<path d=\"M1402,-298.5C1402,-298.5 1314,-298.5 1314,-298.5 1308,-298.5 1302,-292.5 1302,-286.5 1302,-286.5 1302,-242.5 1302,-242.5 1302,-236.5 1308,-230.5 1314,-230.5 1314,-230.5 1402,-230.5 1402,-230.5 1408,-230.5 1414,-236.5 1414,-242.5 1414,-242.5 1414,-286.5 1414,-286.5 1414,-292.5 1408,-298.5 1402,-298.5\" fill=\"#e58139\" stroke=\"#000000\"/>\n<text fill=\"#000000\" font-family=\"Helvetica,sans-Serif\" font-size=\"14.00\" text-anchor=\"middle\" x=\"1358\" y=\"-283.3\">gini = 0.0</text>\n<text fill=\"#000000\" font-family=\"Helvetica,sans-Serif\" font-size=\"14.00\" text-anchor=\"middle\" x=\"1358\" y=\"-268.3\">samples = 2</text>\n<text fill=\"#000000\" font-family=\"Helvetica,sans-Serif\" font-size=\"14.00\" text-anchor=\"middle\" x=\"1358\" y=\"-253.3\">value = [3, 0]</text>\n<text fill=\"#000000\" font-family=\"Helvetica,sans-Serif\" font-size=\"14.00\" text-anchor=\"middle\" x=\"1358\" y=\"-238.3\">class = Benign</text>\n</g>\n<!-- 27&#45;&gt;29 -->\n<g class=\"edge\" id=\"edge29\">\n<title>27-&gt;29</title>\n<path d=\"M1313.1329,-341.8796C1319.5725,-330.7735 1326.5434,-318.7513 1333.0271,-307.5691\" fill=\"none\" stroke=\"#000000\"/>\n<polygon fill=\"#000000\" points=\"1336.1148,-309.2215 1338.1031,-298.8149 1330.0591,-305.7102 1336.1148,-309.2215\" stroke=\"#000000\"/>\n</g>\n</g>\n</svg>"
          },
          "metadata": {
            "tags": []
          },
          "execution_count": 17
        }
      ]
    }
  ]
}