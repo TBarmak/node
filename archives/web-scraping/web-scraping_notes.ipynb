{
  "nbformat": 4,
  "nbformat_minor": 0,
  "metadata": {
    "kernelspec": {
      "display_name": "Python 3",
      "language": "python",
      "name": "python3"
    },
    "language_info": {
      "codemirror_mode": {
        "name": "ipython",
        "version": 3
      },
      "file_extension": ".py",
      "mimetype": "text/x-python",
      "name": "python",
      "nbconvert_exporter": "python",
      "pygments_lexer": "ipython3",
      "version": "3.7.3"
    },
    "colab": {
      "name": "WebScrapingWeek9.ipynb",
      "provenance": []
    }
  },
  "cells": [
    {
      "cell_type": "markdown",
      "metadata": {
        "id": "5OWE44hGWIL0"
      },
      "source": [
        "## Web Scraping with Beautiful Soup\n",
        "\n",
        "adapted from https://www.dataquest.io/blog/web-scraping-tutorial-python/"
      ]
    },
    {
      "cell_type": "code",
      "metadata": {
        "id": "3psJv8e3WIL2"
      },
      "source": [
        "#!pip install BeautifulSoup4 # ! means run this line as a shell command (if you don't know what that means, don't worry about it)\n",
        "import requests # package for making the GET request and recieving the HTML\n",
        "import bs4 as BeautifulSoup # package for parsing the HTML\n",
        "import pandas as pd"
      ],
      "execution_count": null,
      "outputs": []
    },
    {
      "cell_type": "markdown",
      "metadata": {
        "id": "KbWRjnVxWIL-"
      },
      "source": [
        "We're going to need to download the webpage using Python's requests library. We'll use the request GET, which will download the HTML contents from the specified webpage. "
      ]
    },
    {
      "cell_type": "code",
      "metadata": {
        "id": "C1hwdKPGWIL_"
      },
      "source": [
        "page = requests.get(\"http://forecast.weather.gov/MapClick.php?lat=38.0335&lon=-78.5079\")"
      ],
      "execution_count": null,
      "outputs": []
    },
    {
      "cell_type": "code",
      "metadata": {
        "id": "HDGhsOI-WIMF",
        "outputId": "d16edd8d-01b6-4d13-8008-469f0bb2f441",
        "colab": {
          "base_uri": "https://localhost:8080/"
        }
      },
      "source": [
        ""
      ],
      "execution_count": null,
      "outputs": [
        {
          "output_type": "execute_result",
          "data": {
            "text/plain": [
              "<Response [200]>"
            ]
          },
          "metadata": {
            "tags": []
          },
          "execution_count": 4
        }
      ]
    },
    {
      "cell_type": "markdown",
      "metadata": {
        "id": "STgcsh49WIMN"
      },
      "source": [
        "Response [200] indicates that the request was successful. We'll need to create a BeautifulSoup object in order to utilize the library and get information from the webpage."
      ]
    },
    {
      "cell_type": "code",
      "metadata": {
        "id": "mE203_kGWIMO"
      },
      "source": [
        "from bs4 import BeautifulSoup"
      ],
      "execution_count": null,
      "outputs": []
    },
    {
      "cell_type": "code",
      "metadata": {
        "id": "-TmQMlIUWIMU"
      },
      "source": [
        ""
      ],
      "execution_count": null,
      "outputs": []
    },
    {
      "cell_type": "markdown",
      "metadata": {
        "id": "P6Yc8tzfWIMZ"
      },
      "source": [
        "If you want to view the HTML, use the command print(soup.prettify()) to see it laid out nicely. Usually, we can just use soup.prettify() in Jupyter Notebook to view an object, but it doesn't work with soup.prettify(). "
      ]
    },
    {
      "cell_type": "code",
      "metadata": {
        "id": "V83ToaOeWIMa"
      },
      "source": [
        ""
      ],
      "execution_count": null,
      "outputs": []
    },
    {
      "cell_type": "markdown",
      "metadata": {
        "id": "hNo3eQoDWIMh"
      },
      "source": [
        "find() will look through the HTML to find the tag that you specify. This is the first step in order to narrow down the information on the webpage you want. To find the id on the webpage, use \"inspect\"."
      ]
    },
    {
      "cell_type": "code",
      "metadata": {
        "id": "xpCA9W4eWIMi"
      },
      "source": [
        " # finds the section with the id \"seven-day-forecast\""
      ],
      "execution_count": null,
      "outputs": []
    },
    {
      "cell_type": "code",
      "metadata": {
        "id": "casW0yL3WIMn"
      },
      "source": [
        ""
      ],
      "execution_count": null,
      "outputs": []
    },
    {
      "cell_type": "markdown",
      "metadata": {
        "id": "Fh1a3XZCWIMt"
      },
      "source": [
        "## Brief HTML Overview\n",
        "\n",
        "Common tags:\n",
        "\n",
        "- `<div>` - a divider/section\n",
        "- `<h1>` - header 1 (big)\n",
        "- `<h2>` - header 2 (less big)\n",
        "- `<p>` - paragraph\n",
        "\n",
        "Each of the tags can contain a `class` and/or an `id`. The class can be used multiple times in elements that are similar, for example separate `<div>`s that contain an image + text that need to be formatted in the same way. An id is used for unique elements, and can only be found once on a webpage. For example, you could use it for a logo `<div>` at the top of a website."
      ]
    },
    {
      "cell_type": "code",
      "metadata": {
        "id": "tVsJTwSvWIMu"
      },
      "source": [
        " # finds first tag with the class \"tombstone-container\""
      ],
      "execution_count": null,
      "outputs": []
    },
    {
      "cell_type": "markdown",
      "metadata": {
        "id": "kteuQD2uWIMz"
      },
      "source": [
        "`find()` returned the first \"tombstone-container\", but we want all of them, one for each day. We will use the \"findall\" method to select __all__ elements with the `class` tombstone-container. This returns a list from which we can select the first element."
      ]
    },
    {
      "cell_type": "code",
      "metadata": {
        "id": "EPQWWTPkWIM0"
      },
      "source": [
        ""
      ],
      "execution_count": null,
      "outputs": []
    },
    {
      "cell_type": "code",
      "metadata": {
        "id": "P6C-KVUQXlcM"
      },
      "source": [
        ""
      ],
      "execution_count": null,
      "outputs": []
    },
    {
      "cell_type": "code",
      "metadata": {
        "id": "RpK_i0u9WIM6"
      },
      "source": [
        ""
      ],
      "execution_count": null,
      "outputs": []
    },
    {
      "cell_type": "markdown",
      "metadata": {
        "id": "moqLyA3dWIM_"
      },
      "source": [
        "We've narrowed the scope a bit so that we have access to tonight's weather data. Four Points of Interest:\n",
        "\n",
        "- The name of the forecast item – in this case, Tonight.\n",
        "- The description of the conditions – this is stored in an `<img>`, inside the attribute `title`.\n",
        "- A short description of the conditions - stored in paragraph of class \"short-desc\".\n",
        "- The temperature high – stored in paragraph of class \"temp temp-high\"."
      ]
    },
    {
      "cell_type": "code",
      "metadata": {
        "id": "THc4dyeRWINA",
        "outputId": "83bfaa60-308d-48af-c13c-c1dfacab467a",
        "colab": {
          "base_uri": "https://localhost:8080/"
        }
      },
      "source": [
        "period = today.find(class_=\"period-name\").get_text()\n",
        "desc = today.find(class_=\"forecast-icon\")['title'] # this is an image with an attribute called \"title\", so we get it using the bracket syntax\n",
        "short_desc = today.find(class_=\"short-desc\").get_text()\n",
        "temp = today.find(class_=\"temp\").get_text()\n",
        "\n",
        "print(period)\n",
        "print(desc)\n",
        "print(short_desc)\n",
        "print(temp)"
      ],
      "execution_count": null,
      "outputs": [
        {
          "output_type": "stream",
          "text": [
            "Tonight\n",
            "Tonight: Clear, with a low around 45. Calm wind. \n",
            "Clear\n",
            "Low: 45 °F\n"
          ],
          "name": "stdout"
        }
      ]
    },
    {
      "cell_type": "markdown",
      "metadata": {
        "id": "pTjvIkV2WINF"
      },
      "source": [
        "Now that we can parse the individual nights' information, we can generalize this process to all of the nights using CSS selectors.\n",
        "\n",
        "Select all items with the `class` \"period-name\" inside an item with the `class` \"tombstone-container\" in seven_day. The period (.) represents a class. If you wanted to find an id, you would use a pound symbol (#).\n",
        "\n",
        "Note that `select` returns a list, so to get the elements you have to index the list, or use a for loop to process each element of the list."
      ]
    },
    {
      "cell_type": "code",
      "metadata": {
        "id": "pVQhH0KOWING"
      },
      "source": [
        ""
      ],
      "execution_count": null,
      "outputs": []
    },
    {
      "cell_type": "markdown",
      "metadata": {
        "id": "0XRw8_VtWINL"
      },
      "source": [
        "We will scrape all of the periods, short_descs, temps, and descs using the `select` command."
      ]
    },
    {
      "cell_type": "code",
      "metadata": {
        "id": "v3jXrfygWINL",
        "outputId": "3bc2f629-5d23-40a1-bf48-e7552730d091",
        "colab": {
          "base_uri": "https://localhost:8080/"
        }
      },
      "source": [
        "periods = []\n",
        "for tag in seven_day.select(\".tombstone-container .period-name\"):\n",
        "  text = tag.get_text()\n",
        "  periods.append(text)\n",
        "print(periods)"
      ],
      "execution_count": null,
      "outputs": [
        {
          "output_type": "stream",
          "text": [
            "['Tonight', 'Sunday', 'SundayNight', 'Monday', 'MondayNight', 'Tuesday', 'TuesdayNight', 'VeteransDay', 'WednesdayNight']\n"
          ],
          "name": "stdout"
        }
      ]
    },
    {
      "cell_type": "code",
      "metadata": {
        "id": "N8X8XYibWINQ",
        "outputId": "82a1758d-1d6a-419e-e759-2e491e73d12a",
        "colab": {
          "base_uri": "https://localhost:8080/"
        }
      },
      "source": [
        "short_descs = []\n",
        "for sd in seven_day.select(\".tombstone-container .short-desc\"):\n",
        "  text = sd.get_text()\n",
        "  short_descs.append(text)\n",
        "print(short_descs)"
      ],
      "execution_count": null,
      "outputs": [
        {
          "output_type": "stream",
          "text": [
            "['Clear', 'Patchy Fogthen Sunny', 'Partly Cloudythen PatchyFog', 'Patchy Fogthen MostlySunny', 'Mostly Cloudy', 'Mostly Cloudythen SlightChanceShowers', 'ShowersLikely', 'Showers', 'Showers']\n"
          ],
          "name": "stdout"
        }
      ]
    },
    {
      "cell_type": "code",
      "metadata": {
        "id": "tyPiZLTUWINX",
        "outputId": "83a6d6e5-798d-4e3f-aba5-7413b30a2c0b",
        "colab": {
          "base_uri": "https://localhost:8080/"
        }
      },
      "source": [
        "temps = []\n",
        "for t in seven_day.select(\".tombstone-container .temp\"):\n",
        "  text = t.get_text()\n",
        "  temps.append(text)\n",
        "print(temps)"
      ],
      "execution_count": null,
      "outputs": [
        {
          "output_type": "stream",
          "text": [
            "['Low: 45 °F', 'High: 79 °F', 'Low: 50 °F', 'High: 71 °F', 'Low: 54 °F', 'High: 72 °F', 'Low: 64 °F', 'High: 74 °F', 'Low: 63 °F']\n"
          ],
          "name": "stdout"
        }
      ]
    },
    {
      "cell_type": "code",
      "metadata": {
        "id": "ui733237WINc",
        "outputId": "1611221e-1b84-4a83-b80f-af31c5608d41",
        "colab": {
          "base_uri": "https://localhost:8080/"
        }
      },
      "source": [
        "descs = []\n",
        "for d in seven_day.select(\".tombstone-container img\"):\n",
        "  text = d['title']\n",
        "  descs.append(text)\n",
        "print(descs)"
      ],
      "execution_count": null,
      "outputs": [
        {
          "output_type": "stream",
          "text": [
            "['Tonight: Clear, with a low around 45. Calm wind. ', 'Sunday: Patchy fog before 10am.  Otherwise, sunny, with a high near 79. Calm wind becoming south around 5 mph in the afternoon. ', 'Sunday Night: Patchy fog after 1am.  Otherwise, partly cloudy, with a low around 50. Light and variable wind. ', 'Monday: Patchy fog before 10am.  Otherwise, mostly sunny, with a high near 71. Calm wind becoming south around 5 mph in the afternoon. ', 'Monday Night: Mostly cloudy, with a low around 54. Light south wind. ', 'Tuesday: A slight chance of showers after 1pm.  Partly sunny, with a high near 72. Chance of precipitation is 20%.', 'Tuesday Night: Showers likely, mainly after 1am.  Mostly cloudy, with a low around 64. Chance of precipitation is 70%.', 'Veterans Day: Showers.  High near 74. Chance of precipitation is 90%.', 'Wednesday Night: Showers.  Low around 63. Chance of precipitation is 80%.']\n"
          ],
          "name": "stdout"
        }
      ]
    },
    {
      "cell_type": "markdown",
      "metadata": {
        "id": "_B7bzPeUWINi"
      },
      "source": [
        "Now, we've scraped all the data we wish to analyze, so we can combine it all into a DataFrame so we can clean and analyze it using pandas. "
      ]
    },
    {
      "cell_type": "code",
      "metadata": {
        "id": "crin_lecWINj",
        "outputId": "703fcf87-f02a-4c22-f8ff-3d16ff389ba1",
        "colab": {
          "base_uri": "https://localhost:8080/",
          "height": 328
        }
      },
      "source": [
        "weather = pd.DataFrame({\n",
        "        \"period\": periods, \n",
        "        \"short_desc\": short_descs, \n",
        "        \"temp\": temps, \n",
        "        \"desc\": descs\n",
        "    })\n",
        "weather"
      ],
      "execution_count": null,
      "outputs": [
        {
          "output_type": "execute_result",
          "data": {
            "text/html": [
              "<div>\n",
              "<style scoped>\n",
              "    .dataframe tbody tr th:only-of-type {\n",
              "        vertical-align: middle;\n",
              "    }\n",
              "\n",
              "    .dataframe tbody tr th {\n",
              "        vertical-align: top;\n",
              "    }\n",
              "\n",
              "    .dataframe thead th {\n",
              "        text-align: right;\n",
              "    }\n",
              "</style>\n",
              "<table border=\"1\" class=\"dataframe\">\n",
              "  <thead>\n",
              "    <tr style=\"text-align: right;\">\n",
              "      <th></th>\n",
              "      <th>period</th>\n",
              "      <th>short_desc</th>\n",
              "      <th>temp</th>\n",
              "      <th>desc</th>\n",
              "    </tr>\n",
              "  </thead>\n",
              "  <tbody>\n",
              "    <tr>\n",
              "      <th>0</th>\n",
              "      <td>Tonight</td>\n",
              "      <td>Clear</td>\n",
              "      <td>Low: 45 °F</td>\n",
              "      <td>Tonight: Clear, with a low around 45. Calm wind.</td>\n",
              "    </tr>\n",
              "    <tr>\n",
              "      <th>1</th>\n",
              "      <td>Sunday</td>\n",
              "      <td>Patchy Fogthen Sunny</td>\n",
              "      <td>High: 79 °F</td>\n",
              "      <td>Sunday: Patchy fog before 10am.  Otherwise, su...</td>\n",
              "    </tr>\n",
              "    <tr>\n",
              "      <th>2</th>\n",
              "      <td>SundayNight</td>\n",
              "      <td>Partly Cloudythen PatchyFog</td>\n",
              "      <td>Low: 50 °F</td>\n",
              "      <td>Sunday Night: Patchy fog after 1am.  Otherwise...</td>\n",
              "    </tr>\n",
              "    <tr>\n",
              "      <th>3</th>\n",
              "      <td>Monday</td>\n",
              "      <td>Patchy Fogthen MostlySunny</td>\n",
              "      <td>High: 71 °F</td>\n",
              "      <td>Monday: Patchy fog before 10am.  Otherwise, mo...</td>\n",
              "    </tr>\n",
              "    <tr>\n",
              "      <th>4</th>\n",
              "      <td>MondayNight</td>\n",
              "      <td>Mostly Cloudy</td>\n",
              "      <td>Low: 54 °F</td>\n",
              "      <td>Monday Night: Mostly cloudy, with a low around...</td>\n",
              "    </tr>\n",
              "    <tr>\n",
              "      <th>5</th>\n",
              "      <td>Tuesday</td>\n",
              "      <td>Mostly Cloudythen SlightChanceShowers</td>\n",
              "      <td>High: 72 °F</td>\n",
              "      <td>Tuesday: A slight chance of showers after 1pm....</td>\n",
              "    </tr>\n",
              "    <tr>\n",
              "      <th>6</th>\n",
              "      <td>TuesdayNight</td>\n",
              "      <td>ShowersLikely</td>\n",
              "      <td>Low: 64 °F</td>\n",
              "      <td>Tuesday Night: Showers likely, mainly after 1a...</td>\n",
              "    </tr>\n",
              "    <tr>\n",
              "      <th>7</th>\n",
              "      <td>VeteransDay</td>\n",
              "      <td>Showers</td>\n",
              "      <td>High: 74 °F</td>\n",
              "      <td>Veterans Day: Showers.  High near 74. Chance o...</td>\n",
              "    </tr>\n",
              "    <tr>\n",
              "      <th>8</th>\n",
              "      <td>WednesdayNight</td>\n",
              "      <td>Showers</td>\n",
              "      <td>Low: 63 °F</td>\n",
              "      <td>Wednesday Night: Showers.  Low around 63. Chan...</td>\n",
              "    </tr>\n",
              "  </tbody>\n",
              "</table>\n",
              "</div>"
            ],
            "text/plain": [
              "           period  ...                                               desc\n",
              "0         Tonight  ...  Tonight: Clear, with a low around 45. Calm wind. \n",
              "1          Sunday  ...  Sunday: Patchy fog before 10am.  Otherwise, su...\n",
              "2     SundayNight  ...  Sunday Night: Patchy fog after 1am.  Otherwise...\n",
              "3          Monday  ...  Monday: Patchy fog before 10am.  Otherwise, mo...\n",
              "4     MondayNight  ...  Monday Night: Mostly cloudy, with a low around...\n",
              "5         Tuesday  ...  Tuesday: A slight chance of showers after 1pm....\n",
              "6    TuesdayNight  ...  Tuesday Night: Showers likely, mainly after 1a...\n",
              "7     VeteransDay  ...  Veterans Day: Showers.  High near 74. Chance o...\n",
              "8  WednesdayNight  ...  Wednesday Night: Showers.  Low around 63. Chan...\n",
              "\n",
              "[9 rows x 4 columns]"
            ]
          },
          "metadata": {
            "tags": []
          },
          "execution_count": 21
        }
      ]
    },
    {
      "cell_type": "code",
      "metadata": {
        "id": "ylUtXi0fWINn",
        "outputId": "8a370d5d-dec5-4eba-f6ee-74ab3a9e0392",
        "colab": {
          "base_uri": "https://localhost:8080/",
          "height": 328
        }
      },
      "source": [
        "\n",
        "weather2 = pd.DataFrame()\n",
        "\n",
        "weather2['period'] = periods\n",
        "weather2['short_desc'] = short_descs\n",
        "weather2['temp'] = temps\n",
        "weather2['desc'] = descs\n",
        "\n",
        "\n",
        "weather2"
      ],
      "execution_count": null,
      "outputs": [
        {
          "output_type": "execute_result",
          "data": {
            "text/html": [
              "<div>\n",
              "<style scoped>\n",
              "    .dataframe tbody tr th:only-of-type {\n",
              "        vertical-align: middle;\n",
              "    }\n",
              "\n",
              "    .dataframe tbody tr th {\n",
              "        vertical-align: top;\n",
              "    }\n",
              "\n",
              "    .dataframe thead th {\n",
              "        text-align: right;\n",
              "    }\n",
              "</style>\n",
              "<table border=\"1\" class=\"dataframe\">\n",
              "  <thead>\n",
              "    <tr style=\"text-align: right;\">\n",
              "      <th></th>\n",
              "      <th>period</th>\n",
              "      <th>short_desc</th>\n",
              "      <th>temp</th>\n",
              "      <th>desc</th>\n",
              "    </tr>\n",
              "  </thead>\n",
              "  <tbody>\n",
              "    <tr>\n",
              "      <th>0</th>\n",
              "      <td>Tonight</td>\n",
              "      <td>Clear</td>\n",
              "      <td>Low: 45 °F</td>\n",
              "      <td>Tonight: Clear, with a low around 45. Calm wind.</td>\n",
              "    </tr>\n",
              "    <tr>\n",
              "      <th>1</th>\n",
              "      <td>Sunday</td>\n",
              "      <td>Patchy Fogthen Sunny</td>\n",
              "      <td>High: 79 °F</td>\n",
              "      <td>Sunday: Patchy fog before 10am.  Otherwise, su...</td>\n",
              "    </tr>\n",
              "    <tr>\n",
              "      <th>2</th>\n",
              "      <td>SundayNight</td>\n",
              "      <td>Partly Cloudythen PatchyFog</td>\n",
              "      <td>Low: 50 °F</td>\n",
              "      <td>Sunday Night: Patchy fog after 1am.  Otherwise...</td>\n",
              "    </tr>\n",
              "    <tr>\n",
              "      <th>3</th>\n",
              "      <td>Monday</td>\n",
              "      <td>Patchy Fogthen MostlySunny</td>\n",
              "      <td>High: 71 °F</td>\n",
              "      <td>Monday: Patchy fog before 10am.  Otherwise, mo...</td>\n",
              "    </tr>\n",
              "    <tr>\n",
              "      <th>4</th>\n",
              "      <td>MondayNight</td>\n",
              "      <td>Mostly Cloudy</td>\n",
              "      <td>Low: 54 °F</td>\n",
              "      <td>Monday Night: Mostly cloudy, with a low around...</td>\n",
              "    </tr>\n",
              "    <tr>\n",
              "      <th>5</th>\n",
              "      <td>Tuesday</td>\n",
              "      <td>Mostly Cloudythen SlightChanceShowers</td>\n",
              "      <td>High: 72 °F</td>\n",
              "      <td>Tuesday: A slight chance of showers after 1pm....</td>\n",
              "    </tr>\n",
              "    <tr>\n",
              "      <th>6</th>\n",
              "      <td>TuesdayNight</td>\n",
              "      <td>ShowersLikely</td>\n",
              "      <td>Low: 64 °F</td>\n",
              "      <td>Tuesday Night: Showers likely, mainly after 1a...</td>\n",
              "    </tr>\n",
              "    <tr>\n",
              "      <th>7</th>\n",
              "      <td>VeteransDay</td>\n",
              "      <td>Showers</td>\n",
              "      <td>High: 74 °F</td>\n",
              "      <td>Veterans Day: Showers.  High near 74. Chance o...</td>\n",
              "    </tr>\n",
              "    <tr>\n",
              "      <th>8</th>\n",
              "      <td>WednesdayNight</td>\n",
              "      <td>Showers</td>\n",
              "      <td>Low: 63 °F</td>\n",
              "      <td>Wednesday Night: Showers.  Low around 63. Chan...</td>\n",
              "    </tr>\n",
              "  </tbody>\n",
              "</table>\n",
              "</div>"
            ],
            "text/plain": [
              "           period  ...                                               desc\n",
              "0         Tonight  ...  Tonight: Clear, with a low around 45. Calm wind. \n",
              "1          Sunday  ...  Sunday: Patchy fog before 10am.  Otherwise, su...\n",
              "2     SundayNight  ...  Sunday Night: Patchy fog after 1am.  Otherwise...\n",
              "3          Monday  ...  Monday: Patchy fog before 10am.  Otherwise, mo...\n",
              "4     MondayNight  ...  Monday Night: Mostly cloudy, with a low around...\n",
              "5         Tuesday  ...  Tuesday: A slight chance of showers after 1pm....\n",
              "6    TuesdayNight  ...  Tuesday Night: Showers likely, mainly after 1a...\n",
              "7     VeteransDay  ...  Veterans Day: Showers.  High near 74. Chance o...\n",
              "8  WednesdayNight  ...  Wednesday Night: Showers.  Low around 63. Chan...\n",
              "\n",
              "[9 rows x 4 columns]"
            ]
          },
          "metadata": {
            "tags": []
          },
          "execution_count": 22
        }
      ]
    },
    {
      "cell_type": "markdown",
      "metadata": {
        "id": "iw2glvlXWINs"
      },
      "source": [
        "Because all of the Weather Channel's pages are formatted the same way, you can do this for any other city. All you have to do is change the original url that you started with to the city of your choosing. "
      ]
    }
  ]
}