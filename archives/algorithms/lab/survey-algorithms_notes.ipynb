{
  "nbformat": 4,
  "nbformat_minor": 0,
  "metadata": {
    "colab": {
      "name": "Week_7_lab.ipynb",
      "provenance": []
    },
    "kernelspec": {
      "name": "python3",
      "display_name": "Python 3"
    }
  },
  "cells": [
    {
      "cell_type": "markdown",
      "metadata": {
        "id": "u687v7V4mTlJ"
      },
      "source": [
        "# The Imports"
      ]
    },
    {
      "cell_type": "code",
      "metadata": {
        "id": "lT-ootBhlu_B"
      },
      "source": [
        "#First, the standard imports\n",
        "import pandas as pd\n",
        "import numpy as np\n",
        "\n",
        "#Then, the accuracy imports\n",
        "from sklearn.metrics import accuracy_score\n",
        "from sklearn.model_selection import train_test_split"
      ],
      "execution_count": null,
      "outputs": []
    },
    {
      "cell_type": "markdown",
      "metadata": {
        "id": "XWljVH1ZmXWq"
      },
      "source": [
        "# Loading and Preprocessing Data"
      ]
    },
    {
      "cell_type": "markdown",
      "metadata": {
        "id": "8SfEg7q4naIJ"
      },
      "source": [
        "Use the same methods you used last time to clean up the data!"
      ]
    },
    {
      "cell_type": "code",
      "metadata": {
        "id": "otubgpHnsVKx"
      },
      "source": [
        ""
      ],
      "execution_count": null,
      "outputs": []
    },
    {
      "cell_type": "markdown",
      "metadata": {
        "id": "GWwCVJsEnhg7"
      },
      "source": [
        "#Random Forest"
      ]
    },
    {
      "cell_type": "markdown",
      "metadata": {
        "id": "Z_rz7Xw-nj15"
      },
      "source": [
        "Create a random forest model and use it on the cleaned up data. Use the same train_test_split techniques we saw during workshop.\n",
        "\n",
        "After you report accuracy, use the code provided in workshop to display one of the decision trees of the model."
      ]
    },
    {
      "cell_type": "code",
      "metadata": {
        "id": "_QzegLbSsWhF"
      },
      "source": [
        "from sklearn.ensemble import RandomForestClassifier"
      ],
      "execution_count": null,
      "outputs": []
    },
    {
      "cell_type": "code",
      "metadata": {
        "id": "07C_hf1KssIk"
      },
      "source": [
        ""
      ],
      "execution_count": null,
      "outputs": []
    },
    {
      "cell_type": "markdown",
      "metadata": {
        "id": "wri2qslPn9Oo"
      },
      "source": [
        "#K-Nearest Neighbors"
      ]
    },
    {
      "cell_type": "markdown",
      "metadata": {
        "id": "T0l3SaQaoA1i"
      },
      "source": [
        "Create a KNN model using k=5 neighbors.\n",
        "\n",
        "Report the accuracy and repeat the previous step using different k values from 1-4.\n"
      ]
    },
    {
      "cell_type": "code",
      "metadata": {
        "id": "W21Pi3ZUpIOK"
      },
      "source": [
        "from sklearn.neighbors import KNeighborsClassifier"
      ],
      "execution_count": null,
      "outputs": []
    },
    {
      "cell_type": "code",
      "metadata": {
        "id": "xMPKJas0sqGV"
      },
      "source": [
        ""
      ],
      "execution_count": null,
      "outputs": []
    },
    {
      "cell_type": "markdown",
      "metadata": {
        "id": "1H4MtQExqYIQ"
      },
      "source": [
        "Which value of k gives the best accuracy on the test set? Is KNN or Random Forest better for this data?\n",
        "\n",
        "Why do we think this value of k gives us the best result?"
      ]
    }
  ]
}