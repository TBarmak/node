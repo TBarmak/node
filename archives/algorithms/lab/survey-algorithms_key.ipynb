{
  "nbformat": 4,
  "nbformat_minor": 0,
  "metadata": {
    "colab": {
      "name": "Week_7_lab_key.ipynb",
      "provenance": []
    },
    "kernelspec": {
      "name": "python3",
      "display_name": "Python 3"
    }
  },
  "cells": [
    {
      "cell_type": "markdown",
      "metadata": {
        "id": "u687v7V4mTlJ"
      },
      "source": [
        "# The Imports"
      ]
    },
    {
      "cell_type": "code",
      "metadata": {
        "id": "lT-ootBhlu_B"
      },
      "source": [
        "#First, the standard imports\n",
        "import pandas as pd\n",
        "import numpy as np\n",
        "\n",
        "#Then, the classifier imports\n",
        "from sklearn.ensemble import RandomForestClassifier\n",
        "from sklearn.neighbors import KNeighborsClassifier"
      ],
      "execution_count": null,
      "outputs": []
    },
    {
      "cell_type": "markdown",
      "metadata": {
        "id": "XWljVH1ZmXWq"
      },
      "source": [
        "# Loading and Preprocessing Data"
      ]
    },
    {
      "cell_type": "markdown",
      "metadata": {
        "id": "8SfEg7q4naIJ"
      },
      "source": [
        "Use the same methods you used last time to clean up the data!"
      ]
    },
    {
      "cell_type": "code",
      "metadata": {
        "id": "yeSx9NuhmcEC"
      },
      "source": [
        "df = pd.read_csv(\"survey_cleaned.csv\")"
      ],
      "execution_count": null,
      "outputs": []
    },
    {
      "cell_type": "code",
      "metadata": {
        "id": "sn4uq4hxmywp"
      },
      "source": [
        "cols_to_drop = ['timestamp','first_name','school','year', 'interest_topics','interest_hobbies','study_area']\n",
        "\n",
        "df_ml = df.drop(columns=cols_to_drop)"
      ],
      "execution_count": null,
      "outputs": []
    },
    {
      "cell_type": "code",
      "metadata": {
        "id": "9etJvqF4m0IQ"
      },
      "source": [
        "df_ml['target'] = df_ml.target.map({'Other':0,'CS or Stats':1})"
      ],
      "execution_count": null,
      "outputs": []
    },
    {
      "cell_type": "code",
      "metadata": {
        "id": "Lj9ZOGNenR6k"
      },
      "source": [
        "df_ml_cleaned = pd.get_dummies(df_ml,drop_first=True)"
      ],
      "execution_count": null,
      "outputs": []
    },
    {
      "cell_type": "code",
      "metadata": {
        "id": "fVeBom8Hoxhf"
      },
      "source": [
        "X = df_ml_cleaned.drop(columns=['target'])\n",
        "y = df_ml_cleaned['target']"
      ],
      "execution_count": null,
      "outputs": []
    },
    {
      "cell_type": "code",
      "metadata": {
        "id": "y-775ZpBo2h1"
      },
      "source": [
        "from sklearn.model_selection import train_test_split\n",
        "\n",
        "X_train, X_test, y_train, y_test = train_test_split(X, y, test_size=.33, random_state=42)"
      ],
      "execution_count": null,
      "outputs": []
    },
    {
      "cell_type": "markdown",
      "metadata": {
        "id": "GWwCVJsEnhg7"
      },
      "source": [
        "#Random Forest"
      ]
    },
    {
      "cell_type": "markdown",
      "metadata": {
        "id": "Z_rz7Xw-nj15"
      },
      "source": [
        "Create a random forest model and use it on the cleaned up data. Use the same train_test_split techniques we saw during workshop.\n",
        "\n",
        "After you report accuracy, use the code provided in workshop to display one of the decision trees of the model."
      ]
    },
    {
      "cell_type": "code",
      "metadata": {
        "id": "l1NCb4yFnjJ5",
        "outputId": "acd8eeff-90c5-4c51-80eb-3e2fbc88259a",
        "colab": {
          "base_uri": "https://localhost:8080/",
          "height": 34
        }
      },
      "source": [
        "from sklearn.metrics import accuracy_score\n",
        "\n",
        "clf = RandomForestClassifier()\n",
        "clf.fit(X_train,y_train)\n",
        "\n",
        "predicted = clf.predict(X_test)\n",
        "actual = np.array(y_test)\n",
        "\n",
        "accuracy_score(predicted,actual)"
      ],
      "execution_count": null,
      "outputs": [
        {
          "output_type": "execute_result",
          "data": {
            "text/plain": [
              "0.7"
            ]
          },
          "metadata": {
            "tags": []
          },
          "execution_count": 10
        }
      ]
    },
    {
      "cell_type": "markdown",
      "metadata": {
        "id": "wri2qslPn9Oo"
      },
      "source": [
        "#K-Nearest Neighbors"
      ]
    },
    {
      "cell_type": "markdown",
      "metadata": {
        "id": "T0l3SaQaoA1i"
      },
      "source": [
        "Create a KNN model using k=5 neighbors.\n",
        "\n",
        "Report the accuracy and repeat the previous step using different k values from 1-4.\n"
      ]
    },
    {
      "cell_type": "code",
      "metadata": {
        "id": "W21Pi3ZUpIOK",
        "outputId": "79368d45-cb71-4b70-f591-512ac5c77716",
        "colab": {
          "base_uri": "https://localhost:8080/",
          "height": 34
        }
      },
      "source": [
        "clf1 = KNeighborsClassifier(n_neighbors=5)\n",
        "clf1.fit(X_train, y_train)\n",
        "\n",
        "predicted = clf1.predict(X_test)\n",
        "actual = np.array(y_test)\n",
        "\n",
        "k1 = accuracy_score(predicted,actual)\n",
        "print(k1)"
      ],
      "execution_count": null,
      "outputs": [
        {
          "output_type": "stream",
          "text": [
            "0.6\n"
          ],
          "name": "stdout"
        }
      ]
    },
    {
      "cell_type": "markdown",
      "metadata": {
        "id": "1H4MtQExqYIQ"
      },
      "source": [
        "Which value of k gives the best accuracy on the test set? Is KNN or Random Forest better for this data?\n",
        "\n",
        "Why do we think this value of k gives us the best result?"
      ]
    }
  ]
}