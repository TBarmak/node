{
 "cells": [
  {
   "cell_type": "markdown",
   "metadata": {},
   "source": [
    "# <div align = \"center\"> Data Analysis and Visualization of Astronauts from 1959 to 2013 <div>\n",
    "\n",
    "In this notebook, we will be analyzing a dataset from NASA that contains information of astronauts from 1959 to 2013. What we're trying to figure out is if there are any commonalities between astronauts in NASA and to visualize these commonalities or trends, along with answering a couple questions:\n",
    "\n",
    "### Is there an “ideal” astronaut? \n",
    "- In this case, \"ideal\" means the best candidate that can be selected as an astronaut\n",
    "\n",
    "### Can the “best path” to being an astronaut be mapped out?\n",
    "- \"Best path\" is defined as the best actions to take or activities to participate in (majors, military service, etc.) prior to being selected as an astronaut. "
   ]
  },
  {
   "cell_type": "markdown",
   "metadata": {},
   "source": [
    "## **Environment Set-Up**\n",
    "Setting up pandas/numpy/plotly.express and the dataset we will be using"
   ]
  },
  {
   "cell_type": "code",
   "execution_count": null,
   "metadata": {},
   "outputs": [],
   "source": [
    "import pandas as pd\n",
    "import numpy as np\n",
    "import plotly.express as px"
   ]
  },
  {
   "cell_type": "code",
   "execution_count": null,
   "metadata": {},
   "outputs": [],
   "source": [
    "#Astronaut Dataset\n",
    "astro = pd.read_csv(\"https://raw.githubusercontent.com/ishaandey/node/master/archives/data-practice/nasa_astronauts.csv\")"
   ]
  },
  {
   "cell_type": "markdown",
   "metadata": {},
   "source": [
    "Take a quick peek at the data... It's always good practice to get a quick feel at what your data looks like\n",
    "- Useful Functions: `head()`, `info()`"
   ]
  },
  {
   "cell_type": "code",
   "execution_count": null,
   "metadata": {},
   "outputs": [],
   "source": []
  },
  {
   "cell_type": "code",
   "execution_count": null,
   "metadata": {},
   "outputs": [],
   "source": []
  },
  {
   "cell_type": "markdown",
   "metadata": {},
   "source": [
    "## **Cleaning Up the Data**\n",
    "\n",
    "### Death Date\n",
    "It looks like there are lots of NaNs in the Death Date column (not everyone in this dataset is deceased). Let's fill the NaN's with some arbitrary date (01/01/2262).\n",
    "\n",
    "- Useful Functions: `pd.Timestamp()`, `.fillna()`"
   ]
  },
  {
   "cell_type": "code",
   "execution_count": null,
   "metadata": {},
   "outputs": [],
   "source": [
    "# Change the NaNs in the Death Date column to an arbitrary date (01/01/2622)\n"
   ]
  },
  {
   "cell_type": "markdown",
   "metadata": {},
   "source": [
    "Now, let's change the column to a datetime object to work with it more later on\n",
    "- Useful Functions: `pd.to_datetime()`"
   ]
  },
  {
   "cell_type": "code",
   "execution_count": null,
   "metadata": {},
   "outputs": [],
   "source": [
    "# Change Death Date to a datetime object\n"
   ]
  },
  {
   "cell_type": "markdown",
   "metadata": {},
   "source": [
    "### Death Mission\n",
    "Similar to replacing the NaNs in Death Date, let's fill the NaNs in this column with a placeholder.\n",
    "\n",
    "There seem to be two main \"categories\" of NaNs...\n",
    "1. Astronauts that do not have a death date -> Let's fill these with \"Alive\"\n",
    "2. Astronauts that passed away but not directly from a space mission -> Let's fill these with \"Unrelated Death\"\n",
    "- Useful Functions:  `.loc[]`, masking and subsetting!"
   ]
  },
  {
   "cell_type": "code",
   "execution_count": null,
   "metadata": {},
   "outputs": [],
   "source": [
    "# Replacing the NaNs of astronauts that have an unrelated death\n"
   ]
  },
  {
   "cell_type": "code",
   "execution_count": null,
   "metadata": {},
   "outputs": [],
   "source": [
    "# Replacing the NaNs of astronauts that are alive\n"
   ]
  },
  {
   "cell_type": "markdown",
   "metadata": {},
   "source": [
    "### Missions Column\n",
    "The NaNs in this column seem to stem from astronauts that haven't had any missions yet. Let's fill these with \"None\""
   ]
  },
  {
   "cell_type": "code",
   "execution_count": null,
   "metadata": {},
   "outputs": [],
   "source": [
    "# Replace NaN in Missions column with \"None\"\n"
   ]
  },
  {
   "cell_type": "markdown",
   "metadata": {},
   "source": [
    "### Military Branch\n",
    "\n",
    "Again, lots of NaNs in this column because not every astronaut served in the military. Let's go ahead and replace these with \"Civilian\""
   ]
  },
  {
   "cell_type": "code",
   "execution_count": null,
   "metadata": {},
   "outputs": [],
   "source": [
    "# Replace NaN in Military Branch with \"Civilian\"\n"
   ]
  },
  {
   "cell_type": "markdown",
   "metadata": {},
   "source": [
    "### Majors\n",
    "\n",
    "Some astronauts didn't go to graduate or even undergraduate school! Let's go ahead and replace the NaNs with \"No Degree\" (you're probably already a pro at this point :D )."
   ]
  },
  {
   "cell_type": "code",
   "execution_count": null,
   "metadata": {},
   "outputs": [],
   "source": [
    "# Replace Undergraduate Major NaNs with \"No Degree\"\n"
   ]
  },
  {
   "cell_type": "code",
   "execution_count": null,
   "metadata": {},
   "outputs": [],
   "source": [
    "# Replace Graduate Major NaNs with \"No Degree\"\n"
   ]
  },
  {
   "cell_type": "markdown",
   "metadata": {},
   "source": [
    "That's it for cleaning! No more NaN values, which makes the dataset much easier to work with :)"
   ]
  },
  {
   "cell_type": "markdown",
   "metadata": {},
   "source": [
    "## **The Power of DateTime!**\n",
    "\n",
    "Let's look at a cool function we can do with datetimes! First, let's set the Birth Date column as a `datetime` object, similar to how we did with Death Date."
   ]
  },
  {
   "cell_type": "code",
   "execution_count": null,
   "metadata": {},
   "outputs": [],
   "source": [
    "# Set Birth Date to datetime\n"
   ]
  },
  {
   "cell_type": "markdown",
   "metadata": {},
   "source": [
    "Now, let's see the age at which each astronaut was selected to be an astronaut. Could you figure out how to create a new column with the age at which they were selected? (Name the new column as \"Age Selected\")\n",
    "- Hint: the Year column in the dataset shows the Year at which they were selected to be an astronaut. Think of a way to use that with their birth year"
   ]
  },
  {
   "cell_type": "code",
   "execution_count": null,
   "metadata": {},
   "outputs": [],
   "source": [
    "# Finding the age that each astronaut was selected\n"
   ]
  },
  {
   "cell_type": "markdown",
   "metadata": {},
   "source": [
    "## **Data Viz!**\n",
    "Let's check out all the interested trends within this dataset to answer our ultimate question: \"Is there an ideal path to an astronaut?\"\n",
    "\n",
    "### **What's the Age Distribution for Astronauts?**\n",
    "Plot the age distrubution as a *histogram* using plotly.express (px). At what age is the majority of the astronauts selected?"
   ]
  },
  {
   "cell_type": "code",
   "execution_count": null,
   "metadata": {},
   "outputs": [],
   "source": [
    "# Plotting Age Selected as a Histogram\n"
   ]
  },
  {
   "cell_type": "markdown",
   "metadata": {},
   "source": [
    "### **How many astronauts are men? How many are women?**\n",
    "\n",
    "Let's look at the distribution of men vs. women in the astronaut dataset. A simple pie chart could work here (look at documentation!), OR you could even incorporate the gender within your histogram you made earlier..."
   ]
  },
  {
   "cell_type": "code",
   "execution_count": null,
   "metadata": {},
   "outputs": [],
   "source": [
    "# Plotting gender distributions within NASA Astronauts"
   ]
  },
  {
   "cell_type": "markdown",
   "metadata": {},
   "source": [
    "### **Most common undergraduate/graduate degree?**\n",
    "\n",
    "Let's look at the degrees that these astronauts got! Bar charts are good here (you may need two charts, one for undergrad, one for grad). Try to sort the values so the most common is on one side of the chart(s)\n",
    "- Useful tip: use the `orientation` parameter in `px.bar` to make the bar chart horizontal\n",
    "    - If you're unsure what this means, try Googling it!"
   ]
  },
  {
   "cell_type": "code",
   "execution_count": null,
   "metadata": {},
   "outputs": [],
   "source": [
    "# Visualizing the most common undergraduate degrees\n"
   ]
  },
  {
   "cell_type": "code",
   "execution_count": null,
   "metadata": {},
   "outputs": [],
   "source": [
    "# Visualizing the most common graduate degrees\n"
   ]
  },
  {
   "cell_type": "markdown",
   "metadata": {},
   "source": [
    "### **Military vs. Civilian**\n",
    "\n",
    "Let's see if having any military experience increases your odds of becoming an astronaut...\n",
    "\n",
    "Plot the Military Branches/Civilian status using whichever chart(s) you like"
   ]
  },
  {
   "cell_type": "code",
   "execution_count": null,
   "metadata": {},
   "outputs": [],
   "source": [
    "# Visualize military/civilian distributions\n"
   ]
  },
  {
   "cell_type": "markdown",
   "metadata": {},
   "source": [
    "## **Answering the Question...**\n",
    "\n",
    "Now, after your research, what can you say the \"best path\" to an astronaut is based on Age? Higher Education? Military Service?\n",
    "\n",
    "- Just a heads up: The trends here doesn't necessarily show the \"best path\" to being an astronaut. Every year the requirements/needs of NASA changes, and the application process is quite extensive. This is just a fun activity to look at trends within astronauts already selected :)"
   ]
  },
  {
   "cell_type": "markdown",
   "metadata": {},
   "source": [
    "Feel free to edit this cell for your response!\n",
    "\n"
   ]
  }
 ],
 "metadata": {
  "interpreter": {
   "hash": "d0fa7c806679d6ffc40184b24ef308d82c68a18a4590df1b063471f044803a03"
  },
  "kernelspec": {
   "display_name": "Python 3.8.10 64-bit ('base': conda)",
   "name": "python3"
  },
  "language_info": {
   "codemirror_mode": {
    "name": "ipython",
    "version": 3
   },
   "file_extension": ".py",
   "mimetype": "text/x-python",
   "name": "python",
   "nbconvert_exporter": "python",
   "pygments_lexer": "ipython3",
   "version": "3.8.10"
  },
  "orig_nbformat": 4
 },
 "nbformat": 4,
 "nbformat_minor": 2
}
