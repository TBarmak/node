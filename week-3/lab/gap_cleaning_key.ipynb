{
 "cells": [
  {
   "cell_type": "markdown",
   "metadata": {},
   "source": [
    "## Gap Data, Part 2 "
   ]
  },
  {
   "cell_type": "markdown",
   "metadata": {},
   "source": [
    "#### Data Documentation:\n",
    "<br>**Description**: Synthetic dataset from Gap Inc., representing a random sample of individual purchases from Q1 FY2020. <br>Each row is a unique item purchased in an order\n",
    "<br><br>\n",
    "\n",
    "| **Feature** | **Description**    | **Sample Value(s)**  |\n",
    "| ------- | -----------    | ------------- |\n",
    "| OrderID | Unique identifier per transaction (7-digit) | DRW7C20   |\n",
    "| CustomerID | Unique identifier per customer (5-digit) | KP441   |\n",
    "| ProductID  | Unique identifier per item (8-digit) | 13-817-239 |\n",
    "| StoreID | Unique identifier per store (4-digit) | #4176 |\n",
    "| OrderType | How purchase was completed  | InStore, HomeDelivery, Online |\n",
    "| Timestamp | Timestamp of transaction (YYYY-MM-DD) | 2020-01-18 10:13:56\t |\n",
    "| Brand | Which reporting segment of Gap Inc. bought from | Banana Republic |\n",
    "| ItemSize | Size of item | XS, S, M, L, X, XL |\n",
    "| ProductName | Name of item associated with item identifier | Pink Polo by Kanye |\n",
    "| Collection | Which part of store | Denim Shop |\n",
    "| Price | Listed price of item | $29.95 |\n",
    "| ClearanceType | Type of clearance | Retail, Clearance, Final Sale |\n",
    "| DiscountType | If Gap Card rewards was used | Reward points, Promotion, GapCash, Other |\n",
    "| StoreName | Store name (i.e. Mall), or facility where online order was shipped from | Barracks Shopping Center |\n",
    "| Address | Store location | Charlottesville, VA |\n",
    "| Lat | Store latitude | 38.054034 |\n",
    "| Lon | Store longitude | -78.499492 |\n",
    "\n",
    "<br>"
   ]
  },
  {
   "cell_type": "markdown",
   "metadata": {},
   "source": [
    "\n",
    "One common task that data folks have to do is **merge data from various sources**.\n",
    "\n",
    "<bR>For example, it'd be a pretty big waste of space on a database to keep listing all the attributes of a store for each item, if we could store them seperately and link them back up when we need to.\n",
    "\n",
    "<br>This kind of file is sometimes known as a **crosswalk** or **lookup table**. We have individual observations (Gap sales data), and we want to link it up to information about the store."
   ]
  },
  {
   "cell_type": "markdown",
   "metadata": {},
   "source": [
    "### Data & Package Imports"
   ]
  },
  {
   "cell_type": "code",
   "execution_count": 9,
   "metadata": {},
   "outputs": [],
   "source": [
    "import pandas as pd\n",
    "import numpy as np"
   ]
  },
  {
   "cell_type": "code",
   "execution_count": 201,
   "metadata": {},
   "outputs": [],
   "source": [
    "base_url = 'https://raw.githubusercontent.com/ishaandey/node/master/week-3/lab/'\n",
    "sales = pd.read_csv(base_url+'gap_sales.csv', sep='|')\n",
    "store_lookup = pd.read_csv(base_url+'gap_stores.csv', sep='|')\n",
    "locations = pd.read_csv(base_url+'gap_store_locations.csv', sep='|')"
   ]
  },
  {
   "cell_type": "markdown",
   "metadata": {},
   "source": [
    "## Store Data"
   ]
  },
  {
   "cell_type": "markdown",
   "metadata": {},
   "source": [
    "### Fill Missing Values"
   ]
  },
  {
   "cell_type": "markdown",
   "metadata": {},
   "source": [
    "If you look carefully at the stores, you'll notice that for both the Gap and Banana Republic stores, the StoreName value is empty.\n",
    "\n",
    "<br>Turns out, there was a mistake made when correcting a typo in the database, and now all stores for 'Williamsburg Premium Outlets' are showing missing. \n",
    "\n",
    "1. Check the entries for StoreID `#4479` and `#1812` in the store lookup table\n",
    "2. Fill in the missing value for **store name** (not whole dataframe)\n",
    "3. Double check that stores #1812 and #4479 no longer have a missing value for either field"
   ]
  },
  {
   "cell_type": "code",
   "execution_count": 224,
   "metadata": {},
   "outputs": [
    {
     "output_type": "execute_result",
     "data": {
      "text/plain": "              Brand StoreID                     StoreName\n3   Banana Republic   #4479  Williamsburg Premium Outlets\n22              Gap   #1812  Williamsburg Premium Outlets",
      "text/html": "<div>\n<style scoped>\n    .dataframe tbody tr th:only-of-type {\n        vertical-align: middle;\n    }\n\n    .dataframe tbody tr th {\n        vertical-align: top;\n    }\n\n    .dataframe thead th {\n        text-align: right;\n    }\n</style>\n<table border=\"1\" class=\"dataframe\">\n  <thead>\n    <tr style=\"text-align: right;\">\n      <th></th>\n      <th>Brand</th>\n      <th>StoreID</th>\n      <th>StoreName</th>\n    </tr>\n  </thead>\n  <tbody>\n    <tr>\n      <th>3</th>\n      <td>Banana Republic</td>\n      <td>#4479</td>\n      <td>Williamsburg Premium Outlets</td>\n    </tr>\n    <tr>\n      <th>22</th>\n      <td>Gap</td>\n      <td>#1812</td>\n      <td>Williamsburg Premium Outlets</td>\n    </tr>\n  </tbody>\n</table>\n</div>"
     },
     "metadata": {},
     "execution_count": 224
    }
   ],
   "source": [
    "store_lookup[store_lookup.StoreID.isin(['#1812','#4479'])] #1"
   ]
  },
  {
   "cell_type": "code",
   "execution_count": 225,
   "metadata": {},
   "outputs": [],
   "source": [
    "store_lookup['StoreName'] = store_lookup.StoreName.fillna('Williamsburg Premium Outlets') # 2"
   ]
  },
  {
   "cell_type": "code",
   "execution_count": 226,
   "metadata": {},
   "outputs": [
    {
     "output_type": "execute_result",
     "data": {
      "text/plain": "              Brand StoreID                     StoreName\n3   Banana Republic   #4479  Williamsburg Premium Outlets\n22              Gap   #1812  Williamsburg Premium Outlets",
      "text/html": "<div>\n<style scoped>\n    .dataframe tbody tr th:only-of-type {\n        vertical-align: middle;\n    }\n\n    .dataframe tbody tr th {\n        vertical-align: top;\n    }\n\n    .dataframe thead th {\n        text-align: right;\n    }\n</style>\n<table border=\"1\" class=\"dataframe\">\n  <thead>\n    <tr style=\"text-align: right;\">\n      <th></th>\n      <th>Brand</th>\n      <th>StoreID</th>\n      <th>StoreName</th>\n    </tr>\n  </thead>\n  <tbody>\n    <tr>\n      <th>3</th>\n      <td>Banana Republic</td>\n      <td>#4479</td>\n      <td>Williamsburg Premium Outlets</td>\n    </tr>\n    <tr>\n      <th>22</th>\n      <td>Gap</td>\n      <td>#1812</td>\n      <td>Williamsburg Premium Outlets</td>\n    </tr>\n  </tbody>\n</table>\n</div>"
     },
     "metadata": {},
     "execution_count": 226
    }
   ],
   "source": [
    "store_lookup[store_lookup.StoreID.isin(['#1812','#4479'])] #3"
   ]
  },
  {
   "cell_type": "markdown",
   "metadata": {},
   "source": [
    "### Merge to Location Data"
   ]
  },
  {
   "cell_type": "markdown",
   "metadata": {},
   "source": [
    "1. Take a look at both the store lookup and location tables. There's only 15 locations, but 25 stores- That's because some locations have both Banana and Gap stores at the same site.\n",
    "\n",
    "2. Take a look at both dataframes. What columns do they have in common? <br>(Hint: The column name may not be the same, but the values are)"
   ]
  },
  {
   "cell_type": "code",
   "execution_count": 227,
   "metadata": {
    "tags": []
   },
   "outputs": [
    {
     "output_type": "stream",
     "name": "stdout",
     "text": "(25, 3)\n"
    },
    {
     "output_type": "execute_result",
     "data": {
      "text/plain": "  Brand StoreID                        StoreName\n0   Gap   #6802  Fashion Centre at Pentagon City\n1   Gap   #7104          Norfolk Premium Outlets\n2   Gap   #8289                   Fair Oaks Mall",
      "text/html": "<div>\n<style scoped>\n    .dataframe tbody tr th:only-of-type {\n        vertical-align: middle;\n    }\n\n    .dataframe tbody tr th {\n        vertical-align: top;\n    }\n\n    .dataframe thead th {\n        text-align: right;\n    }\n</style>\n<table border=\"1\" class=\"dataframe\">\n  <thead>\n    <tr style=\"text-align: right;\">\n      <th></th>\n      <th>Brand</th>\n      <th>StoreID</th>\n      <th>StoreName</th>\n    </tr>\n  </thead>\n  <tbody>\n    <tr>\n      <th>0</th>\n      <td>Gap</td>\n      <td>#6802</td>\n      <td>Fashion Centre at Pentagon City</td>\n    </tr>\n    <tr>\n      <th>1</th>\n      <td>Gap</td>\n      <td>#7104</td>\n      <td>Norfolk Premium Outlets</td>\n    </tr>\n    <tr>\n      <th>2</th>\n      <td>Gap</td>\n      <td>#8289</td>\n      <td>Fair Oaks Mall</td>\n    </tr>\n  </tbody>\n</table>\n</div>"
     },
     "metadata": {},
     "execution_count": 227
    }
   ],
   "source": [
    "print(store_lookup.shape) # 1\n",
    "store_lookup.head(3)\n"
   ]
  },
  {
   "source": [
    "print(locations.shape)\n",
    "locations.head(3)"
   ],
   "cell_type": "code",
   "metadata": {
    "tags": []
   },
   "execution_count": 228,
   "outputs": [
    {
     "output_type": "stream",
     "name": "stdout",
     "text": "(15, 4)\n"
    },
    {
     "output_type": "execute_result",
     "data": {
      "text/plain": "                             Store        Lat        Lon  \\\n0  Fashion Centre at Pentagon City  38.863382 -77.060497   \n1          Norfolk Premium Outlets  36.881809 -76.200231   \n2                   Fair Oaks Mall  38.862904 -77.358853   \n\n                                             Address  \n0  Fashion Centre at Pentagon City, South Hayes S...  \n1  1600, Camden Heights, Norfolk, Virginia, 23502...  \n2  Fair Oaks Mall, Fairfax Farms, Fair Oaks, Fair...  ",
      "text/html": "<div>\n<style scoped>\n    .dataframe tbody tr th:only-of-type {\n        vertical-align: middle;\n    }\n\n    .dataframe tbody tr th {\n        vertical-align: top;\n    }\n\n    .dataframe thead th {\n        text-align: right;\n    }\n</style>\n<table border=\"1\" class=\"dataframe\">\n  <thead>\n    <tr style=\"text-align: right;\">\n      <th></th>\n      <th>Store</th>\n      <th>Lat</th>\n      <th>Lon</th>\n      <th>Address</th>\n    </tr>\n  </thead>\n  <tbody>\n    <tr>\n      <th>0</th>\n      <td>Fashion Centre at Pentagon City</td>\n      <td>38.863382</td>\n      <td>-77.060497</td>\n      <td>Fashion Centre at Pentagon City, South Hayes S...</td>\n    </tr>\n    <tr>\n      <th>1</th>\n      <td>Norfolk Premium Outlets</td>\n      <td>36.881809</td>\n      <td>-76.200231</td>\n      <td>1600, Camden Heights, Norfolk, Virginia, 23502...</td>\n    </tr>\n    <tr>\n      <th>2</th>\n      <td>Fair Oaks Mall</td>\n      <td>38.862904</td>\n      <td>-77.358853</td>\n      <td>Fair Oaks Mall, Fairfax Farms, Fair Oaks, Fair...</td>\n    </tr>\n  </tbody>\n</table>\n</div>"
     },
     "metadata": {},
     "execution_count": 228
    }
   ]
  },
  {
   "source": [
    "We're now ready to complete the merge, to have one consolidated table that has both the store IDs, and store locations for each store in Virginia.\n",
    "\n",
    "3. Use the `pd.merge()` function to merge both dataframes together, and specify the keys using the columns you found above (pass these to the `left_on` and `right_on` parameters)\n",
    "\n",
    "4. Drop the `Store` column from this merged dataframe, since it's now redundant."
   ],
   "cell_type": "markdown",
   "metadata": {}
  },
  {
   "cell_type": "code",
   "execution_count": 229,
   "metadata": {},
   "outputs": [
    {
     "output_type": "execute_result",
     "data": {
      "text/plain": "             Brand StoreID                       StoreName        Lat  \\\n0  Banana Republic   #6569   Barracks Road Shopping Center  38.054034   \n1              Gap   #9901  Charlottesville Fashion Square  38.077009   \n2  Banana Republic   #9033              Dulles Town Center  39.027745   \n\n         Lon                                            Address  \n0 -78.499492  Barracks Road Shopping Center, The Meadows, Ch...  \n1 -78.474995  Charlottesville Fashion Square, East Rio Road,...  \n2 -77.419950  Dulles Town Center, Loudoun County, Virginia, ...  ",
      "text/html": "<div>\n<style scoped>\n    .dataframe tbody tr th:only-of-type {\n        vertical-align: middle;\n    }\n\n    .dataframe tbody tr th {\n        vertical-align: top;\n    }\n\n    .dataframe thead th {\n        text-align: right;\n    }\n</style>\n<table border=\"1\" class=\"dataframe\">\n  <thead>\n    <tr style=\"text-align: right;\">\n      <th></th>\n      <th>Brand</th>\n      <th>StoreID</th>\n      <th>StoreName</th>\n      <th>Lat</th>\n      <th>Lon</th>\n      <th>Address</th>\n    </tr>\n  </thead>\n  <tbody>\n    <tr>\n      <th>0</th>\n      <td>Banana Republic</td>\n      <td>#6569</td>\n      <td>Barracks Road Shopping Center</td>\n      <td>38.054034</td>\n      <td>-78.499492</td>\n      <td>Barracks Road Shopping Center, The Meadows, Ch...</td>\n    </tr>\n    <tr>\n      <th>1</th>\n      <td>Gap</td>\n      <td>#9901</td>\n      <td>Charlottesville Fashion Square</td>\n      <td>38.077009</td>\n      <td>-78.474995</td>\n      <td>Charlottesville Fashion Square, East Rio Road,...</td>\n    </tr>\n    <tr>\n      <th>2</th>\n      <td>Banana Republic</td>\n      <td>#9033</td>\n      <td>Dulles Town Center</td>\n      <td>39.027745</td>\n      <td>-77.419950</td>\n      <td>Dulles Town Center, Loudoun County, Virginia, ...</td>\n    </tr>\n  </tbody>\n</table>\n</div>"
     },
     "metadata": {},
     "execution_count": 229
    }
   ],
   "source": [
    "stores = pd.merge(store_lookup, locations, left_on='StoreName', right_on='Store',how='left', sort=True).drop(columns='Store')\n",
    "stores.head(3)"
   ]
  },
  {
   "cell_type": "markdown",
   "metadata": {},
   "source": [
    "## Merging it all"
   ]
  },
  {
   "cell_type": "markdown",
   "metadata": {},
   "source": [
    "Now that we have the store data cleaned up, let's merge it back onto the main dataset, `sales`.\n",
    "\n",
    "1. Check which columns are in common between both datasets. (Hint: Think ID, not name)\n",
    "\n",
    "2. Drop one of the duplicated `Brand` columns in `stores`\n",
    "\n",
    "3. Merge the `sales` and `stores` dataframe into `df`"
   ]
  },
  {
   "cell_type": "code",
   "execution_count": 230,
   "metadata": {},
   "outputs": [
    {
     "output_type": "execute_result",
     "data": {
      "text/plain": "      OrderID CustomerID   ProductID StoreID     OrderType  \\\n3307  ZKZQ10S      SM737  82-161-128   #4479  HomeDelivery   \n\n                Timestamp            Brand ItemSize  \\\n3307  2020-01-09 20:03:26  Banana Republic        L   \n\n                    ProductName       Collection  Price  \\\n3307  Mullet-Cut Midi Fur Skirt  Women's Bottoms  88.99   \n\n                         StoreName        Lat        Lon  \\\n3307  Williamsburg Premium Outlets  37.319881 -76.737188   \n\n                                                Address  \n3307  5715, Ewell Hall, James City County, Virginia,...  ",
      "text/html": "<div>\n<style scoped>\n    .dataframe tbody tr th:only-of-type {\n        vertical-align: middle;\n    }\n\n    .dataframe tbody tr th {\n        vertical-align: top;\n    }\n\n    .dataframe thead th {\n        text-align: right;\n    }\n</style>\n<table border=\"1\" class=\"dataframe\">\n  <thead>\n    <tr style=\"text-align: right;\">\n      <th></th>\n      <th>OrderID</th>\n      <th>CustomerID</th>\n      <th>ProductID</th>\n      <th>StoreID</th>\n      <th>OrderType</th>\n      <th>Timestamp</th>\n      <th>Brand</th>\n      <th>ItemSize</th>\n      <th>ProductName</th>\n      <th>Collection</th>\n      <th>Price</th>\n      <th>StoreName</th>\n      <th>Lat</th>\n      <th>Lon</th>\n      <th>Address</th>\n    </tr>\n  </thead>\n  <tbody>\n    <tr>\n      <th>3307</th>\n      <td>ZKZQ10S</td>\n      <td>SM737</td>\n      <td>82-161-128</td>\n      <td>#4479</td>\n      <td>HomeDelivery</td>\n      <td>2020-01-09 20:03:26</td>\n      <td>Banana Republic</td>\n      <td>L</td>\n      <td>Mullet-Cut Midi Fur Skirt</td>\n      <td>Women's Bottoms</td>\n      <td>88.99</td>\n      <td>Williamsburg Premium Outlets</td>\n      <td>37.319881</td>\n      <td>-76.737188</td>\n      <td>5715, Ewell Hall, James City County, Virginia,...</td>\n    </tr>\n  </tbody>\n</table>\n</div>"
     },
     "metadata": {},
     "execution_count": 230
    }
   ],
   "source": [
    "df = pd.merge(sales, stores.drop(columns='Brand'), on='StoreID', how='left')\n",
    "df.sample()"
   ]
  },
  {
   "source": [
    "## Date Times"
   ],
   "cell_type": "markdown",
   "metadata": {}
  },
  {
   "source": [
    "Our goal: Isolate sales that were made at various timepoints. The issue is that our transaction timestamp isn't very helpful as a string. \n",
    "\n",
    "1. Process the `Timestamp` column, so that it's now a datetime object.\n",
    "\n",
    "2. How many items were sold in the month of February?\n",
    "\n",
    "3. What were the total sales after 4:00 PM on Valentine's Day? <br>(Hint: 4pm is 16 on a 24 hour scale)\n",
    "\n",
    "4. What was the most popular item sold on Valentine's Day?"
   ],
   "cell_type": "markdown",
   "metadata": {}
  },
  {
   "cell_type": "code",
   "execution_count": 232,
   "metadata": {},
   "outputs": [],
   "source": [
    "df['Timestamp'] = pd.to_datetime(df.Timestamp) # 1"
   ]
  },
  {
   "cell_type": "code",
   "execution_count": 233,
   "metadata": {},
   "outputs": [
    {
     "output_type": "execute_result",
     "data": {
      "text/plain": "1270"
     },
     "metadata": {},
     "execution_count": 233
    }
   ],
   "source": [
    "df[df.Timestamp.dt.month_name() == 'February'].shape[0] # 2"
   ]
  },
  {
   "source": [
    "vday_sales = df[df.Timestamp.dt.date == pd.to_datetime(\"Feb 14th, 2020\")].loc[df.Timestamp.dt.hour >= 16].Price.sum()\n",
    "\n",
    "round(vday_sales,2)"
   ],
   "cell_type": "code",
   "metadata": {
    "tags": []
   },
   "execution_count": 234,
   "outputs": [
    {
     "output_type": "execute_result",
     "data": {
      "text/plain": "988.07"
     },
     "metadata": {},
     "execution_count": 234
    }
   ]
  },
  {
   "cell_type": "code",
   "execution_count": 235,
   "metadata": {},
   "outputs": [
    {
     "output_type": "execute_result",
     "data": {
      "text/plain": "My roommate looked good in this Denim Jacket    6\nName: ProductName, dtype: int64"
     },
     "metadata": {},
     "execution_count": 235
    }
   ],
   "source": [
    "df[df.Timestamp.dt.date == pd.to_datetime(\"Feb 14th, 2020\")].ProductName.value_counts().head(1)"
   ]
  },
  {
   "source": [
    "## Cleaning Data"
   ],
   "cell_type": "markdown",
   "metadata": {}
  },
  {
   "source": [
    "Sometimes, we'll have to manually adjust data. At gap, the prices indicate the type of sale the item is on. For example, prices that end in `.97` are on final sale, and can't be returned.\n",
    "\n",
    "1. Using the set of rules below, create a dictionary that maps price endings to the clearance type. Remember, dictionary keys must be strings, so `99` should really be `'99'` \n",
    "\n",
    "99 => Clearance; 97 => Final Sale; 95 => Retail Price\n",
    "\n",
    "2. In order to recognize the price endings, we've gotta (first) convert the floats into strings, (then) extract the numbers following the decimal, (and lastly) save the information to a new column, `ClearanceType`.\n",
    "\n",
    "3. Finally, we'll map the price endings to type of clearance, using the dictionary we made earlier. Save this to `ClearanceType`.\n",
    "\n",
    "4. Check the value counts of `ClearanceType` – which type is the most common?\n"
   ],
   "cell_type": "markdown",
   "metadata": {}
  },
  {
   "cell_type": "code",
   "execution_count": 274,
   "metadata": {},
   "outputs": [],
   "source": [
    "clearance_types = {'95':'Retail Price', '97': 'Final Sale', '99': 'Clearance'} # 1"
   ]
  },
  {
   "cell_type": "code",
   "execution_count": 275,
   "metadata": {},
   "outputs": [],
   "source": [
    "df['ClearanceType'] = df.Price.astype('str').str.split('.').str[-1] # 2"
   ]
  },
  {
   "cell_type": "code",
   "execution_count": 276,
   "metadata": {},
   "outputs": [],
   "source": [
    "df['ClearanceType'] = df.ClearanceType.map(clearance_types) # 3"
   ]
  },
  {
   "cell_type": "code",
   "execution_count": 277,
   "metadata": {},
   "outputs": [
    {
     "output_type": "execute_result",
     "data": {
      "text/plain": "Retail Price    0.55\nClearance       0.35\nFinal Sale      0.10\nName: ClearanceType, dtype: float64"
     },
     "metadata": {},
     "execution_count": 277
    }
   ],
   "source": [
    "df.ClearanceType.value_counts(normalize=True).round(2)"
   ]
  },
  {
   "source": [
    "## Working With Numerics"
   ],
   "cell_type": "markdown",
   "metadata": {}
  },
  {
   "source": [
    "As it turns out, prices don't exactly reflect discounts. Let's work through and create more accurate numbers for revenue.\n",
    "\n",
    "1. Create a `Discounts` column. If an item is on clearance, we'll apply a rate of 10%, else 0. Use a `map()` or `apply()` function to accomplish this.\n",
    "\n",
    "\n",
    "2. Calculate a new column, `Paid`, that takes into account a flat tax rate of 6% and the discounts from our previous column.\n",
    "\n",
    "3. What is the mean absolute difference between the amount paid and the listed price?"
   ],
   "cell_type": "markdown",
   "metadata": {}
  },
  {
   "cell_type": "code",
   "execution_count": 278,
   "metadata": {},
   "outputs": [],
   "source": [
    "df['Discount'] = df.ClearanceType.map({'Clearance':0.1}).fillna(0) # or\n",
    "df['Discount'] = df.ClearanceType.apply(lambda x: 0.1 if x == 'Clearance' else 0)\n"
   ]
  },
  {
   "cell_type": "code",
   "execution_count": 282,
   "metadata": {},
   "outputs": [],
   "source": [
    "tax_rate = .06\n",
    "df['Paid'] = round(df.Price * (1-df.Discount) * (1 + tax_rate), 2)"
   ]
  },
  {
   "cell_type": "code",
   "execution_count": 293,
   "metadata": {
    "tags": []
   },
   "outputs": [
    {
     "output_type": "stream",
     "name": "stdout",
     "text": "On average, the paid amount differs from the actual price by $2.44\n"
    }
   ],
   "source": [
    "amt = (df.Paid - df.Price).abs().mean()\n",
    "print('On average, the paid amount differs from the actual price by $'+str(round(amt,2)))"
   ]
  },
  {
   "cell_type": "code",
   "execution_count": null,
   "metadata": {},
   "outputs": [],
   "source": []
  }
 ],
 "metadata": {
  "kernelspec": {
   "display_name": "Python 3.7.2 64-bit ('anaconda3': virtualenv)",
   "language": "python",
   "name": "python37264bitanaconda3virtualenve1dc3209be54475686eb8b8e057d24f4"
  },
  "language_info": {
   "codemirror_mode": {
    "name": "ipython",
    "version": 3
   },
   "file_extension": ".py",
   "mimetype": "text/x-python",
   "name": "python",
   "nbconvert_exporter": "python",
   "pygments_lexer": "ipython3",
   "version": "3.7.2-final"
  }
 },
 "nbformat": 4,
 "nbformat_minor": 2
}