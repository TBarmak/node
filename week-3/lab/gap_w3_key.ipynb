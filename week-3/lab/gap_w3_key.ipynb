{
 "cells": [
  {
   "cell_type": "markdown",
   "metadata": {},
   "source": [
    "## Gap Data, Part 2 "
   ]
  },
  {
   "cell_type": "markdown",
   "metadata": {},
   "source": [
    "#### Data Documentation:\n",
    "<br>**Description**: Synthetic dataset from Gap Inc., representing a random sample of individual purchases from Q1 FY2020. <br>Each row is a unique item purchased in an order\n",
    "<br><br>\n",
    "\n",
    "| **Feature** | **Description**    | **Sample Value(s)**  |\n",
    "| ------- | -----------    | ------------- |\n",
    "| OrderID | Unique identifier per transaction (7-digit) | DRW7C20   |\n",
    "| CustomerID | Unique identifier per customer (5-digit) | KP441   |\n",
    "| ProductID  | Unique identifier per item (8-digit) | 13-817-239 |\n",
    "| StoreID | Unique identifier per store (4-digit) | #4176 |\n",
    "| OrderType | How purchase was completed  | InStore, HomeDelivery, Online |\n",
    "| Timestamp | Timestamp of transaction (YYYY-MM-DD) | 2020-01-18 10:13:56\t |\n",
    "| Brand | Which reporting segment of Gap Inc. bought from | Banana Republic |\n",
    "| ItemSize | Size of item | XS, S, M, L, X, XL |\n",
    "| ProductName | Name of item associated with item identifier | Pink Polo by Kanye |\n",
    "| Collection | Which part of store | Denim Shop |\n",
    "| Price | Listed price of item | $29.95 |\n",
    "| ClearanceType | Type of clearance | Retail, Clearance, Final Sale |\n",
    "| DiscountType | If Gap Card rewards was used | Reward points, Promotion, GapCash, Other |\n",
    "| StoreName | Store name (i.e. Mall), or facility where online order was shipped from | Barracks Shopping Center |\n",
    "| Address | Store location | Charlottesville, VA |\n",
    "| Lat | Store latitude | 38.054034 |\n",
    "| Lon | Store longitude | -78.499492 |\n",
    "\n",
    "<br>"
   ]
  },
  {
   "cell_type": "markdown",
   "metadata": {},
   "source": [
    "\n",
    "One common task that data folks have to do is **merge data from various sources**.\n",
    "\n",
    "<bR>For example, it'd be a pretty big waste of space on a database to keep listing all the attributes of a store for each item, if we could store them seperately and link them back up when we need to.\n",
    "\n",
    "<br>This kind of file is sometimes known as a **crosswalk** or **lookup table**. We have individual observations (Gap sales data), and we want to link it up to information about the store."
   ]
  },
  {
   "cell_type": "markdown",
   "metadata": {},
   "source": [
    "### Data & Package Imports"
   ]
  },
  {
   "cell_type": "code",
   "execution_count": 1,
   "metadata": {},
   "outputs": [],
   "source": [
    "import pandas as pd\n",
    "import numpy as np"
   ]
  },
  {
   "cell_type": "code",
   "execution_count": 2,
   "metadata": {},
   "outputs": [],
   "source": [
    "sales = pd.read_csv('gap_sales.csv', sep='|')\n",
    "store_lookup = pd.read_csv('gap_stores.csv', sep='|')\n",
    "locations = pd.read_csv('gap_store_locations.csv', sep='|')"
   ]
  },
  {
   "cell_type": "markdown",
   "metadata": {},
   "source": [
    "## Store Data"
   ]
  },
  {
   "cell_type": "markdown",
   "metadata": {},
   "source": [
    "### Fill Missing Values"
   ]
  },
  {
   "cell_type": "markdown",
   "metadata": {},
   "source": [
    "If you look carefully at the stores, you'll notice that for both the Gap and Banana Republic stores, the StoreName value is empty.\n",
    "\n",
    "<br>Turns out, there was a mistake made when correcting a typo in the database, and now all stores for 'Williamsburg Premium Outlets' are showing missing. \n",
    "\n",
    "1. Fill in the missing value for **store name** (not whole dataframe)\n",
    "3. Double check that stores #1812 and #4479 no longer have a missing value for either field"
   ]
  },
  {
   "cell_type": "code",
   "execution_count": 3,
   "metadata": {},
   "outputs": [
    {
     "data": {
      "text/html": [
       "<div>\n",
       "<style scoped>\n",
       "    .dataframe tbody tr th:only-of-type {\n",
       "        vertical-align: middle;\n",
       "    }\n",
       "\n",
       "    .dataframe tbody tr th {\n",
       "        vertical-align: top;\n",
       "    }\n",
       "\n",
       "    .dataframe thead th {\n",
       "        text-align: right;\n",
       "    }\n",
       "</style>\n",
       "<table border=\"1\" class=\"dataframe\">\n",
       "  <thead>\n",
       "    <tr style=\"text-align: right;\">\n",
       "      <th></th>\n",
       "      <th>Brand</th>\n",
       "      <th>StoreID</th>\n",
       "      <th>StoreName</th>\n",
       "    </tr>\n",
       "  </thead>\n",
       "  <tbody>\n",
       "    <tr>\n",
       "      <th>3</th>\n",
       "      <td>Banana Republic</td>\n",
       "      <td>#4479</td>\n",
       "      <td>Williamsburg Premium Outlets</td>\n",
       "    </tr>\n",
       "    <tr>\n",
       "      <th>22</th>\n",
       "      <td>Gap</td>\n",
       "      <td>#1812</td>\n",
       "      <td>Williamsburg Premium Outlets</td>\n",
       "    </tr>\n",
       "  </tbody>\n",
       "</table>\n",
       "</div>"
      ],
      "text/plain": [
       "              Brand StoreID                     StoreName\n",
       "3   Banana Republic   #4479  Williamsburg Premium Outlets\n",
       "22              Gap   #1812  Williamsburg Premium Outlets"
      ]
     },
     "execution_count": 3,
     "metadata": {},
     "output_type": "execute_result"
    }
   ],
   "source": [
    "store_lookup['StoreName'] = store_lookup.StoreName.fillna('Williamsburg Premium Outlets') #1 \n",
    "store_lookup[store_lookup.StoreID.isin(['#1812','#4479'])] #2"
   ]
  },
  {
   "cell_type": "markdown",
   "metadata": {},
   "source": [
    "### Merge to Location Data"
   ]
  },
  {
   "cell_type": "markdown",
   "metadata": {},
   "source": [
    "1. Take a look at both the store ID lookup, as well as the locations. Mentally note if the sizes are different\n",
    "2. Consolidate both into one dataframe representing each store (still differentiating by brand)\n",
    "3. Since one of the keys is now redundant, drop the other column to keep `StoreName`\n",
    "\n",
    "**Make sure to:** (a) Note which column to merge on, (b) Determine how to do the join logic (i.e. inner? left?)"
   ]
  },
  {
   "cell_type": "code",
   "execution_count": 36,
   "metadata": {},
   "outputs": [
    {
     "data": {
      "text/html": [
       "<div>\n",
       "<style scoped>\n",
       "    .dataframe tbody tr th:only-of-type {\n",
       "        vertical-align: middle;\n",
       "    }\n",
       "\n",
       "    .dataframe tbody tr th {\n",
       "        vertical-align: top;\n",
       "    }\n",
       "\n",
       "    .dataframe thead th {\n",
       "        text-align: right;\n",
       "    }\n",
       "</style>\n",
       "<table border=\"1\" class=\"dataframe\">\n",
       "  <thead>\n",
       "    <tr style=\"text-align: right;\">\n",
       "      <th></th>\n",
       "      <th>Brand</th>\n",
       "      <th>StoreID</th>\n",
       "      <th>StoreName</th>\n",
       "      <th>Lat</th>\n",
       "      <th>Lon</th>\n",
       "      <th>Address</th>\n",
       "    </tr>\n",
       "  </thead>\n",
       "  <tbody>\n",
       "    <tr>\n",
       "      <th>0</th>\n",
       "      <td>Banana Republic</td>\n",
       "      <td>#6569</td>\n",
       "      <td>Barracks Road Shopping Center</td>\n",
       "      <td>38.054034</td>\n",
       "      <td>-78.499492</td>\n",
       "      <td>Barracks Road Shopping Center, The Meadows, Ch...</td>\n",
       "    </tr>\n",
       "    <tr>\n",
       "      <th>1</th>\n",
       "      <td>Gap</td>\n",
       "      <td>#9901</td>\n",
       "      <td>Charlottesville Fashion Square</td>\n",
       "      <td>38.077009</td>\n",
       "      <td>-78.474995</td>\n",
       "      <td>Charlottesville Fashion Square, East Rio Road,...</td>\n",
       "    </tr>\n",
       "    <tr>\n",
       "      <th>2</th>\n",
       "      <td>Banana Republic</td>\n",
       "      <td>#9033</td>\n",
       "      <td>Dulles Town Center</td>\n",
       "      <td>39.027745</td>\n",
       "      <td>-77.419950</td>\n",
       "      <td>Dulles Town Center, Loudoun County, Virginia, ...</td>\n",
       "    </tr>\n",
       "  </tbody>\n",
       "</table>\n",
       "</div>"
      ],
      "text/plain": [
       "             Brand StoreID                       StoreName        Lat  \\\n",
       "0  Banana Republic   #6569   Barracks Road Shopping Center  38.054034   \n",
       "1              Gap   #9901  Charlottesville Fashion Square  38.077009   \n",
       "2  Banana Republic   #9033              Dulles Town Center  39.027745   \n",
       "\n",
       "         Lon                                            Address  \n",
       "0 -78.499492  Barracks Road Shopping Center, The Meadows, Ch...  \n",
       "1 -78.474995  Charlottesville Fashion Square, East Rio Road,...  \n",
       "2 -77.419950  Dulles Town Center, Loudoun County, Virginia, ...  "
      ]
     },
     "execution_count": 36,
     "metadata": {},
     "output_type": "execute_result"
    }
   ],
   "source": [
    "stores = pd.merge(store_lookup, locations, left_on='StoreName',right_on='Store',how='left',sort=True).drop(columns='Store')\n",
    "stores.head(3)"
   ]
  },
  {
   "cell_type": "markdown",
   "metadata": {},
   "source": [
    "## Sales Data"
   ]
  },
  {
   "cell_type": "markdown",
   "metadata": {},
   "source": [
    "Now that we have the store data cleaned up, let's merge it back onto the main dataset.\n",
    "\n",
    "1. Merge the sales back onto stores, paying attention to the join logic, as well as the better key on which to align the datasets (Hint: its NOT StoreName)\n",
    "2. Drop the address column, as well as one of the duplicated Brand columns"
   ]
  },
  {
   "cell_type": "code",
   "execution_count": 38,
   "metadata": {},
   "outputs": [
    {
     "data": {
      "text/html": [
       "<div>\n",
       "<style scoped>\n",
       "    .dataframe tbody tr th:only-of-type {\n",
       "        vertical-align: middle;\n",
       "    }\n",
       "\n",
       "    .dataframe tbody tr th {\n",
       "        vertical-align: top;\n",
       "    }\n",
       "\n",
       "    .dataframe thead th {\n",
       "        text-align: right;\n",
       "    }\n",
       "</style>\n",
       "<table border=\"1\" class=\"dataframe\">\n",
       "  <thead>\n",
       "    <tr style=\"text-align: right;\">\n",
       "      <th></th>\n",
       "      <th>OrderID</th>\n",
       "      <th>CustomerID</th>\n",
       "      <th>ProductID</th>\n",
       "      <th>StoreID</th>\n",
       "      <th>OrderType</th>\n",
       "      <th>Timestamp</th>\n",
       "      <th>Brand</th>\n",
       "      <th>ItemSize</th>\n",
       "      <th>ProductName</th>\n",
       "      <th>Collection</th>\n",
       "      <th>Price</th>\n",
       "      <th>ClearanceType</th>\n",
       "      <th>StoreName</th>\n",
       "      <th>Lat</th>\n",
       "      <th>Lon</th>\n",
       "    </tr>\n",
       "  </thead>\n",
       "  <tbody>\n",
       "    <tr>\n",
       "      <th>1104</th>\n",
       "      <td>WW1F4ZQ</td>\n",
       "      <td>RO256</td>\n",
       "      <td>64-360-768</td>\n",
       "      <td>#9901</td>\n",
       "      <td>InStore</td>\n",
       "      <td>2020-02-10 19:46:15</td>\n",
       "      <td>Gap</td>\n",
       "      <td>XS</td>\n",
       "      <td>Lightly Used Boxer Briefs</td>\n",
       "      <td>Accessories</td>\n",
       "      <td>9.97</td>\n",
       "      <td>FinalSale</td>\n",
       "      <td>Charlottesville Fashion Square</td>\n",
       "      <td>38.077009</td>\n",
       "      <td>-78.474995</td>\n",
       "    </tr>\n",
       "  </tbody>\n",
       "</table>\n",
       "</div>"
      ],
      "text/plain": [
       "      OrderID CustomerID   ProductID StoreID OrderType            Timestamp  \\\n",
       "1104  WW1F4ZQ      RO256  64-360-768   #9901   InStore  2020-02-10 19:46:15   \n",
       "\n",
       "     Brand ItemSize                ProductName   Collection  Price  \\\n",
       "1104   Gap       XS  Lightly Used Boxer Briefs  Accessories   9.97   \n",
       "\n",
       "     ClearanceType                       StoreName        Lat        Lon  \n",
       "1104     FinalSale  Charlottesville Fashion Square  38.077009 -78.474995  "
      ]
     },
     "execution_count": 38,
     "metadata": {},
     "output_type": "execute_result"
    }
   ],
   "source": [
    "df = pd.merge(sales, stores.drop(columns=['Address','Brand']), on='StoreID',how='left')\n",
    "df.sample()"
   ]
  },
  {
   "cell_type": "code",
   "execution_count": null,
   "metadata": {},
   "outputs": [],
   "source": []
  }
 ],
 "metadata": {
  "kernelspec": {
   "display_name": "Python 3.7.2 64-bit ('anaconda3': virtualenv)",
   "language": "python",
   "name": "python37264bitanaconda3virtualenve1dc3209be54475686eb8b8e057d24f4"
  },
  "language_info": {
   "codemirror_mode": {
    "name": "ipython",
    "version": 3
   },
   "file_extension": ".py",
   "mimetype": "text/x-python",
   "name": "python",
   "nbconvert_exporter": "python",
   "pygments_lexer": "ipython3",
   "version": "3.7.2"
  }
 },
 "nbformat": 4,
 "nbformat_minor": 2
}
