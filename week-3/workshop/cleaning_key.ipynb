{
 "cells": [
  {
   "cell_type": "markdown",
   "metadata": {
    "colab_type": "text",
    "id": "av85FiU8XulG"
   },
   "source": [
    "# Data Cleaning"
   ]
  },
  {
   "cell_type": "code",
   "execution_count": 7,
   "metadata": {
    "scrolled": true
   },
   "outputs": [],
   "source": [
    "# As always\n",
    "import pandas as pd\n",
    "import numpy as np"
   ]
  },
  {
   "cell_type": "markdown",
   "metadata": {},
   "source": [
    "### Building a dataframe by hand"
   ]
  },
  {
   "cell_type": "code",
   "execution_count": 8,
   "metadata": {
    "colab": {
     "base_uri": "https://localhost:8080/",
     "height": 204
    },
    "colab_type": "code",
    "id": "j5-2Zq9ZbYgh",
    "outputId": "1b27ed40-f0bb-4282-ad44-f57a6e1a0063"
   },
   "outputs": [
    {
     "output_type": "execute_result",
     "data": {
      "text/plain": "   numbers letters  bools\n0        1       a   True\n1        2       b  False\n2        3       c   True\n3        4       d   True\n4        5       e   True",
      "text/html": "<div>\n<style scoped>\n    .dataframe tbody tr th:only-of-type {\n        vertical-align: middle;\n    }\n\n    .dataframe tbody tr th {\n        vertical-align: top;\n    }\n\n    .dataframe thead th {\n        text-align: right;\n    }\n</style>\n<table border=\"1\" class=\"dataframe\">\n  <thead>\n    <tr style=\"text-align: right;\">\n      <th></th>\n      <th>numbers</th>\n      <th>letters</th>\n      <th>bools</th>\n    </tr>\n  </thead>\n  <tbody>\n    <tr>\n      <th>0</th>\n      <td>1</td>\n      <td>a</td>\n      <td>True</td>\n    </tr>\n    <tr>\n      <th>1</th>\n      <td>2</td>\n      <td>b</td>\n      <td>False</td>\n    </tr>\n    <tr>\n      <th>2</th>\n      <td>3</td>\n      <td>c</td>\n      <td>True</td>\n    </tr>\n    <tr>\n      <th>3</th>\n      <td>4</td>\n      <td>d</td>\n      <td>True</td>\n    </tr>\n    <tr>\n      <th>4</th>\n      <td>5</td>\n      <td>e</td>\n      <td>True</td>\n    </tr>\n  </tbody>\n</table>\n</div>"
     },
     "metadata": {},
     "execution_count": 8
    }
   ],
   "source": [
    "some_data = [1, 2, 3, 4, 5] # list of numbers\n",
    "some_more_data = ['a', 'b', 'c', 'd', 'e'] # list of letters\n",
    "some_booleans = [True, False, True, True, True] # list of booleans\n",
    "df = pd.DataFrame({'numbers':some_data, 'letters':some_more_data, 'bools':some_booleans})\n",
    "df"
   ]
  },
  {
   "cell_type": "markdown",
   "metadata": {},
   "source": [
    "We can checkout the datatypes of each column using `df.info()`"
   ]
  },
  {
   "cell_type": "code",
   "execution_count": 9,
   "metadata": {
    "tags": []
   },
   "outputs": [
    {
     "output_type": "stream",
     "name": "stdout",
     "text": "<class 'pandas.core.frame.DataFrame'>\nRangeIndex: 5 entries, 0 to 4\nData columns (total 3 columns):\n #   Column   Non-Null Count  Dtype \n---  ------   --------------  ----- \n 0   numbers  5 non-null      int64 \n 1   letters  5 non-null      object\n 2   bools    5 non-null      bool  \ndtypes: bool(1), int64(1), object(1)\nmemory usage: 213.0+ bytes\n"
    }
   ],
   "source": [
    "df.info()"
   ]
  },
  {
   "cell_type": "markdown",
   "metadata": {
    "colab_type": "text",
    "id": "xIYRjfTDeRBX"
   },
   "source": [
    "### Changing data types"
   ]
  },
  {
   "cell_type": "code",
   "execution_count": 10,
   "metadata": {
    "colab": {
     "base_uri": "https://localhost:8080/",
     "height": 204
    },
    "colab_type": "code",
    "id": "1dtyvbt3m8hU",
    "outputId": "5aa069b5-539d-4407-b813-7575aef6825b"
   },
   "outputs": [
    {
     "output_type": "execute_result",
     "data": {
      "text/plain": "                         courses ratings\n0                Transfiguration       5\n1                         Charms     3.2\n2                        Potions       1\n3               History of Magic       2\n4  Defence Against the Dark Arts       4\n5        Astronomy and Herbology     3.5",
      "text/html": "<div>\n<style scoped>\n    .dataframe tbody tr th:only-of-type {\n        vertical-align: middle;\n    }\n\n    .dataframe tbody tr th {\n        vertical-align: top;\n    }\n\n    .dataframe thead th {\n        text-align: right;\n    }\n</style>\n<table border=\"1\" class=\"dataframe\">\n  <thead>\n    <tr style=\"text-align: right;\">\n      <th></th>\n      <th>courses</th>\n      <th>ratings</th>\n    </tr>\n  </thead>\n  <tbody>\n    <tr>\n      <th>0</th>\n      <td>Transfiguration</td>\n      <td>5</td>\n    </tr>\n    <tr>\n      <th>1</th>\n      <td>Charms</td>\n      <td>3.2</td>\n    </tr>\n    <tr>\n      <th>2</th>\n      <td>Potions</td>\n      <td>1</td>\n    </tr>\n    <tr>\n      <th>3</th>\n      <td>History of Magic</td>\n      <td>2</td>\n    </tr>\n    <tr>\n      <th>4</th>\n      <td>Defence Against the Dark Arts</td>\n      <td>4</td>\n    </tr>\n    <tr>\n      <th>5</th>\n      <td>Astronomy and Herbology</td>\n      <td>3.5</td>\n    </tr>\n  </tbody>\n</table>\n</div>"
     },
     "metadata": {},
     "execution_count": 10
    }
   ],
   "source": [
    "classes  = ['Transfiguration', 'Charms', 'Potions', 'History of Magic', 'Defence Against the Dark Arts', 'Astronomy and Herbology']\n",
    "ratings = ['5', 3.2, 1, 2, '4', '3.5'] # Note: Some of these are strings, floats, and ints\n",
    "grades = pd.DataFrame({'courses':classes, 'ratings':ratings})\n",
    "grades"
   ]
  },
  {
   "cell_type": "markdown",
   "metadata": {},
   "source": [
    "Say we want to double the rating values"
   ]
  },
  {
   "cell_type": "code",
   "execution_count": 11,
   "metadata": {
    "colab": {
     "base_uri": "https://localhost:8080/",
     "height": 204
    },
    "colab_type": "code",
    "id": "E9d4vJ2knmVK",
    "outputId": "cab81dfc-5d7a-4e58-8be8-da5f836138fb"
   },
   "outputs": [
    {
     "output_type": "execute_result",
     "data": {
      "text/plain": "                         courses ratings ratings_2x\n0                Transfiguration       5         55\n1                         Charms     3.2        6.4\n2                        Potions       1          2\n3               History of Magic       2          4\n4  Defence Against the Dark Arts       4         44\n5        Astronomy and Herbology     3.5     3.53.5",
      "text/html": "<div>\n<style scoped>\n    .dataframe tbody tr th:only-of-type {\n        vertical-align: middle;\n    }\n\n    .dataframe tbody tr th {\n        vertical-align: top;\n    }\n\n    .dataframe thead th {\n        text-align: right;\n    }\n</style>\n<table border=\"1\" class=\"dataframe\">\n  <thead>\n    <tr style=\"text-align: right;\">\n      <th></th>\n      <th>courses</th>\n      <th>ratings</th>\n      <th>ratings_2x</th>\n    </tr>\n  </thead>\n  <tbody>\n    <tr>\n      <th>0</th>\n      <td>Transfiguration</td>\n      <td>5</td>\n      <td>55</td>\n    </tr>\n    <tr>\n      <th>1</th>\n      <td>Charms</td>\n      <td>3.2</td>\n      <td>6.4</td>\n    </tr>\n    <tr>\n      <th>2</th>\n      <td>Potions</td>\n      <td>1</td>\n      <td>2</td>\n    </tr>\n    <tr>\n      <th>3</th>\n      <td>History of Magic</td>\n      <td>2</td>\n      <td>4</td>\n    </tr>\n    <tr>\n      <th>4</th>\n      <td>Defence Against the Dark Arts</td>\n      <td>4</td>\n      <td>44</td>\n    </tr>\n    <tr>\n      <th>5</th>\n      <td>Astronomy and Herbology</td>\n      <td>3.5</td>\n      <td>3.53.5</td>\n    </tr>\n  </tbody>\n</table>\n</div>"
     },
     "metadata": {},
     "execution_count": 11
    }
   ],
   "source": [
    "grades['ratings_2x'] = grades['ratings']*2\n",
    "grades"
   ]
  },
  {
   "cell_type": "markdown",
   "metadata": {
    "colab_type": "text",
    "id": "wLUIN9VQn9hd"
   },
   "source": [
    "That's not what we expected- Let's drop that column"
   ]
  },
  {
   "cell_type": "code",
   "execution_count": 12,
   "metadata": {
    "colab": {},
    "colab_type": "code",
    "id": "Hr9R_UmA3gqc"
   },
   "outputs": [
    {
     "output_type": "execute_result",
     "data": {
      "text/plain": "                         courses ratings\n0                Transfiguration       5\n1                         Charms     3.2\n2                        Potions       1\n3               History of Magic       2\n4  Defence Against the Dark Arts       4\n5        Astronomy and Herbology     3.5",
      "text/html": "<div>\n<style scoped>\n    .dataframe tbody tr th:only-of-type {\n        vertical-align: middle;\n    }\n\n    .dataframe tbody tr th {\n        vertical-align: top;\n    }\n\n    .dataframe thead th {\n        text-align: right;\n    }\n</style>\n<table border=\"1\" class=\"dataframe\">\n  <thead>\n    <tr style=\"text-align: right;\">\n      <th></th>\n      <th>courses</th>\n      <th>ratings</th>\n    </tr>\n  </thead>\n  <tbody>\n    <tr>\n      <th>0</th>\n      <td>Transfiguration</td>\n      <td>5</td>\n    </tr>\n    <tr>\n      <th>1</th>\n      <td>Charms</td>\n      <td>3.2</td>\n    </tr>\n    <tr>\n      <th>2</th>\n      <td>Potions</td>\n      <td>1</td>\n    </tr>\n    <tr>\n      <th>3</th>\n      <td>History of Magic</td>\n      <td>2</td>\n    </tr>\n    <tr>\n      <th>4</th>\n      <td>Defence Against the Dark Arts</td>\n      <td>4</td>\n    </tr>\n    <tr>\n      <th>5</th>\n      <td>Astronomy and Herbology</td>\n      <td>3.5</td>\n    </tr>\n  </tbody>\n</table>\n</div>"
     },
     "metadata": {},
     "execution_count": 12
    }
   ],
   "source": [
    "grades = grades.drop(columns=['ratings_2x'])\n",
    "grades"
   ]
  },
  {
   "cell_type": "markdown",
   "metadata": {
    "colab_type": "text",
    "id": "gQ52OALec6C9"
   },
   "source": [
    "Let's try scaling ratings again\n",
    "\n",
    "Before, our `ratings` column had mixed datatypes, floats and strings. \n",
    "<br>In python, when we multiply a string, we repeat it, so we got `\"55\"` instead of `10` for the first entry"
   ]
  },
  {
   "cell_type": "code",
   "execution_count": 13,
   "metadata": {
    "tags": []
   },
   "outputs": [
    {
     "output_type": "stream",
     "name": "stdout",
     "text": "hellohello\n5.42\n"
    }
   ],
   "source": [
    "# For example:\n",
    "x = 'hello'\n",
    "print(x * 2)\n",
    "\n",
    "y = 2.71\n",
    "print(y * 2)"
   ]
  },
  {
   "cell_type": "markdown",
   "metadata": {},
   "source": [
    "To change the datatype, we can convert each element in the `ratings` series"
   ]
  },
  {
   "cell_type": "code",
   "execution_count": 14,
   "metadata": {
    "colab": {},
    "colab_type": "code",
    "id": "iZ5nEsiiocqD"
   },
   "outputs": [
    {
     "output_type": "execute_result",
     "data": {
      "text/plain": "                         courses  ratings  ratings_2x\n0                Transfiguration      5.0        10.0\n1                         Charms      3.2         6.4\n2                        Potions      1.0         2.0\n3               History of Magic      2.0         4.0\n4  Defence Against the Dark Arts      4.0         8.0\n5        Astronomy and Herbology      3.5         7.0",
      "text/html": "<div>\n<style scoped>\n    .dataframe tbody tr th:only-of-type {\n        vertical-align: middle;\n    }\n\n    .dataframe tbody tr th {\n        vertical-align: top;\n    }\n\n    .dataframe thead th {\n        text-align: right;\n    }\n</style>\n<table border=\"1\" class=\"dataframe\">\n  <thead>\n    <tr style=\"text-align: right;\">\n      <th></th>\n      <th>courses</th>\n      <th>ratings</th>\n      <th>ratings_2x</th>\n    </tr>\n  </thead>\n  <tbody>\n    <tr>\n      <th>0</th>\n      <td>Transfiguration</td>\n      <td>5.0</td>\n      <td>10.0</td>\n    </tr>\n    <tr>\n      <th>1</th>\n      <td>Charms</td>\n      <td>3.2</td>\n      <td>6.4</td>\n    </tr>\n    <tr>\n      <th>2</th>\n      <td>Potions</td>\n      <td>1.0</td>\n      <td>2.0</td>\n    </tr>\n    <tr>\n      <th>3</th>\n      <td>History of Magic</td>\n      <td>2.0</td>\n      <td>4.0</td>\n    </tr>\n    <tr>\n      <th>4</th>\n      <td>Defence Against the Dark Arts</td>\n      <td>4.0</td>\n      <td>8.0</td>\n    </tr>\n    <tr>\n      <th>5</th>\n      <td>Astronomy and Herbology</td>\n      <td>3.5</td>\n      <td>7.0</td>\n    </tr>\n  </tbody>\n</table>\n</div>"
     },
     "metadata": {},
     "execution_count": 14
    }
   ],
   "source": [
    "grades['ratings'] = grades['ratings'].apply(lambda x: float(x))\n",
    "\n",
    "grades['ratings_2x'] = grades.ratings * 2\n",
    "grades"
   ]
  },
  {
   "cell_type": "markdown",
   "metadata": {},
   "source": [
    "Pandas offers us some easier functions to convert data types, such as the `.astype()` function\n",
    "\n",
    "<br> Check out what happens when we pass `'str'`, `'float'`, and `'int'` to `.astype()`"
   ]
  },
  {
   "cell_type": "code",
   "execution_count": 15,
   "metadata": {
    "colab": {
     "base_uri": "https://localhost:8080/",
     "height": 204
    },
    "colab_type": "code",
    "id": "THnGH0W5jZul",
    "outputId": "7635552f-b5ef-4a34-96c7-c45a960bdefb"
   },
   "outputs": [
    {
     "output_type": "execute_result",
     "data": {
      "text/plain": "                         courses ratings  ratings_2x ratings_2x_str\n0                Transfiguration     5.0        10.0         5.05.0\n1                         Charms     3.2         6.4         3.23.2\n2                        Potions     1.0         2.0         1.01.0\n3               History of Magic     2.0         4.0         2.02.0\n4  Defence Against the Dark Arts     4.0         8.0         4.04.0\n5        Astronomy and Herbology     3.5         7.0         3.53.5",
      "text/html": "<div>\n<style scoped>\n    .dataframe tbody tr th:only-of-type {\n        vertical-align: middle;\n    }\n\n    .dataframe tbody tr th {\n        vertical-align: top;\n    }\n\n    .dataframe thead th {\n        text-align: right;\n    }\n</style>\n<table border=\"1\" class=\"dataframe\">\n  <thead>\n    <tr style=\"text-align: right;\">\n      <th></th>\n      <th>courses</th>\n      <th>ratings</th>\n      <th>ratings_2x</th>\n      <th>ratings_2x_str</th>\n    </tr>\n  </thead>\n  <tbody>\n    <tr>\n      <th>0</th>\n      <td>Transfiguration</td>\n      <td>5.0</td>\n      <td>10.0</td>\n      <td>5.05.0</td>\n    </tr>\n    <tr>\n      <th>1</th>\n      <td>Charms</td>\n      <td>3.2</td>\n      <td>6.4</td>\n      <td>3.23.2</td>\n    </tr>\n    <tr>\n      <th>2</th>\n      <td>Potions</td>\n      <td>1.0</td>\n      <td>2.0</td>\n      <td>1.01.0</td>\n    </tr>\n    <tr>\n      <th>3</th>\n      <td>History of Magic</td>\n      <td>2.0</td>\n      <td>4.0</td>\n      <td>2.02.0</td>\n    </tr>\n    <tr>\n      <th>4</th>\n      <td>Defence Against the Dark Arts</td>\n      <td>4.0</td>\n      <td>8.0</td>\n      <td>4.04.0</td>\n    </tr>\n    <tr>\n      <th>5</th>\n      <td>Astronomy and Herbology</td>\n      <td>3.5</td>\n      <td>7.0</td>\n      <td>3.53.5</td>\n    </tr>\n  </tbody>\n</table>\n</div>"
     },
     "metadata": {},
     "execution_count": 15
    }
   ],
   "source": [
    "grades['ratings'] = grades['ratings'].astype('str')\n",
    "grades['ratings_2x_str'] = grades.ratings * 2\n",
    "grades"
   ]
  },
  {
   "cell_type": "code",
   "execution_count": 16,
   "metadata": {
    "colab": {
     "base_uri": "https://localhost:8080/",
     "height": 204
    },
    "colab_type": "code",
    "id": "C5RP6c_bkrjH",
    "outputId": "90d11a98-2075-4c22-dd7c-5b1627eab5f0"
   },
   "outputs": [
    {
     "output_type": "execute_result",
     "data": {
      "text/plain": "                         courses  ratings  ratings_2x ratings_2x_str\n0                Transfiguration      5.0        10.0         5.05.0\n1                         Charms      3.2         6.4         3.23.2\n2                        Potions      1.0         2.0         1.01.0\n3               History of Magic      2.0         4.0         2.02.0\n4  Defence Against the Dark Arts      4.0         8.0         4.04.0\n5        Astronomy and Herbology      3.5         7.0         3.53.5",
      "text/html": "<div>\n<style scoped>\n    .dataframe tbody tr th:only-of-type {\n        vertical-align: middle;\n    }\n\n    .dataframe tbody tr th {\n        vertical-align: top;\n    }\n\n    .dataframe thead th {\n        text-align: right;\n    }\n</style>\n<table border=\"1\" class=\"dataframe\">\n  <thead>\n    <tr style=\"text-align: right;\">\n      <th></th>\n      <th>courses</th>\n      <th>ratings</th>\n      <th>ratings_2x</th>\n      <th>ratings_2x_str</th>\n    </tr>\n  </thead>\n  <tbody>\n    <tr>\n      <th>0</th>\n      <td>Transfiguration</td>\n      <td>5.0</td>\n      <td>10.0</td>\n      <td>5.05.0</td>\n    </tr>\n    <tr>\n      <th>1</th>\n      <td>Charms</td>\n      <td>3.2</td>\n      <td>6.4</td>\n      <td>3.23.2</td>\n    </tr>\n    <tr>\n      <th>2</th>\n      <td>Potions</td>\n      <td>1.0</td>\n      <td>2.0</td>\n      <td>1.01.0</td>\n    </tr>\n    <tr>\n      <th>3</th>\n      <td>History of Magic</td>\n      <td>2.0</td>\n      <td>4.0</td>\n      <td>2.02.0</td>\n    </tr>\n    <tr>\n      <th>4</th>\n      <td>Defence Against the Dark Arts</td>\n      <td>4.0</td>\n      <td>8.0</td>\n      <td>4.04.0</td>\n    </tr>\n    <tr>\n      <th>5</th>\n      <td>Astronomy and Herbology</td>\n      <td>3.5</td>\n      <td>7.0</td>\n      <td>3.53.5</td>\n    </tr>\n  </tbody>\n</table>\n</div>"
     },
     "metadata": {},
     "execution_count": 16
    }
   ],
   "source": [
    "grades['ratings'] = grades['ratings'].astype('float')\n",
    "grades"
   ]
  },
  {
   "cell_type": "code",
   "execution_count": 17,
   "metadata": {},
   "outputs": [
    {
     "output_type": "execute_result",
     "data": {
      "text/plain": "                         courses  ratings  ratings_2x ratings_2x_str\n0                Transfiguration        5        10.0         5.05.0\n1                         Charms        3         6.4         3.23.2\n2                        Potions        1         2.0         1.01.0\n3               History of Magic        2         4.0         2.02.0\n4  Defence Against the Dark Arts        4         8.0         4.04.0\n5        Astronomy and Herbology        3         7.0         3.53.5",
      "text/html": "<div>\n<style scoped>\n    .dataframe tbody tr th:only-of-type {\n        vertical-align: middle;\n    }\n\n    .dataframe tbody tr th {\n        vertical-align: top;\n    }\n\n    .dataframe thead th {\n        text-align: right;\n    }\n</style>\n<table border=\"1\" class=\"dataframe\">\n  <thead>\n    <tr style=\"text-align: right;\">\n      <th></th>\n      <th>courses</th>\n      <th>ratings</th>\n      <th>ratings_2x</th>\n      <th>ratings_2x_str</th>\n    </tr>\n  </thead>\n  <tbody>\n    <tr>\n      <th>0</th>\n      <td>Transfiguration</td>\n      <td>5</td>\n      <td>10.0</td>\n      <td>5.05.0</td>\n    </tr>\n    <tr>\n      <th>1</th>\n      <td>Charms</td>\n      <td>3</td>\n      <td>6.4</td>\n      <td>3.23.2</td>\n    </tr>\n    <tr>\n      <th>2</th>\n      <td>Potions</td>\n      <td>1</td>\n      <td>2.0</td>\n      <td>1.01.0</td>\n    </tr>\n    <tr>\n      <th>3</th>\n      <td>History of Magic</td>\n      <td>2</td>\n      <td>4.0</td>\n      <td>2.02.0</td>\n    </tr>\n    <tr>\n      <th>4</th>\n      <td>Defence Against the Dark Arts</td>\n      <td>4</td>\n      <td>8.0</td>\n      <td>4.04.0</td>\n    </tr>\n    <tr>\n      <th>5</th>\n      <td>Astronomy and Herbology</td>\n      <td>3</td>\n      <td>7.0</td>\n      <td>3.53.5</td>\n    </tr>\n  </tbody>\n</table>\n</div>"
     },
     "metadata": {},
     "execution_count": 17
    }
   ],
   "source": [
    "grades['ratings'] = grades['ratings'].astype('int')\n",
    "grades"
   ]
  },
  {
   "cell_type": "markdown",
   "metadata": {
    "colab_type": "text",
    "id": "91I3_SdHW_9M"
   },
   "source": [
    "## Handling missing values"
   ]
  },
  {
   "cell_type": "markdown",
   "metadata": {
    "colab_type": "text",
    "id": "PHRNRSrsXEVD"
   },
   "source": [
    "Missing data is a common issue, and an incredible headache in machine learning.\n",
    "\n",
    "<br> Take, for example, this dataframe with several `NaN` and `None` values, both of which can be used to represent missing data"
   ]
  },
  {
   "cell_type": "code",
   "execution_count": 18,
   "metadata": {
    "colab": {
     "base_uri": "https://localhost:8080/",
     "height": 266
    },
    "colab_type": "code",
    "id": "al2jY0duXGjc",
    "outputId": "ed125e86-6b78-4f26-93c0-5e4f2986c9d7"
   },
   "outputs": [
    {
     "output_type": "execute_result",
     "data": {
      "text/plain": "           student  year          interests\n0     Bill Weasley   NaN            dragons\n1  Charlie Weasley   NaN           gringots\n2    Percy Weasley   6.0  ministry of magic\n3     Fred Weasley   4.0              jokes\n4              NaN   4.0              jokes\n5      Ron Weasley   2.0                NaN\n6    Ginny Weasley   1.0                NaN",
      "text/html": "<div>\n<style scoped>\n    .dataframe tbody tr th:only-of-type {\n        vertical-align: middle;\n    }\n\n    .dataframe tbody tr th {\n        vertical-align: top;\n    }\n\n    .dataframe thead th {\n        text-align: right;\n    }\n</style>\n<table border=\"1\" class=\"dataframe\">\n  <thead>\n    <tr style=\"text-align: right;\">\n      <th></th>\n      <th>student</th>\n      <th>year</th>\n      <th>interests</th>\n    </tr>\n  </thead>\n  <tbody>\n    <tr>\n      <th>0</th>\n      <td>Bill Weasley</td>\n      <td>NaN</td>\n      <td>dragons</td>\n    </tr>\n    <tr>\n      <th>1</th>\n      <td>Charlie Weasley</td>\n      <td>NaN</td>\n      <td>gringots</td>\n    </tr>\n    <tr>\n      <th>2</th>\n      <td>Percy Weasley</td>\n      <td>6.0</td>\n      <td>ministry of magic</td>\n    </tr>\n    <tr>\n      <th>3</th>\n      <td>Fred Weasley</td>\n      <td>4.0</td>\n      <td>jokes</td>\n    </tr>\n    <tr>\n      <th>4</th>\n      <td>NaN</td>\n      <td>4.0</td>\n      <td>jokes</td>\n    </tr>\n    <tr>\n      <th>5</th>\n      <td>Ron Weasley</td>\n      <td>2.0</td>\n      <td>NaN</td>\n    </tr>\n    <tr>\n      <th>6</th>\n      <td>Ginny Weasley</td>\n      <td>1.0</td>\n      <td>NaN</td>\n    </tr>\n  </tbody>\n</table>\n</div>"
     },
     "metadata": {},
     "execution_count": 18
    }
   ],
   "source": [
    "students = ['Bill Weasley', 'Charlie Weasley', 'Percy Weasley', 'Fred Weasley', np.nan, 'Ron Weasley', 'Ginny Weasley']\n",
    "years = [np.nan, np.nan, 6, 4, 4, 2, 1]\n",
    "interests = ['dragons', 'gringots', 'ministry of magic', 'jokes', 'jokes', np.nan, np.nan]\n",
    "\n",
    "weasleys = pd.DataFrame({'student':students,'year' :years, 'interests':interests})\n",
    "weasleys"
   ]
  },
  {
   "cell_type": "markdown",
   "metadata": {
    "colab_type": "text",
    "id": "2voUMl-8k-AL"
   },
   "source": [
    "### Identifying missing values"
   ]
  },
  {
   "cell_type": "markdown",
   "metadata": {},
   "source": [
    "We can use `.isna()` on a dataframe or series"
   ]
  },
  {
   "cell_type": "code",
   "execution_count": 19,
   "metadata": {
    "colab": {
     "base_uri": "https://localhost:8080/",
     "height": 266
    },
    "colab_type": "code",
    "id": "d0iRsJsik7j5",
    "outputId": "835a41a8-2211-4f8a-d51a-8b42b3394204"
   },
   "outputs": [
    {
     "output_type": "execute_result",
     "data": {
      "text/plain": "   student   year  interests\n0    False   True      False\n1    False   True      False\n2    False  False      False\n3    False  False      False\n4     True  False      False\n5    False  False       True\n6    False  False       True",
      "text/html": "<div>\n<style scoped>\n    .dataframe tbody tr th:only-of-type {\n        vertical-align: middle;\n    }\n\n    .dataframe tbody tr th {\n        vertical-align: top;\n    }\n\n    .dataframe thead th {\n        text-align: right;\n    }\n</style>\n<table border=\"1\" class=\"dataframe\">\n  <thead>\n    <tr style=\"text-align: right;\">\n      <th></th>\n      <th>student</th>\n      <th>year</th>\n      <th>interests</th>\n    </tr>\n  </thead>\n  <tbody>\n    <tr>\n      <th>0</th>\n      <td>False</td>\n      <td>True</td>\n      <td>False</td>\n    </tr>\n    <tr>\n      <th>1</th>\n      <td>False</td>\n      <td>True</td>\n      <td>False</td>\n    </tr>\n    <tr>\n      <th>2</th>\n      <td>False</td>\n      <td>False</td>\n      <td>False</td>\n    </tr>\n    <tr>\n      <th>3</th>\n      <td>False</td>\n      <td>False</td>\n      <td>False</td>\n    </tr>\n    <tr>\n      <th>4</th>\n      <td>True</td>\n      <td>False</td>\n      <td>False</td>\n    </tr>\n    <tr>\n      <th>5</th>\n      <td>False</td>\n      <td>False</td>\n      <td>True</td>\n    </tr>\n    <tr>\n      <th>6</th>\n      <td>False</td>\n      <td>False</td>\n      <td>True</td>\n    </tr>\n  </tbody>\n</table>\n</div>"
     },
     "metadata": {},
     "execution_count": 19
    }
   ],
   "source": [
    "weasleys.isna()"
   ]
  },
  {
   "cell_type": "code",
   "execution_count": 20,
   "metadata": {
    "colab": {
     "base_uri": "https://localhost:8080/",
     "height": 69
    },
    "colab_type": "code",
    "id": "p56yOZM7lDpx",
    "outputId": "8c1beca3-6453-483a-b06e-d95c8d8ae748"
   },
   "outputs": [
    {
     "output_type": "execute_result",
     "data": {
      "text/plain": "student      1\nyear         2\ninterests    2\ndtype: int64"
     },
     "metadata": {},
     "execution_count": 20
    }
   ],
   "source": [
    "weasleys.isna().sum(axis=0)"
   ]
  },
  {
   "cell_type": "markdown",
   "metadata": {},
   "source": [
    "\n",
    "Here, we've specified the axis on which we'd like to apply the sum operation. \n",
    "<br>To sum *across* rows, to get one value *per column*, we used axis = 0.\n",
    "    - In general for axes: Rows = 0, Columns = 1"
   ]
  },
  {
   "cell_type": "markdown",
   "metadata": {},
   "source": [
    "If we wanted instead to see how many null values we have for every child, we'd swap the axis:"
   ]
  },
  {
   "cell_type": "code",
   "execution_count": 21,
   "metadata": {
    "colab": {
     "base_uri": "https://localhost:8080/",
     "height": 157
    },
    "colab_type": "code",
    "id": "3yAhlnhAl9Bw",
    "outputId": "3186e8fb-5c8a-478f-d2f4-c681a22bc432"
   },
   "outputs": [
    {
     "output_type": "execute_result",
     "data": {
      "text/plain": "0    1\n1    1\n2    0\n3    0\n4    1\n5    1\n6    1\ndtype: int64"
     },
     "metadata": {},
     "execution_count": 21
    }
   ],
   "source": [
    "weasleys.isna().sum(axis=1)"
   ]
  },
  {
   "cell_type": "markdown",
   "metadata": {},
   "source": [
    "Remember, we want a breakdown *by row*, so we're counting the number of rows *across* each column"
   ]
  },
  {
   "cell_type": "markdown",
   "metadata": {
    "colab_type": "text",
    "id": "yZ06jDBHXUj-"
   },
   "source": [
    "### Strategy 1: Dropping rows with missing values"
   ]
  },
  {
   "cell_type": "markdown",
   "metadata": {},
   "source": [
    "By far the easiest way of dealing with missing data is just dropping rows that have missing values.\n",
    "\n",
    "By default, `dropna()` will drop rows that have a null value for *any* column"
   ]
  },
  {
   "cell_type": "code",
   "execution_count": 22,
   "metadata": {
    "colab": {
     "base_uri": "https://localhost:8080/",
     "height": 142
    },
    "colab_type": "code",
    "id": "SjJbCBMrXEnE",
    "outputId": "f38aa7ab-616a-436f-af53-c7f037e0e873"
   },
   "outputs": [
    {
     "output_type": "execute_result",
     "data": {
      "text/plain": "         student  year          interests\n2  Percy Weasley   6.0  ministry of magic\n3   Fred Weasley   4.0              jokes",
      "text/html": "<div>\n<style scoped>\n    .dataframe tbody tr th:only-of-type {\n        vertical-align: middle;\n    }\n\n    .dataframe tbody tr th {\n        vertical-align: top;\n    }\n\n    .dataframe thead th {\n        text-align: right;\n    }\n</style>\n<table border=\"1\" class=\"dataframe\">\n  <thead>\n    <tr style=\"text-align: right;\">\n      <th></th>\n      <th>student</th>\n      <th>year</th>\n      <th>interests</th>\n    </tr>\n  </thead>\n  <tbody>\n    <tr>\n      <th>2</th>\n      <td>Percy Weasley</td>\n      <td>6.0</td>\n      <td>ministry of magic</td>\n    </tr>\n    <tr>\n      <th>3</th>\n      <td>Fred Weasley</td>\n      <td>4.0</td>\n      <td>jokes</td>\n    </tr>\n  </tbody>\n</table>\n</div>"
     },
     "metadata": {},
     "execution_count": 22
    }
   ],
   "source": [
    "weasleys_dropped = weasleys.dropna()\n",
    "weasleys_dropped"
   ]
  },
  {
   "cell_type": "markdown",
   "metadata": {
    "colab_type": "text",
    "id": "DY7ozv3b3HJC"
   },
   "source": [
    "You might also need to drop NAs only if it's present for a single column. \n",
    "<br>In this case, we can pass the `subset=` argument to `.dropna()` to select for current hogwarts students"
   ]
  },
  {
   "cell_type": "code",
   "execution_count": 23,
   "metadata": {
    "colab": {
     "base_uri": "https://localhost:8080/",
     "height": 142
    },
    "colab_type": "code",
    "id": "ZksD2rXU3GTd",
    "outputId": "70420d66-62cc-4162-a0d0-9875299606a7"
   },
   "outputs": [
    {
     "output_type": "execute_result",
     "data": {
      "text/plain": "         student  year          interests\n2  Percy Weasley   6.0  ministry of magic\n3   Fred Weasley   4.0              jokes\n4            NaN   4.0              jokes\n5    Ron Weasley   2.0                NaN\n6  Ginny Weasley   1.0                NaN",
      "text/html": "<div>\n<style scoped>\n    .dataframe tbody tr th:only-of-type {\n        vertical-align: middle;\n    }\n\n    .dataframe tbody tr th {\n        vertical-align: top;\n    }\n\n    .dataframe thead th {\n        text-align: right;\n    }\n</style>\n<table border=\"1\" class=\"dataframe\">\n  <thead>\n    <tr style=\"text-align: right;\">\n      <th></th>\n      <th>student</th>\n      <th>year</th>\n      <th>interests</th>\n    </tr>\n  </thead>\n  <tbody>\n    <tr>\n      <th>2</th>\n      <td>Percy Weasley</td>\n      <td>6.0</td>\n      <td>ministry of magic</td>\n    </tr>\n    <tr>\n      <th>3</th>\n      <td>Fred Weasley</td>\n      <td>4.0</td>\n      <td>jokes</td>\n    </tr>\n    <tr>\n      <th>4</th>\n      <td>NaN</td>\n      <td>4.0</td>\n      <td>jokes</td>\n    </tr>\n    <tr>\n      <th>5</th>\n      <td>Ron Weasley</td>\n      <td>2.0</td>\n      <td>NaN</td>\n    </tr>\n    <tr>\n      <th>6</th>\n      <td>Ginny Weasley</td>\n      <td>1.0</td>\n      <td>NaN</td>\n    </tr>\n  </tbody>\n</table>\n</div>"
     },
     "metadata": {},
     "execution_count": 23
    }
   ],
   "source": [
    "weasleys.dropna(subset=['year'])"
   ]
  },
  {
   "cell_type": "markdown",
   "metadata": {
    "colab_type": "text",
    "id": "2BalWYMdXYh_"
   },
   "source": [
    "### Strategy 2: Filling in missing values\n",
    "\n",
    "We can fill in missing values in a variety of different ways. \n",
    "<br> We can use a specific value (like the mean), forward-fill, back-fill, or use a variety of more advanced imputation methods using ML"
   ]
  },
  {
   "cell_type": "markdown",
   "metadata": {
    "colab_type": "text",
    "id": "5XTegawZXbEt"
   },
   "source": [
    "Replacing missing values with a specific value:"
   ]
  },
  {
   "cell_type": "code",
   "execution_count": 24,
   "metadata": {
    "colab": {
     "base_uri": "https://localhost:8080/",
     "height": 266
    },
    "colab_type": "code",
    "id": "8urpH3QWXV0e",
    "outputId": "c950378d-e0a3-42c1-c7b5-6bdf1196a8d4"
   },
   "outputs": [
    {
     "output_type": "execute_result",
     "data": {
      "text/plain": "           student  year          interests\n0     Bill Weasley   0.0            dragons\n1  Charlie Weasley   0.0           gringots\n2    Percy Weasley   6.0  ministry of magic\n3     Fred Weasley   4.0              jokes\n4                0   4.0              jokes\n5      Ron Weasley   2.0                  0\n6    Ginny Weasley   1.0                  0",
      "text/html": "<div>\n<style scoped>\n    .dataframe tbody tr th:only-of-type {\n        vertical-align: middle;\n    }\n\n    .dataframe tbody tr th {\n        vertical-align: top;\n    }\n\n    .dataframe thead th {\n        text-align: right;\n    }\n</style>\n<table border=\"1\" class=\"dataframe\">\n  <thead>\n    <tr style=\"text-align: right;\">\n      <th></th>\n      <th>student</th>\n      <th>year</th>\n      <th>interests</th>\n    </tr>\n  </thead>\n  <tbody>\n    <tr>\n      <th>0</th>\n      <td>Bill Weasley</td>\n      <td>0.0</td>\n      <td>dragons</td>\n    </tr>\n    <tr>\n      <th>1</th>\n      <td>Charlie Weasley</td>\n      <td>0.0</td>\n      <td>gringots</td>\n    </tr>\n    <tr>\n      <th>2</th>\n      <td>Percy Weasley</td>\n      <td>6.0</td>\n      <td>ministry of magic</td>\n    </tr>\n    <tr>\n      <th>3</th>\n      <td>Fred Weasley</td>\n      <td>4.0</td>\n      <td>jokes</td>\n    </tr>\n    <tr>\n      <th>4</th>\n      <td>0</td>\n      <td>4.0</td>\n      <td>jokes</td>\n    </tr>\n    <tr>\n      <th>5</th>\n      <td>Ron Weasley</td>\n      <td>2.0</td>\n      <td>0</td>\n    </tr>\n    <tr>\n      <th>6</th>\n      <td>Ginny Weasley</td>\n      <td>1.0</td>\n      <td>0</td>\n    </tr>\n  </tbody>\n</table>\n</div>"
     },
     "metadata": {},
     "execution_count": 24
    }
   ],
   "source": [
    "weasleys.fillna(0) # replace missing values with string"
   ]
  },
  {
   "cell_type": "markdown",
   "metadata": {},
   "source": [
    "We can select a particular column to fill nulls with too"
   ]
  },
  {
   "cell_type": "code",
   "execution_count": 25,
   "metadata": {
    "colab": {
     "base_uri": "https://localhost:8080/",
     "height": 266
    },
    "colab_type": "code",
    "id": "S4hDpfPAgqB4",
    "outputId": "87ff8f25-64e1-4f8c-e47c-dba3dec3ce45"
   },
   "outputs": [
    {
     "output_type": "execute_result",
     "data": {
      "text/plain": "           student  year          interests\n0     Bill Weasley   NaN            dragons\n1  Charlie Weasley   NaN           gringots\n2    Percy Weasley   6.0  ministry of magic\n3     Fred Weasley   4.0              jokes\n4   George Weasley   4.0              jokes\n5      Ron Weasley   2.0                NaN\n6    Ginny Weasley   1.0                NaN",
      "text/html": "<div>\n<style scoped>\n    .dataframe tbody tr th:only-of-type {\n        vertical-align: middle;\n    }\n\n    .dataframe tbody tr th {\n        vertical-align: top;\n    }\n\n    .dataframe thead th {\n        text-align: right;\n    }\n</style>\n<table border=\"1\" class=\"dataframe\">\n  <thead>\n    <tr style=\"text-align: right;\">\n      <th></th>\n      <th>student</th>\n      <th>year</th>\n      <th>interests</th>\n    </tr>\n  </thead>\n  <tbody>\n    <tr>\n      <th>0</th>\n      <td>Bill Weasley</td>\n      <td>NaN</td>\n      <td>dragons</td>\n    </tr>\n    <tr>\n      <th>1</th>\n      <td>Charlie Weasley</td>\n      <td>NaN</td>\n      <td>gringots</td>\n    </tr>\n    <tr>\n      <th>2</th>\n      <td>Percy Weasley</td>\n      <td>6.0</td>\n      <td>ministry of magic</td>\n    </tr>\n    <tr>\n      <th>3</th>\n      <td>Fred Weasley</td>\n      <td>4.0</td>\n      <td>jokes</td>\n    </tr>\n    <tr>\n      <th>4</th>\n      <td>George Weasley</td>\n      <td>4.0</td>\n      <td>jokes</td>\n    </tr>\n    <tr>\n      <th>5</th>\n      <td>Ron Weasley</td>\n      <td>2.0</td>\n      <td>NaN</td>\n    </tr>\n    <tr>\n      <th>6</th>\n      <td>Ginny Weasley</td>\n      <td>1.0</td>\n      <td>NaN</td>\n    </tr>\n  </tbody>\n</table>\n</div>"
     },
     "metadata": {},
     "execution_count": 25
    }
   ],
   "source": [
    "weasleys['student'] = weasleys['student'].fillna('George Weasley')\n",
    "weasleys"
   ]
  },
  {
   "cell_type": "markdown",
   "metadata": {
    "colab_type": "text",
    "id": "c3-5VjDJVAEh"
   },
   "source": [
    "## String processing"
   ]
  },
  {
   "cell_type": "markdown",
   "metadata": {},
   "source": [
    "Often, a dataset will contain string representations of data that could be really useful if you could find some way to extract it. \n",
    "\n",
    "<br> Let's start off with a dataframe"
   ]
  },
  {
   "cell_type": "code",
   "execution_count": 26,
   "metadata": {
    "colab": {
     "base_uri": "https://localhost:8080/",
     "height": 254
    },
    "colab_type": "code",
    "id": "Q2qbebpvVt1O",
    "outputId": "7eb64300-4c9a-49de-c86d-728954ddef6f"
   },
   "outputs": [
    {
     "output_type": "execute_result",
     "data": {
      "text/plain": "             player    role\n0       Oliver Wood  Keeper\n1  Angelina Johnson  chaser\n2        Katie Bell  Chaser\n3    Alicia Spinnet  chaser\n4      Fred Weasley  beater\n5    George weasley  beater\n6      Harry Potter  SeEKeR",
      "text/html": "<div>\n<style scoped>\n    .dataframe tbody tr th:only-of-type {\n        vertical-align: middle;\n    }\n\n    .dataframe tbody tr th {\n        vertical-align: top;\n    }\n\n    .dataframe thead th {\n        text-align: right;\n    }\n</style>\n<table border=\"1\" class=\"dataframe\">\n  <thead>\n    <tr style=\"text-align: right;\">\n      <th></th>\n      <th>player</th>\n      <th>role</th>\n    </tr>\n  </thead>\n  <tbody>\n    <tr>\n      <th>0</th>\n      <td>Oliver Wood</td>\n      <td>Keeper</td>\n    </tr>\n    <tr>\n      <th>1</th>\n      <td>Angelina Johnson</td>\n      <td>chaser</td>\n    </tr>\n    <tr>\n      <th>2</th>\n      <td>Katie Bell</td>\n      <td>Chaser</td>\n    </tr>\n    <tr>\n      <th>3</th>\n      <td>Alicia Spinnet</td>\n      <td>chaser</td>\n    </tr>\n    <tr>\n      <th>4</th>\n      <td>Fred Weasley</td>\n      <td>beater</td>\n    </tr>\n    <tr>\n      <th>5</th>\n      <td>George weasley</td>\n      <td>beater</td>\n    </tr>\n    <tr>\n      <th>6</th>\n      <td>Harry Potter</td>\n      <td>SeEKeR</td>\n    </tr>\n  </tbody>\n</table>\n</div>"
     },
     "metadata": {},
     "execution_count": 26
    }
   ],
   "source": [
    "roster = ['Oliver Wood', 'Angelina Johnson', 'Katie Bell', 'Alicia Spinnet', 'Fred Weasley', 'George weasley', 'Harry Potter'] \n",
    "role = ['Keeper','chaser','Chaser','chaser','beater','beater','SeEKeR']\n",
    "\n",
    "quidditch = pd.DataFrame({'player':roster, 'role':role})\n",
    "quidditch"
   ]
  },
  {
   "cell_type": "markdown",
   "metadata": {},
   "source": [
    "It'd be great if we could work with just the first names of everyone. \n",
    "\n",
    "With normal python strings, this is pretty easy to do using the `.split()` function:"
   ]
  },
  {
   "cell_type": "code",
   "execution_count": 27,
   "metadata": {
    "tags": []
   },
   "outputs": [
    {
     "output_type": "stream",
     "name": "stdout",
     "text": "Cedric Diggory\n['Cedric', 'Diggory']\nCedric\n"
    }
   ],
   "source": [
    "name = 'Cedric Diggory'\n",
    "print(name)\n",
    "print(name.split())\n",
    "print(name.split()[0])"
   ]
  },
  {
   "cell_type": "markdown",
   "metadata": {},
   "source": [
    "Let's try using that to extract the first names from the column `player`"
   ]
  },
  {
   "cell_type": "code",
   "execution_count": 28,
   "metadata": {},
   "outputs": [
    {
     "output_type": "error",
     "ename": "AttributeError",
     "evalue": "'Series' object has no attribute 'split'",
     "traceback": [
      "\u001b[0;31m---------------------------------------------------------------------------\u001b[0m",
      "\u001b[0;31mAttributeError\u001b[0m                            Traceback (most recent call last)",
      "\u001b[0;32m<ipython-input-28-44fe98729def>\u001b[0m in \u001b[0;36m<module>\u001b[0;34m\u001b[0m\n\u001b[0;32m----> 1\u001b[0;31m \u001b[0mquidditch\u001b[0m\u001b[0;34m.\u001b[0m\u001b[0mplayer\u001b[0m\u001b[0;34m.\u001b[0m\u001b[0msplit\u001b[0m\u001b[0;34m(\u001b[0m\u001b[0;34m)\u001b[0m\u001b[0;34m\u001b[0m\u001b[0;34m\u001b[0m\u001b[0m\n\u001b[0m",
      "\u001b[0;32m/anaconda3/envs/node/lib/python3.7/site-packages/pandas/core/generic.py\u001b[0m in \u001b[0;36m__getattr__\u001b[0;34m(self, name)\u001b[0m\n\u001b[1;32m   5272\u001b[0m             \u001b[0;32mif\u001b[0m \u001b[0mself\u001b[0m\u001b[0;34m.\u001b[0m\u001b[0m_info_axis\u001b[0m\u001b[0;34m.\u001b[0m\u001b[0m_can_hold_identifiers_and_holds_name\u001b[0m\u001b[0;34m(\u001b[0m\u001b[0mname\u001b[0m\u001b[0;34m)\u001b[0m\u001b[0;34m:\u001b[0m\u001b[0;34m\u001b[0m\u001b[0;34m\u001b[0m\u001b[0m\n\u001b[1;32m   5273\u001b[0m                 \u001b[0;32mreturn\u001b[0m \u001b[0mself\u001b[0m\u001b[0;34m[\u001b[0m\u001b[0mname\u001b[0m\u001b[0;34m]\u001b[0m\u001b[0;34m\u001b[0m\u001b[0;34m\u001b[0m\u001b[0m\n\u001b[0;32m-> 5274\u001b[0;31m             \u001b[0;32mreturn\u001b[0m \u001b[0mobject\u001b[0m\u001b[0;34m.\u001b[0m\u001b[0m__getattribute__\u001b[0m\u001b[0;34m(\u001b[0m\u001b[0mself\u001b[0m\u001b[0;34m,\u001b[0m \u001b[0mname\u001b[0m\u001b[0;34m)\u001b[0m\u001b[0;34m\u001b[0m\u001b[0;34m\u001b[0m\u001b[0m\n\u001b[0m\u001b[1;32m   5275\u001b[0m \u001b[0;34m\u001b[0m\u001b[0m\n\u001b[1;32m   5276\u001b[0m     \u001b[0;32mdef\u001b[0m \u001b[0m__setattr__\u001b[0m\u001b[0;34m(\u001b[0m\u001b[0mself\u001b[0m\u001b[0;34m,\u001b[0m \u001b[0mname\u001b[0m\u001b[0;34m:\u001b[0m \u001b[0mstr\u001b[0m\u001b[0;34m,\u001b[0m \u001b[0mvalue\u001b[0m\u001b[0;34m)\u001b[0m \u001b[0;34m->\u001b[0m \u001b[0;32mNone\u001b[0m\u001b[0;34m:\u001b[0m\u001b[0;34m\u001b[0m\u001b[0;34m\u001b[0m\u001b[0m\n",
      "\u001b[0;31mAttributeError\u001b[0m: 'Series' object has no attribute 'split'"
     ]
    }
   ],
   "source": [
    "quidditch.player.split()"
   ]
  },
  {
   "cell_type": "markdown",
   "metadata": {},
   "source": [
    "Looks like we got an error: We can't use split() on the series object directly.\n",
    "<br><br> Instead, we have to \"vectorize it\" using `.str`  first"
   ]
  },
  {
   "cell_type": "code",
   "execution_count": 29,
   "metadata": {},
   "outputs": [
    {
     "output_type": "execute_result",
     "data": {
      "text/plain": "0         [Oliver, Wood]\n1    [Angelina, Johnson]\n2          [Katie, Bell]\n3      [Alicia, Spinnet]\n4        [Fred, Weasley]\n5      [George, weasley]\n6        [Harry, Potter]\nName: player, dtype: object"
     },
     "metadata": {},
     "execution_count": 29
    }
   ],
   "source": [
    "quidditch.player.str.split()"
   ]
  },
  {
   "source": [
    "The `.str` part is a pretty nifty tool when we wanna access special functions just to work with strings. We'll see this come up with special functions for dealing with time."
   ],
   "cell_type": "markdown",
   "metadata": {}
  },
  {
   "cell_type": "markdown",
   "metadata": {},
   "source": [
    "Before we move on, check out the object type of the output using `type()`"
   ]
  },
  {
   "cell_type": "code",
   "execution_count": 30,
   "metadata": {},
   "outputs": [
    {
     "output_type": "execute_result",
     "data": {
      "text/plain": "list"
     },
     "metadata": {},
     "execution_count": 30
    }
   ],
   "source": [
    "type(quidditch.player.str.split()[4])"
   ]
  },
  {
   "cell_type": "markdown",
   "metadata": {},
   "source": [
    "### Lambda apply functions"
   ]
  },
  {
   "cell_type": "markdown",
   "metadata": {},
   "source": [
    "Lambda apply functions are a pretty helpful tool for cleaning, here's one quick example"
   ]
  },
  {
   "cell_type": "code",
   "execution_count": 31,
   "metadata": {
    "colab": {
     "base_uri": "https://localhost:8080/",
     "height": 254
    },
    "colab_type": "code",
    "id": "5XDLNu5GZGMX",
    "outputId": "aba13270-bf6d-4e99-ccc3-29e341b6c9c7"
   },
   "outputs": [
    {
     "output_type": "execute_result",
     "data": {
      "text/plain": "             player    role first_name\n0       Oliver Wood  Keeper     Oliver\n1  Angelina Johnson  chaser   Angelina\n2        Katie Bell  Chaser      Katie\n3    Alicia Spinnet  chaser     Alicia\n4      Fred Weasley  beater       Fred\n5    George weasley  beater     George\n6      Harry Potter  SeEKeR      Harry",
      "text/html": "<div>\n<style scoped>\n    .dataframe tbody tr th:only-of-type {\n        vertical-align: middle;\n    }\n\n    .dataframe tbody tr th {\n        vertical-align: top;\n    }\n\n    .dataframe thead th {\n        text-align: right;\n    }\n</style>\n<table border=\"1\" class=\"dataframe\">\n  <thead>\n    <tr style=\"text-align: right;\">\n      <th></th>\n      <th>player</th>\n      <th>role</th>\n      <th>first_name</th>\n    </tr>\n  </thead>\n  <tbody>\n    <tr>\n      <th>0</th>\n      <td>Oliver Wood</td>\n      <td>Keeper</td>\n      <td>Oliver</td>\n    </tr>\n    <tr>\n      <th>1</th>\n      <td>Angelina Johnson</td>\n      <td>chaser</td>\n      <td>Angelina</td>\n    </tr>\n    <tr>\n      <th>2</th>\n      <td>Katie Bell</td>\n      <td>Chaser</td>\n      <td>Katie</td>\n    </tr>\n    <tr>\n      <th>3</th>\n      <td>Alicia Spinnet</td>\n      <td>chaser</td>\n      <td>Alicia</td>\n    </tr>\n    <tr>\n      <th>4</th>\n      <td>Fred Weasley</td>\n      <td>beater</td>\n      <td>Fred</td>\n    </tr>\n    <tr>\n      <th>5</th>\n      <td>George weasley</td>\n      <td>beater</td>\n      <td>George</td>\n    </tr>\n    <tr>\n      <th>6</th>\n      <td>Harry Potter</td>\n      <td>SeEKeR</td>\n      <td>Harry</td>\n    </tr>\n  </tbody>\n</table>\n</div>"
     },
     "metadata": {},
     "execution_count": 31
    }
   ],
   "source": [
    "quidditch['first_name'] = quidditch.player.str.split().apply(lambda x: x[0])\n",
    "quidditch"
   ]
  },
  {
   "cell_type": "markdown",
   "metadata": {},
   "source": [
    "Quite literally, this reads: <br>\n",
    "\n",
    "For every element `x` in the series `quidditch.player`, take the first element of `x` and save it to a new column `first_name`\n",
    "<br> In other words, we are **apply**ing the *anonymous* function `x[0]` for every row in the series"
   ]
  },
  {
   "cell_type": "markdown",
   "metadata": {
    "colab_type": "text",
    "id": "LBHvHSq-ffJV"
   },
   "source": [
    "### Changing capitalization to better process text"
   ]
  },
  {
   "cell_type": "markdown",
   "metadata": {
    "colab_type": "text",
    "id": "C-zZWyOeZeiX"
   },
   "source": [
    "Let's look at how many players are in each role"
   ]
  },
  {
   "cell_type": "code",
   "execution_count": 32,
   "metadata": {
    "colab": {
     "base_uri": "https://localhost:8080/",
     "height": 157
    },
    "colab_type": "code",
    "id": "KsydOE3wZcKb",
    "outputId": "2a155dd5-e1d1-4958-c7d6-1f342c616ee5"
   },
   "outputs": [
    {
     "output_type": "execute_result",
     "data": {
      "text/plain": "beater    2\nchaser    2\nChaser    1\nKeeper    1\nSeEKeR    1\nName: role, dtype: int64"
     },
     "metadata": {},
     "execution_count": 32
    }
   ],
   "source": [
    "quidditch.role.value_counts()"
   ]
  },
  {
   "cell_type": "markdown",
   "metadata": {
    "colab_type": "text",
    "id": "Z9Ya3qe1Zr3H"
   },
   "source": [
    "`chaser` and `Chaser` should be the same role, but because of a mismatch in cases, we're getting unique results.\n",
    "\n",
    "<br>An easy way to solve this is by converting all the text to a uniform case"
   ]
  },
  {
   "cell_type": "code",
   "execution_count": 33,
   "metadata": {
    "colab": {
     "base_uri": "https://localhost:8080/",
     "height": 34
    },
    "colab_type": "code",
    "id": "mX_RYVX2hhc4",
    "outputId": "d7d11ad2-23db-4ca6-a517-b572bbc95086",
    "tags": []
   },
   "outputs": [
    {
     "output_type": "stream",
     "name": "stdout",
     "text": "CHo chaNg\ncho chang\n"
    }
   ],
   "source": [
    "name = 'CHo chaNg'\n",
    "print(name)\n",
    "print(name.lower())"
   ]
  },
  {
   "cell_type": "code",
   "execution_count": 34,
   "metadata": {
    "colab": {
     "base_uri": "https://localhost:8080/",
     "height": 266
    },
    "colab_type": "code",
    "id": "BhRjZx0wZqZ-",
    "outputId": "e9ff5b9d-f7a2-4438-d748-706a81e8b033"
   },
   "outputs": [
    {
     "output_type": "execute_result",
     "data": {
      "text/plain": "             player    role first_name\n0       Oliver Wood  Keeper     Oliver\n1  Angelina Johnson  Chaser   Angelina\n2        Katie Bell  Chaser      Katie\n3    Alicia Spinnet  Chaser     Alicia\n4      Fred Weasley  Beater       Fred\n5    George weasley  Beater     George\n6      Harry Potter  Seeker      Harry",
      "text/html": "<div>\n<style scoped>\n    .dataframe tbody tr th:only-of-type {\n        vertical-align: middle;\n    }\n\n    .dataframe tbody tr th {\n        vertical-align: top;\n    }\n\n    .dataframe thead th {\n        text-align: right;\n    }\n</style>\n<table border=\"1\" class=\"dataframe\">\n  <thead>\n    <tr style=\"text-align: right;\">\n      <th></th>\n      <th>player</th>\n      <th>role</th>\n      <th>first_name</th>\n    </tr>\n  </thead>\n  <tbody>\n    <tr>\n      <th>0</th>\n      <td>Oliver Wood</td>\n      <td>Keeper</td>\n      <td>Oliver</td>\n    </tr>\n    <tr>\n      <th>1</th>\n      <td>Angelina Johnson</td>\n      <td>Chaser</td>\n      <td>Angelina</td>\n    </tr>\n    <tr>\n      <th>2</th>\n      <td>Katie Bell</td>\n      <td>Chaser</td>\n      <td>Katie</td>\n    </tr>\n    <tr>\n      <th>3</th>\n      <td>Alicia Spinnet</td>\n      <td>Chaser</td>\n      <td>Alicia</td>\n    </tr>\n    <tr>\n      <th>4</th>\n      <td>Fred Weasley</td>\n      <td>Beater</td>\n      <td>Fred</td>\n    </tr>\n    <tr>\n      <th>5</th>\n      <td>George weasley</td>\n      <td>Beater</td>\n      <td>George</td>\n    </tr>\n    <tr>\n      <th>6</th>\n      <td>Harry Potter</td>\n      <td>Seeker</td>\n      <td>Harry</td>\n    </tr>\n  </tbody>\n</table>\n</div>"
     },
     "metadata": {},
     "execution_count": 34
    }
   ],
   "source": [
    "quidditch['role'] = quidditch['role'].str.capitalize()\n",
    "quidditch"
   ]
  },
  {
   "cell_type": "code",
   "execution_count": 35,
   "metadata": {
    "colab": {
     "base_uri": "https://localhost:8080/",
     "height": 122
    },
    "colab_type": "code",
    "id": "N4spl4vohrwJ",
    "outputId": "0447556d-6409-458c-c877-1ff1641eb0c8"
   },
   "outputs": [
    {
     "output_type": "execute_result",
     "data": {
      "text/plain": "Chaser    3\nBeater    2\nKeeper    1\nSeeker    1\nName: role, dtype: int64"
     },
     "metadata": {},
     "execution_count": 35
    }
   ],
   "source": [
    "quidditch.role.value_counts()"
   ]
  },
  {
   "cell_type": "markdown",
   "metadata": {
    "colab_type": "text",
    "id": "k1lNO8tNaKAl"
   },
   "source": [
    "**Try it out**: How many Weasleys are on the team?"
   ]
  },
  {
   "cell_type": "code",
   "execution_count": 36,
   "metadata": {
    "colab": {
     "base_uri": "https://localhost:8080/",
     "height": 34
    },
    "colab_type": "code",
    "id": "E7R8Rj-Zaa_d",
    "outputId": "4ff23b5d-e542-47e4-a19f-a097199ad777"
   },
   "outputs": [
    {
     "output_type": "execute_result",
     "data": {
      "text/plain": "weasley    2\nspinnet    1\npotter     1\njohnson    1\nbell       1\nwood       1\nName: player, dtype: int64"
     },
     "metadata": {},
     "execution_count": 36
    }
   ],
   "source": [
    "quidditch.player.str.lower().str.contains('weasley').sum()\n",
    "# OR \n",
    "quidditch.player.str.lower().apply(lambda x: x.split()[-1]).value_counts()"
   ]
  },
  {
   "cell_type": "markdown",
   "metadata": {
    "colab_type": "text",
    "id": "OQPv5pWL2uVQ"
   },
   "source": [
    "## Date & Time processing"
   ]
  },
  {
   "cell_type": "code",
   "execution_count": 76,
   "metadata": {
    "colab": {
     "base_uri": "https://localhost:8080/",
     "height": 204
    },
    "colab_type": "code",
    "id": "vgVMzd6p244m",
    "outputId": "e1e7fb28-634d-49d4-8aa2-acf979f81c02"
   },
   "outputs": [
    {
     "output_type": "execute_result",
     "data": {
      "text/plain": "     person         birthday\n0     Harry  July 31st, 1980\n1  Hermoine        9-19-1979\n2       Ron       1980 Mar 1\n3     Voldy  12//31// //1926",
      "text/html": "<div>\n<style scoped>\n    .dataframe tbody tr th:only-of-type {\n        vertical-align: middle;\n    }\n\n    .dataframe tbody tr th {\n        vertical-align: top;\n    }\n\n    .dataframe thead th {\n        text-align: right;\n    }\n</style>\n<table border=\"1\" class=\"dataframe\">\n  <thead>\n    <tr style=\"text-align: right;\">\n      <th></th>\n      <th>person</th>\n      <th>birthday</th>\n    </tr>\n  </thead>\n  <tbody>\n    <tr>\n      <th>0</th>\n      <td>Harry</td>\n      <td>July 31st, 1980</td>\n    </tr>\n    <tr>\n      <th>1</th>\n      <td>Hermoine</td>\n      <td>9-19-1979</td>\n    </tr>\n    <tr>\n      <th>2</th>\n      <td>Ron</td>\n      <td>1980 Mar 1</td>\n    </tr>\n    <tr>\n      <th>3</th>\n      <td>Voldy</td>\n      <td>12//31// //1926</td>\n    </tr>\n  </tbody>\n</table>\n</div>"
     },
     "metadata": {},
     "execution_count": 76
    }
   ],
   "source": [
    "person = ['Harry', 'Hermoine', 'Ron', 'Voldy']\n",
    "birthdays = ['July 31st, 1980', '9-19-1979', '1980 Mar 1', '12//31// //1926']\n",
    "\n",
    "bdays = pd.DataFrame({'person': person, 'birthday': birthdays})\n",
    "bdays"
   ]
  },
  {
   "cell_type": "markdown",
   "metadata": {},
   "source": [
    "Yikes! Let's see if we can clean up the time series data using `pd.to_datetime`"
   ]
  },
  {
   "cell_type": "code",
   "execution_count": 77,
   "metadata": {
    "colab": {
     "base_uri": "https://localhost:8080/",
     "height": 204
    },
    "colab_type": "code",
    "id": "OFQhAGsF4bRo",
    "outputId": "0c294053-2992-413c-bc01-31ad0ef4bc7c"
   },
   "outputs": [
    {
     "output_type": "execute_result",
     "data": {
      "text/plain": "     person   birthday\n0     Harry 1980-07-31\n1  Hermoine 1979-09-19\n2       Ron 1980-03-01\n3     Voldy 1926-12-31",
      "text/html": "<div>\n<style scoped>\n    .dataframe tbody tr th:only-of-type {\n        vertical-align: middle;\n    }\n\n    .dataframe tbody tr th {\n        vertical-align: top;\n    }\n\n    .dataframe thead th {\n        text-align: right;\n    }\n</style>\n<table border=\"1\" class=\"dataframe\">\n  <thead>\n    <tr style=\"text-align: right;\">\n      <th></th>\n      <th>person</th>\n      <th>birthday</th>\n    </tr>\n  </thead>\n  <tbody>\n    <tr>\n      <th>0</th>\n      <td>Harry</td>\n      <td>1980-07-31</td>\n    </tr>\n    <tr>\n      <th>1</th>\n      <td>Hermoine</td>\n      <td>1979-09-19</td>\n    </tr>\n    <tr>\n      <th>2</th>\n      <td>Ron</td>\n      <td>1980-03-01</td>\n    </tr>\n    <tr>\n      <th>3</th>\n      <td>Voldy</td>\n      <td>1926-12-31</td>\n    </tr>\n  </tbody>\n</table>\n</div>"
     },
     "metadata": {},
     "execution_count": 77
    }
   ],
   "source": [
    "bdays['birthday'] = pd.to_datetime(bdays['birthday'])\n",
    "bdays"
   ]
  },
  {
   "cell_type": "markdown",
   "metadata": {},
   "source": [
    "As you can see, `pd.to_datetime` is pretty powerful. In can read in quite a few time formats as strings, then convert them into a `Timestamp` series"
   ]
  },
  {
   "cell_type": "code",
   "execution_count": 78,
   "metadata": {
    "colab": {
     "base_uri": "https://localhost:8080/",
     "height": 34
    },
    "colab_type": "code",
    "id": "5lH-zAhS55C3",
    "outputId": "53746eda-8aa9-4a7e-abaa-2ff0603d63c2"
   },
   "outputs": [
    {
     "output_type": "execute_result",
     "data": {
      "text/plain": "pandas._libs.tslibs.timestamps.Timestamp"
     },
     "metadata": {},
     "execution_count": 78
    }
   ],
   "source": [
    "type(bdays.birthday[0])"
   ]
  },
  {
   "cell_type": "markdown",
   "metadata": {
    "colab_type": "text",
    "id": "7kFQQ9Sp5k6h"
   },
   "source": [
    "Unfortunately, there are some formats `pd.to_datetime()` won't recognize on its own"
   ]
  },
  {
   "cell_type": "code",
   "execution_count": 79,
   "metadata": {
    "colab": {
     "base_uri": "https://localhost:8080/",
     "height": 142
    },
    "colab_type": "code",
    "id": "5MwA_lsP5kFk",
    "outputId": "b28e0ae4-5f37-4279-b017-774c6c53d198"
   },
   "outputs": [
    {
     "output_type": "execute_result",
     "data": {
      "text/plain": "     person         birthday\n0     Harry   7###31asdf1980\n1  Hermoine   9###19asdf1979\n2       Ron    3###1asdf1980\n3     Voldy  12###31asdf1926",
      "text/html": "<div>\n<style scoped>\n    .dataframe tbody tr th:only-of-type {\n        vertical-align: middle;\n    }\n\n    .dataframe tbody tr th {\n        vertical-align: top;\n    }\n\n    .dataframe thead th {\n        text-align: right;\n    }\n</style>\n<table border=\"1\" class=\"dataframe\">\n  <thead>\n    <tr style=\"text-align: right;\">\n      <th></th>\n      <th>person</th>\n      <th>birthday</th>\n    </tr>\n  </thead>\n  <tbody>\n    <tr>\n      <th>0</th>\n      <td>Harry</td>\n      <td>7###31asdf1980</td>\n    </tr>\n    <tr>\n      <th>1</th>\n      <td>Hermoine</td>\n      <td>9###19asdf1979</td>\n    </tr>\n    <tr>\n      <th>2</th>\n      <td>Ron</td>\n      <td>3###1asdf1980</td>\n    </tr>\n    <tr>\n      <th>3</th>\n      <td>Voldy</td>\n      <td>12###31asdf1926</td>\n    </tr>\n  </tbody>\n</table>\n</div>"
     },
     "metadata": {},
     "execution_count": 79
    }
   ],
   "source": [
    "birthdays_messy = ['7###31asdf1980', '9###19asdf1979', '3###1asdf1980', '12###31asdf1926']\n",
    "\n",
    "bdays_messy = pd.DataFrame({'person': person, 'birthday': birthdays_messy})\n",
    "bdays_messy"
   ]
  },
  {
   "cell_type": "code",
   "execution_count": 80,
   "metadata": {
    "colab": {
     "base_uri": "https://localhost:8080/",
     "height": 665
    },
    "colab_type": "code",
    "id": "uWpoT_QM7eyA",
    "outputId": "f0e7c8bb-bf77-4bdc-bd5c-e06addea2f67",
    "scrolled": true
   },
   "outputs": [
    {
     "output_type": "error",
     "ename": "ParserError",
     "evalue": "Unknown string format: 7###31asdf1980",
     "traceback": [
      "\u001b[0;31m---------------------------------------------------------------------------\u001b[0m",
      "\u001b[0;31mTypeError\u001b[0m                                 Traceback (most recent call last)",
      "\u001b[0;32m/anaconda3/envs/node/lib/python3.7/site-packages/pandas/core/arrays/datetimes.py\u001b[0m in \u001b[0;36mobjects_to_datetime64ns\u001b[0;34m(data, dayfirst, yearfirst, utc, errors, require_iso8601, allow_object)\u001b[0m\n\u001b[1;32m   1857\u001b[0m         \u001b[0;32mtry\u001b[0m\u001b[0;34m:\u001b[0m\u001b[0;34m\u001b[0m\u001b[0;34m\u001b[0m\u001b[0m\n\u001b[0;32m-> 1858\u001b[0;31m             \u001b[0mvalues\u001b[0m\u001b[0;34m,\u001b[0m \u001b[0mtz_parsed\u001b[0m \u001b[0;34m=\u001b[0m \u001b[0mconversion\u001b[0m\u001b[0;34m.\u001b[0m\u001b[0mdatetime_to_datetime64\u001b[0m\u001b[0;34m(\u001b[0m\u001b[0mdata\u001b[0m\u001b[0;34m)\u001b[0m\u001b[0;34m\u001b[0m\u001b[0;34m\u001b[0m\u001b[0m\n\u001b[0m\u001b[1;32m   1859\u001b[0m             \u001b[0;31m# If tzaware, these values represent unix timestamps, so we\u001b[0m\u001b[0;34m\u001b[0m\u001b[0;34m\u001b[0m\u001b[0;34m\u001b[0m\u001b[0m\n",
      "\u001b[0;32mpandas/_libs/tslibs/conversion.pyx\u001b[0m in \u001b[0;36mpandas._libs.tslibs.conversion.datetime_to_datetime64\u001b[0;34m()\u001b[0m\n",
      "\u001b[0;31mTypeError\u001b[0m: Unrecognized value type: <class 'str'>",
      "\nDuring handling of the above exception, another exception occurred:\n",
      "\u001b[0;31mParserError\u001b[0m                               Traceback (most recent call last)",
      "\u001b[0;32m<ipython-input-80-f965496b6d1c>\u001b[0m in \u001b[0;36m<module>\u001b[0;34m\u001b[0m\n\u001b[0;32m----> 1\u001b[0;31m \u001b[0mbdays_messy\u001b[0m\u001b[0;34m[\u001b[0m\u001b[0;34m'birthday'\u001b[0m\u001b[0;34m]\u001b[0m \u001b[0;34m=\u001b[0m \u001b[0mpd\u001b[0m\u001b[0;34m.\u001b[0m\u001b[0mto_datetime\u001b[0m\u001b[0;34m(\u001b[0m\u001b[0mbdays_messy\u001b[0m\u001b[0;34m[\u001b[0m\u001b[0;34m'birthday'\u001b[0m\u001b[0;34m]\u001b[0m\u001b[0;34m)\u001b[0m\u001b[0;34m\u001b[0m\u001b[0;34m\u001b[0m\u001b[0m\n\u001b[0m\u001b[1;32m      2\u001b[0m \u001b[0mbdays_messy\u001b[0m\u001b[0;34m\u001b[0m\u001b[0;34m\u001b[0m\u001b[0m\n",
      "\u001b[0;32m/anaconda3/envs/node/lib/python3.7/site-packages/pandas/core/tools/datetimes.py\u001b[0m in \u001b[0;36mto_datetime\u001b[0;34m(arg, errors, dayfirst, yearfirst, utc, format, exact, unit, infer_datetime_format, origin, cache)\u001b[0m\n\u001b[1;32m    726\u001b[0m             \u001b[0mresult\u001b[0m \u001b[0;34m=\u001b[0m \u001b[0marg\u001b[0m\u001b[0;34m.\u001b[0m\u001b[0mmap\u001b[0m\u001b[0;34m(\u001b[0m\u001b[0mcache_array\u001b[0m\u001b[0;34m)\u001b[0m\u001b[0;34m\u001b[0m\u001b[0;34m\u001b[0m\u001b[0m\n\u001b[1;32m    727\u001b[0m         \u001b[0;32melse\u001b[0m\u001b[0;34m:\u001b[0m\u001b[0;34m\u001b[0m\u001b[0;34m\u001b[0m\u001b[0m\n\u001b[0;32m--> 728\u001b[0;31m             \u001b[0mvalues\u001b[0m \u001b[0;34m=\u001b[0m \u001b[0mconvert_listlike\u001b[0m\u001b[0;34m(\u001b[0m\u001b[0marg\u001b[0m\u001b[0;34m.\u001b[0m\u001b[0m_values\u001b[0m\u001b[0;34m,\u001b[0m \u001b[0mformat\u001b[0m\u001b[0;34m)\u001b[0m\u001b[0;34m\u001b[0m\u001b[0;34m\u001b[0m\u001b[0m\n\u001b[0m\u001b[1;32m    729\u001b[0m             \u001b[0mresult\u001b[0m \u001b[0;34m=\u001b[0m \u001b[0marg\u001b[0m\u001b[0;34m.\u001b[0m\u001b[0m_constructor\u001b[0m\u001b[0;34m(\u001b[0m\u001b[0mvalues\u001b[0m\u001b[0;34m,\u001b[0m \u001b[0mindex\u001b[0m\u001b[0;34m=\u001b[0m\u001b[0marg\u001b[0m\u001b[0;34m.\u001b[0m\u001b[0mindex\u001b[0m\u001b[0;34m,\u001b[0m \u001b[0mname\u001b[0m\u001b[0;34m=\u001b[0m\u001b[0marg\u001b[0m\u001b[0;34m.\u001b[0m\u001b[0mname\u001b[0m\u001b[0;34m)\u001b[0m\u001b[0;34m\u001b[0m\u001b[0;34m\u001b[0m\u001b[0m\n\u001b[1;32m    730\u001b[0m     \u001b[0;32melif\u001b[0m \u001b[0misinstance\u001b[0m\u001b[0;34m(\u001b[0m\u001b[0marg\u001b[0m\u001b[0;34m,\u001b[0m \u001b[0;34m(\u001b[0m\u001b[0mABCDataFrame\u001b[0m\u001b[0;34m,\u001b[0m \u001b[0mabc\u001b[0m\u001b[0;34m.\u001b[0m\u001b[0mMutableMapping\u001b[0m\u001b[0;34m)\u001b[0m\u001b[0;34m)\u001b[0m\u001b[0;34m:\u001b[0m\u001b[0;34m\u001b[0m\u001b[0;34m\u001b[0m\u001b[0m\n",
      "\u001b[0;32m/anaconda3/envs/node/lib/python3.7/site-packages/pandas/core/tools/datetimes.py\u001b[0m in \u001b[0;36m_convert_listlike_datetimes\u001b[0;34m(arg, format, name, tz, unit, errors, infer_datetime_format, dayfirst, yearfirst, exact)\u001b[0m\n\u001b[1;32m    445\u001b[0m             \u001b[0merrors\u001b[0m\u001b[0;34m=\u001b[0m\u001b[0merrors\u001b[0m\u001b[0;34m,\u001b[0m\u001b[0;34m\u001b[0m\u001b[0;34m\u001b[0m\u001b[0m\n\u001b[1;32m    446\u001b[0m             \u001b[0mrequire_iso8601\u001b[0m\u001b[0;34m=\u001b[0m\u001b[0mrequire_iso8601\u001b[0m\u001b[0;34m,\u001b[0m\u001b[0;34m\u001b[0m\u001b[0;34m\u001b[0m\u001b[0m\n\u001b[0;32m--> 447\u001b[0;31m             \u001b[0mallow_object\u001b[0m\u001b[0;34m=\u001b[0m\u001b[0;32mTrue\u001b[0m\u001b[0;34m,\u001b[0m\u001b[0;34m\u001b[0m\u001b[0;34m\u001b[0m\u001b[0m\n\u001b[0m\u001b[1;32m    448\u001b[0m         )\n\u001b[1;32m    449\u001b[0m \u001b[0;34m\u001b[0m\u001b[0m\n",
      "\u001b[0;32m/anaconda3/envs/node/lib/python3.7/site-packages/pandas/core/arrays/datetimes.py\u001b[0m in \u001b[0;36mobjects_to_datetime64ns\u001b[0;34m(data, dayfirst, yearfirst, utc, errors, require_iso8601, allow_object)\u001b[0m\n\u001b[1;32m   1861\u001b[0m             \u001b[0;32mreturn\u001b[0m \u001b[0mvalues\u001b[0m\u001b[0;34m.\u001b[0m\u001b[0mview\u001b[0m\u001b[0;34m(\u001b[0m\u001b[0;34m\"i8\"\u001b[0m\u001b[0;34m)\u001b[0m\u001b[0;34m,\u001b[0m \u001b[0mtz_parsed\u001b[0m\u001b[0;34m\u001b[0m\u001b[0;34m\u001b[0m\u001b[0m\n\u001b[1;32m   1862\u001b[0m         \u001b[0;32mexcept\u001b[0m \u001b[0;34m(\u001b[0m\u001b[0mValueError\u001b[0m\u001b[0;34m,\u001b[0m \u001b[0mTypeError\u001b[0m\u001b[0;34m)\u001b[0m\u001b[0;34m:\u001b[0m\u001b[0;34m\u001b[0m\u001b[0;34m\u001b[0m\u001b[0m\n\u001b[0;32m-> 1863\u001b[0;31m             \u001b[0;32mraise\u001b[0m \u001b[0me\u001b[0m\u001b[0;34m\u001b[0m\u001b[0;34m\u001b[0m\u001b[0m\n\u001b[0m\u001b[1;32m   1864\u001b[0m \u001b[0;34m\u001b[0m\u001b[0m\n\u001b[1;32m   1865\u001b[0m     \u001b[0;32mif\u001b[0m \u001b[0mtz_parsed\u001b[0m \u001b[0;32mis\u001b[0m \u001b[0;32mnot\u001b[0m \u001b[0;32mNone\u001b[0m\u001b[0;34m:\u001b[0m\u001b[0;34m\u001b[0m\u001b[0;34m\u001b[0m\u001b[0m\n",
      "\u001b[0;32m/anaconda3/envs/node/lib/python3.7/site-packages/pandas/core/arrays/datetimes.py\u001b[0m in \u001b[0;36mobjects_to_datetime64ns\u001b[0;34m(data, dayfirst, yearfirst, utc, errors, require_iso8601, allow_object)\u001b[0m\n\u001b[1;32m   1852\u001b[0m             \u001b[0mdayfirst\u001b[0m\u001b[0;34m=\u001b[0m\u001b[0mdayfirst\u001b[0m\u001b[0;34m,\u001b[0m\u001b[0;34m\u001b[0m\u001b[0;34m\u001b[0m\u001b[0m\n\u001b[1;32m   1853\u001b[0m             \u001b[0myearfirst\u001b[0m\u001b[0;34m=\u001b[0m\u001b[0myearfirst\u001b[0m\u001b[0;34m,\u001b[0m\u001b[0;34m\u001b[0m\u001b[0;34m\u001b[0m\u001b[0m\n\u001b[0;32m-> 1854\u001b[0;31m             \u001b[0mrequire_iso8601\u001b[0m\u001b[0;34m=\u001b[0m\u001b[0mrequire_iso8601\u001b[0m\u001b[0;34m,\u001b[0m\u001b[0;34m\u001b[0m\u001b[0;34m\u001b[0m\u001b[0m\n\u001b[0m\u001b[1;32m   1855\u001b[0m         )\n\u001b[1;32m   1856\u001b[0m     \u001b[0;32mexcept\u001b[0m \u001b[0mValueError\u001b[0m \u001b[0;32mas\u001b[0m \u001b[0me\u001b[0m\u001b[0;34m:\u001b[0m\u001b[0;34m\u001b[0m\u001b[0;34m\u001b[0m\u001b[0m\n",
      "\u001b[0;32mpandas/_libs/tslib.pyx\u001b[0m in \u001b[0;36mpandas._libs.tslib.array_to_datetime\u001b[0;34m()\u001b[0m\n",
      "\u001b[0;32mpandas/_libs/tslib.pyx\u001b[0m in \u001b[0;36mpandas._libs.tslib.array_to_datetime\u001b[0;34m()\u001b[0m\n",
      "\u001b[0;32mpandas/_libs/tslib.pyx\u001b[0m in \u001b[0;36mpandas._libs.tslib.array_to_datetime_object\u001b[0;34m()\u001b[0m\n",
      "\u001b[0;32mpandas/_libs/tslib.pyx\u001b[0m in \u001b[0;36mpandas._libs.tslib.array_to_datetime_object\u001b[0;34m()\u001b[0m\n",
      "\u001b[0;32mpandas/_libs/tslibs/parsing.pyx\u001b[0m in \u001b[0;36mpandas._libs.tslibs.parsing.parse_datetime_string\u001b[0;34m()\u001b[0m\n",
      "\u001b[0;32m/anaconda3/envs/node/lib/python3.7/site-packages/dateutil/parser/_parser.py\u001b[0m in \u001b[0;36mparse\u001b[0;34m(timestr, parserinfo, **kwargs)\u001b[0m\n\u001b[1;32m   1372\u001b[0m         \u001b[0;32mreturn\u001b[0m \u001b[0mparser\u001b[0m\u001b[0;34m(\u001b[0m\u001b[0mparserinfo\u001b[0m\u001b[0;34m)\u001b[0m\u001b[0;34m.\u001b[0m\u001b[0mparse\u001b[0m\u001b[0;34m(\u001b[0m\u001b[0mtimestr\u001b[0m\u001b[0;34m,\u001b[0m \u001b[0;34m**\u001b[0m\u001b[0mkwargs\u001b[0m\u001b[0;34m)\u001b[0m\u001b[0;34m\u001b[0m\u001b[0;34m\u001b[0m\u001b[0m\n\u001b[1;32m   1373\u001b[0m     \u001b[0;32melse\u001b[0m\u001b[0;34m:\u001b[0m\u001b[0;34m\u001b[0m\u001b[0;34m\u001b[0m\u001b[0m\n\u001b[0;32m-> 1374\u001b[0;31m         \u001b[0;32mreturn\u001b[0m \u001b[0mDEFAULTPARSER\u001b[0m\u001b[0;34m.\u001b[0m\u001b[0mparse\u001b[0m\u001b[0;34m(\u001b[0m\u001b[0mtimestr\u001b[0m\u001b[0;34m,\u001b[0m \u001b[0;34m**\u001b[0m\u001b[0mkwargs\u001b[0m\u001b[0;34m)\u001b[0m\u001b[0;34m\u001b[0m\u001b[0;34m\u001b[0m\u001b[0m\n\u001b[0m\u001b[1;32m   1375\u001b[0m \u001b[0;34m\u001b[0m\u001b[0m\n\u001b[1;32m   1376\u001b[0m \u001b[0;34m\u001b[0m\u001b[0m\n",
      "\u001b[0;32m/anaconda3/envs/node/lib/python3.7/site-packages/dateutil/parser/_parser.py\u001b[0m in \u001b[0;36mparse\u001b[0;34m(self, timestr, default, ignoretz, tzinfos, **kwargs)\u001b[0m\n\u001b[1;32m    647\u001b[0m \u001b[0;34m\u001b[0m\u001b[0m\n\u001b[1;32m    648\u001b[0m         \u001b[0;32mif\u001b[0m \u001b[0mres\u001b[0m \u001b[0;32mis\u001b[0m \u001b[0;32mNone\u001b[0m\u001b[0;34m:\u001b[0m\u001b[0;34m\u001b[0m\u001b[0;34m\u001b[0m\u001b[0m\n\u001b[0;32m--> 649\u001b[0;31m             \u001b[0;32mraise\u001b[0m \u001b[0mParserError\u001b[0m\u001b[0;34m(\u001b[0m\u001b[0;34m\"Unknown string format: %s\"\u001b[0m\u001b[0;34m,\u001b[0m \u001b[0mtimestr\u001b[0m\u001b[0;34m)\u001b[0m\u001b[0;34m\u001b[0m\u001b[0;34m\u001b[0m\u001b[0m\n\u001b[0m\u001b[1;32m    650\u001b[0m \u001b[0;34m\u001b[0m\u001b[0m\n\u001b[1;32m    651\u001b[0m         \u001b[0;32mif\u001b[0m \u001b[0mlen\u001b[0m\u001b[0;34m(\u001b[0m\u001b[0mres\u001b[0m\u001b[0;34m)\u001b[0m \u001b[0;34m==\u001b[0m \u001b[0;36m0\u001b[0m\u001b[0;34m:\u001b[0m\u001b[0;34m\u001b[0m\u001b[0;34m\u001b[0m\u001b[0m\n",
      "\u001b[0;31mParserError\u001b[0m: Unknown string format: 7###31asdf1980"
     ]
    }
   ],
   "source": [
    "bdays_messy['birthday'] = pd.to_datetime(bdays_messy['birthday'])\n",
    "bdays_messy"
   ]
  },
  {
   "cell_type": "markdown",
   "metadata": {
    "colab_type": "text",
    "id": "iZTkGB267olQ"
   },
   "source": [
    "However, we CAN specify the format ourselves! \n",
    "<br><br>Look up the documentation (google!) to see if we can pass any parameters to help it along"
   ]
  },
  {
   "cell_type": "code",
   "execution_count": 81,
   "metadata": {
    "colab": {
     "base_uri": "https://localhost:8080/",
     "height": 142
    },
    "colab_type": "code",
    "id": "w1C1S15_6bBQ",
    "outputId": "ff44d3eb-0426-4cc4-f8e2-54d2eef692bf"
   },
   "outputs": [
    {
     "output_type": "execute_result",
     "data": {
      "text/plain": "     person   birthday\n0     Harry 1980-07-31\n1  Hermoine 1979-09-19\n2       Ron 1980-03-01\n3     Voldy 1926-12-31",
      "text/html": "<div>\n<style scoped>\n    .dataframe tbody tr th:only-of-type {\n        vertical-align: middle;\n    }\n\n    .dataframe tbody tr th {\n        vertical-align: top;\n    }\n\n    .dataframe thead th {\n        text-align: right;\n    }\n</style>\n<table border=\"1\" class=\"dataframe\">\n  <thead>\n    <tr style=\"text-align: right;\">\n      <th></th>\n      <th>person</th>\n      <th>birthday</th>\n    </tr>\n  </thead>\n  <tbody>\n    <tr>\n      <th>0</th>\n      <td>Harry</td>\n      <td>1980-07-31</td>\n    </tr>\n    <tr>\n      <th>1</th>\n      <td>Hermoine</td>\n      <td>1979-09-19</td>\n    </tr>\n    <tr>\n      <th>2</th>\n      <td>Ron</td>\n      <td>1980-03-01</td>\n    </tr>\n    <tr>\n      <th>3</th>\n      <td>Voldy</td>\n      <td>1926-12-31</td>\n    </tr>\n  </tbody>\n</table>\n</div>"
     },
     "metadata": {},
     "execution_count": 81
    }
   ],
   "source": [
    "bdays_messy['birthday'] = pd.to_datetime(bdays_messy['birthday'], format = '%m###%dasdf%Y')\n",
    "bdays_messy"
   ]
  },
  {
   "cell_type": "markdown",
   "metadata": {},
   "source": [
    "Other string datetime object formats:\n",
    "https://strftime.org/"
   ]
  },
  {
   "cell_type": "markdown",
   "metadata": {
    "colab_type": "text",
    "id": "1F8jWn9e71Qk"
   },
   "source": [
    "### Using pandas datetime objects"
   ]
  },
  {
   "cell_type": "markdown",
   "metadata": {},
   "source": [
    "We can pull quite a lot just from a datetime timestamp using attributes"
   ]
  },
  {
   "cell_type": "code",
   "execution_count": 82,
   "metadata": {
    "colab": {
     "base_uri": "https://localhost:8080/",
     "height": 52
    },
    "colab_type": "code",
    "id": "nkiii3x670ky",
    "outputId": "299d3d08-04bb-4a55-efbd-c7d68a4c447c",
    "tags": []
   },
   "outputs": [
    {
     "output_type": "stream",
     "name": "stdout",
     "text": "1980-07-31 00:00:00\n"
    }
   ],
   "source": [
    "harry_bday = bdays.at[0, 'birthday'] # Taking the value for harry's bday\n",
    "print(harry_bday) # the raw timestamp"
   ]
  },
  {
   "cell_type": "code",
   "execution_count": 83,
   "metadata": {},
   "outputs": [
    {
     "output_type": "execute_result",
     "data": {
      "text/plain": "7"
     },
     "metadata": {},
     "execution_count": 83
    }
   ],
   "source": [
    "harry_bday.month # The month, encoded as an int"
   ]
  },
  {
   "cell_type": "code",
   "execution_count": 84,
   "metadata": {
    "colab": {
     "base_uri": "https://localhost:8080/",
     "height": 34
    },
    "colab_type": "code",
    "id": "OEWl_69x8lkg",
    "outputId": "0db10df3-f003-4efb-b2bc-3a40566dd9f1"
   },
   "outputs": [
    {
     "output_type": "execute_result",
     "data": {
      "text/plain": "True"
     },
     "metadata": {},
     "execution_count": 84
    }
   ],
   "source": [
    "harry_bday.is_leap_year"
   ]
  },
  {
   "cell_type": "code",
   "execution_count": 85,
   "metadata": {
    "colab": {
     "base_uri": "https://localhost:8080/",
     "height": 34
    },
    "colab_type": "code",
    "id": "-jgGJmkA-PRC",
    "outputId": "518484a6-5cb4-447f-a659-d3e0da639d5d"
   },
   "outputs": [
    {
     "output_type": "execute_result",
     "data": {
      "text/plain": "31"
     },
     "metadata": {},
     "execution_count": 85
    }
   ],
   "source": [
    "harry_bday.daysinmonth"
   ]
  },
  {
   "cell_type": "markdown",
   "metadata": {
    "colab_type": "text",
    "id": "tdlJ9EKJ-mqX"
   },
   "source": [
    "### Make new columns from these datetime attributes "
   ]
  },
  {
   "cell_type": "markdown",
   "metadata": {},
   "source": [
    "Let's use this to make new columns that reflect these attributes:"
   ]
  },
  {
   "cell_type": "code",
   "execution_count": 86,
   "metadata": {},
   "outputs": [
    {
     "output_type": "execute_result",
     "data": {
      "text/plain": "     person   birthday      month\n0     Harry 1980-07-31       July\n1  Hermoine 1979-09-19  September\n2       Ron 1980-03-01      March\n3     Voldy 1926-12-31   December",
      "text/html": "<div>\n<style scoped>\n    .dataframe tbody tr th:only-of-type {\n        vertical-align: middle;\n    }\n\n    .dataframe tbody tr th {\n        vertical-align: top;\n    }\n\n    .dataframe thead th {\n        text-align: right;\n    }\n</style>\n<table border=\"1\" class=\"dataframe\">\n  <thead>\n    <tr style=\"text-align: right;\">\n      <th></th>\n      <th>person</th>\n      <th>birthday</th>\n      <th>month</th>\n    </tr>\n  </thead>\n  <tbody>\n    <tr>\n      <th>0</th>\n      <td>Harry</td>\n      <td>1980-07-31</td>\n      <td>July</td>\n    </tr>\n    <tr>\n      <th>1</th>\n      <td>Hermoine</td>\n      <td>1979-09-19</td>\n      <td>September</td>\n    </tr>\n    <tr>\n      <th>2</th>\n      <td>Ron</td>\n      <td>1980-03-01</td>\n      <td>March</td>\n    </tr>\n    <tr>\n      <th>3</th>\n      <td>Voldy</td>\n      <td>1926-12-31</td>\n      <td>December</td>\n    </tr>\n  </tbody>\n</table>\n</div>"
     },
     "metadata": {},
     "execution_count": 86
    }
   ],
   "source": [
    "bdays['month'] = bdays.birthday.apply(lambda x: x.month_name())\n",
    "bdays"
   ]
  },
  {
   "source": [
    "Or, we could instead use the `.dt` accessor object, to snag the month for each row, just like we did with `.str`"
   ],
   "cell_type": "markdown",
   "metadata": {}
  },
  {
   "cell_type": "code",
   "execution_count": 87,
   "metadata": {},
   "outputs": [
    {
     "output_type": "execute_result",
     "data": {
      "text/plain": "     person   birthday      month\n0     Harry 1980-07-31       July\n1  Hermoine 1979-09-19  September\n2       Ron 1980-03-01      March\n3     Voldy 1926-12-31   December",
      "text/html": "<div>\n<style scoped>\n    .dataframe tbody tr th:only-of-type {\n        vertical-align: middle;\n    }\n\n    .dataframe tbody tr th {\n        vertical-align: top;\n    }\n\n    .dataframe thead th {\n        text-align: right;\n    }\n</style>\n<table border=\"1\" class=\"dataframe\">\n  <thead>\n    <tr style=\"text-align: right;\">\n      <th></th>\n      <th>person</th>\n      <th>birthday</th>\n      <th>month</th>\n    </tr>\n  </thead>\n  <tbody>\n    <tr>\n      <th>0</th>\n      <td>Harry</td>\n      <td>1980-07-31</td>\n      <td>July</td>\n    </tr>\n    <tr>\n      <th>1</th>\n      <td>Hermoine</td>\n      <td>1979-09-19</td>\n      <td>September</td>\n    </tr>\n    <tr>\n      <th>2</th>\n      <td>Ron</td>\n      <td>1980-03-01</td>\n      <td>March</td>\n    </tr>\n    <tr>\n      <th>3</th>\n      <td>Voldy</td>\n      <td>1926-12-31</td>\n      <td>December</td>\n    </tr>\n  </tbody>\n</table>\n</div>"
     },
     "metadata": {},
     "execution_count": 87
    }
   ],
   "source": [
    "bdays['month'] = bdays.birthday.dt.month_name()\n",
    "bdays"
   ]
  },
  {
   "cell_type": "markdown",
   "metadata": {},
   "source": [
    "Try it out with the others:"
   ]
  },
  {
   "cell_type": "code",
   "execution_count": 88,
   "metadata": {
    "colab": {
     "base_uri": "https://localhost:8080/",
     "height": 204
    },
    "colab_type": "code",
    "id": "rbQ6yslZ-twH",
    "outputId": "b185a3c4-9bca-4759-8388-80ad704240b5"
   },
   "outputs": [
    {
     "output_type": "execute_result",
     "data": {
      "text/plain": "     person   birthday      month  is_leap  day\n0     Harry 1980-07-31       July     True    3\n1  Hermoine 1979-09-19  September    False    2\n2       Ron 1980-03-01      March     True    5\n3     Voldy 1926-12-31   December    False    4",
      "text/html": "<div>\n<style scoped>\n    .dataframe tbody tr th:only-of-type {\n        vertical-align: middle;\n    }\n\n    .dataframe tbody tr th {\n        vertical-align: top;\n    }\n\n    .dataframe thead th {\n        text-align: right;\n    }\n</style>\n<table border=\"1\" class=\"dataframe\">\n  <thead>\n    <tr style=\"text-align: right;\">\n      <th></th>\n      <th>person</th>\n      <th>birthday</th>\n      <th>month</th>\n      <th>is_leap</th>\n      <th>day</th>\n    </tr>\n  </thead>\n  <tbody>\n    <tr>\n      <th>0</th>\n      <td>Harry</td>\n      <td>1980-07-31</td>\n      <td>July</td>\n      <td>True</td>\n      <td>3</td>\n    </tr>\n    <tr>\n      <th>1</th>\n      <td>Hermoine</td>\n      <td>1979-09-19</td>\n      <td>September</td>\n      <td>False</td>\n      <td>2</td>\n    </tr>\n    <tr>\n      <th>2</th>\n      <td>Ron</td>\n      <td>1980-03-01</td>\n      <td>March</td>\n      <td>True</td>\n      <td>5</td>\n    </tr>\n    <tr>\n      <th>3</th>\n      <td>Voldy</td>\n      <td>1926-12-31</td>\n      <td>December</td>\n      <td>False</td>\n      <td>4</td>\n    </tr>\n  </tbody>\n</table>\n</div>"
     },
     "metadata": {},
     "execution_count": 88
    }
   ],
   "source": [
    "bdays['is_leap'] = bdays.birthday.apply(lambda x: x.is_leap_year)\n",
    "bdays['day'] = bdays.birthday.apply(lambda x: x.dayofweek)\n",
    "bdays"
   ]
  },
  {
   "cell_type": "markdown",
   "metadata": {
    "colab_type": "text",
    "id": "FHR4kVWD_ueW"
   },
   "source": [
    "### Other uses for datetimes"
   ]
  },
  {
   "cell_type": "markdown",
   "metadata": {},
   "source": [
    "Which people were born before the first wizarding war (January 1970)/"
   ]
  },
  {
   "cell_type": "code",
   "execution_count": 51,
   "metadata": {},
   "outputs": [
    {
     "output_type": "execute_result",
     "data": {
      "text/plain": "  person   birthday     month  is_leap  day\n3  Voldy 1926-12-31  December    False    4",
      "text/html": "<div>\n<style scoped>\n    .dataframe tbody tr th:only-of-type {\n        vertical-align: middle;\n    }\n\n    .dataframe tbody tr th {\n        vertical-align: top;\n    }\n\n    .dataframe thead th {\n        text-align: right;\n    }\n</style>\n<table border=\"1\" class=\"dataframe\">\n  <thead>\n    <tr style=\"text-align: right;\">\n      <th></th>\n      <th>person</th>\n      <th>birthday</th>\n      <th>month</th>\n      <th>is_leap</th>\n      <th>day</th>\n    </tr>\n  </thead>\n  <tbody>\n    <tr>\n      <th>3</th>\n      <td>Voldy</td>\n      <td>1926-12-31</td>\n      <td>December</td>\n      <td>False</td>\n      <td>4</td>\n    </tr>\n  </tbody>\n</table>\n</div>"
     },
     "metadata": {},
     "execution_count": 51
    }
   ],
   "source": [
    "bdays[bdays.birthday < pd.to_datetime('January 1970')]"
   ]
  },
  {
   "cell_type": "markdown",
   "metadata": {
    "colab_type": "text",
    "id": "qmDDHpel_4zz"
   },
   "source": [
    "We can also do some quick maths quite easily:\n",
    "\n",
    "<br> For example, how much older is Hermione than Ron?"
   ]
  },
  {
   "cell_type": "code",
   "execution_count": 52,
   "metadata": {
    "colab": {
     "base_uri": "https://localhost:8080/",
     "height": 34
    },
    "colab_type": "code",
    "id": "j0Eaw-A8_r90",
    "outputId": "a4b3e810-41a7-489f-dc1c-386d9db6abf8",
    "tags": []
   },
   "outputs": [
    {
     "output_type": "stream",
     "name": "stdout",
     "text": "164 days 00:00:00\n<class 'pandas._libs.tslibs.timedeltas.Timedelta'>\n"
    }
   ],
   "source": [
    "diff = bdays.birthday[2] - bdays.birthday[1]\n",
    "\n",
    "print(diff)\n",
    "print(type(diff))"
   ]
  },
  {
   "cell_type": "markdown",
   "metadata": {},
   "source": [
    "Note: this returns a `Timedelta` object, not `Timestamp`. We can get similar attributes"
   ]
  },
  {
   "cell_type": "code",
   "execution_count": 53,
   "metadata": {
    "colab": {
     "base_uri": "https://localhost:8080/",
     "height": 34
    },
    "colab_type": "code",
    "id": "Mx-nHvg1AHlb",
    "outputId": "97a63d40-a299-4a6e-e7da-5ca0b27d38ee"
   },
   "outputs": [
    {
     "output_type": "execute_result",
     "data": {
      "text/plain": "164"
     },
     "metadata": {},
     "execution_count": 53
    }
   ],
   "source": [
    "diff.days"
   ]
  },
  {
   "cell_type": "code",
   "execution_count": 54,
   "metadata": {},
   "outputs": [
    {
     "output_type": "execute_result",
     "data": {
      "text/plain": "0.45"
     },
     "metadata": {},
     "execution_count": 54
    }
   ],
   "source": [
    "round(diff.days / 365.25, 2)"
   ]
  },
  {
   "cell_type": "markdown",
   "metadata": {
    "colab_type": "text",
    "id": "rTjVkD3SBtiH"
   },
   "source": [
    "### How can we apply this?"
   ]
  },
  {
   "cell_type": "markdown",
   "metadata": {
    "colab_type": "text",
    "id": "P9ga0V-uBwrd"
   },
   "source": [
    "When you get data that includes time as a variable, it'll be in one of many possible formats, and not always consistent throughout the whole dataset. \n",
    "\n",
    "\n",
    "`pd.to_datetime` makes the process of cleaning these incredibly easy!\n",
    "\n",
    "Once cleaned, we can look at specific attributes such as month, day, and year **to gain insight we wouldn't otherwise have been able to access.**"
   ]
  },
  {
   "cell_type": "markdown",
   "metadata": {},
   "source": [
    "There's a lot, lot more you can do with pandas datetimes - use business days, adjust for time zones - just about anything you'd imagine.\n",
    "\n",
    "The docs for all of that is linked here: https://pandas.pydata.org/pandas-docs/stable/user_guide/timeseries.html#overview"
   ]
  },
  {
   "cell_type": "markdown",
   "metadata": {
    "colab_type": "text",
    "id": "mlP9d2-H54L9"
   },
   "source": [
    "## Merging DataFrames"
   ]
  },
  {
   "cell_type": "markdown",
   "metadata": {},
   "source": [
    "Merging sources of data is super important:\n",
    "    \n",
    "<br> Sometimes you have data from two different sources that you'd like to have in one data frame to analyze. We can do that with `.concat()` and `.merge()`"
   ]
  },
  {
   "cell_type": "code",
   "execution_count": 55,
   "metadata": {},
   "outputs": [],
   "source": [
    "spells = ['Summoning Charm', 'Patronus Charm', 'Disarming Charm', 'Killing Curse', \n",
    "          'Cruciatus Curse', 'Impediment Jinx', 'Dark Mark']"
   ]
  },
  {
   "cell_type": "code",
   "execution_count": 56,
   "metadata": {},
   "outputs": [
    {
     "output_type": "execute_result",
     "data": {
      "text/plain": "             Spell        Incantation\n0  Summoning Charm              Accio\n1   Patronus Charm  Excpecto Patronum\n2  Disarming Charm       Expelliarmus\n3    Killing Curse      Avada Kedavra\n4  Cruciatus Curse             Crucio\n5  Impediment Jinx        Impedimenta\n6        Dark Mark         Morsmordre",
      "text/html": "<div>\n<style scoped>\n    .dataframe tbody tr th:only-of-type {\n        vertical-align: middle;\n    }\n\n    .dataframe tbody tr th {\n        vertical-align: top;\n    }\n\n    .dataframe thead th {\n        text-align: right;\n    }\n</style>\n<table border=\"1\" class=\"dataframe\">\n  <thead>\n    <tr style=\"text-align: right;\">\n      <th></th>\n      <th>Spell</th>\n      <th>Incantation</th>\n    </tr>\n  </thead>\n  <tbody>\n    <tr>\n      <th>0</th>\n      <td>Summoning Charm</td>\n      <td>Accio</td>\n    </tr>\n    <tr>\n      <th>1</th>\n      <td>Patronus Charm</td>\n      <td>Excpecto Patronum</td>\n    </tr>\n    <tr>\n      <th>2</th>\n      <td>Disarming Charm</td>\n      <td>Expelliarmus</td>\n    </tr>\n    <tr>\n      <th>3</th>\n      <td>Killing Curse</td>\n      <td>Avada Kedavra</td>\n    </tr>\n    <tr>\n      <th>4</th>\n      <td>Cruciatus Curse</td>\n      <td>Crucio</td>\n    </tr>\n    <tr>\n      <th>5</th>\n      <td>Impediment Jinx</td>\n      <td>Impedimenta</td>\n    </tr>\n    <tr>\n      <th>6</th>\n      <td>Dark Mark</td>\n      <td>Morsmordre</td>\n    </tr>\n  </tbody>\n</table>\n</div>"
     },
     "metadata": {},
     "execution_count": 56
    }
   ],
   "source": [
    "incantations = ['Accio', 'Excpecto Patronum', 'Expelliarmus', 'Avada Kedavra', 'Crucio', 'Impedimenta', 'Morsmordre']\n",
    "\n",
    "incantations_df = pd.DataFrame({'Spell': spells, 'Incantation': incantations})\n",
    "incantations_df"
   ]
  },
  {
   "cell_type": "code",
   "execution_count": 57,
   "metadata": {
    "collapsed": true
   },
   "outputs": [
    {
     "output_type": "execute_result",
     "data": {
      "text/plain": "             Spell                             Effect\n0  Summoning Charm                  Summons an Object\n1   Patronus Charm  Spirit to Guard Against Dementors\n2  Disarming Charm                Disarms an Opponent\n3    Killing Curse                Instantaneous Death\n4  Cruciatus Curse                  Excruciating Pain\n5  Impediment Jinx                   Hinders Movement\n6        Dark Mark                 Conjures Dark Mark",
      "text/html": "<div>\n<style scoped>\n    .dataframe tbody tr th:only-of-type {\n        vertical-align: middle;\n    }\n\n    .dataframe tbody tr th {\n        vertical-align: top;\n    }\n\n    .dataframe thead th {\n        text-align: right;\n    }\n</style>\n<table border=\"1\" class=\"dataframe\">\n  <thead>\n    <tr style=\"text-align: right;\">\n      <th></th>\n      <th>Spell</th>\n      <th>Effect</th>\n    </tr>\n  </thead>\n  <tbody>\n    <tr>\n      <th>0</th>\n      <td>Summoning Charm</td>\n      <td>Summons an Object</td>\n    </tr>\n    <tr>\n      <th>1</th>\n      <td>Patronus Charm</td>\n      <td>Spirit to Guard Against Dementors</td>\n    </tr>\n    <tr>\n      <th>2</th>\n      <td>Disarming Charm</td>\n      <td>Disarms an Opponent</td>\n    </tr>\n    <tr>\n      <th>3</th>\n      <td>Killing Curse</td>\n      <td>Instantaneous Death</td>\n    </tr>\n    <tr>\n      <th>4</th>\n      <td>Cruciatus Curse</td>\n      <td>Excruciating Pain</td>\n    </tr>\n    <tr>\n      <th>5</th>\n      <td>Impediment Jinx</td>\n      <td>Hinders Movement</td>\n    </tr>\n    <tr>\n      <th>6</th>\n      <td>Dark Mark</td>\n      <td>Conjures Dark Mark</td>\n    </tr>\n  </tbody>\n</table>\n</div>"
     },
     "metadata": {},
     "execution_count": 57
    }
   ],
   "source": [
    "effects = ['Summons an Object', 'Spirit to Guard Against Dementors', 'Disarms an Opponent', 'Instantaneous Death',\n",
    "           'Excruciating Pain', 'Hinders Movement', 'Conjures Dark Mark']\n",
    "\n",
    "effects_df = pd.DataFrame({'Spell': spells, 'Effect': effects})\n",
    "effects_df"
   ]
  },
  {
   "cell_type": "code",
   "execution_count": 58,
   "metadata": {
    "collapsed": true
   },
   "outputs": [
    {
     "output_type": "execute_result",
     "data": {
      "text/plain": "             Spell  Light Color\n0  Summoning Charm         None\n1   Patronus Charm       Silver\n2  Disarming Charm      Scarlet\n3    Killing Curse        Green\n4  Cruciatus Curse  Red or None\n5  Impediment Jinx    Turquoise\n6        Dark Mark        Green",
      "text/html": "<div>\n<style scoped>\n    .dataframe tbody tr th:only-of-type {\n        vertical-align: middle;\n    }\n\n    .dataframe tbody tr th {\n        vertical-align: top;\n    }\n\n    .dataframe thead th {\n        text-align: right;\n    }\n</style>\n<table border=\"1\" class=\"dataframe\">\n  <thead>\n    <tr style=\"text-align: right;\">\n      <th></th>\n      <th>Spell</th>\n      <th>Light Color</th>\n    </tr>\n  </thead>\n  <tbody>\n    <tr>\n      <th>0</th>\n      <td>Summoning Charm</td>\n      <td>None</td>\n    </tr>\n    <tr>\n      <th>1</th>\n      <td>Patronus Charm</td>\n      <td>Silver</td>\n    </tr>\n    <tr>\n      <th>2</th>\n      <td>Disarming Charm</td>\n      <td>Scarlet</td>\n    </tr>\n    <tr>\n      <th>3</th>\n      <td>Killing Curse</td>\n      <td>Green</td>\n    </tr>\n    <tr>\n      <th>4</th>\n      <td>Cruciatus Curse</td>\n      <td>Red or None</td>\n    </tr>\n    <tr>\n      <th>5</th>\n      <td>Impediment Jinx</td>\n      <td>Turquoise</td>\n    </tr>\n    <tr>\n      <th>6</th>\n      <td>Dark Mark</td>\n      <td>Green</td>\n    </tr>\n  </tbody>\n</table>\n</div>"
     },
     "metadata": {},
     "execution_count": 58
    }
   ],
   "source": [
    "colors = ['None', 'Silver', 'Scarlet', 'Green', 'Red or None', 'Turquoise', 'Green']\n",
    "\n",
    "colors_df = pd.DataFrame({'Spell': spells, 'Light Color': colors})\n",
    "colors_df"
   ]
  },
  {
   "cell_type": "code",
   "execution_count": 59,
   "metadata": {},
   "outputs": [],
   "source": [
    "# Quick helper\n",
    "from IPython.display import display_html\n",
    "def display_side_by_side(*args):\n",
    "    html_str=''\n",
    "    for df in args:\n",
    "        html_str+=df.to_html()\n",
    "    display_html(html_str.replace('table','table style=\\\"display:inline\\\"'),raw=True)"
   ]
  },
  {
   "cell_type": "code",
   "execution_count": 60,
   "metadata": {},
   "outputs": [
    {
     "output_type": "display_data",
     "data": {
      "text/html": "<table style=\"display:inline\" border=\"1\" class=\"dataframe\">\n  <thead>\n    <tr style=\"text-align: right;\">\n      <th></th>\n      <th>Spell</th>\n      <th>Incantation</th>\n    </tr>\n  </thead>\n  <tbody>\n    <tr>\n      <th>0</th>\n      <td>Summoning Charm</td>\n      <td>Accio</td>\n    </tr>\n    <tr>\n      <th>1</th>\n      <td>Patronus Charm</td>\n      <td>Excpecto Patronum</td>\n    </tr>\n    <tr>\n      <th>2</th>\n      <td>Disarming Charm</td>\n      <td>Expelliarmus</td>\n    </tr>\n    <tr>\n      <th>3</th>\n      <td>Killing Curse</td>\n      <td>Avada Kedavra</td>\n    </tr>\n    <tr>\n      <th>4</th>\n      <td>Cruciatus Curse</td>\n      <td>Crucio</td>\n    </tr>\n    <tr>\n      <th>5</th>\n      <td>Impediment Jinx</td>\n      <td>Impedimenta</td>\n    </tr>\n    <tr>\n      <th>6</th>\n      <td>Dark Mark</td>\n      <td>Morsmordre</td>\n    </tr>\n  </tbody>\n</table style=\"display:inline\"><table style=\"display:inline\" border=\"1\" class=\"dataframe\">\n  <thead>\n    <tr style=\"text-align: right;\">\n      <th></th>\n      <th>Spell</th>\n      <th>Effect</th>\n    </tr>\n  </thead>\n  <tbody>\n    <tr>\n      <th>0</th>\n      <td>Summoning Charm</td>\n      <td>Summons an Object</td>\n    </tr>\n    <tr>\n      <th>1</th>\n      <td>Patronus Charm</td>\n      <td>Spirit to Guard Against Dementors</td>\n    </tr>\n    <tr>\n      <th>2</th>\n      <td>Disarming Charm</td>\n      <td>Disarms an Opponent</td>\n    </tr>\n    <tr>\n      <th>3</th>\n      <td>Killing Curse</td>\n      <td>Instantaneous Death</td>\n    </tr>\n    <tr>\n      <th>4</th>\n      <td>Cruciatus Curse</td>\n      <td>Excruciating Pain</td>\n    </tr>\n    <tr>\n      <th>5</th>\n      <td>Impediment Jinx</td>\n      <td>Hinders Movement</td>\n    </tr>\n    <tr>\n      <th>6</th>\n      <td>Dark Mark</td>\n      <td>Conjures Dark Mark</td>\n    </tr>\n  </tbody>\n</table style=\"display:inline\"><table style=\"display:inline\" border=\"1\" class=\"dataframe\">\n  <thead>\n    <tr style=\"text-align: right;\">\n      <th></th>\n      <th>Spell</th>\n      <th>Light Color</th>\n    </tr>\n  </thead>\n  <tbody>\n    <tr>\n      <th>0</th>\n      <td>Summoning Charm</td>\n      <td>None</td>\n    </tr>\n    <tr>\n      <th>1</th>\n      <td>Patronus Charm</td>\n      <td>Silver</td>\n    </tr>\n    <tr>\n      <th>2</th>\n      <td>Disarming Charm</td>\n      <td>Scarlet</td>\n    </tr>\n    <tr>\n      <th>3</th>\n      <td>Killing Curse</td>\n      <td>Green</td>\n    </tr>\n    <tr>\n      <th>4</th>\n      <td>Cruciatus Curse</td>\n      <td>Red or None</td>\n    </tr>\n    <tr>\n      <th>5</th>\n      <td>Impediment Jinx</td>\n      <td>Turquoise</td>\n    </tr>\n    <tr>\n      <th>6</th>\n      <td>Dark Mark</td>\n      <td>Green</td>\n    </tr>\n  </tbody>\n</table style=\"display:inline\">"
     },
     "metadata": {}
    }
   ],
   "source": [
    "display_side_by_side(incantations_df,effects_df,colors_df)"
   ]
  },
  {
   "cell_type": "markdown",
   "metadata": {},
   "source": [
    "Note that each one of these dataframes have a column in common, `Spell`.\n",
    "\n",
    "The order of the values may not be same, but we're still good to go"
   ]
  },
  {
   "cell_type": "markdown",
   "metadata": {},
   "source": [
    "### pd.Merge()"
   ]
  },
  {
   "cell_type": "markdown",
   "metadata": {
    "colab_type": "text",
    "id": "gn7I76dXRTxn"
   },
   "source": [
    "Instead of working with three distinct dataframes, let's combine them into one df\n",
    "\n",
    "To do so, we can call `.merge()` on two data tables and specify the column on which to merge as `on=`"
   ]
  },
  {
   "cell_type": "code",
   "execution_count": 61,
   "metadata": {
    "colab": {
     "base_uri": "https://localhost:8080/",
     "height": 225
    },
    "colab_type": "code",
    "collapsed": true,
    "id": "5NP4h4n06C95",
    "outputId": "b67660e7-4c48-4f0c-dd56-ebe332417d77"
   },
   "outputs": [
    {
     "output_type": "execute_result",
     "data": {
      "text/plain": "             Spell        Incantation                             Effect\n0  Summoning Charm              Accio                  Summons an Object\n1   Patronus Charm  Excpecto Patronum  Spirit to Guard Against Dementors\n2  Disarming Charm       Expelliarmus                Disarms an Opponent\n3    Killing Curse      Avada Kedavra                Instantaneous Death\n4  Cruciatus Curse             Crucio                  Excruciating Pain\n5  Impediment Jinx        Impedimenta                   Hinders Movement\n6        Dark Mark         Morsmordre                 Conjures Dark Mark",
      "text/html": "<div>\n<style scoped>\n    .dataframe tbody tr th:only-of-type {\n        vertical-align: middle;\n    }\n\n    .dataframe tbody tr th {\n        vertical-align: top;\n    }\n\n    .dataframe thead th {\n        text-align: right;\n    }\n</style>\n<table border=\"1\" class=\"dataframe\">\n  <thead>\n    <tr style=\"text-align: right;\">\n      <th></th>\n      <th>Spell</th>\n      <th>Incantation</th>\n      <th>Effect</th>\n    </tr>\n  </thead>\n  <tbody>\n    <tr>\n      <th>0</th>\n      <td>Summoning Charm</td>\n      <td>Accio</td>\n      <td>Summons an Object</td>\n    </tr>\n    <tr>\n      <th>1</th>\n      <td>Patronus Charm</td>\n      <td>Excpecto Patronum</td>\n      <td>Spirit to Guard Against Dementors</td>\n    </tr>\n    <tr>\n      <th>2</th>\n      <td>Disarming Charm</td>\n      <td>Expelliarmus</td>\n      <td>Disarms an Opponent</td>\n    </tr>\n    <tr>\n      <th>3</th>\n      <td>Killing Curse</td>\n      <td>Avada Kedavra</td>\n      <td>Instantaneous Death</td>\n    </tr>\n    <tr>\n      <th>4</th>\n      <td>Cruciatus Curse</td>\n      <td>Crucio</td>\n      <td>Excruciating Pain</td>\n    </tr>\n    <tr>\n      <th>5</th>\n      <td>Impediment Jinx</td>\n      <td>Impedimenta</td>\n      <td>Hinders Movement</td>\n    </tr>\n    <tr>\n      <th>6</th>\n      <td>Dark Mark</td>\n      <td>Morsmordre</td>\n      <td>Conjures Dark Mark</td>\n    </tr>\n  </tbody>\n</table>\n</div>"
     },
     "metadata": {},
     "execution_count": 61
    }
   ],
   "source": [
    "df = pd.merge(incantations_df, effects_df, on='Spell')\n",
    "df"
   ]
  },
  {
   "cell_type": "markdown",
   "metadata": {},
   "source": [
    "By chaining them we can combine multiple dfs"
   ]
  },
  {
   "cell_type": "code",
   "execution_count": 62,
   "metadata": {
    "colab": {
     "base_uri": "https://localhost:8080/",
     "height": 225
    },
    "colab_type": "code",
    "id": "uGi8owJZthrR",
    "outputId": "3bed89ca-bc8d-4ed1-ac38-4c1340163c47"
   },
   "outputs": [
    {
     "output_type": "execute_result",
     "data": {
      "text/plain": "             Spell        Incantation                             Effect  \\\n0  Summoning Charm              Accio                  Summons an Object   \n1   Patronus Charm  Excpecto Patronum  Spirit to Guard Against Dementors   \n2  Disarming Charm       Expelliarmus                Disarms an Opponent   \n3    Killing Curse      Avada Kedavra                Instantaneous Death   \n4  Cruciatus Curse             Crucio                  Excruciating Pain   \n5  Impediment Jinx        Impedimenta                   Hinders Movement   \n6        Dark Mark         Morsmordre                 Conjures Dark Mark   \n\n   Light Color  \n0         None  \n1       Silver  \n2      Scarlet  \n3        Green  \n4  Red or None  \n5    Turquoise  \n6        Green  ",
      "text/html": "<div>\n<style scoped>\n    .dataframe tbody tr th:only-of-type {\n        vertical-align: middle;\n    }\n\n    .dataframe tbody tr th {\n        vertical-align: top;\n    }\n\n    .dataframe thead th {\n        text-align: right;\n    }\n</style>\n<table border=\"1\" class=\"dataframe\">\n  <thead>\n    <tr style=\"text-align: right;\">\n      <th></th>\n      <th>Spell</th>\n      <th>Incantation</th>\n      <th>Effect</th>\n      <th>Light Color</th>\n    </tr>\n  </thead>\n  <tbody>\n    <tr>\n      <th>0</th>\n      <td>Summoning Charm</td>\n      <td>Accio</td>\n      <td>Summons an Object</td>\n      <td>None</td>\n    </tr>\n    <tr>\n      <th>1</th>\n      <td>Patronus Charm</td>\n      <td>Excpecto Patronum</td>\n      <td>Spirit to Guard Against Dementors</td>\n      <td>Silver</td>\n    </tr>\n    <tr>\n      <th>2</th>\n      <td>Disarming Charm</td>\n      <td>Expelliarmus</td>\n      <td>Disarms an Opponent</td>\n      <td>Scarlet</td>\n    </tr>\n    <tr>\n      <th>3</th>\n      <td>Killing Curse</td>\n      <td>Avada Kedavra</td>\n      <td>Instantaneous Death</td>\n      <td>Green</td>\n    </tr>\n    <tr>\n      <th>4</th>\n      <td>Cruciatus Curse</td>\n      <td>Crucio</td>\n      <td>Excruciating Pain</td>\n      <td>Red or None</td>\n    </tr>\n    <tr>\n      <th>5</th>\n      <td>Impediment Jinx</td>\n      <td>Impedimenta</td>\n      <td>Hinders Movement</td>\n      <td>Turquoise</td>\n    </tr>\n    <tr>\n      <th>6</th>\n      <td>Dark Mark</td>\n      <td>Morsmordre</td>\n      <td>Conjures Dark Mark</td>\n      <td>Green</td>\n    </tr>\n  </tbody>\n</table>\n</div>"
     },
     "metadata": {},
     "execution_count": 62
    }
   ],
   "source": [
    "df = pd.merge(incantations_df, effects_df, on='Spell').merge(colors_df, on='Spell')\n",
    "df"
   ]
  },
  {
   "cell_type": "markdown",
   "metadata": {},
   "source": [
    "### Join logic"
   ]
  },
  {
   "cell_type": "code",
   "execution_count": 63,
   "metadata": {},
   "outputs": [
    {
     "output_type": "execute_result",
     "data": {
      "text/plain": "              Spell         Incantation\n0   Disarming Charm        Expelliarmus\n1         Dark Mark          Morsmordre\n2    Imperius Curse             Imperio\n3      Sectumsempra        Sectumsempra\n4  Levitation Charm  Wingardium Leviosa",
      "text/html": "<div>\n<style scoped>\n    .dataframe tbody tr th:only-of-type {\n        vertical-align: middle;\n    }\n\n    .dataframe tbody tr th {\n        vertical-align: top;\n    }\n\n    .dataframe thead th {\n        text-align: right;\n    }\n</style>\n<table border=\"1\" class=\"dataframe\">\n  <thead>\n    <tr style=\"text-align: right;\">\n      <th></th>\n      <th>Spell</th>\n      <th>Incantation</th>\n    </tr>\n  </thead>\n  <tbody>\n    <tr>\n      <th>0</th>\n      <td>Disarming Charm</td>\n      <td>Expelliarmus</td>\n    </tr>\n    <tr>\n      <th>1</th>\n      <td>Dark Mark</td>\n      <td>Morsmordre</td>\n    </tr>\n    <tr>\n      <th>2</th>\n      <td>Imperius Curse</td>\n      <td>Imperio</td>\n    </tr>\n    <tr>\n      <th>3</th>\n      <td>Sectumsempra</td>\n      <td>Sectumsempra</td>\n    </tr>\n    <tr>\n      <th>4</th>\n      <td>Levitation Charm</td>\n      <td>Wingardium Leviosa</td>\n    </tr>\n  </tbody>\n</table>\n</div>"
     },
     "metadata": {},
     "execution_count": 63
    }
   ],
   "source": [
    "more_spells = ['Disarming Charm', 'Dark Mark', 'Imperius Curse', 'Sectumsempra', 'Levitation Charm']\n",
    "more_incantations = ['Expelliarmus', 'Morsmordre', 'Imperio', 'Sectumsempra', 'Wingardium Leviosa']\n",
    "\n",
    "more_incantations_df = pd.DataFrame({'Spell': more_spells, 'Incantation': more_incantations})\n",
    "more_incantations_df"
   ]
  },
  {
   "cell_type": "markdown",
   "metadata": {},
   "source": [
    "With the previous merges, we had the same number of observations in every dataframe.\n",
    "\n",
    "<br>With some merges, not every row may align. Let's try to merge `more_incantations_df` with `effects_df`. Note how there are some dining halls in common, and some unique to each"
   ]
  },
  {
   "cell_type": "code",
   "execution_count": 64,
   "metadata": {},
   "outputs": [
    {
     "output_type": "display_data",
     "data": {
      "text/html": "<table style=\"display:inline\" border=\"1\" class=\"dataframe\">\n  <thead>\n    <tr style=\"text-align: right;\">\n      <th></th>\n      <th>Spell</th>\n      <th>Incantation</th>\n    </tr>\n  </thead>\n  <tbody>\n    <tr>\n      <th>0</th>\n      <td>Disarming Charm</td>\n      <td>Expelliarmus</td>\n    </tr>\n    <tr>\n      <th>1</th>\n      <td>Dark Mark</td>\n      <td>Morsmordre</td>\n    </tr>\n    <tr>\n      <th>2</th>\n      <td>Imperius Curse</td>\n      <td>Imperio</td>\n    </tr>\n    <tr>\n      <th>3</th>\n      <td>Sectumsempra</td>\n      <td>Sectumsempra</td>\n    </tr>\n    <tr>\n      <th>4</th>\n      <td>Levitation Charm</td>\n      <td>Wingardium Leviosa</td>\n    </tr>\n  </tbody>\n</table style=\"display:inline\"><table style=\"display:inline\" border=\"1\" class=\"dataframe\">\n  <thead>\n    <tr style=\"text-align: right;\">\n      <th></th>\n      <th>Spell</th>\n      <th>Effect</th>\n    </tr>\n  </thead>\n  <tbody>\n    <tr>\n      <th>0</th>\n      <td>Summoning Charm</td>\n      <td>Summons an Object</td>\n    </tr>\n    <tr>\n      <th>1</th>\n      <td>Patronus Charm</td>\n      <td>Spirit to Guard Against Dementors</td>\n    </tr>\n    <tr>\n      <th>2</th>\n      <td>Disarming Charm</td>\n      <td>Disarms an Opponent</td>\n    </tr>\n    <tr>\n      <th>3</th>\n      <td>Killing Curse</td>\n      <td>Instantaneous Death</td>\n    </tr>\n    <tr>\n      <th>4</th>\n      <td>Cruciatus Curse</td>\n      <td>Excruciating Pain</td>\n    </tr>\n    <tr>\n      <th>5</th>\n      <td>Impediment Jinx</td>\n      <td>Hinders Movement</td>\n    </tr>\n    <tr>\n      <th>6</th>\n      <td>Dark Mark</td>\n      <td>Conjures Dark Mark</td>\n    </tr>\n  </tbody>\n</table style=\"display:inline\">"
     },
     "metadata": {}
    }
   ],
   "source": [
    "display_side_by_side(more_incantations_df,effects_df)"
   ]
  },
  {
   "cell_type": "markdown",
   "metadata": {},
   "source": [
    "We can do two different merges now: \n",
    "1. If we want to retain **only** those in common, we use an `inner` join\n",
    "2. If we want to keep **everything**, and keep placeholders for missing data, we use an `outer` join"
   ]
  },
  {
   "cell_type": "code",
   "execution_count": 65,
   "metadata": {
    "collapsed": true
   },
   "outputs": [
    {
     "output_type": "execute_result",
     "data": {
      "text/plain": "             Spell               Effect   Incantation\n0  Disarming Charm  Disarms an Opponent  Expelliarmus\n1        Dark Mark   Conjures Dark Mark    Morsmordre",
      "text/html": "<div>\n<style scoped>\n    .dataframe tbody tr th:only-of-type {\n        vertical-align: middle;\n    }\n\n    .dataframe tbody tr th {\n        vertical-align: top;\n    }\n\n    .dataframe thead th {\n        text-align: right;\n    }\n</style>\n<table border=\"1\" class=\"dataframe\">\n  <thead>\n    <tr style=\"text-align: right;\">\n      <th></th>\n      <th>Spell</th>\n      <th>Effect</th>\n      <th>Incantation</th>\n    </tr>\n  </thead>\n  <tbody>\n    <tr>\n      <th>0</th>\n      <td>Disarming Charm</td>\n      <td>Disarms an Opponent</td>\n      <td>Expelliarmus</td>\n    </tr>\n    <tr>\n      <th>1</th>\n      <td>Dark Mark</td>\n      <td>Conjures Dark Mark</td>\n      <td>Morsmordre</td>\n    </tr>\n  </tbody>\n</table>\n</div>"
     },
     "metadata": {},
     "execution_count": 65
    }
   ],
   "source": [
    "pd.merge(effects_df, more_incantations_df, on='Spell', how='inner')"
   ]
  },
  {
   "cell_type": "code",
   "execution_count": 66,
   "metadata": {
    "collapsed": true
   },
   "outputs": [
    {
     "output_type": "execute_result",
     "data": {
      "text/plain": "              Spell                             Effect         Incantation\n0   Summoning Charm                  Summons an Object                 NaN\n1    Patronus Charm  Spirit to Guard Against Dementors                 NaN\n2   Disarming Charm                Disarms an Opponent        Expelliarmus\n3     Killing Curse                Instantaneous Death                 NaN\n4   Cruciatus Curse                  Excruciating Pain                 NaN\n5   Impediment Jinx                   Hinders Movement                 NaN\n6         Dark Mark                 Conjures Dark Mark          Morsmordre\n7    Imperius Curse                                NaN             Imperio\n8      Sectumsempra                                NaN        Sectumsempra\n9  Levitation Charm                                NaN  Wingardium Leviosa",
      "text/html": "<div>\n<style scoped>\n    .dataframe tbody tr th:only-of-type {\n        vertical-align: middle;\n    }\n\n    .dataframe tbody tr th {\n        vertical-align: top;\n    }\n\n    .dataframe thead th {\n        text-align: right;\n    }\n</style>\n<table border=\"1\" class=\"dataframe\">\n  <thead>\n    <tr style=\"text-align: right;\">\n      <th></th>\n      <th>Spell</th>\n      <th>Effect</th>\n      <th>Incantation</th>\n    </tr>\n  </thead>\n  <tbody>\n    <tr>\n      <th>0</th>\n      <td>Summoning Charm</td>\n      <td>Summons an Object</td>\n      <td>NaN</td>\n    </tr>\n    <tr>\n      <th>1</th>\n      <td>Patronus Charm</td>\n      <td>Spirit to Guard Against Dementors</td>\n      <td>NaN</td>\n    </tr>\n    <tr>\n      <th>2</th>\n      <td>Disarming Charm</td>\n      <td>Disarms an Opponent</td>\n      <td>Expelliarmus</td>\n    </tr>\n    <tr>\n      <th>3</th>\n      <td>Killing Curse</td>\n      <td>Instantaneous Death</td>\n      <td>NaN</td>\n    </tr>\n    <tr>\n      <th>4</th>\n      <td>Cruciatus Curse</td>\n      <td>Excruciating Pain</td>\n      <td>NaN</td>\n    </tr>\n    <tr>\n      <th>5</th>\n      <td>Impediment Jinx</td>\n      <td>Hinders Movement</td>\n      <td>NaN</td>\n    </tr>\n    <tr>\n      <th>6</th>\n      <td>Dark Mark</td>\n      <td>Conjures Dark Mark</td>\n      <td>Morsmordre</td>\n    </tr>\n    <tr>\n      <th>7</th>\n      <td>Imperius Curse</td>\n      <td>NaN</td>\n      <td>Imperio</td>\n    </tr>\n    <tr>\n      <th>8</th>\n      <td>Sectumsempra</td>\n      <td>NaN</td>\n      <td>Sectumsempra</td>\n    </tr>\n    <tr>\n      <th>9</th>\n      <td>Levitation Charm</td>\n      <td>NaN</td>\n      <td>Wingardium Leviosa</td>\n    </tr>\n  </tbody>\n</table>\n</div>"
     },
     "metadata": {},
     "execution_count": 66
    }
   ],
   "source": [
    "pd.merge(effects_df, more_incantations_df, on='Spell', how='outer')"
   ]
  },
  {
   "cell_type": "markdown",
   "metadata": {},
   "source": [
    "### pd.Concat()"
   ]
  },
  {
   "cell_type": "markdown",
   "metadata": {
    "colab_type": "text",
    "id": "O_OZiiFoOEsJ"
   },
   "source": [
    "Another *similar* function is `.concat()` \n",
    "\n",
    "It's a little different from `.merge()`, since we'll have to pass in a `list` of dataframes instead"
   ]
  },
  {
   "cell_type": "code",
   "execution_count": 67,
   "metadata": {
    "colab": {
     "base_uri": "https://localhost:8080/",
     "height": 714
    },
    "colab_type": "code",
    "id": "nYT094hKODVa",
    "outputId": "8901c9a7-fc4e-425a-a6c8-3c183654a686"
   },
   "outputs": [
    {
     "output_type": "execute_result",
     "data": {
      "text/plain": "             Spell        Incantation                             Effect  \\\n0  Summoning Charm              Accio                                NaN   \n1   Patronus Charm  Excpecto Patronum                                NaN   \n2  Disarming Charm       Expelliarmus                                NaN   \n3    Killing Curse      Avada Kedavra                                NaN   \n4  Cruciatus Curse             Crucio                                NaN   \n5  Impediment Jinx        Impedimenta                                NaN   \n6        Dark Mark         Morsmordre                                NaN   \n0  Summoning Charm                NaN                  Summons an Object   \n1   Patronus Charm                NaN  Spirit to Guard Against Dementors   \n2  Disarming Charm                NaN                Disarms an Opponent   \n3    Killing Curse                NaN                Instantaneous Death   \n4  Cruciatus Curse                NaN                  Excruciating Pain   \n5  Impediment Jinx                NaN                   Hinders Movement   \n6        Dark Mark                NaN                 Conjures Dark Mark   \n0  Summoning Charm                NaN                                NaN   \n1   Patronus Charm                NaN                                NaN   \n2  Disarming Charm                NaN                                NaN   \n3    Killing Curse                NaN                                NaN   \n4  Cruciatus Curse                NaN                                NaN   \n5  Impediment Jinx                NaN                                NaN   \n6        Dark Mark                NaN                                NaN   \n\n   Light Color  \n0          NaN  \n1          NaN  \n2          NaN  \n3          NaN  \n4          NaN  \n5          NaN  \n6          NaN  \n0          NaN  \n1          NaN  \n2          NaN  \n3          NaN  \n4          NaN  \n5          NaN  \n6          NaN  \n0         None  \n1       Silver  \n2      Scarlet  \n3        Green  \n4  Red or None  \n5    Turquoise  \n6        Green  ",
      "text/html": "<div>\n<style scoped>\n    .dataframe tbody tr th:only-of-type {\n        vertical-align: middle;\n    }\n\n    .dataframe tbody tr th {\n        vertical-align: top;\n    }\n\n    .dataframe thead th {\n        text-align: right;\n    }\n</style>\n<table border=\"1\" class=\"dataframe\">\n  <thead>\n    <tr style=\"text-align: right;\">\n      <th></th>\n      <th>Spell</th>\n      <th>Incantation</th>\n      <th>Effect</th>\n      <th>Light Color</th>\n    </tr>\n  </thead>\n  <tbody>\n    <tr>\n      <th>0</th>\n      <td>Summoning Charm</td>\n      <td>Accio</td>\n      <td>NaN</td>\n      <td>NaN</td>\n    </tr>\n    <tr>\n      <th>1</th>\n      <td>Patronus Charm</td>\n      <td>Excpecto Patronum</td>\n      <td>NaN</td>\n      <td>NaN</td>\n    </tr>\n    <tr>\n      <th>2</th>\n      <td>Disarming Charm</td>\n      <td>Expelliarmus</td>\n      <td>NaN</td>\n      <td>NaN</td>\n    </tr>\n    <tr>\n      <th>3</th>\n      <td>Killing Curse</td>\n      <td>Avada Kedavra</td>\n      <td>NaN</td>\n      <td>NaN</td>\n    </tr>\n    <tr>\n      <th>4</th>\n      <td>Cruciatus Curse</td>\n      <td>Crucio</td>\n      <td>NaN</td>\n      <td>NaN</td>\n    </tr>\n    <tr>\n      <th>5</th>\n      <td>Impediment Jinx</td>\n      <td>Impedimenta</td>\n      <td>NaN</td>\n      <td>NaN</td>\n    </tr>\n    <tr>\n      <th>6</th>\n      <td>Dark Mark</td>\n      <td>Morsmordre</td>\n      <td>NaN</td>\n      <td>NaN</td>\n    </tr>\n    <tr>\n      <th>0</th>\n      <td>Summoning Charm</td>\n      <td>NaN</td>\n      <td>Summons an Object</td>\n      <td>NaN</td>\n    </tr>\n    <tr>\n      <th>1</th>\n      <td>Patronus Charm</td>\n      <td>NaN</td>\n      <td>Spirit to Guard Against Dementors</td>\n      <td>NaN</td>\n    </tr>\n    <tr>\n      <th>2</th>\n      <td>Disarming Charm</td>\n      <td>NaN</td>\n      <td>Disarms an Opponent</td>\n      <td>NaN</td>\n    </tr>\n    <tr>\n      <th>3</th>\n      <td>Killing Curse</td>\n      <td>NaN</td>\n      <td>Instantaneous Death</td>\n      <td>NaN</td>\n    </tr>\n    <tr>\n      <th>4</th>\n      <td>Cruciatus Curse</td>\n      <td>NaN</td>\n      <td>Excruciating Pain</td>\n      <td>NaN</td>\n    </tr>\n    <tr>\n      <th>5</th>\n      <td>Impediment Jinx</td>\n      <td>NaN</td>\n      <td>Hinders Movement</td>\n      <td>NaN</td>\n    </tr>\n    <tr>\n      <th>6</th>\n      <td>Dark Mark</td>\n      <td>NaN</td>\n      <td>Conjures Dark Mark</td>\n      <td>NaN</td>\n    </tr>\n    <tr>\n      <th>0</th>\n      <td>Summoning Charm</td>\n      <td>NaN</td>\n      <td>NaN</td>\n      <td>None</td>\n    </tr>\n    <tr>\n      <th>1</th>\n      <td>Patronus Charm</td>\n      <td>NaN</td>\n      <td>NaN</td>\n      <td>Silver</td>\n    </tr>\n    <tr>\n      <th>2</th>\n      <td>Disarming Charm</td>\n      <td>NaN</td>\n      <td>NaN</td>\n      <td>Scarlet</td>\n    </tr>\n    <tr>\n      <th>3</th>\n      <td>Killing Curse</td>\n      <td>NaN</td>\n      <td>NaN</td>\n      <td>Green</td>\n    </tr>\n    <tr>\n      <th>4</th>\n      <td>Cruciatus Curse</td>\n      <td>NaN</td>\n      <td>NaN</td>\n      <td>Red or None</td>\n    </tr>\n    <tr>\n      <th>5</th>\n      <td>Impediment Jinx</td>\n      <td>NaN</td>\n      <td>NaN</td>\n      <td>Turquoise</td>\n    </tr>\n    <tr>\n      <th>6</th>\n      <td>Dark Mark</td>\n      <td>NaN</td>\n      <td>NaN</td>\n      <td>Green</td>\n    </tr>\n  </tbody>\n</table>\n</div>"
     },
     "metadata": {},
     "execution_count": 67
    }
   ],
   "source": [
    "df = pd.concat([incantations_df, effects_df, colors_df])\n",
    "df"
   ]
  },
  {
   "cell_type": "markdown",
   "metadata": {
    "colab_type": "text",
    "id": "9_6AcRs2Ob7E"
   },
   "source": [
    "That didn't quite work as expected, because `concat()` stacked the dataframes above each other, instead of combining information for common rows.\n",
    "\n",
    "Note that it **didn't combine rows** when `merge()` easily could have."
   ]
  },
  {
   "cell_type": "markdown",
   "metadata": {},
   "source": [
    "One example of when `concat()` is appropriate is when we want to add on more information to a dataframe, but the **rows are the different** between the two"
   ]
  },
  {
   "cell_type": "code",
   "execution_count": 68,
   "metadata": {
    "colab": {
     "base_uri": "https://localhost:8080/",
     "height": 343
    },
    "colab_type": "code",
    "id": "0-zH8-dSPJiY",
    "outputId": "4416d7b8-9c13-45e6-c9f7-9f7205857ded"
   },
   "outputs": [
    {
     "output_type": "execute_result",
     "data": {
      "text/plain": "               Spell         Incantation\n0    Summoning Charm               Accio\n1     Patronus Charm   Excpecto Patronum\n2    Disarming Charm        Expelliarmus\n3      Killing Curse       Avada Kedavra\n4    Cruciatus Curse              Crucio\n5    Impediment Jinx         Impedimenta\n6          Dark Mark          Morsmordre\n9     Imperius Curse             Imperio\n10      Sectumsempra        Sectumsempra\n11  Levitation Charm  Wingardium Leviosa",
      "text/html": "<div>\n<style scoped>\n    .dataframe tbody tr th:only-of-type {\n        vertical-align: middle;\n    }\n\n    .dataframe tbody tr th {\n        vertical-align: top;\n    }\n\n    .dataframe thead th {\n        text-align: right;\n    }\n</style>\n<table border=\"1\" class=\"dataframe\">\n  <thead>\n    <tr style=\"text-align: right;\">\n      <th></th>\n      <th>Spell</th>\n      <th>Incantation</th>\n    </tr>\n  </thead>\n  <tbody>\n    <tr>\n      <th>0</th>\n      <td>Summoning Charm</td>\n      <td>Accio</td>\n    </tr>\n    <tr>\n      <th>1</th>\n      <td>Patronus Charm</td>\n      <td>Excpecto Patronum</td>\n    </tr>\n    <tr>\n      <th>2</th>\n      <td>Disarming Charm</td>\n      <td>Expelliarmus</td>\n    </tr>\n    <tr>\n      <th>3</th>\n      <td>Killing Curse</td>\n      <td>Avada Kedavra</td>\n    </tr>\n    <tr>\n      <th>4</th>\n      <td>Cruciatus Curse</td>\n      <td>Crucio</td>\n    </tr>\n    <tr>\n      <th>5</th>\n      <td>Impediment Jinx</td>\n      <td>Impedimenta</td>\n    </tr>\n    <tr>\n      <th>6</th>\n      <td>Dark Mark</td>\n      <td>Morsmordre</td>\n    </tr>\n    <tr>\n      <th>9</th>\n      <td>Imperius Curse</td>\n      <td>Imperio</td>\n    </tr>\n    <tr>\n      <th>10</th>\n      <td>Sectumsempra</td>\n      <td>Sectumsempra</td>\n    </tr>\n    <tr>\n      <th>11</th>\n      <td>Levitation Charm</td>\n      <td>Wingardium Leviosa</td>\n    </tr>\n  </tbody>\n</table>\n</div>"
     },
     "metadata": {},
     "execution_count": 68
    }
   ],
   "source": [
    "incantations_all = pd.concat([incantations_df, more_incantations_df]).reset_index(drop=True).drop_duplicates()\n",
    "# The reset_index() allows us to prevent overlapping of the indices\n",
    "\n",
    "incantations_all"
   ]
  },
  {
   "cell_type": "markdown",
   "metadata": {
    "colab_type": "text",
    "id": "k60WBIs2Pc5L"
   },
   "source": [
    "`Concat` can also horizontally stack dataframes, usng the `axis=1` argument. \n",
    "\n",
    "Here's a case where it might be useful:"
   ]
  },
  {
   "cell_type": "code",
   "execution_count": 69,
   "metadata": {
    "colab": {
     "base_uri": "https://localhost:8080/",
     "height": 225
    },
    "colab_type": "code",
    "id": "8S4TwqezPiOY",
    "outputId": "7a4c36c8-86b4-434f-bf81-2121cb72e1e7"
   },
   "outputs": [
    {
     "output_type": "execute_result",
     "data": {
      "text/plain": "  Dark Magic   Type\n0         No  Charm\n1         No  Charm\n2         No  Charm\n3        Yes  Curse\n4        Yes  Curse\n5         No   Jinx\n6        Yes  Curse",
      "text/html": "<div>\n<style scoped>\n    .dataframe tbody tr th:only-of-type {\n        vertical-align: middle;\n    }\n\n    .dataframe tbody tr th {\n        vertical-align: top;\n    }\n\n    .dataframe thead th {\n        text-align: right;\n    }\n</style>\n<table border=\"1\" class=\"dataframe\">\n  <thead>\n    <tr style=\"text-align: right;\">\n      <th></th>\n      <th>Dark Magic</th>\n      <th>Type</th>\n    </tr>\n  </thead>\n  <tbody>\n    <tr>\n      <th>0</th>\n      <td>No</td>\n      <td>Charm</td>\n    </tr>\n    <tr>\n      <th>1</th>\n      <td>No</td>\n      <td>Charm</td>\n    </tr>\n    <tr>\n      <th>2</th>\n      <td>No</td>\n      <td>Charm</td>\n    </tr>\n    <tr>\n      <th>3</th>\n      <td>Yes</td>\n      <td>Curse</td>\n    </tr>\n    <tr>\n      <th>4</th>\n      <td>Yes</td>\n      <td>Curse</td>\n    </tr>\n    <tr>\n      <th>5</th>\n      <td>No</td>\n      <td>Jinx</td>\n    </tr>\n    <tr>\n      <th>6</th>\n      <td>Yes</td>\n      <td>Curse</td>\n    </tr>\n  </tbody>\n</table>\n</div>"
     },
     "metadata": {},
     "execution_count": 69
    }
   ],
   "source": [
    "more_info_df = pd.DataFrame({'Dark Magic': ['No', 'No', 'No', 'Yes', 'Yes', 'No', 'Yes'], \n",
    "                             'Type': ['Charm', 'Charm', 'Charm', 'Curse', 'Curse', 'Jinx', 'Curse']})\n",
    "more_info_df"
   ]
  },
  {
   "cell_type": "code",
   "execution_count": 70,
   "metadata": {
    "colab": {
     "base_uri": "https://localhost:8080/",
     "height": 225
    },
    "colab_type": "code",
    "id": "O-IA4QUcQycc",
    "outputId": "1e3cfc15-e7aa-4c00-fa92-691ec0043056"
   },
   "outputs": [
    {
     "output_type": "execute_result",
     "data": {
      "text/plain": "             Spell        Incantation Dark Magic   Type\n0  Summoning Charm              Accio         No  Charm\n1   Patronus Charm  Excpecto Patronum         No  Charm\n2  Disarming Charm       Expelliarmus         No  Charm\n3    Killing Curse      Avada Kedavra        Yes  Curse\n4  Cruciatus Curse             Crucio        Yes  Curse\n5  Impediment Jinx        Impedimenta         No   Jinx\n6        Dark Mark         Morsmordre        Yes  Curse",
      "text/html": "<div>\n<style scoped>\n    .dataframe tbody tr th:only-of-type {\n        vertical-align: middle;\n    }\n\n    .dataframe tbody tr th {\n        vertical-align: top;\n    }\n\n    .dataframe thead th {\n        text-align: right;\n    }\n</style>\n<table border=\"1\" class=\"dataframe\">\n  <thead>\n    <tr style=\"text-align: right;\">\n      <th></th>\n      <th>Spell</th>\n      <th>Incantation</th>\n      <th>Dark Magic</th>\n      <th>Type</th>\n    </tr>\n  </thead>\n  <tbody>\n    <tr>\n      <th>0</th>\n      <td>Summoning Charm</td>\n      <td>Accio</td>\n      <td>No</td>\n      <td>Charm</td>\n    </tr>\n    <tr>\n      <th>1</th>\n      <td>Patronus Charm</td>\n      <td>Excpecto Patronum</td>\n      <td>No</td>\n      <td>Charm</td>\n    </tr>\n    <tr>\n      <th>2</th>\n      <td>Disarming Charm</td>\n      <td>Expelliarmus</td>\n      <td>No</td>\n      <td>Charm</td>\n    </tr>\n    <tr>\n      <th>3</th>\n      <td>Killing Curse</td>\n      <td>Avada Kedavra</td>\n      <td>Yes</td>\n      <td>Curse</td>\n    </tr>\n    <tr>\n      <th>4</th>\n      <td>Cruciatus Curse</td>\n      <td>Crucio</td>\n      <td>Yes</td>\n      <td>Curse</td>\n    </tr>\n    <tr>\n      <th>5</th>\n      <td>Impediment Jinx</td>\n      <td>Impedimenta</td>\n      <td>No</td>\n      <td>Jinx</td>\n    </tr>\n    <tr>\n      <th>6</th>\n      <td>Dark Mark</td>\n      <td>Morsmordre</td>\n      <td>Yes</td>\n      <td>Curse</td>\n    </tr>\n  </tbody>\n</table>\n</div>"
     },
     "metadata": {},
     "execution_count": 70
    }
   ],
   "source": [
    "df = pd.concat([incantations_df, more_info_df], axis=1)\n",
    "df"
   ]
  },
  {
   "cell_type": "markdown",
   "metadata": {
    "colab_type": "text",
    "id": "la4zf_X4Ry4e"
   },
   "source": [
    "Note the difference between `.concat(axis=1)` and `.merge()`. We would use `.concat()` when there isn't a duplicate column (a key), and `.merge()` when there is one."
   ]
  }
 ],
 "metadata": {
  "colab": {
   "collapsed_sections": [],
   "name": "NBW3 - Cleaning",
   "provenance": []
  },
  "kernelspec": {
   "display_name": "Python 3",
   "language": "python",
   "name": "python3"
  },
  "language_info": {
   "codemirror_mode": {
    "name": "ipython",
    "version": 3
   },
   "file_extension": ".py",
   "mimetype": "text/x-python",
   "name": "python",
   "nbconvert_exporter": "python",
   "pygments_lexer": "ipython3",
   "version": "3.7.7-final"
  }
 },
 "nbformat": 4,
 "nbformat_minor": 1
}